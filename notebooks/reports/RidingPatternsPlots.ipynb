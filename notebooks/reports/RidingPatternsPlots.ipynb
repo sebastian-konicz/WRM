{
 "cells": [
  {
   "cell_type": "markdown",
   "metadata": {},
   "source": [
    "# Riding Patterns Plots"
   ]
  },
  {
   "cell_type": "markdown",
   "metadata": {},
   "source": [
    "## Table of contents\n",
    "1. [Imports](#imports)\n",
    "2. [Total rentals by month](#monthAggPlot)\n",
    "3. [Average rentals by month](#monthAvgPlot)\n",
    "4. [Total rentals by day](#dayAggPlot)\n",
    "5. [Average rentals by day of the week](#weekdayAggPlot)\n",
    "6. [Total rentals by hour and weekday](#hourAggPlot)\n",
    "7. [Average rentals by hour and weekday](#hourAvgPlot)\n",
    "8. [Average rentals by hour and kind of day](#AvgWDPlot)\n",
    "9. [Average rentals by hour and month](#hourAvgMonthPlot)\n",
    "10. [Rental time](#durationAggPlot)\n"
   ]
  },
  {
   "cell_type": "markdown",
   "metadata": {},
   "source": [
    "## Imports <a id=\"imports\"></a>"
   ]
  },
  {
   "cell_type": "code",
   "execution_count": 1,
   "metadata": {},
   "outputs": [
    {
     "data": {
      "text/html": [
       "        <script type=\"text/javascript\">\n",
       "        window.PlotlyConfig = {MathJaxConfig: 'local'};\n",
       "        if (window.MathJax) {MathJax.Hub.Config({SVG: {font: \"STIX-Web\"}});}\n",
       "        if (typeof require !== 'undefined') {\n",
       "        require.undef(\"plotly\");\n",
       "        requirejs.config({\n",
       "            paths: {\n",
       "                'plotly': ['https://cdn.plot.ly/plotly-latest.min']\n",
       "            }\n",
       "        });\n",
       "        require(['plotly'], function(Plotly) {\n",
       "            window._Plotly = Plotly;\n",
       "        });\n",
       "        }\n",
       "        </script>\n",
       "        "
      ]
     },
     "metadata": {},
     "output_type": "display_data"
    },
    {
     "data": {
      "text/html": [
       "        <script type=\"text/javascript\">\n",
       "        window.PlotlyConfig = {MathJaxConfig: 'local'};\n",
       "        if (window.MathJax) {MathJax.Hub.Config({SVG: {font: \"STIX-Web\"}});}\n",
       "        if (typeof require !== 'undefined') {\n",
       "        require.undef(\"plotly\");\n",
       "        requirejs.config({\n",
       "            paths: {\n",
       "                'plotly': ['https://cdn.plot.ly/plotly-latest.min']\n",
       "            }\n",
       "        });\n",
       "        require(['plotly'], function(Plotly) {\n",
       "            window._Plotly = Plotly;\n",
       "        });\n",
       "        }\n",
       "        </script>\n",
       "        "
      ]
     },
     "metadata": {},
     "output_type": "display_data"
    }
   ],
   "source": [
    "#Setting os, sys and path parameters\n",
    "import os\n",
    "import sys\n",
    "nb_dir = os.path.split(os.getcwd())[0]\n",
    "nb_dir2 = os.path.split(nb_dir)[0]\n",
    "nb_dir3 = nb_dir2 + r'\\src\\features'\n",
    "if nb_dir not in sys.path:\n",
    "    sys.path.append(nb_dir3)\n",
    "sys.path\n",
    "\n",
    "# importing ready plots\n",
    "import RidingPatternsPlots\n",
    "\n",
    "# plotly standard imports\n",
    "import plotly.graph_objs as go\n",
    "import chart_studio.plotly as py\n",
    "from plotly.offline import iplot\n",
    "\n",
    "# Cufflinks wrapper on plotly\n",
    "import cufflinks\n",
    "cufflinks.go_offline()\n",
    "\n",
    "# Set global theme\n",
    "cufflinks.set_config_file(world_readable=True, theme='pearl')"
   ]
  },
  {
   "cell_type": "code",
   "execution_count": 2,
   "metadata": {
    "scrolled": false
   },
   "outputs": [
    {
     "name": "stdout",
     "output_type": "stream",
     "text": [
      "Loading data\n"
     ]
    }
   ],
   "source": [
    "monthAggPlot, monthAvgPlot, dayAggPlot, weekdayAvgPlot, hourAggPlot, hourAvgPlot, hourAvgWDPlot, hourAvgMonthPlot, durationAggPlot, durationLtdPlot, durationWDPlot, durationTable, durationCountPlot, durationTotalPlot, averageRentalTimeTable = RidingPatternsPlots.main(nb_dir2)"
   ]
  },
  {
   "cell_type": "markdown",
   "metadata": {},
   "source": [
    "## Total rentals by month <a id=\"monthAggPlot\"></a>"
   ]
  },
  {
   "cell_type": "code",
   "execution_count": 3,
   "metadata": {
    "scrolled": true
   },
   "outputs": [
    {
     "data": {
      "application/vnd.plotly.v1+json": {
       "config": {
        "linkText": "Export to plot.ly",
        "plotlyServerURL": "https://plot.ly",
        "showLink": false
       },
       "data": [
        {
         "marker": {
          "autocolorscale": true,
          "color": [
           5665,
           121948,
           118959,
           139060,
           146220,
           39279,
           66510,
           95788
          ]
         },
         "type": "bar",
         "x": [
          "April",
          "August",
          "July",
          "June",
          "May",
          "November",
          "October",
          "September"
         ],
         "y": [
          5665,
          121948,
          118959,
          139060,
          146220,
          39279,
          66510,
          95788
         ]
        }
       ],
       "layout": {
        "template": {
         "data": {
          "bar": [
           {
            "error_x": {
             "color": "#f2f5fa"
            },
            "error_y": {
             "color": "#f2f5fa"
            },
            "marker": {
             "line": {
              "color": "rgb(17,17,17)",
              "width": 0.5
             }
            },
            "type": "bar"
           }
          ],
          "barpolar": [
           {
            "marker": {
             "line": {
              "color": "rgb(17,17,17)",
              "width": 0.5
             }
            },
            "type": "barpolar"
           }
          ],
          "carpet": [
           {
            "aaxis": {
             "endlinecolor": "#A2B1C6",
             "gridcolor": "#506784",
             "linecolor": "#506784",
             "minorgridcolor": "#506784",
             "startlinecolor": "#A2B1C6"
            },
            "baxis": {
             "endlinecolor": "#A2B1C6",
             "gridcolor": "#506784",
             "linecolor": "#506784",
             "minorgridcolor": "#506784",
             "startlinecolor": "#A2B1C6"
            },
            "type": "carpet"
           }
          ],
          "choropleth": [
           {
            "colorbar": {
             "outlinewidth": 0,
             "ticks": ""
            },
            "type": "choropleth"
           }
          ],
          "contour": [
           {
            "colorbar": {
             "outlinewidth": 0,
             "ticks": ""
            },
            "colorscale": [
             [
              0,
              "#0d0887"
             ],
             [
              0.1111111111111111,
              "#46039f"
             ],
             [
              0.2222222222222222,
              "#7201a8"
             ],
             [
              0.3333333333333333,
              "#9c179e"
             ],
             [
              0.4444444444444444,
              "#bd3786"
             ],
             [
              0.5555555555555556,
              "#d8576b"
             ],
             [
              0.6666666666666666,
              "#ed7953"
             ],
             [
              0.7777777777777778,
              "#fb9f3a"
             ],
             [
              0.8888888888888888,
              "#fdca26"
             ],
             [
              1,
              "#f0f921"
             ]
            ],
            "type": "contour"
           }
          ],
          "contourcarpet": [
           {
            "colorbar": {
             "outlinewidth": 0,
             "ticks": ""
            },
            "type": "contourcarpet"
           }
          ],
          "heatmap": [
           {
            "colorbar": {
             "outlinewidth": 0,
             "ticks": ""
            },
            "colorscale": [
             [
              0,
              "#0d0887"
             ],
             [
              0.1111111111111111,
              "#46039f"
             ],
             [
              0.2222222222222222,
              "#7201a8"
             ],
             [
              0.3333333333333333,
              "#9c179e"
             ],
             [
              0.4444444444444444,
              "#bd3786"
             ],
             [
              0.5555555555555556,
              "#d8576b"
             ],
             [
              0.6666666666666666,
              "#ed7953"
             ],
             [
              0.7777777777777778,
              "#fb9f3a"
             ],
             [
              0.8888888888888888,
              "#fdca26"
             ],
             [
              1,
              "#f0f921"
             ]
            ],
            "type": "heatmap"
           }
          ],
          "heatmapgl": [
           {
            "colorbar": {
             "outlinewidth": 0,
             "ticks": ""
            },
            "colorscale": [
             [
              0,
              "#0d0887"
             ],
             [
              0.1111111111111111,
              "#46039f"
             ],
             [
              0.2222222222222222,
              "#7201a8"
             ],
             [
              0.3333333333333333,
              "#9c179e"
             ],
             [
              0.4444444444444444,
              "#bd3786"
             ],
             [
              0.5555555555555556,
              "#d8576b"
             ],
             [
              0.6666666666666666,
              "#ed7953"
             ],
             [
              0.7777777777777778,
              "#fb9f3a"
             ],
             [
              0.8888888888888888,
              "#fdca26"
             ],
             [
              1,
              "#f0f921"
             ]
            ],
            "type": "heatmapgl"
           }
          ],
          "histogram": [
           {
            "marker": {
             "colorbar": {
              "outlinewidth": 0,
              "ticks": ""
             }
            },
            "type": "histogram"
           }
          ],
          "histogram2d": [
           {
            "colorbar": {
             "outlinewidth": 0,
             "ticks": ""
            },
            "colorscale": [
             [
              0,
              "#0d0887"
             ],
             [
              0.1111111111111111,
              "#46039f"
             ],
             [
              0.2222222222222222,
              "#7201a8"
             ],
             [
              0.3333333333333333,
              "#9c179e"
             ],
             [
              0.4444444444444444,
              "#bd3786"
             ],
             [
              0.5555555555555556,
              "#d8576b"
             ],
             [
              0.6666666666666666,
              "#ed7953"
             ],
             [
              0.7777777777777778,
              "#fb9f3a"
             ],
             [
              0.8888888888888888,
              "#fdca26"
             ],
             [
              1,
              "#f0f921"
             ]
            ],
            "type": "histogram2d"
           }
          ],
          "histogram2dcontour": [
           {
            "colorbar": {
             "outlinewidth": 0,
             "ticks": ""
            },
            "colorscale": [
             [
              0,
              "#0d0887"
             ],
             [
              0.1111111111111111,
              "#46039f"
             ],
             [
              0.2222222222222222,
              "#7201a8"
             ],
             [
              0.3333333333333333,
              "#9c179e"
             ],
             [
              0.4444444444444444,
              "#bd3786"
             ],
             [
              0.5555555555555556,
              "#d8576b"
             ],
             [
              0.6666666666666666,
              "#ed7953"
             ],
             [
              0.7777777777777778,
              "#fb9f3a"
             ],
             [
              0.8888888888888888,
              "#fdca26"
             ],
             [
              1,
              "#f0f921"
             ]
            ],
            "type": "histogram2dcontour"
           }
          ],
          "mesh3d": [
           {
            "colorbar": {
             "outlinewidth": 0,
             "ticks": ""
            },
            "type": "mesh3d"
           }
          ],
          "parcoords": [
           {
            "line": {
             "colorbar": {
              "outlinewidth": 0,
              "ticks": ""
             }
            },
            "type": "parcoords"
           }
          ],
          "pie": [
           {
            "automargin": true,
            "type": "pie"
           }
          ],
          "scatter": [
           {
            "marker": {
             "line": {
              "color": "#283442"
             }
            },
            "type": "scatter"
           }
          ],
          "scatter3d": [
           {
            "line": {
             "colorbar": {
              "outlinewidth": 0,
              "ticks": ""
             }
            },
            "marker": {
             "colorbar": {
              "outlinewidth": 0,
              "ticks": ""
             }
            },
            "type": "scatter3d"
           }
          ],
          "scattercarpet": [
           {
            "marker": {
             "colorbar": {
              "outlinewidth": 0,
              "ticks": ""
             }
            },
            "type": "scattercarpet"
           }
          ],
          "scattergeo": [
           {
            "marker": {
             "colorbar": {
              "outlinewidth": 0,
              "ticks": ""
             }
            },
            "type": "scattergeo"
           }
          ],
          "scattergl": [
           {
            "marker": {
             "line": {
              "color": "#283442"
             }
            },
            "type": "scattergl"
           }
          ],
          "scattermapbox": [
           {
            "marker": {
             "colorbar": {
              "outlinewidth": 0,
              "ticks": ""
             }
            },
            "type": "scattermapbox"
           }
          ],
          "scatterpolar": [
           {
            "marker": {
             "colorbar": {
              "outlinewidth": 0,
              "ticks": ""
             }
            },
            "type": "scatterpolar"
           }
          ],
          "scatterpolargl": [
           {
            "marker": {
             "colorbar": {
              "outlinewidth": 0,
              "ticks": ""
             }
            },
            "type": "scatterpolargl"
           }
          ],
          "scatterternary": [
           {
            "marker": {
             "colorbar": {
              "outlinewidth": 0,
              "ticks": ""
             }
            },
            "type": "scatterternary"
           }
          ],
          "surface": [
           {
            "colorbar": {
             "outlinewidth": 0,
             "ticks": ""
            },
            "colorscale": [
             [
              0,
              "#0d0887"
             ],
             [
              0.1111111111111111,
              "#46039f"
             ],
             [
              0.2222222222222222,
              "#7201a8"
             ],
             [
              0.3333333333333333,
              "#9c179e"
             ],
             [
              0.4444444444444444,
              "#bd3786"
             ],
             [
              0.5555555555555556,
              "#d8576b"
             ],
             [
              0.6666666666666666,
              "#ed7953"
             ],
             [
              0.7777777777777778,
              "#fb9f3a"
             ],
             [
              0.8888888888888888,
              "#fdca26"
             ],
             [
              1,
              "#f0f921"
             ]
            ],
            "type": "surface"
           }
          ],
          "table": [
           {
            "cells": {
             "fill": {
              "color": "#506784"
             },
             "line": {
              "color": "rgb(17,17,17)"
             }
            },
            "header": {
             "fill": {
              "color": "#2a3f5f"
             },
             "line": {
              "color": "rgb(17,17,17)"
             }
            },
            "type": "table"
           }
          ]
         },
         "layout": {
          "annotationdefaults": {
           "arrowcolor": "#f2f5fa",
           "arrowhead": 0,
           "arrowwidth": 1
          },
          "coloraxis": {
           "colorbar": {
            "outlinewidth": 0,
            "ticks": ""
           }
          },
          "colorscale": {
           "diverging": [
            [
             0,
             "#8e0152"
            ],
            [
             0.1,
             "#c51b7d"
            ],
            [
             0.2,
             "#de77ae"
            ],
            [
             0.3,
             "#f1b6da"
            ],
            [
             0.4,
             "#fde0ef"
            ],
            [
             0.5,
             "#f7f7f7"
            ],
            [
             0.6,
             "#e6f5d0"
            ],
            [
             0.7,
             "#b8e186"
            ],
            [
             0.8,
             "#7fbc41"
            ],
            [
             0.9,
             "#4d9221"
            ],
            [
             1,
             "#276419"
            ]
           ],
           "sequential": [
            [
             0,
             "#0d0887"
            ],
            [
             0.1111111111111111,
             "#46039f"
            ],
            [
             0.2222222222222222,
             "#7201a8"
            ],
            [
             0.3333333333333333,
             "#9c179e"
            ],
            [
             0.4444444444444444,
             "#bd3786"
            ],
            [
             0.5555555555555556,
             "#d8576b"
            ],
            [
             0.6666666666666666,
             "#ed7953"
            ],
            [
             0.7777777777777778,
             "#fb9f3a"
            ],
            [
             0.8888888888888888,
             "#fdca26"
            ],
            [
             1,
             "#f0f921"
            ]
           ],
           "sequentialminus": [
            [
             0,
             "#0d0887"
            ],
            [
             0.1111111111111111,
             "#46039f"
            ],
            [
             0.2222222222222222,
             "#7201a8"
            ],
            [
             0.3333333333333333,
             "#9c179e"
            ],
            [
             0.4444444444444444,
             "#bd3786"
            ],
            [
             0.5555555555555556,
             "#d8576b"
            ],
            [
             0.6666666666666666,
             "#ed7953"
            ],
            [
             0.7777777777777778,
             "#fb9f3a"
            ],
            [
             0.8888888888888888,
             "#fdca26"
            ],
            [
             1,
             "#f0f921"
            ]
           ]
          },
          "colorway": [
           "#636efa",
           "#EF553B",
           "#00cc96",
           "#ab63fa",
           "#FFA15A",
           "#19d3f3",
           "#FF6692",
           "#B6E880",
           "#FF97FF",
           "#FECB52"
          ],
          "font": {
           "color": "#f2f5fa"
          },
          "geo": {
           "bgcolor": "rgb(17,17,17)",
           "lakecolor": "rgb(17,17,17)",
           "landcolor": "rgb(17,17,17)",
           "showlakes": true,
           "showland": true,
           "subunitcolor": "#506784"
          },
          "hoverlabel": {
           "align": "left"
          },
          "hovermode": "closest",
          "mapbox": {
           "style": "dark"
          },
          "paper_bgcolor": "rgb(17,17,17)",
          "plot_bgcolor": "rgb(17,17,17)",
          "polar": {
           "angularaxis": {
            "gridcolor": "#506784",
            "linecolor": "#506784",
            "ticks": ""
           },
           "bgcolor": "rgb(17,17,17)",
           "radialaxis": {
            "gridcolor": "#506784",
            "linecolor": "#506784",
            "ticks": ""
           }
          },
          "scene": {
           "xaxis": {
            "backgroundcolor": "rgb(17,17,17)",
            "gridcolor": "#506784",
            "gridwidth": 2,
            "linecolor": "#506784",
            "showbackground": true,
            "ticks": "",
            "zerolinecolor": "#C8D4E3"
           },
           "yaxis": {
            "backgroundcolor": "rgb(17,17,17)",
            "gridcolor": "#506784",
            "gridwidth": 2,
            "linecolor": "#506784",
            "showbackground": true,
            "ticks": "",
            "zerolinecolor": "#C8D4E3"
           },
           "zaxis": {
            "backgroundcolor": "rgb(17,17,17)",
            "gridcolor": "#506784",
            "gridwidth": 2,
            "linecolor": "#506784",
            "showbackground": true,
            "ticks": "",
            "zerolinecolor": "#C8D4E3"
           }
          },
          "shapedefaults": {
           "line": {
            "color": "#f2f5fa"
           }
          },
          "sliderdefaults": {
           "bgcolor": "#C8D4E3",
           "bordercolor": "rgb(17,17,17)",
           "borderwidth": 1,
           "tickwidth": 0
          },
          "ternary": {
           "aaxis": {
            "gridcolor": "#506784",
            "linecolor": "#506784",
            "ticks": ""
           },
           "baxis": {
            "gridcolor": "#506784",
            "linecolor": "#506784",
            "ticks": ""
           },
           "bgcolor": "rgb(17,17,17)",
           "caxis": {
            "gridcolor": "#506784",
            "linecolor": "#506784",
            "ticks": ""
           }
          },
          "title": {
           "x": 0.05
          },
          "updatemenudefaults": {
           "bgcolor": "#506784",
           "borderwidth": 0
          },
          "xaxis": {
           "automargin": true,
           "gridcolor": "#283442",
           "linecolor": "#506784",
           "ticks": "",
           "title": {
            "standoff": 15
           },
           "zerolinecolor": "#283442",
           "zerolinewidth": 2
          },
          "yaxis": {
           "automargin": true,
           "gridcolor": "#283442",
           "linecolor": "#506784",
           "ticks": "",
           "title": {
            "standoff": 15
           },
           "zerolinecolor": "#283442",
           "zerolinewidth": 2
          }
         }
        },
        "title": {
         "text": "Total rentals by month",
         "x": 0.5,
         "xanchor": "center",
         "y": 0.9,
         "yanchor": "middle"
        },
        "xaxis": {
         "categoryarray": [
          "April",
          "May",
          "June",
          "July",
          "August",
          "September",
          "October",
          "November"
         ],
         "categoryorder": "array",
         "title": {
          "text": "month"
         }
        },
        "yaxis": {
         "title": {
          "text": "no. of rentals"
         }
        }
       }
      },
      "text/html": [
       "<div>\n",
       "        \n",
       "        \n",
       "            <div id=\"3eb68aa7-5859-4901-b0a0-a3e04b0c9b23\" class=\"plotly-graph-div\" style=\"height:525px; width:100%;\"></div>\n",
       "            <script type=\"text/javascript\">\n",
       "                require([\"plotly\"], function(Plotly) {\n",
       "                    window.PLOTLYENV=window.PLOTLYENV || {};\n",
       "                    \n",
       "                if (document.getElementById(\"3eb68aa7-5859-4901-b0a0-a3e04b0c9b23\")) {\n",
       "                    Plotly.newPlot(\n",
       "                        '3eb68aa7-5859-4901-b0a0-a3e04b0c9b23',\n",
       "                        [{\"marker\": {\"autocolorscale\": true, \"color\": [5665, 121948, 118959, 139060, 146220, 39279, 66510, 95788]}, \"type\": \"bar\", \"x\": [\"April\", \"August\", \"July\", \"June\", \"May\", \"November\", \"October\", \"September\"], \"y\": [5665, 121948, 118959, 139060, 146220, 39279, 66510, 95788]}],\n",
       "                        {\"template\": {\"data\": {\"bar\": [{\"error_x\": {\"color\": \"#f2f5fa\"}, \"error_y\": {\"color\": \"#f2f5fa\"}, \"marker\": {\"line\": {\"color\": \"rgb(17,17,17)\", \"width\": 0.5}}, \"type\": \"bar\"}], \"barpolar\": [{\"marker\": {\"line\": {\"color\": \"rgb(17,17,17)\", \"width\": 0.5}}, \"type\": \"barpolar\"}], \"carpet\": [{\"aaxis\": {\"endlinecolor\": \"#A2B1C6\", \"gridcolor\": \"#506784\", \"linecolor\": \"#506784\", \"minorgridcolor\": \"#506784\", \"startlinecolor\": \"#A2B1C6\"}, \"baxis\": {\"endlinecolor\": \"#A2B1C6\", \"gridcolor\": \"#506784\", \"linecolor\": \"#506784\", \"minorgridcolor\": \"#506784\", \"startlinecolor\": \"#A2B1C6\"}, \"type\": \"carpet\"}], \"choropleth\": [{\"colorbar\": {\"outlinewidth\": 0, \"ticks\": \"\"}, \"type\": \"choropleth\"}], \"contour\": [{\"colorbar\": {\"outlinewidth\": 0, \"ticks\": \"\"}, \"colorscale\": [[0.0, \"#0d0887\"], [0.1111111111111111, \"#46039f\"], [0.2222222222222222, \"#7201a8\"], [0.3333333333333333, \"#9c179e\"], [0.4444444444444444, \"#bd3786\"], [0.5555555555555556, \"#d8576b\"], [0.6666666666666666, \"#ed7953\"], [0.7777777777777778, \"#fb9f3a\"], [0.8888888888888888, \"#fdca26\"], [1.0, \"#f0f921\"]], \"type\": \"contour\"}], \"contourcarpet\": [{\"colorbar\": {\"outlinewidth\": 0, \"ticks\": \"\"}, \"type\": \"contourcarpet\"}], \"heatmap\": [{\"colorbar\": {\"outlinewidth\": 0, \"ticks\": \"\"}, \"colorscale\": [[0.0, \"#0d0887\"], [0.1111111111111111, \"#46039f\"], [0.2222222222222222, \"#7201a8\"], [0.3333333333333333, \"#9c179e\"], [0.4444444444444444, \"#bd3786\"], [0.5555555555555556, \"#d8576b\"], [0.6666666666666666, \"#ed7953\"], [0.7777777777777778, \"#fb9f3a\"], [0.8888888888888888, \"#fdca26\"], [1.0, \"#f0f921\"]], \"type\": \"heatmap\"}], \"heatmapgl\": [{\"colorbar\": {\"outlinewidth\": 0, \"ticks\": \"\"}, \"colorscale\": [[0.0, \"#0d0887\"], [0.1111111111111111, \"#46039f\"], [0.2222222222222222, \"#7201a8\"], [0.3333333333333333, \"#9c179e\"], [0.4444444444444444, \"#bd3786\"], [0.5555555555555556, \"#d8576b\"], [0.6666666666666666, \"#ed7953\"], [0.7777777777777778, \"#fb9f3a\"], [0.8888888888888888, \"#fdca26\"], [1.0, \"#f0f921\"]], \"type\": \"heatmapgl\"}], \"histogram\": [{\"marker\": {\"colorbar\": {\"outlinewidth\": 0, \"ticks\": \"\"}}, \"type\": \"histogram\"}], \"histogram2d\": [{\"colorbar\": {\"outlinewidth\": 0, \"ticks\": \"\"}, \"colorscale\": [[0.0, \"#0d0887\"], [0.1111111111111111, \"#46039f\"], [0.2222222222222222, \"#7201a8\"], [0.3333333333333333, \"#9c179e\"], [0.4444444444444444, \"#bd3786\"], [0.5555555555555556, \"#d8576b\"], [0.6666666666666666, \"#ed7953\"], [0.7777777777777778, \"#fb9f3a\"], [0.8888888888888888, \"#fdca26\"], [1.0, \"#f0f921\"]], \"type\": \"histogram2d\"}], \"histogram2dcontour\": [{\"colorbar\": {\"outlinewidth\": 0, \"ticks\": \"\"}, \"colorscale\": [[0.0, \"#0d0887\"], [0.1111111111111111, \"#46039f\"], [0.2222222222222222, \"#7201a8\"], [0.3333333333333333, \"#9c179e\"], [0.4444444444444444, \"#bd3786\"], [0.5555555555555556, \"#d8576b\"], [0.6666666666666666, \"#ed7953\"], [0.7777777777777778, \"#fb9f3a\"], [0.8888888888888888, \"#fdca26\"], [1.0, \"#f0f921\"]], \"type\": \"histogram2dcontour\"}], \"mesh3d\": [{\"colorbar\": {\"outlinewidth\": 0, \"ticks\": \"\"}, \"type\": \"mesh3d\"}], \"parcoords\": [{\"line\": {\"colorbar\": {\"outlinewidth\": 0, \"ticks\": \"\"}}, \"type\": \"parcoords\"}], \"pie\": [{\"automargin\": true, \"type\": \"pie\"}], \"scatter\": [{\"marker\": {\"line\": {\"color\": \"#283442\"}}, \"type\": \"scatter\"}], \"scatter3d\": [{\"line\": {\"colorbar\": {\"outlinewidth\": 0, \"ticks\": \"\"}}, \"marker\": {\"colorbar\": {\"outlinewidth\": 0, \"ticks\": \"\"}}, \"type\": \"scatter3d\"}], \"scattercarpet\": [{\"marker\": {\"colorbar\": {\"outlinewidth\": 0, \"ticks\": \"\"}}, \"type\": \"scattercarpet\"}], \"scattergeo\": [{\"marker\": {\"colorbar\": {\"outlinewidth\": 0, \"ticks\": \"\"}}, \"type\": \"scattergeo\"}], \"scattergl\": [{\"marker\": {\"line\": {\"color\": \"#283442\"}}, \"type\": \"scattergl\"}], \"scattermapbox\": [{\"marker\": {\"colorbar\": {\"outlinewidth\": 0, \"ticks\": \"\"}}, \"type\": \"scattermapbox\"}], \"scatterpolar\": [{\"marker\": {\"colorbar\": {\"outlinewidth\": 0, \"ticks\": \"\"}}, \"type\": \"scatterpolar\"}], \"scatterpolargl\": [{\"marker\": {\"colorbar\": {\"outlinewidth\": 0, \"ticks\": \"\"}}, \"type\": \"scatterpolargl\"}], \"scatterternary\": [{\"marker\": {\"colorbar\": {\"outlinewidth\": 0, \"ticks\": \"\"}}, \"type\": \"scatterternary\"}], \"surface\": [{\"colorbar\": {\"outlinewidth\": 0, \"ticks\": \"\"}, \"colorscale\": [[0.0, \"#0d0887\"], [0.1111111111111111, \"#46039f\"], [0.2222222222222222, \"#7201a8\"], [0.3333333333333333, \"#9c179e\"], [0.4444444444444444, \"#bd3786\"], [0.5555555555555556, \"#d8576b\"], [0.6666666666666666, \"#ed7953\"], [0.7777777777777778, \"#fb9f3a\"], [0.8888888888888888, \"#fdca26\"], [1.0, \"#f0f921\"]], \"type\": \"surface\"}], \"table\": [{\"cells\": {\"fill\": {\"color\": \"#506784\"}, \"line\": {\"color\": \"rgb(17,17,17)\"}}, \"header\": {\"fill\": {\"color\": \"#2a3f5f\"}, \"line\": {\"color\": \"rgb(17,17,17)\"}}, \"type\": \"table\"}]}, \"layout\": {\"annotationdefaults\": {\"arrowcolor\": \"#f2f5fa\", \"arrowhead\": 0, \"arrowwidth\": 1}, \"coloraxis\": {\"colorbar\": {\"outlinewidth\": 0, \"ticks\": \"\"}}, \"colorscale\": {\"diverging\": [[0, \"#8e0152\"], [0.1, \"#c51b7d\"], [0.2, \"#de77ae\"], [0.3, \"#f1b6da\"], [0.4, \"#fde0ef\"], [0.5, \"#f7f7f7\"], [0.6, \"#e6f5d0\"], [0.7, \"#b8e186\"], [0.8, \"#7fbc41\"], [0.9, \"#4d9221\"], [1, \"#276419\"]], \"sequential\": [[0.0, \"#0d0887\"], [0.1111111111111111, \"#46039f\"], [0.2222222222222222, \"#7201a8\"], [0.3333333333333333, \"#9c179e\"], [0.4444444444444444, \"#bd3786\"], [0.5555555555555556, \"#d8576b\"], [0.6666666666666666, \"#ed7953\"], [0.7777777777777778, \"#fb9f3a\"], [0.8888888888888888, \"#fdca26\"], [1.0, \"#f0f921\"]], \"sequentialminus\": [[0.0, \"#0d0887\"], [0.1111111111111111, \"#46039f\"], [0.2222222222222222, \"#7201a8\"], [0.3333333333333333, \"#9c179e\"], [0.4444444444444444, \"#bd3786\"], [0.5555555555555556, \"#d8576b\"], [0.6666666666666666, \"#ed7953\"], [0.7777777777777778, \"#fb9f3a\"], [0.8888888888888888, \"#fdca26\"], [1.0, \"#f0f921\"]]}, \"colorway\": [\"#636efa\", \"#EF553B\", \"#00cc96\", \"#ab63fa\", \"#FFA15A\", \"#19d3f3\", \"#FF6692\", \"#B6E880\", \"#FF97FF\", \"#FECB52\"], \"font\": {\"color\": \"#f2f5fa\"}, \"geo\": {\"bgcolor\": \"rgb(17,17,17)\", \"lakecolor\": \"rgb(17,17,17)\", \"landcolor\": \"rgb(17,17,17)\", \"showlakes\": true, \"showland\": true, \"subunitcolor\": \"#506784\"}, \"hoverlabel\": {\"align\": \"left\"}, \"hovermode\": \"closest\", \"mapbox\": {\"style\": \"dark\"}, \"paper_bgcolor\": \"rgb(17,17,17)\", \"plot_bgcolor\": \"rgb(17,17,17)\", \"polar\": {\"angularaxis\": {\"gridcolor\": \"#506784\", \"linecolor\": \"#506784\", \"ticks\": \"\"}, \"bgcolor\": \"rgb(17,17,17)\", \"radialaxis\": {\"gridcolor\": \"#506784\", \"linecolor\": \"#506784\", \"ticks\": \"\"}}, \"scene\": {\"xaxis\": {\"backgroundcolor\": \"rgb(17,17,17)\", \"gridcolor\": \"#506784\", \"gridwidth\": 2, \"linecolor\": \"#506784\", \"showbackground\": true, \"ticks\": \"\", \"zerolinecolor\": \"#C8D4E3\"}, \"yaxis\": {\"backgroundcolor\": \"rgb(17,17,17)\", \"gridcolor\": \"#506784\", \"gridwidth\": 2, \"linecolor\": \"#506784\", \"showbackground\": true, \"ticks\": \"\", \"zerolinecolor\": \"#C8D4E3\"}, \"zaxis\": {\"backgroundcolor\": \"rgb(17,17,17)\", \"gridcolor\": \"#506784\", \"gridwidth\": 2, \"linecolor\": \"#506784\", \"showbackground\": true, \"ticks\": \"\", \"zerolinecolor\": \"#C8D4E3\"}}, \"shapedefaults\": {\"line\": {\"color\": \"#f2f5fa\"}}, \"sliderdefaults\": {\"bgcolor\": \"#C8D4E3\", \"bordercolor\": \"rgb(17,17,17)\", \"borderwidth\": 1, \"tickwidth\": 0}, \"ternary\": {\"aaxis\": {\"gridcolor\": \"#506784\", \"linecolor\": \"#506784\", \"ticks\": \"\"}, \"baxis\": {\"gridcolor\": \"#506784\", \"linecolor\": \"#506784\", \"ticks\": \"\"}, \"bgcolor\": \"rgb(17,17,17)\", \"caxis\": {\"gridcolor\": \"#506784\", \"linecolor\": \"#506784\", \"ticks\": \"\"}}, \"title\": {\"x\": 0.05}, \"updatemenudefaults\": {\"bgcolor\": \"#506784\", \"borderwidth\": 0}, \"xaxis\": {\"automargin\": true, \"gridcolor\": \"#283442\", \"linecolor\": \"#506784\", \"ticks\": \"\", \"title\": {\"standoff\": 15}, \"zerolinecolor\": \"#283442\", \"zerolinewidth\": 2}, \"yaxis\": {\"automargin\": true, \"gridcolor\": \"#283442\", \"linecolor\": \"#506784\", \"ticks\": \"\", \"title\": {\"standoff\": 15}, \"zerolinecolor\": \"#283442\", \"zerolinewidth\": 2}}}, \"title\": {\"text\": \"Total rentals by month\", \"x\": 0.5, \"xanchor\": \"center\", \"y\": 0.9, \"yanchor\": \"middle\"}, \"xaxis\": {\"categoryarray\": [\"April\", \"May\", \"June\", \"July\", \"August\", \"September\", \"October\", \"November\"], \"categoryorder\": \"array\", \"title\": {\"text\": \"month\"}}, \"yaxis\": {\"title\": {\"text\": \"no. of rentals\"}}},\n",
       "                        {\"responsive\": true}\n",
       "                    ).then(function(){\n",
       "                            \n",
       "var gd = document.getElementById('3eb68aa7-5859-4901-b0a0-a3e04b0c9b23');\n",
       "var x = new MutationObserver(function (mutations, observer) {{\n",
       "        var display = window.getComputedStyle(gd).display;\n",
       "        if (!display || display === 'none') {{\n",
       "            console.log([gd, 'removed!']);\n",
       "            Plotly.purge(gd);\n",
       "            observer.disconnect();\n",
       "        }}\n",
       "}});\n",
       "\n",
       "// Listen for the removal of the full notebook cells\n",
       "var notebookContainer = gd.closest('#notebook-container');\n",
       "if (notebookContainer) {{\n",
       "    x.observe(notebookContainer, {childList: true});\n",
       "}}\n",
       "\n",
       "// Listen for the clearing of the current output cell\n",
       "var outputEl = gd.closest('.output');\n",
       "if (outputEl) {{\n",
       "    x.observe(outputEl, {childList: true});\n",
       "}}\n",
       "\n",
       "                        })\n",
       "                };\n",
       "                });\n",
       "            </script>\n",
       "        </div>"
      ]
     },
     "metadata": {},
     "output_type": "display_data"
    }
   ],
   "source": [
    "iplot(monthAggPlot)"
   ]
  },
  {
   "cell_type": "markdown",
   "metadata": {},
   "source": [
    "## Average rentals by month <a id=\"monthAvgPlot\"></a>"
   ]
  },
  {
   "cell_type": "code",
   "execution_count": 4,
   "metadata": {
    "scrolled": true
   },
   "outputs": [
    {
     "data": {
      "application/vnd.plotly.v1+json": {
       "config": {
        "linkText": "Export to plot.ly",
        "plotlyServerURL": "https://plot.ly",
        "showLink": false
       },
       "data": [
        {
         "marker": {
          "autocolorscale": true,
          "color": [
           5665,
           121948,
           118959,
           139060,
           146220,
           39279,
           66510,
           95788
          ]
         },
         "type": "bar",
         "x": [
          "April",
          "August",
          "July",
          "June",
          "May",
          "November",
          "October",
          "September"
         ],
         "y": [
          1888.3333333333333,
          3933.8064516129034,
          3837.3870967741937,
          4635.333333333333,
          4716.774193548387,
          1309.3,
          2145.483870967742,
          3192.9333333333334
         ]
        }
       ],
       "layout": {
        "template": {
         "data": {
          "bar": [
           {
            "error_x": {
             "color": "#f2f5fa"
            },
            "error_y": {
             "color": "#f2f5fa"
            },
            "marker": {
             "line": {
              "color": "rgb(17,17,17)",
              "width": 0.5
             }
            },
            "type": "bar"
           }
          ],
          "barpolar": [
           {
            "marker": {
             "line": {
              "color": "rgb(17,17,17)",
              "width": 0.5
             }
            },
            "type": "barpolar"
           }
          ],
          "carpet": [
           {
            "aaxis": {
             "endlinecolor": "#A2B1C6",
             "gridcolor": "#506784",
             "linecolor": "#506784",
             "minorgridcolor": "#506784",
             "startlinecolor": "#A2B1C6"
            },
            "baxis": {
             "endlinecolor": "#A2B1C6",
             "gridcolor": "#506784",
             "linecolor": "#506784",
             "minorgridcolor": "#506784",
             "startlinecolor": "#A2B1C6"
            },
            "type": "carpet"
           }
          ],
          "choropleth": [
           {
            "colorbar": {
             "outlinewidth": 0,
             "ticks": ""
            },
            "type": "choropleth"
           }
          ],
          "contour": [
           {
            "colorbar": {
             "outlinewidth": 0,
             "ticks": ""
            },
            "colorscale": [
             [
              0,
              "#0d0887"
             ],
             [
              0.1111111111111111,
              "#46039f"
             ],
             [
              0.2222222222222222,
              "#7201a8"
             ],
             [
              0.3333333333333333,
              "#9c179e"
             ],
             [
              0.4444444444444444,
              "#bd3786"
             ],
             [
              0.5555555555555556,
              "#d8576b"
             ],
             [
              0.6666666666666666,
              "#ed7953"
             ],
             [
              0.7777777777777778,
              "#fb9f3a"
             ],
             [
              0.8888888888888888,
              "#fdca26"
             ],
             [
              1,
              "#f0f921"
             ]
            ],
            "type": "contour"
           }
          ],
          "contourcarpet": [
           {
            "colorbar": {
             "outlinewidth": 0,
             "ticks": ""
            },
            "type": "contourcarpet"
           }
          ],
          "heatmap": [
           {
            "colorbar": {
             "outlinewidth": 0,
             "ticks": ""
            },
            "colorscale": [
             [
              0,
              "#0d0887"
             ],
             [
              0.1111111111111111,
              "#46039f"
             ],
             [
              0.2222222222222222,
              "#7201a8"
             ],
             [
              0.3333333333333333,
              "#9c179e"
             ],
             [
              0.4444444444444444,
              "#bd3786"
             ],
             [
              0.5555555555555556,
              "#d8576b"
             ],
             [
              0.6666666666666666,
              "#ed7953"
             ],
             [
              0.7777777777777778,
              "#fb9f3a"
             ],
             [
              0.8888888888888888,
              "#fdca26"
             ],
             [
              1,
              "#f0f921"
             ]
            ],
            "type": "heatmap"
           }
          ],
          "heatmapgl": [
           {
            "colorbar": {
             "outlinewidth": 0,
             "ticks": ""
            },
            "colorscale": [
             [
              0,
              "#0d0887"
             ],
             [
              0.1111111111111111,
              "#46039f"
             ],
             [
              0.2222222222222222,
              "#7201a8"
             ],
             [
              0.3333333333333333,
              "#9c179e"
             ],
             [
              0.4444444444444444,
              "#bd3786"
             ],
             [
              0.5555555555555556,
              "#d8576b"
             ],
             [
              0.6666666666666666,
              "#ed7953"
             ],
             [
              0.7777777777777778,
              "#fb9f3a"
             ],
             [
              0.8888888888888888,
              "#fdca26"
             ],
             [
              1,
              "#f0f921"
             ]
            ],
            "type": "heatmapgl"
           }
          ],
          "histogram": [
           {
            "marker": {
             "colorbar": {
              "outlinewidth": 0,
              "ticks": ""
             }
            },
            "type": "histogram"
           }
          ],
          "histogram2d": [
           {
            "colorbar": {
             "outlinewidth": 0,
             "ticks": ""
            },
            "colorscale": [
             [
              0,
              "#0d0887"
             ],
             [
              0.1111111111111111,
              "#46039f"
             ],
             [
              0.2222222222222222,
              "#7201a8"
             ],
             [
              0.3333333333333333,
              "#9c179e"
             ],
             [
              0.4444444444444444,
              "#bd3786"
             ],
             [
              0.5555555555555556,
              "#d8576b"
             ],
             [
              0.6666666666666666,
              "#ed7953"
             ],
             [
              0.7777777777777778,
              "#fb9f3a"
             ],
             [
              0.8888888888888888,
              "#fdca26"
             ],
             [
              1,
              "#f0f921"
             ]
            ],
            "type": "histogram2d"
           }
          ],
          "histogram2dcontour": [
           {
            "colorbar": {
             "outlinewidth": 0,
             "ticks": ""
            },
            "colorscale": [
             [
              0,
              "#0d0887"
             ],
             [
              0.1111111111111111,
              "#46039f"
             ],
             [
              0.2222222222222222,
              "#7201a8"
             ],
             [
              0.3333333333333333,
              "#9c179e"
             ],
             [
              0.4444444444444444,
              "#bd3786"
             ],
             [
              0.5555555555555556,
              "#d8576b"
             ],
             [
              0.6666666666666666,
              "#ed7953"
             ],
             [
              0.7777777777777778,
              "#fb9f3a"
             ],
             [
              0.8888888888888888,
              "#fdca26"
             ],
             [
              1,
              "#f0f921"
             ]
            ],
            "type": "histogram2dcontour"
           }
          ],
          "mesh3d": [
           {
            "colorbar": {
             "outlinewidth": 0,
             "ticks": ""
            },
            "type": "mesh3d"
           }
          ],
          "parcoords": [
           {
            "line": {
             "colorbar": {
              "outlinewidth": 0,
              "ticks": ""
             }
            },
            "type": "parcoords"
           }
          ],
          "pie": [
           {
            "automargin": true,
            "type": "pie"
           }
          ],
          "scatter": [
           {
            "marker": {
             "line": {
              "color": "#283442"
             }
            },
            "type": "scatter"
           }
          ],
          "scatter3d": [
           {
            "line": {
             "colorbar": {
              "outlinewidth": 0,
              "ticks": ""
             }
            },
            "marker": {
             "colorbar": {
              "outlinewidth": 0,
              "ticks": ""
             }
            },
            "type": "scatter3d"
           }
          ],
          "scattercarpet": [
           {
            "marker": {
             "colorbar": {
              "outlinewidth": 0,
              "ticks": ""
             }
            },
            "type": "scattercarpet"
           }
          ],
          "scattergeo": [
           {
            "marker": {
             "colorbar": {
              "outlinewidth": 0,
              "ticks": ""
             }
            },
            "type": "scattergeo"
           }
          ],
          "scattergl": [
           {
            "marker": {
             "line": {
              "color": "#283442"
             }
            },
            "type": "scattergl"
           }
          ],
          "scattermapbox": [
           {
            "marker": {
             "colorbar": {
              "outlinewidth": 0,
              "ticks": ""
             }
            },
            "type": "scattermapbox"
           }
          ],
          "scatterpolar": [
           {
            "marker": {
             "colorbar": {
              "outlinewidth": 0,
              "ticks": ""
             }
            },
            "type": "scatterpolar"
           }
          ],
          "scatterpolargl": [
           {
            "marker": {
             "colorbar": {
              "outlinewidth": 0,
              "ticks": ""
             }
            },
            "type": "scatterpolargl"
           }
          ],
          "scatterternary": [
           {
            "marker": {
             "colorbar": {
              "outlinewidth": 0,
              "ticks": ""
             }
            },
            "type": "scatterternary"
           }
          ],
          "surface": [
           {
            "colorbar": {
             "outlinewidth": 0,
             "ticks": ""
            },
            "colorscale": [
             [
              0,
              "#0d0887"
             ],
             [
              0.1111111111111111,
              "#46039f"
             ],
             [
              0.2222222222222222,
              "#7201a8"
             ],
             [
              0.3333333333333333,
              "#9c179e"
             ],
             [
              0.4444444444444444,
              "#bd3786"
             ],
             [
              0.5555555555555556,
              "#d8576b"
             ],
             [
              0.6666666666666666,
              "#ed7953"
             ],
             [
              0.7777777777777778,
              "#fb9f3a"
             ],
             [
              0.8888888888888888,
              "#fdca26"
             ],
             [
              1,
              "#f0f921"
             ]
            ],
            "type": "surface"
           }
          ],
          "table": [
           {
            "cells": {
             "fill": {
              "color": "#506784"
             },
             "line": {
              "color": "rgb(17,17,17)"
             }
            },
            "header": {
             "fill": {
              "color": "#2a3f5f"
             },
             "line": {
              "color": "rgb(17,17,17)"
             }
            },
            "type": "table"
           }
          ]
         },
         "layout": {
          "annotationdefaults": {
           "arrowcolor": "#f2f5fa",
           "arrowhead": 0,
           "arrowwidth": 1
          },
          "coloraxis": {
           "colorbar": {
            "outlinewidth": 0,
            "ticks": ""
           }
          },
          "colorscale": {
           "diverging": [
            [
             0,
             "#8e0152"
            ],
            [
             0.1,
             "#c51b7d"
            ],
            [
             0.2,
             "#de77ae"
            ],
            [
             0.3,
             "#f1b6da"
            ],
            [
             0.4,
             "#fde0ef"
            ],
            [
             0.5,
             "#f7f7f7"
            ],
            [
             0.6,
             "#e6f5d0"
            ],
            [
             0.7,
             "#b8e186"
            ],
            [
             0.8,
             "#7fbc41"
            ],
            [
             0.9,
             "#4d9221"
            ],
            [
             1,
             "#276419"
            ]
           ],
           "sequential": [
            [
             0,
             "#0d0887"
            ],
            [
             0.1111111111111111,
             "#46039f"
            ],
            [
             0.2222222222222222,
             "#7201a8"
            ],
            [
             0.3333333333333333,
             "#9c179e"
            ],
            [
             0.4444444444444444,
             "#bd3786"
            ],
            [
             0.5555555555555556,
             "#d8576b"
            ],
            [
             0.6666666666666666,
             "#ed7953"
            ],
            [
             0.7777777777777778,
             "#fb9f3a"
            ],
            [
             0.8888888888888888,
             "#fdca26"
            ],
            [
             1,
             "#f0f921"
            ]
           ],
           "sequentialminus": [
            [
             0,
             "#0d0887"
            ],
            [
             0.1111111111111111,
             "#46039f"
            ],
            [
             0.2222222222222222,
             "#7201a8"
            ],
            [
             0.3333333333333333,
             "#9c179e"
            ],
            [
             0.4444444444444444,
             "#bd3786"
            ],
            [
             0.5555555555555556,
             "#d8576b"
            ],
            [
             0.6666666666666666,
             "#ed7953"
            ],
            [
             0.7777777777777778,
             "#fb9f3a"
            ],
            [
             0.8888888888888888,
             "#fdca26"
            ],
            [
             1,
             "#f0f921"
            ]
           ]
          },
          "colorway": [
           "#636efa",
           "#EF553B",
           "#00cc96",
           "#ab63fa",
           "#FFA15A",
           "#19d3f3",
           "#FF6692",
           "#B6E880",
           "#FF97FF",
           "#FECB52"
          ],
          "font": {
           "color": "#f2f5fa"
          },
          "geo": {
           "bgcolor": "rgb(17,17,17)",
           "lakecolor": "rgb(17,17,17)",
           "landcolor": "rgb(17,17,17)",
           "showlakes": true,
           "showland": true,
           "subunitcolor": "#506784"
          },
          "hoverlabel": {
           "align": "left"
          },
          "hovermode": "closest",
          "mapbox": {
           "style": "dark"
          },
          "paper_bgcolor": "rgb(17,17,17)",
          "plot_bgcolor": "rgb(17,17,17)",
          "polar": {
           "angularaxis": {
            "gridcolor": "#506784",
            "linecolor": "#506784",
            "ticks": ""
           },
           "bgcolor": "rgb(17,17,17)",
           "radialaxis": {
            "gridcolor": "#506784",
            "linecolor": "#506784",
            "ticks": ""
           }
          },
          "scene": {
           "xaxis": {
            "backgroundcolor": "rgb(17,17,17)",
            "gridcolor": "#506784",
            "gridwidth": 2,
            "linecolor": "#506784",
            "showbackground": true,
            "ticks": "",
            "zerolinecolor": "#C8D4E3"
           },
           "yaxis": {
            "backgroundcolor": "rgb(17,17,17)",
            "gridcolor": "#506784",
            "gridwidth": 2,
            "linecolor": "#506784",
            "showbackground": true,
            "ticks": "",
            "zerolinecolor": "#C8D4E3"
           },
           "zaxis": {
            "backgroundcolor": "rgb(17,17,17)",
            "gridcolor": "#506784",
            "gridwidth": 2,
            "linecolor": "#506784",
            "showbackground": true,
            "ticks": "",
            "zerolinecolor": "#C8D4E3"
           }
          },
          "shapedefaults": {
           "line": {
            "color": "#f2f5fa"
           }
          },
          "sliderdefaults": {
           "bgcolor": "#C8D4E3",
           "bordercolor": "rgb(17,17,17)",
           "borderwidth": 1,
           "tickwidth": 0
          },
          "ternary": {
           "aaxis": {
            "gridcolor": "#506784",
            "linecolor": "#506784",
            "ticks": ""
           },
           "baxis": {
            "gridcolor": "#506784",
            "linecolor": "#506784",
            "ticks": ""
           },
           "bgcolor": "rgb(17,17,17)",
           "caxis": {
            "gridcolor": "#506784",
            "linecolor": "#506784",
            "ticks": ""
           }
          },
          "title": {
           "x": 0.05
          },
          "updatemenudefaults": {
           "bgcolor": "#506784",
           "borderwidth": 0
          },
          "xaxis": {
           "automargin": true,
           "gridcolor": "#283442",
           "linecolor": "#506784",
           "ticks": "",
           "title": {
            "standoff": 15
           },
           "zerolinecolor": "#283442",
           "zerolinewidth": 2
          },
          "yaxis": {
           "automargin": true,
           "gridcolor": "#283442",
           "linecolor": "#506784",
           "ticks": "",
           "title": {
            "standoff": 15
           },
           "zerolinecolor": "#283442",
           "zerolinewidth": 2
          }
         }
        },
        "title": {
         "text": "Average rentals by month",
         "x": 0.5,
         "xanchor": "center",
         "y": 0.9,
         "yanchor": "middle"
        },
        "xaxis": {
         "categoryarray": [
          "April",
          "May",
          "June",
          "July",
          "August",
          "September",
          "October",
          "November"
         ],
         "categoryorder": "array",
         "title": {
          "text": "month"
         }
        },
        "yaxis": {
         "title": {
          "text": "no. of rentals"
         }
        }
       }
      },
      "text/html": [
       "<div>\n",
       "        \n",
       "        \n",
       "            <div id=\"1564ed4f-81ce-4c8a-8d9e-28de51fab503\" class=\"plotly-graph-div\" style=\"height:525px; width:100%;\"></div>\n",
       "            <script type=\"text/javascript\">\n",
       "                require([\"plotly\"], function(Plotly) {\n",
       "                    window.PLOTLYENV=window.PLOTLYENV || {};\n",
       "                    \n",
       "                if (document.getElementById(\"1564ed4f-81ce-4c8a-8d9e-28de51fab503\")) {\n",
       "                    Plotly.newPlot(\n",
       "                        '1564ed4f-81ce-4c8a-8d9e-28de51fab503',\n",
       "                        [{\"marker\": {\"autocolorscale\": true, \"color\": [5665, 121948, 118959, 139060, 146220, 39279, 66510, 95788]}, \"type\": \"bar\", \"x\": [\"April\", \"August\", \"July\", \"June\", \"May\", \"November\", \"October\", \"September\"], \"y\": [1888.3333333333333, 3933.8064516129034, 3837.3870967741937, 4635.333333333333, 4716.774193548387, 1309.3, 2145.483870967742, 3192.9333333333334]}],\n",
       "                        {\"template\": {\"data\": {\"bar\": [{\"error_x\": {\"color\": \"#f2f5fa\"}, \"error_y\": {\"color\": \"#f2f5fa\"}, \"marker\": {\"line\": {\"color\": \"rgb(17,17,17)\", \"width\": 0.5}}, \"type\": \"bar\"}], \"barpolar\": [{\"marker\": {\"line\": {\"color\": \"rgb(17,17,17)\", \"width\": 0.5}}, \"type\": \"barpolar\"}], \"carpet\": [{\"aaxis\": {\"endlinecolor\": \"#A2B1C6\", \"gridcolor\": \"#506784\", \"linecolor\": \"#506784\", \"minorgridcolor\": \"#506784\", \"startlinecolor\": \"#A2B1C6\"}, \"baxis\": {\"endlinecolor\": \"#A2B1C6\", \"gridcolor\": \"#506784\", \"linecolor\": \"#506784\", \"minorgridcolor\": \"#506784\", \"startlinecolor\": \"#A2B1C6\"}, \"type\": \"carpet\"}], \"choropleth\": [{\"colorbar\": {\"outlinewidth\": 0, \"ticks\": \"\"}, \"type\": \"choropleth\"}], \"contour\": [{\"colorbar\": {\"outlinewidth\": 0, \"ticks\": \"\"}, \"colorscale\": [[0.0, \"#0d0887\"], [0.1111111111111111, \"#46039f\"], [0.2222222222222222, \"#7201a8\"], [0.3333333333333333, \"#9c179e\"], [0.4444444444444444, \"#bd3786\"], [0.5555555555555556, \"#d8576b\"], [0.6666666666666666, \"#ed7953\"], [0.7777777777777778, \"#fb9f3a\"], [0.8888888888888888, \"#fdca26\"], [1.0, \"#f0f921\"]], \"type\": \"contour\"}], \"contourcarpet\": [{\"colorbar\": {\"outlinewidth\": 0, \"ticks\": \"\"}, \"type\": \"contourcarpet\"}], \"heatmap\": [{\"colorbar\": {\"outlinewidth\": 0, \"ticks\": \"\"}, \"colorscale\": [[0.0, \"#0d0887\"], [0.1111111111111111, \"#46039f\"], [0.2222222222222222, \"#7201a8\"], [0.3333333333333333, \"#9c179e\"], [0.4444444444444444, \"#bd3786\"], [0.5555555555555556, \"#d8576b\"], [0.6666666666666666, \"#ed7953\"], [0.7777777777777778, \"#fb9f3a\"], [0.8888888888888888, \"#fdca26\"], [1.0, \"#f0f921\"]], \"type\": \"heatmap\"}], \"heatmapgl\": [{\"colorbar\": {\"outlinewidth\": 0, \"ticks\": \"\"}, \"colorscale\": [[0.0, \"#0d0887\"], [0.1111111111111111, \"#46039f\"], [0.2222222222222222, \"#7201a8\"], [0.3333333333333333, \"#9c179e\"], [0.4444444444444444, \"#bd3786\"], [0.5555555555555556, \"#d8576b\"], [0.6666666666666666, \"#ed7953\"], [0.7777777777777778, \"#fb9f3a\"], [0.8888888888888888, \"#fdca26\"], [1.0, \"#f0f921\"]], \"type\": \"heatmapgl\"}], \"histogram\": [{\"marker\": {\"colorbar\": {\"outlinewidth\": 0, \"ticks\": \"\"}}, \"type\": \"histogram\"}], \"histogram2d\": [{\"colorbar\": {\"outlinewidth\": 0, \"ticks\": \"\"}, \"colorscale\": [[0.0, \"#0d0887\"], [0.1111111111111111, \"#46039f\"], [0.2222222222222222, \"#7201a8\"], [0.3333333333333333, \"#9c179e\"], [0.4444444444444444, \"#bd3786\"], [0.5555555555555556, \"#d8576b\"], [0.6666666666666666, \"#ed7953\"], [0.7777777777777778, \"#fb9f3a\"], [0.8888888888888888, \"#fdca26\"], [1.0, \"#f0f921\"]], \"type\": \"histogram2d\"}], \"histogram2dcontour\": [{\"colorbar\": {\"outlinewidth\": 0, \"ticks\": \"\"}, \"colorscale\": [[0.0, \"#0d0887\"], [0.1111111111111111, \"#46039f\"], [0.2222222222222222, \"#7201a8\"], [0.3333333333333333, \"#9c179e\"], [0.4444444444444444, \"#bd3786\"], [0.5555555555555556, \"#d8576b\"], [0.6666666666666666, \"#ed7953\"], [0.7777777777777778, \"#fb9f3a\"], [0.8888888888888888, \"#fdca26\"], [1.0, \"#f0f921\"]], \"type\": \"histogram2dcontour\"}], \"mesh3d\": [{\"colorbar\": {\"outlinewidth\": 0, \"ticks\": \"\"}, \"type\": \"mesh3d\"}], \"parcoords\": [{\"line\": {\"colorbar\": {\"outlinewidth\": 0, \"ticks\": \"\"}}, \"type\": \"parcoords\"}], \"pie\": [{\"automargin\": true, \"type\": \"pie\"}], \"scatter\": [{\"marker\": {\"line\": {\"color\": \"#283442\"}}, \"type\": \"scatter\"}], \"scatter3d\": [{\"line\": {\"colorbar\": {\"outlinewidth\": 0, \"ticks\": \"\"}}, \"marker\": {\"colorbar\": {\"outlinewidth\": 0, \"ticks\": \"\"}}, \"type\": \"scatter3d\"}], \"scattercarpet\": [{\"marker\": {\"colorbar\": {\"outlinewidth\": 0, \"ticks\": \"\"}}, \"type\": \"scattercarpet\"}], \"scattergeo\": [{\"marker\": {\"colorbar\": {\"outlinewidth\": 0, \"ticks\": \"\"}}, \"type\": \"scattergeo\"}], \"scattergl\": [{\"marker\": {\"line\": {\"color\": \"#283442\"}}, \"type\": \"scattergl\"}], \"scattermapbox\": [{\"marker\": {\"colorbar\": {\"outlinewidth\": 0, \"ticks\": \"\"}}, \"type\": \"scattermapbox\"}], \"scatterpolar\": [{\"marker\": {\"colorbar\": {\"outlinewidth\": 0, \"ticks\": \"\"}}, \"type\": \"scatterpolar\"}], \"scatterpolargl\": [{\"marker\": {\"colorbar\": {\"outlinewidth\": 0, \"ticks\": \"\"}}, \"type\": \"scatterpolargl\"}], \"scatterternary\": [{\"marker\": {\"colorbar\": {\"outlinewidth\": 0, \"ticks\": \"\"}}, \"type\": \"scatterternary\"}], \"surface\": [{\"colorbar\": {\"outlinewidth\": 0, \"ticks\": \"\"}, \"colorscale\": [[0.0, \"#0d0887\"], [0.1111111111111111, \"#46039f\"], [0.2222222222222222, \"#7201a8\"], [0.3333333333333333, \"#9c179e\"], [0.4444444444444444, \"#bd3786\"], [0.5555555555555556, \"#d8576b\"], [0.6666666666666666, \"#ed7953\"], [0.7777777777777778, \"#fb9f3a\"], [0.8888888888888888, \"#fdca26\"], [1.0, \"#f0f921\"]], \"type\": \"surface\"}], \"table\": [{\"cells\": {\"fill\": {\"color\": \"#506784\"}, \"line\": {\"color\": \"rgb(17,17,17)\"}}, \"header\": {\"fill\": {\"color\": \"#2a3f5f\"}, \"line\": {\"color\": \"rgb(17,17,17)\"}}, \"type\": \"table\"}]}, \"layout\": {\"annotationdefaults\": {\"arrowcolor\": \"#f2f5fa\", \"arrowhead\": 0, \"arrowwidth\": 1}, \"coloraxis\": {\"colorbar\": {\"outlinewidth\": 0, \"ticks\": \"\"}}, \"colorscale\": {\"diverging\": [[0, \"#8e0152\"], [0.1, \"#c51b7d\"], [0.2, \"#de77ae\"], [0.3, \"#f1b6da\"], [0.4, \"#fde0ef\"], [0.5, \"#f7f7f7\"], [0.6, \"#e6f5d0\"], [0.7, \"#b8e186\"], [0.8, \"#7fbc41\"], [0.9, \"#4d9221\"], [1, \"#276419\"]], \"sequential\": [[0.0, \"#0d0887\"], [0.1111111111111111, \"#46039f\"], [0.2222222222222222, \"#7201a8\"], [0.3333333333333333, \"#9c179e\"], [0.4444444444444444, \"#bd3786\"], [0.5555555555555556, \"#d8576b\"], [0.6666666666666666, \"#ed7953\"], [0.7777777777777778, \"#fb9f3a\"], [0.8888888888888888, \"#fdca26\"], [1.0, \"#f0f921\"]], \"sequentialminus\": [[0.0, \"#0d0887\"], [0.1111111111111111, \"#46039f\"], [0.2222222222222222, \"#7201a8\"], [0.3333333333333333, \"#9c179e\"], [0.4444444444444444, \"#bd3786\"], [0.5555555555555556, \"#d8576b\"], [0.6666666666666666, \"#ed7953\"], [0.7777777777777778, \"#fb9f3a\"], [0.8888888888888888, \"#fdca26\"], [1.0, \"#f0f921\"]]}, \"colorway\": [\"#636efa\", \"#EF553B\", \"#00cc96\", \"#ab63fa\", \"#FFA15A\", \"#19d3f3\", \"#FF6692\", \"#B6E880\", \"#FF97FF\", \"#FECB52\"], \"font\": {\"color\": \"#f2f5fa\"}, \"geo\": {\"bgcolor\": \"rgb(17,17,17)\", \"lakecolor\": \"rgb(17,17,17)\", \"landcolor\": \"rgb(17,17,17)\", \"showlakes\": true, \"showland\": true, \"subunitcolor\": \"#506784\"}, \"hoverlabel\": {\"align\": \"left\"}, \"hovermode\": \"closest\", \"mapbox\": {\"style\": \"dark\"}, \"paper_bgcolor\": \"rgb(17,17,17)\", \"plot_bgcolor\": \"rgb(17,17,17)\", \"polar\": {\"angularaxis\": {\"gridcolor\": \"#506784\", \"linecolor\": \"#506784\", \"ticks\": \"\"}, \"bgcolor\": \"rgb(17,17,17)\", \"radialaxis\": {\"gridcolor\": \"#506784\", \"linecolor\": \"#506784\", \"ticks\": \"\"}}, \"scene\": {\"xaxis\": {\"backgroundcolor\": \"rgb(17,17,17)\", \"gridcolor\": \"#506784\", \"gridwidth\": 2, \"linecolor\": \"#506784\", \"showbackground\": true, \"ticks\": \"\", \"zerolinecolor\": \"#C8D4E3\"}, \"yaxis\": {\"backgroundcolor\": \"rgb(17,17,17)\", \"gridcolor\": \"#506784\", \"gridwidth\": 2, \"linecolor\": \"#506784\", \"showbackground\": true, \"ticks\": \"\", \"zerolinecolor\": \"#C8D4E3\"}, \"zaxis\": {\"backgroundcolor\": \"rgb(17,17,17)\", \"gridcolor\": \"#506784\", \"gridwidth\": 2, \"linecolor\": \"#506784\", \"showbackground\": true, \"ticks\": \"\", \"zerolinecolor\": \"#C8D4E3\"}}, \"shapedefaults\": {\"line\": {\"color\": \"#f2f5fa\"}}, \"sliderdefaults\": {\"bgcolor\": \"#C8D4E3\", \"bordercolor\": \"rgb(17,17,17)\", \"borderwidth\": 1, \"tickwidth\": 0}, \"ternary\": {\"aaxis\": {\"gridcolor\": \"#506784\", \"linecolor\": \"#506784\", \"ticks\": \"\"}, \"baxis\": {\"gridcolor\": \"#506784\", \"linecolor\": \"#506784\", \"ticks\": \"\"}, \"bgcolor\": \"rgb(17,17,17)\", \"caxis\": {\"gridcolor\": \"#506784\", \"linecolor\": \"#506784\", \"ticks\": \"\"}}, \"title\": {\"x\": 0.05}, \"updatemenudefaults\": {\"bgcolor\": \"#506784\", \"borderwidth\": 0}, \"xaxis\": {\"automargin\": true, \"gridcolor\": \"#283442\", \"linecolor\": \"#506784\", \"ticks\": \"\", \"title\": {\"standoff\": 15}, \"zerolinecolor\": \"#283442\", \"zerolinewidth\": 2}, \"yaxis\": {\"automargin\": true, \"gridcolor\": \"#283442\", \"linecolor\": \"#506784\", \"ticks\": \"\", \"title\": {\"standoff\": 15}, \"zerolinecolor\": \"#283442\", \"zerolinewidth\": 2}}}, \"title\": {\"text\": \"Average rentals by month\", \"x\": 0.5, \"xanchor\": \"center\", \"y\": 0.9, \"yanchor\": \"middle\"}, \"xaxis\": {\"categoryarray\": [\"April\", \"May\", \"June\", \"July\", \"August\", \"September\", \"October\", \"November\"], \"categoryorder\": \"array\", \"title\": {\"text\": \"month\"}}, \"yaxis\": {\"title\": {\"text\": \"no. of rentals\"}}},\n",
       "                        {\"responsive\": true}\n",
       "                    ).then(function(){\n",
       "                            \n",
       "var gd = document.getElementById('1564ed4f-81ce-4c8a-8d9e-28de51fab503');\n",
       "var x = new MutationObserver(function (mutations, observer) {{\n",
       "        var display = window.getComputedStyle(gd).display;\n",
       "        if (!display || display === 'none') {{\n",
       "            console.log([gd, 'removed!']);\n",
       "            Plotly.purge(gd);\n",
       "            observer.disconnect();\n",
       "        }}\n",
       "}});\n",
       "\n",
       "// Listen for the removal of the full notebook cells\n",
       "var notebookContainer = gd.closest('#notebook-container');\n",
       "if (notebookContainer) {{\n",
       "    x.observe(notebookContainer, {childList: true});\n",
       "}}\n",
       "\n",
       "// Listen for the clearing of the current output cell\n",
       "var outputEl = gd.closest('.output');\n",
       "if (outputEl) {{\n",
       "    x.observe(outputEl, {childList: true});\n",
       "}}\n",
       "\n",
       "                        })\n",
       "                };\n",
       "                });\n",
       "            </script>\n",
       "        </div>"
      ]
     },
     "metadata": {},
     "output_type": "display_data"
    }
   ],
   "source": [
    "iplot(monthAvgPlot)"
   ]
  },
  {
   "cell_type": "markdown",
   "metadata": {},
   "source": [
    "## Total rentals by day <a id=\"dayAggPlot\"></a>"
   ]
  },
  {
   "cell_type": "code",
   "execution_count": 5,
   "metadata": {
    "scrolled": true
   },
   "outputs": [
    {
     "data": {
      "application/vnd.plotly.v1+json": {
       "config": {
        "linkText": "Export to plot.ly",
        "plotlyServerURL": "https://plot.ly",
        "showLink": false
       },
       "data": [
        {
         "type": "bar",
         "x": [
          "2015-04-28",
          "2015-04-29",
          "2015-04-30",
          "2015-05-01",
          "2015-05-02",
          "2015-05-03",
          "2015-05-04",
          "2015-05-05",
          "2015-05-06",
          "2015-05-07",
          "2015-05-08",
          "2015-05-09",
          "2015-05-10",
          "2015-05-11",
          "2015-05-12",
          "2015-05-13",
          "2015-05-14",
          "2015-05-15",
          "2015-05-16",
          "2015-05-17",
          "2015-05-18",
          "2015-05-19",
          "2015-05-20",
          "2015-05-21",
          "2015-05-22",
          "2015-05-23",
          "2015-05-24",
          "2015-05-25",
          "2015-05-26",
          "2015-05-27",
          "2015-05-28",
          "2015-05-29",
          "2015-05-30",
          "2015-05-31",
          "2015-06-01",
          "2015-06-02",
          "2015-06-03",
          "2015-06-04",
          "2015-06-05",
          "2015-06-06",
          "2015-06-07",
          "2015-06-08",
          "2015-06-09",
          "2015-06-10",
          "2015-06-11",
          "2015-06-12",
          "2015-06-13",
          "2015-06-14",
          "2015-06-15",
          "2015-06-16",
          "2015-06-17",
          "2015-06-18",
          "2015-06-19",
          "2015-06-20",
          "2015-06-21",
          "2015-06-22",
          "2015-06-23",
          "2015-06-24",
          "2015-06-25",
          "2015-06-26",
          "2015-06-27",
          "2015-06-28",
          "2015-06-29",
          "2015-06-30",
          "2015-07-01",
          "2015-07-02",
          "2015-07-03",
          "2015-07-04",
          "2015-07-05",
          "2015-07-06",
          "2015-07-07",
          "2015-07-08",
          "2015-07-09",
          "2015-07-10",
          "2015-07-11",
          "2015-07-12",
          "2015-07-13",
          "2015-07-14",
          "2015-07-15",
          "2015-07-16",
          "2015-07-17",
          "2015-07-18",
          "2015-07-19",
          "2015-07-20",
          "2015-07-21",
          "2015-07-22",
          "2015-07-23",
          "2015-07-24",
          "2015-07-25",
          "2015-07-26",
          "2015-07-27",
          "2015-07-28",
          "2015-07-29",
          "2015-07-30",
          "2015-07-31",
          "2015-08-01",
          "2015-08-02",
          "2015-08-03",
          "2015-08-04",
          "2015-08-05",
          "2015-08-06",
          "2015-08-07",
          "2015-08-08",
          "2015-08-09",
          "2015-08-10",
          "2015-08-11",
          "2015-08-12",
          "2015-08-13",
          "2015-08-14",
          "2015-08-15",
          "2015-08-16",
          "2015-08-17",
          "2015-08-18",
          "2015-08-19",
          "2015-08-20",
          "2015-08-21",
          "2015-08-22",
          "2015-08-23",
          "2015-08-24",
          "2015-08-25",
          "2015-08-26",
          "2015-08-27",
          "2015-08-28",
          "2015-08-29",
          "2015-08-30",
          "2015-08-31",
          "2015-09-01",
          "2015-09-02",
          "2015-09-03",
          "2015-09-04",
          "2015-09-05",
          "2015-09-06",
          "2015-09-07",
          "2015-09-08",
          "2015-09-09",
          "2015-09-10",
          "2015-09-11",
          "2015-09-12",
          "2015-09-13",
          "2015-09-14",
          "2015-09-15",
          "2015-09-16",
          "2015-09-17",
          "2015-09-18",
          "2015-09-19",
          "2015-09-20",
          "2015-09-21",
          "2015-09-22",
          "2015-09-23",
          "2015-09-24",
          "2015-09-25",
          "2015-09-26",
          "2015-09-27",
          "2015-09-28",
          "2015-09-29",
          "2015-09-30",
          "2015-10-01",
          "2015-10-02",
          "2015-10-03",
          "2015-10-04",
          "2015-10-05",
          "2015-10-06",
          "2015-10-07",
          "2015-10-08",
          "2015-10-09",
          "2015-10-10",
          "2015-10-11",
          "2015-10-12",
          "2015-10-13",
          "2015-10-14",
          "2015-10-15",
          "2015-10-16",
          "2015-10-17",
          "2015-10-18",
          "2015-10-19",
          "2015-10-20",
          "2015-10-21",
          "2015-10-22",
          "2015-10-23",
          "2015-10-24",
          "2015-10-25",
          "2015-10-26",
          "2015-10-27",
          "2015-10-28",
          "2015-10-29",
          "2015-10-30",
          "2015-10-31",
          "2015-11-01",
          "2015-11-02",
          "2015-11-03",
          "2015-11-04",
          "2015-11-05",
          "2015-11-06",
          "2015-11-07",
          "2015-11-08",
          "2015-11-09",
          "2015-11-10",
          "2015-11-11",
          "2015-11-12",
          "2015-11-13",
          "2015-11-14",
          "2015-11-15",
          "2015-11-16",
          "2015-11-17",
          "2015-11-18",
          "2015-11-19",
          "2015-11-20",
          "2015-11-21",
          "2015-11-22",
          "2015-11-23",
          "2015-11-24",
          "2015-11-25",
          "2015-11-26",
          "2015-11-27",
          "2015-11-28",
          "2015-11-29",
          "2015-11-30"
         ],
         "y": [
          341,
          2482,
          2842,
          2319,
          3591,
          4531,
          4433,
          5533,
          3334,
          4398,
          4726,
          4066,
          3573,
          5528,
          5970,
          6656,
          5274,
          6097,
          5463,
          3655,
          6011,
          5845,
          1208,
          3818,
          5067,
          4301,
          4533,
          5877,
          4952,
          4689,
          5544,
          5824,
          4295,
          5109,
          6169,
          6393,
          6603,
          5768,
          5627,
          4781,
          4326,
          3984,
          3145,
          5509,
          6676,
          4672,
          4271,
          5262,
          4954,
          3265,
          5666,
          4096,
          4044,
          3982,
          3830,
          3011,
          3620,
          3944,
          4865,
          4605,
          3815,
          2701,
          4531,
          4945,
          4904,
          5162,
          4361,
          3437,
          3189,
          4189,
          4305,
          3631,
          3433,
          3573,
          3663,
          3053,
          2565,
          2685,
          3926,
          4449,
          4448,
          3456,
          3647,
          3962,
          4088,
          4341,
          4363,
          4332,
          3348,
          3635,
          3087,
          3836,
          3562,
          4265,
          4064,
          3608,
          3704,
          4303,
          4255,
          4167,
          4291,
          4035,
          3156,
          3544,
          4051,
          4096,
          4039,
          4416,
          3917,
          3123,
          3501,
          3549,
          4208,
          4385,
          4341,
          4320,
          3037,
          3776,
          4355,
          3252,
          4555,
          4399,
          3965,
          3919,
          3593,
          4088,
          4150,
          3740,
          4416,
          3541,
          3361,
          1127,
          2950,
          2435,
          3260,
          3073,
          2468,
          3207,
          4002,
          2982,
          3548,
          3997,
          4088,
          3560,
          3447,
          2112,
          2975,
          3006,
          3062,
          3499,
          3392,
          2639,
          2296,
          2959,
          3208,
          3288,
          3370,
          3326,
          2882,
          3222,
          4054,
          3796,
          3349,
          3101,
          2598,
          1809,
          1354,
          1549,
          1678,
          1009,
          1161,
          1684,
          1224,
          1328,
          2210,
          1475,
          1411,
          2268,
          2100,
          2049,
          1266,
          1750,
          2091,
          2300,
          2228,
          2004,
          864,
          1026,
          1674,
          2032,
          1943,
          1917,
          1820,
          940,
          1619,
          1652,
          1940,
          1353,
          1885,
          1906,
          1105,
          396,
          1016,
          1619,
          1573,
          1639,
          1418,
          815,
          680,
          861,
          1019,
          1062,
          1125,
          1156,
          658,
          495,
          935
         ]
        }
       ],
       "layout": {
        "template": {
         "data": {
          "bar": [
           {
            "error_x": {
             "color": "#f2f5fa"
            },
            "error_y": {
             "color": "#f2f5fa"
            },
            "marker": {
             "line": {
              "color": "rgb(17,17,17)",
              "width": 0.5
             }
            },
            "type": "bar"
           }
          ],
          "barpolar": [
           {
            "marker": {
             "line": {
              "color": "rgb(17,17,17)",
              "width": 0.5
             }
            },
            "type": "barpolar"
           }
          ],
          "carpet": [
           {
            "aaxis": {
             "endlinecolor": "#A2B1C6",
             "gridcolor": "#506784",
             "linecolor": "#506784",
             "minorgridcolor": "#506784",
             "startlinecolor": "#A2B1C6"
            },
            "baxis": {
             "endlinecolor": "#A2B1C6",
             "gridcolor": "#506784",
             "linecolor": "#506784",
             "minorgridcolor": "#506784",
             "startlinecolor": "#A2B1C6"
            },
            "type": "carpet"
           }
          ],
          "choropleth": [
           {
            "colorbar": {
             "outlinewidth": 0,
             "ticks": ""
            },
            "type": "choropleth"
           }
          ],
          "contour": [
           {
            "colorbar": {
             "outlinewidth": 0,
             "ticks": ""
            },
            "colorscale": [
             [
              0,
              "#0d0887"
             ],
             [
              0.1111111111111111,
              "#46039f"
             ],
             [
              0.2222222222222222,
              "#7201a8"
             ],
             [
              0.3333333333333333,
              "#9c179e"
             ],
             [
              0.4444444444444444,
              "#bd3786"
             ],
             [
              0.5555555555555556,
              "#d8576b"
             ],
             [
              0.6666666666666666,
              "#ed7953"
             ],
             [
              0.7777777777777778,
              "#fb9f3a"
             ],
             [
              0.8888888888888888,
              "#fdca26"
             ],
             [
              1,
              "#f0f921"
             ]
            ],
            "type": "contour"
           }
          ],
          "contourcarpet": [
           {
            "colorbar": {
             "outlinewidth": 0,
             "ticks": ""
            },
            "type": "contourcarpet"
           }
          ],
          "heatmap": [
           {
            "colorbar": {
             "outlinewidth": 0,
             "ticks": ""
            },
            "colorscale": [
             [
              0,
              "#0d0887"
             ],
             [
              0.1111111111111111,
              "#46039f"
             ],
             [
              0.2222222222222222,
              "#7201a8"
             ],
             [
              0.3333333333333333,
              "#9c179e"
             ],
             [
              0.4444444444444444,
              "#bd3786"
             ],
             [
              0.5555555555555556,
              "#d8576b"
             ],
             [
              0.6666666666666666,
              "#ed7953"
             ],
             [
              0.7777777777777778,
              "#fb9f3a"
             ],
             [
              0.8888888888888888,
              "#fdca26"
             ],
             [
              1,
              "#f0f921"
             ]
            ],
            "type": "heatmap"
           }
          ],
          "heatmapgl": [
           {
            "colorbar": {
             "outlinewidth": 0,
             "ticks": ""
            },
            "colorscale": [
             [
              0,
              "#0d0887"
             ],
             [
              0.1111111111111111,
              "#46039f"
             ],
             [
              0.2222222222222222,
              "#7201a8"
             ],
             [
              0.3333333333333333,
              "#9c179e"
             ],
             [
              0.4444444444444444,
              "#bd3786"
             ],
             [
              0.5555555555555556,
              "#d8576b"
             ],
             [
              0.6666666666666666,
              "#ed7953"
             ],
             [
              0.7777777777777778,
              "#fb9f3a"
             ],
             [
              0.8888888888888888,
              "#fdca26"
             ],
             [
              1,
              "#f0f921"
             ]
            ],
            "type": "heatmapgl"
           }
          ],
          "histogram": [
           {
            "marker": {
             "colorbar": {
              "outlinewidth": 0,
              "ticks": ""
             }
            },
            "type": "histogram"
           }
          ],
          "histogram2d": [
           {
            "colorbar": {
             "outlinewidth": 0,
             "ticks": ""
            },
            "colorscale": [
             [
              0,
              "#0d0887"
             ],
             [
              0.1111111111111111,
              "#46039f"
             ],
             [
              0.2222222222222222,
              "#7201a8"
             ],
             [
              0.3333333333333333,
              "#9c179e"
             ],
             [
              0.4444444444444444,
              "#bd3786"
             ],
             [
              0.5555555555555556,
              "#d8576b"
             ],
             [
              0.6666666666666666,
              "#ed7953"
             ],
             [
              0.7777777777777778,
              "#fb9f3a"
             ],
             [
              0.8888888888888888,
              "#fdca26"
             ],
             [
              1,
              "#f0f921"
             ]
            ],
            "type": "histogram2d"
           }
          ],
          "histogram2dcontour": [
           {
            "colorbar": {
             "outlinewidth": 0,
             "ticks": ""
            },
            "colorscale": [
             [
              0,
              "#0d0887"
             ],
             [
              0.1111111111111111,
              "#46039f"
             ],
             [
              0.2222222222222222,
              "#7201a8"
             ],
             [
              0.3333333333333333,
              "#9c179e"
             ],
             [
              0.4444444444444444,
              "#bd3786"
             ],
             [
              0.5555555555555556,
              "#d8576b"
             ],
             [
              0.6666666666666666,
              "#ed7953"
             ],
             [
              0.7777777777777778,
              "#fb9f3a"
             ],
             [
              0.8888888888888888,
              "#fdca26"
             ],
             [
              1,
              "#f0f921"
             ]
            ],
            "type": "histogram2dcontour"
           }
          ],
          "mesh3d": [
           {
            "colorbar": {
             "outlinewidth": 0,
             "ticks": ""
            },
            "type": "mesh3d"
           }
          ],
          "parcoords": [
           {
            "line": {
             "colorbar": {
              "outlinewidth": 0,
              "ticks": ""
             }
            },
            "type": "parcoords"
           }
          ],
          "pie": [
           {
            "automargin": true,
            "type": "pie"
           }
          ],
          "scatter": [
           {
            "marker": {
             "line": {
              "color": "#283442"
             }
            },
            "type": "scatter"
           }
          ],
          "scatter3d": [
           {
            "line": {
             "colorbar": {
              "outlinewidth": 0,
              "ticks": ""
             }
            },
            "marker": {
             "colorbar": {
              "outlinewidth": 0,
              "ticks": ""
             }
            },
            "type": "scatter3d"
           }
          ],
          "scattercarpet": [
           {
            "marker": {
             "colorbar": {
              "outlinewidth": 0,
              "ticks": ""
             }
            },
            "type": "scattercarpet"
           }
          ],
          "scattergeo": [
           {
            "marker": {
             "colorbar": {
              "outlinewidth": 0,
              "ticks": ""
             }
            },
            "type": "scattergeo"
           }
          ],
          "scattergl": [
           {
            "marker": {
             "line": {
              "color": "#283442"
             }
            },
            "type": "scattergl"
           }
          ],
          "scattermapbox": [
           {
            "marker": {
             "colorbar": {
              "outlinewidth": 0,
              "ticks": ""
             }
            },
            "type": "scattermapbox"
           }
          ],
          "scatterpolar": [
           {
            "marker": {
             "colorbar": {
              "outlinewidth": 0,
              "ticks": ""
             }
            },
            "type": "scatterpolar"
           }
          ],
          "scatterpolargl": [
           {
            "marker": {
             "colorbar": {
              "outlinewidth": 0,
              "ticks": ""
             }
            },
            "type": "scatterpolargl"
           }
          ],
          "scatterternary": [
           {
            "marker": {
             "colorbar": {
              "outlinewidth": 0,
              "ticks": ""
             }
            },
            "type": "scatterternary"
           }
          ],
          "surface": [
           {
            "colorbar": {
             "outlinewidth": 0,
             "ticks": ""
            },
            "colorscale": [
             [
              0,
              "#0d0887"
             ],
             [
              0.1111111111111111,
              "#46039f"
             ],
             [
              0.2222222222222222,
              "#7201a8"
             ],
             [
              0.3333333333333333,
              "#9c179e"
             ],
             [
              0.4444444444444444,
              "#bd3786"
             ],
             [
              0.5555555555555556,
              "#d8576b"
             ],
             [
              0.6666666666666666,
              "#ed7953"
             ],
             [
              0.7777777777777778,
              "#fb9f3a"
             ],
             [
              0.8888888888888888,
              "#fdca26"
             ],
             [
              1,
              "#f0f921"
             ]
            ],
            "type": "surface"
           }
          ],
          "table": [
           {
            "cells": {
             "fill": {
              "color": "#506784"
             },
             "line": {
              "color": "rgb(17,17,17)"
             }
            },
            "header": {
             "fill": {
              "color": "#2a3f5f"
             },
             "line": {
              "color": "rgb(17,17,17)"
             }
            },
            "type": "table"
           }
          ]
         },
         "layout": {
          "annotationdefaults": {
           "arrowcolor": "#f2f5fa",
           "arrowhead": 0,
           "arrowwidth": 1
          },
          "coloraxis": {
           "colorbar": {
            "outlinewidth": 0,
            "ticks": ""
           }
          },
          "colorscale": {
           "diverging": [
            [
             0,
             "#8e0152"
            ],
            [
             0.1,
             "#c51b7d"
            ],
            [
             0.2,
             "#de77ae"
            ],
            [
             0.3,
             "#f1b6da"
            ],
            [
             0.4,
             "#fde0ef"
            ],
            [
             0.5,
             "#f7f7f7"
            ],
            [
             0.6,
             "#e6f5d0"
            ],
            [
             0.7,
             "#b8e186"
            ],
            [
             0.8,
             "#7fbc41"
            ],
            [
             0.9,
             "#4d9221"
            ],
            [
             1,
             "#276419"
            ]
           ],
           "sequential": [
            [
             0,
             "#0d0887"
            ],
            [
             0.1111111111111111,
             "#46039f"
            ],
            [
             0.2222222222222222,
             "#7201a8"
            ],
            [
             0.3333333333333333,
             "#9c179e"
            ],
            [
             0.4444444444444444,
             "#bd3786"
            ],
            [
             0.5555555555555556,
             "#d8576b"
            ],
            [
             0.6666666666666666,
             "#ed7953"
            ],
            [
             0.7777777777777778,
             "#fb9f3a"
            ],
            [
             0.8888888888888888,
             "#fdca26"
            ],
            [
             1,
             "#f0f921"
            ]
           ],
           "sequentialminus": [
            [
             0,
             "#0d0887"
            ],
            [
             0.1111111111111111,
             "#46039f"
            ],
            [
             0.2222222222222222,
             "#7201a8"
            ],
            [
             0.3333333333333333,
             "#9c179e"
            ],
            [
             0.4444444444444444,
             "#bd3786"
            ],
            [
             0.5555555555555556,
             "#d8576b"
            ],
            [
             0.6666666666666666,
             "#ed7953"
            ],
            [
             0.7777777777777778,
             "#fb9f3a"
            ],
            [
             0.8888888888888888,
             "#fdca26"
            ],
            [
             1,
             "#f0f921"
            ]
           ]
          },
          "colorway": [
           "#636efa",
           "#EF553B",
           "#00cc96",
           "#ab63fa",
           "#FFA15A",
           "#19d3f3",
           "#FF6692",
           "#B6E880",
           "#FF97FF",
           "#FECB52"
          ],
          "font": {
           "color": "#f2f5fa"
          },
          "geo": {
           "bgcolor": "rgb(17,17,17)",
           "lakecolor": "rgb(17,17,17)",
           "landcolor": "rgb(17,17,17)",
           "showlakes": true,
           "showland": true,
           "subunitcolor": "#506784"
          },
          "hoverlabel": {
           "align": "left"
          },
          "hovermode": "closest",
          "mapbox": {
           "style": "dark"
          },
          "paper_bgcolor": "rgb(17,17,17)",
          "plot_bgcolor": "rgb(17,17,17)",
          "polar": {
           "angularaxis": {
            "gridcolor": "#506784",
            "linecolor": "#506784",
            "ticks": ""
           },
           "bgcolor": "rgb(17,17,17)",
           "radialaxis": {
            "gridcolor": "#506784",
            "linecolor": "#506784",
            "ticks": ""
           }
          },
          "scene": {
           "xaxis": {
            "backgroundcolor": "rgb(17,17,17)",
            "gridcolor": "#506784",
            "gridwidth": 2,
            "linecolor": "#506784",
            "showbackground": true,
            "ticks": "",
            "zerolinecolor": "#C8D4E3"
           },
           "yaxis": {
            "backgroundcolor": "rgb(17,17,17)",
            "gridcolor": "#506784",
            "gridwidth": 2,
            "linecolor": "#506784",
            "showbackground": true,
            "ticks": "",
            "zerolinecolor": "#C8D4E3"
           },
           "zaxis": {
            "backgroundcolor": "rgb(17,17,17)",
            "gridcolor": "#506784",
            "gridwidth": 2,
            "linecolor": "#506784",
            "showbackground": true,
            "ticks": "",
            "zerolinecolor": "#C8D4E3"
           }
          },
          "shapedefaults": {
           "line": {
            "color": "#f2f5fa"
           }
          },
          "sliderdefaults": {
           "bgcolor": "#C8D4E3",
           "bordercolor": "rgb(17,17,17)",
           "borderwidth": 1,
           "tickwidth": 0
          },
          "ternary": {
           "aaxis": {
            "gridcolor": "#506784",
            "linecolor": "#506784",
            "ticks": ""
           },
           "baxis": {
            "gridcolor": "#506784",
            "linecolor": "#506784",
            "ticks": ""
           },
           "bgcolor": "rgb(17,17,17)",
           "caxis": {
            "gridcolor": "#506784",
            "linecolor": "#506784",
            "ticks": ""
           }
          },
          "title": {
           "x": 0.05
          },
          "updatemenudefaults": {
           "bgcolor": "#506784",
           "borderwidth": 0
          },
          "xaxis": {
           "automargin": true,
           "gridcolor": "#283442",
           "linecolor": "#506784",
           "ticks": "",
           "title": {
            "standoff": 15
           },
           "zerolinecolor": "#283442",
           "zerolinewidth": 2
          },
          "yaxis": {
           "automargin": true,
           "gridcolor": "#283442",
           "linecolor": "#506784",
           "ticks": "",
           "title": {
            "standoff": 15
           },
           "zerolinecolor": "#283442",
           "zerolinewidth": 2
          }
         }
        },
        "title": {
         "text": "Total rentals by day",
         "x": 0.5,
         "xanchor": "center",
         "y": 0.9,
         "yanchor": "middle"
        },
        "xaxis": {
         "title": {
          "text": "day"
         }
        },
        "yaxis": {
         "title": {
          "text": "no. of rentals"
         }
        }
       }
      },
      "text/html": [
       "<div>\n",
       "        \n",
       "        \n",
       "            <div id=\"e7099125-a522-4169-83d7-3066ccdbad80\" class=\"plotly-graph-div\" style=\"height:525px; width:100%;\"></div>\n",
       "            <script type=\"text/javascript\">\n",
       "                require([\"plotly\"], function(Plotly) {\n",
       "                    window.PLOTLYENV=window.PLOTLYENV || {};\n",
       "                    \n",
       "                if (document.getElementById(\"e7099125-a522-4169-83d7-3066ccdbad80\")) {\n",
       "                    Plotly.newPlot(\n",
       "                        'e7099125-a522-4169-83d7-3066ccdbad80',\n",
       "                        [{\"type\": \"bar\", \"x\": [\"2015-04-28\", \"2015-04-29\", \"2015-04-30\", \"2015-05-01\", \"2015-05-02\", \"2015-05-03\", \"2015-05-04\", \"2015-05-05\", \"2015-05-06\", \"2015-05-07\", \"2015-05-08\", \"2015-05-09\", \"2015-05-10\", \"2015-05-11\", \"2015-05-12\", \"2015-05-13\", \"2015-05-14\", \"2015-05-15\", \"2015-05-16\", \"2015-05-17\", \"2015-05-18\", \"2015-05-19\", \"2015-05-20\", \"2015-05-21\", \"2015-05-22\", \"2015-05-23\", \"2015-05-24\", \"2015-05-25\", \"2015-05-26\", \"2015-05-27\", \"2015-05-28\", \"2015-05-29\", \"2015-05-30\", \"2015-05-31\", \"2015-06-01\", \"2015-06-02\", \"2015-06-03\", \"2015-06-04\", \"2015-06-05\", \"2015-06-06\", \"2015-06-07\", \"2015-06-08\", \"2015-06-09\", \"2015-06-10\", \"2015-06-11\", \"2015-06-12\", \"2015-06-13\", \"2015-06-14\", \"2015-06-15\", \"2015-06-16\", \"2015-06-17\", \"2015-06-18\", \"2015-06-19\", \"2015-06-20\", \"2015-06-21\", \"2015-06-22\", \"2015-06-23\", \"2015-06-24\", \"2015-06-25\", \"2015-06-26\", \"2015-06-27\", \"2015-06-28\", \"2015-06-29\", \"2015-06-30\", \"2015-07-01\", \"2015-07-02\", \"2015-07-03\", \"2015-07-04\", \"2015-07-05\", \"2015-07-06\", \"2015-07-07\", \"2015-07-08\", \"2015-07-09\", \"2015-07-10\", \"2015-07-11\", \"2015-07-12\", \"2015-07-13\", \"2015-07-14\", \"2015-07-15\", \"2015-07-16\", \"2015-07-17\", \"2015-07-18\", \"2015-07-19\", \"2015-07-20\", \"2015-07-21\", \"2015-07-22\", \"2015-07-23\", \"2015-07-24\", \"2015-07-25\", \"2015-07-26\", \"2015-07-27\", \"2015-07-28\", \"2015-07-29\", \"2015-07-30\", \"2015-07-31\", \"2015-08-01\", \"2015-08-02\", \"2015-08-03\", \"2015-08-04\", \"2015-08-05\", \"2015-08-06\", \"2015-08-07\", \"2015-08-08\", \"2015-08-09\", \"2015-08-10\", \"2015-08-11\", \"2015-08-12\", \"2015-08-13\", \"2015-08-14\", \"2015-08-15\", \"2015-08-16\", \"2015-08-17\", \"2015-08-18\", \"2015-08-19\", \"2015-08-20\", \"2015-08-21\", \"2015-08-22\", \"2015-08-23\", \"2015-08-24\", \"2015-08-25\", \"2015-08-26\", \"2015-08-27\", \"2015-08-28\", \"2015-08-29\", \"2015-08-30\", \"2015-08-31\", \"2015-09-01\", \"2015-09-02\", \"2015-09-03\", \"2015-09-04\", \"2015-09-05\", \"2015-09-06\", \"2015-09-07\", \"2015-09-08\", \"2015-09-09\", \"2015-09-10\", \"2015-09-11\", \"2015-09-12\", \"2015-09-13\", \"2015-09-14\", \"2015-09-15\", \"2015-09-16\", \"2015-09-17\", \"2015-09-18\", \"2015-09-19\", \"2015-09-20\", \"2015-09-21\", \"2015-09-22\", \"2015-09-23\", \"2015-09-24\", \"2015-09-25\", \"2015-09-26\", \"2015-09-27\", \"2015-09-28\", \"2015-09-29\", \"2015-09-30\", \"2015-10-01\", \"2015-10-02\", \"2015-10-03\", \"2015-10-04\", \"2015-10-05\", \"2015-10-06\", \"2015-10-07\", \"2015-10-08\", \"2015-10-09\", \"2015-10-10\", \"2015-10-11\", \"2015-10-12\", \"2015-10-13\", \"2015-10-14\", \"2015-10-15\", \"2015-10-16\", \"2015-10-17\", \"2015-10-18\", \"2015-10-19\", \"2015-10-20\", \"2015-10-21\", \"2015-10-22\", \"2015-10-23\", \"2015-10-24\", \"2015-10-25\", \"2015-10-26\", \"2015-10-27\", \"2015-10-28\", \"2015-10-29\", \"2015-10-30\", \"2015-10-31\", \"2015-11-01\", \"2015-11-02\", \"2015-11-03\", \"2015-11-04\", \"2015-11-05\", \"2015-11-06\", \"2015-11-07\", \"2015-11-08\", \"2015-11-09\", \"2015-11-10\", \"2015-11-11\", \"2015-11-12\", \"2015-11-13\", \"2015-11-14\", \"2015-11-15\", \"2015-11-16\", \"2015-11-17\", \"2015-11-18\", \"2015-11-19\", \"2015-11-20\", \"2015-11-21\", \"2015-11-22\", \"2015-11-23\", \"2015-11-24\", \"2015-11-25\", \"2015-11-26\", \"2015-11-27\", \"2015-11-28\", \"2015-11-29\", \"2015-11-30\"], \"y\": [341, 2482, 2842, 2319, 3591, 4531, 4433, 5533, 3334, 4398, 4726, 4066, 3573, 5528, 5970, 6656, 5274, 6097, 5463, 3655, 6011, 5845, 1208, 3818, 5067, 4301, 4533, 5877, 4952, 4689, 5544, 5824, 4295, 5109, 6169, 6393, 6603, 5768, 5627, 4781, 4326, 3984, 3145, 5509, 6676, 4672, 4271, 5262, 4954, 3265, 5666, 4096, 4044, 3982, 3830, 3011, 3620, 3944, 4865, 4605, 3815, 2701, 4531, 4945, 4904, 5162, 4361, 3437, 3189, 4189, 4305, 3631, 3433, 3573, 3663, 3053, 2565, 2685, 3926, 4449, 4448, 3456, 3647, 3962, 4088, 4341, 4363, 4332, 3348, 3635, 3087, 3836, 3562, 4265, 4064, 3608, 3704, 4303, 4255, 4167, 4291, 4035, 3156, 3544, 4051, 4096, 4039, 4416, 3917, 3123, 3501, 3549, 4208, 4385, 4341, 4320, 3037, 3776, 4355, 3252, 4555, 4399, 3965, 3919, 3593, 4088, 4150, 3740, 4416, 3541, 3361, 1127, 2950, 2435, 3260, 3073, 2468, 3207, 4002, 2982, 3548, 3997, 4088, 3560, 3447, 2112, 2975, 3006, 3062, 3499, 3392, 2639, 2296, 2959, 3208, 3288, 3370, 3326, 2882, 3222, 4054, 3796, 3349, 3101, 2598, 1809, 1354, 1549, 1678, 1009, 1161, 1684, 1224, 1328, 2210, 1475, 1411, 2268, 2100, 2049, 1266, 1750, 2091, 2300, 2228, 2004, 864, 1026, 1674, 2032, 1943, 1917, 1820, 940, 1619, 1652, 1940, 1353, 1885, 1906, 1105, 396, 1016, 1619, 1573, 1639, 1418, 815, 680, 861, 1019, 1062, 1125, 1156, 658, 495, 935]}],\n",
       "                        {\"template\": {\"data\": {\"bar\": [{\"error_x\": {\"color\": \"#f2f5fa\"}, \"error_y\": {\"color\": \"#f2f5fa\"}, \"marker\": {\"line\": {\"color\": \"rgb(17,17,17)\", \"width\": 0.5}}, \"type\": \"bar\"}], \"barpolar\": [{\"marker\": {\"line\": {\"color\": \"rgb(17,17,17)\", \"width\": 0.5}}, \"type\": \"barpolar\"}], \"carpet\": [{\"aaxis\": {\"endlinecolor\": \"#A2B1C6\", \"gridcolor\": \"#506784\", \"linecolor\": \"#506784\", \"minorgridcolor\": \"#506784\", \"startlinecolor\": \"#A2B1C6\"}, \"baxis\": {\"endlinecolor\": \"#A2B1C6\", \"gridcolor\": \"#506784\", \"linecolor\": \"#506784\", \"minorgridcolor\": \"#506784\", \"startlinecolor\": \"#A2B1C6\"}, \"type\": \"carpet\"}], \"choropleth\": [{\"colorbar\": {\"outlinewidth\": 0, \"ticks\": \"\"}, \"type\": \"choropleth\"}], \"contour\": [{\"colorbar\": {\"outlinewidth\": 0, \"ticks\": \"\"}, \"colorscale\": [[0.0, \"#0d0887\"], [0.1111111111111111, \"#46039f\"], [0.2222222222222222, \"#7201a8\"], [0.3333333333333333, \"#9c179e\"], [0.4444444444444444, \"#bd3786\"], [0.5555555555555556, \"#d8576b\"], [0.6666666666666666, \"#ed7953\"], [0.7777777777777778, \"#fb9f3a\"], [0.8888888888888888, \"#fdca26\"], [1.0, \"#f0f921\"]], \"type\": \"contour\"}], \"contourcarpet\": [{\"colorbar\": {\"outlinewidth\": 0, \"ticks\": \"\"}, \"type\": \"contourcarpet\"}], \"heatmap\": [{\"colorbar\": {\"outlinewidth\": 0, \"ticks\": \"\"}, \"colorscale\": [[0.0, \"#0d0887\"], [0.1111111111111111, \"#46039f\"], [0.2222222222222222, \"#7201a8\"], [0.3333333333333333, \"#9c179e\"], [0.4444444444444444, \"#bd3786\"], [0.5555555555555556, \"#d8576b\"], [0.6666666666666666, \"#ed7953\"], [0.7777777777777778, \"#fb9f3a\"], [0.8888888888888888, \"#fdca26\"], [1.0, \"#f0f921\"]], \"type\": \"heatmap\"}], \"heatmapgl\": [{\"colorbar\": {\"outlinewidth\": 0, \"ticks\": \"\"}, \"colorscale\": [[0.0, \"#0d0887\"], [0.1111111111111111, \"#46039f\"], [0.2222222222222222, \"#7201a8\"], [0.3333333333333333, \"#9c179e\"], [0.4444444444444444, \"#bd3786\"], [0.5555555555555556, \"#d8576b\"], [0.6666666666666666, \"#ed7953\"], [0.7777777777777778, \"#fb9f3a\"], [0.8888888888888888, \"#fdca26\"], [1.0, \"#f0f921\"]], \"type\": \"heatmapgl\"}], \"histogram\": [{\"marker\": {\"colorbar\": {\"outlinewidth\": 0, \"ticks\": \"\"}}, \"type\": \"histogram\"}], \"histogram2d\": [{\"colorbar\": {\"outlinewidth\": 0, \"ticks\": \"\"}, \"colorscale\": [[0.0, \"#0d0887\"], [0.1111111111111111, \"#46039f\"], [0.2222222222222222, \"#7201a8\"], [0.3333333333333333, \"#9c179e\"], [0.4444444444444444, \"#bd3786\"], [0.5555555555555556, \"#d8576b\"], [0.6666666666666666, \"#ed7953\"], [0.7777777777777778, \"#fb9f3a\"], [0.8888888888888888, \"#fdca26\"], [1.0, \"#f0f921\"]], \"type\": \"histogram2d\"}], \"histogram2dcontour\": [{\"colorbar\": {\"outlinewidth\": 0, \"ticks\": \"\"}, \"colorscale\": [[0.0, \"#0d0887\"], [0.1111111111111111, \"#46039f\"], [0.2222222222222222, \"#7201a8\"], [0.3333333333333333, \"#9c179e\"], [0.4444444444444444, \"#bd3786\"], [0.5555555555555556, \"#d8576b\"], [0.6666666666666666, \"#ed7953\"], [0.7777777777777778, \"#fb9f3a\"], [0.8888888888888888, \"#fdca26\"], [1.0, \"#f0f921\"]], \"type\": \"histogram2dcontour\"}], \"mesh3d\": [{\"colorbar\": {\"outlinewidth\": 0, \"ticks\": \"\"}, \"type\": \"mesh3d\"}], \"parcoords\": [{\"line\": {\"colorbar\": {\"outlinewidth\": 0, \"ticks\": \"\"}}, \"type\": \"parcoords\"}], \"pie\": [{\"automargin\": true, \"type\": \"pie\"}], \"scatter\": [{\"marker\": {\"line\": {\"color\": \"#283442\"}}, \"type\": \"scatter\"}], \"scatter3d\": [{\"line\": {\"colorbar\": {\"outlinewidth\": 0, \"ticks\": \"\"}}, \"marker\": {\"colorbar\": {\"outlinewidth\": 0, \"ticks\": \"\"}}, \"type\": \"scatter3d\"}], \"scattercarpet\": [{\"marker\": {\"colorbar\": {\"outlinewidth\": 0, \"ticks\": \"\"}}, \"type\": \"scattercarpet\"}], \"scattergeo\": [{\"marker\": {\"colorbar\": {\"outlinewidth\": 0, \"ticks\": \"\"}}, \"type\": \"scattergeo\"}], \"scattergl\": [{\"marker\": {\"line\": {\"color\": \"#283442\"}}, \"type\": \"scattergl\"}], \"scattermapbox\": [{\"marker\": {\"colorbar\": {\"outlinewidth\": 0, \"ticks\": \"\"}}, \"type\": \"scattermapbox\"}], \"scatterpolar\": [{\"marker\": {\"colorbar\": {\"outlinewidth\": 0, \"ticks\": \"\"}}, \"type\": \"scatterpolar\"}], \"scatterpolargl\": [{\"marker\": {\"colorbar\": {\"outlinewidth\": 0, \"ticks\": \"\"}}, \"type\": \"scatterpolargl\"}], \"scatterternary\": [{\"marker\": {\"colorbar\": {\"outlinewidth\": 0, \"ticks\": \"\"}}, \"type\": \"scatterternary\"}], \"surface\": [{\"colorbar\": {\"outlinewidth\": 0, \"ticks\": \"\"}, \"colorscale\": [[0.0, \"#0d0887\"], [0.1111111111111111, \"#46039f\"], [0.2222222222222222, \"#7201a8\"], [0.3333333333333333, \"#9c179e\"], [0.4444444444444444, \"#bd3786\"], [0.5555555555555556, \"#d8576b\"], [0.6666666666666666, \"#ed7953\"], [0.7777777777777778, \"#fb9f3a\"], [0.8888888888888888, \"#fdca26\"], [1.0, \"#f0f921\"]], \"type\": \"surface\"}], \"table\": [{\"cells\": {\"fill\": {\"color\": \"#506784\"}, \"line\": {\"color\": \"rgb(17,17,17)\"}}, \"header\": {\"fill\": {\"color\": \"#2a3f5f\"}, \"line\": {\"color\": \"rgb(17,17,17)\"}}, \"type\": \"table\"}]}, \"layout\": {\"annotationdefaults\": {\"arrowcolor\": \"#f2f5fa\", \"arrowhead\": 0, \"arrowwidth\": 1}, \"coloraxis\": {\"colorbar\": {\"outlinewidth\": 0, \"ticks\": \"\"}}, \"colorscale\": {\"diverging\": [[0, \"#8e0152\"], [0.1, \"#c51b7d\"], [0.2, \"#de77ae\"], [0.3, \"#f1b6da\"], [0.4, \"#fde0ef\"], [0.5, \"#f7f7f7\"], [0.6, \"#e6f5d0\"], [0.7, \"#b8e186\"], [0.8, \"#7fbc41\"], [0.9, \"#4d9221\"], [1, \"#276419\"]], \"sequential\": [[0.0, \"#0d0887\"], [0.1111111111111111, \"#46039f\"], [0.2222222222222222, \"#7201a8\"], [0.3333333333333333, \"#9c179e\"], [0.4444444444444444, \"#bd3786\"], [0.5555555555555556, \"#d8576b\"], [0.6666666666666666, \"#ed7953\"], [0.7777777777777778, \"#fb9f3a\"], [0.8888888888888888, \"#fdca26\"], [1.0, \"#f0f921\"]], \"sequentialminus\": [[0.0, \"#0d0887\"], [0.1111111111111111, \"#46039f\"], [0.2222222222222222, \"#7201a8\"], [0.3333333333333333, \"#9c179e\"], [0.4444444444444444, \"#bd3786\"], [0.5555555555555556, \"#d8576b\"], [0.6666666666666666, \"#ed7953\"], [0.7777777777777778, \"#fb9f3a\"], [0.8888888888888888, \"#fdca26\"], [1.0, \"#f0f921\"]]}, \"colorway\": [\"#636efa\", \"#EF553B\", \"#00cc96\", \"#ab63fa\", \"#FFA15A\", \"#19d3f3\", \"#FF6692\", \"#B6E880\", \"#FF97FF\", \"#FECB52\"], \"font\": {\"color\": \"#f2f5fa\"}, \"geo\": {\"bgcolor\": \"rgb(17,17,17)\", \"lakecolor\": \"rgb(17,17,17)\", \"landcolor\": \"rgb(17,17,17)\", \"showlakes\": true, \"showland\": true, \"subunitcolor\": \"#506784\"}, \"hoverlabel\": {\"align\": \"left\"}, \"hovermode\": \"closest\", \"mapbox\": {\"style\": \"dark\"}, \"paper_bgcolor\": \"rgb(17,17,17)\", \"plot_bgcolor\": \"rgb(17,17,17)\", \"polar\": {\"angularaxis\": {\"gridcolor\": \"#506784\", \"linecolor\": \"#506784\", \"ticks\": \"\"}, \"bgcolor\": \"rgb(17,17,17)\", \"radialaxis\": {\"gridcolor\": \"#506784\", \"linecolor\": \"#506784\", \"ticks\": \"\"}}, \"scene\": {\"xaxis\": {\"backgroundcolor\": \"rgb(17,17,17)\", \"gridcolor\": \"#506784\", \"gridwidth\": 2, \"linecolor\": \"#506784\", \"showbackground\": true, \"ticks\": \"\", \"zerolinecolor\": \"#C8D4E3\"}, \"yaxis\": {\"backgroundcolor\": \"rgb(17,17,17)\", \"gridcolor\": \"#506784\", \"gridwidth\": 2, \"linecolor\": \"#506784\", \"showbackground\": true, \"ticks\": \"\", \"zerolinecolor\": \"#C8D4E3\"}, \"zaxis\": {\"backgroundcolor\": \"rgb(17,17,17)\", \"gridcolor\": \"#506784\", \"gridwidth\": 2, \"linecolor\": \"#506784\", \"showbackground\": true, \"ticks\": \"\", \"zerolinecolor\": \"#C8D4E3\"}}, \"shapedefaults\": {\"line\": {\"color\": \"#f2f5fa\"}}, \"sliderdefaults\": {\"bgcolor\": \"#C8D4E3\", \"bordercolor\": \"rgb(17,17,17)\", \"borderwidth\": 1, \"tickwidth\": 0}, \"ternary\": {\"aaxis\": {\"gridcolor\": \"#506784\", \"linecolor\": \"#506784\", \"ticks\": \"\"}, \"baxis\": {\"gridcolor\": \"#506784\", \"linecolor\": \"#506784\", \"ticks\": \"\"}, \"bgcolor\": \"rgb(17,17,17)\", \"caxis\": {\"gridcolor\": \"#506784\", \"linecolor\": \"#506784\", \"ticks\": \"\"}}, \"title\": {\"x\": 0.05}, \"updatemenudefaults\": {\"bgcolor\": \"#506784\", \"borderwidth\": 0}, \"xaxis\": {\"automargin\": true, \"gridcolor\": \"#283442\", \"linecolor\": \"#506784\", \"ticks\": \"\", \"title\": {\"standoff\": 15}, \"zerolinecolor\": \"#283442\", \"zerolinewidth\": 2}, \"yaxis\": {\"automargin\": true, \"gridcolor\": \"#283442\", \"linecolor\": \"#506784\", \"ticks\": \"\", \"title\": {\"standoff\": 15}, \"zerolinecolor\": \"#283442\", \"zerolinewidth\": 2}}}, \"title\": {\"text\": \"Total rentals by day\", \"x\": 0.5, \"xanchor\": \"center\", \"y\": 0.9, \"yanchor\": \"middle\"}, \"xaxis\": {\"title\": {\"text\": \"day\"}}, \"yaxis\": {\"title\": {\"text\": \"no. of rentals\"}}},\n",
       "                        {\"responsive\": true}\n",
       "                    ).then(function(){\n",
       "                            \n",
       "var gd = document.getElementById('e7099125-a522-4169-83d7-3066ccdbad80');\n",
       "var x = new MutationObserver(function (mutations, observer) {{\n",
       "        var display = window.getComputedStyle(gd).display;\n",
       "        if (!display || display === 'none') {{\n",
       "            console.log([gd, 'removed!']);\n",
       "            Plotly.purge(gd);\n",
       "            observer.disconnect();\n",
       "        }}\n",
       "}});\n",
       "\n",
       "// Listen for the removal of the full notebook cells\n",
       "var notebookContainer = gd.closest('#notebook-container');\n",
       "if (notebookContainer) {{\n",
       "    x.observe(notebookContainer, {childList: true});\n",
       "}}\n",
       "\n",
       "// Listen for the clearing of the current output cell\n",
       "var outputEl = gd.closest('.output');\n",
       "if (outputEl) {{\n",
       "    x.observe(outputEl, {childList: true});\n",
       "}}\n",
       "\n",
       "                        })\n",
       "                };\n",
       "                });\n",
       "            </script>\n",
       "        </div>"
      ]
     },
     "metadata": {},
     "output_type": "display_data"
    }
   ],
   "source": [
    "iplot(dayAggPlot)"
   ]
  },
  {
   "cell_type": "markdown",
   "metadata": {},
   "source": [
    "## Average rentals by day of the week <a id=\"weekdayAvgPlot\"></a>"
   ]
  },
  {
   "cell_type": "code",
   "execution_count": 6,
   "metadata": {},
   "outputs": [
    {
     "data": {
      "application/vnd.plotly.v1+json": {
       "config": {
        "linkText": "Export to plot.ly",
        "plotlyServerURL": "https://plot.ly",
        "showLink": false
       },
       "data": [
        {
         "marker": {
          "autocolorscale": true,
          "color": [
           3579.6451612903224,
           3426.2580645161293,
           3042.3225806451615,
           2905.967741935484,
           3747.4193548387098,
           3442.935483870968,
           3514.451612903226
          ]
         },
         "type": "bar",
         "x": [
          "Friday",
          "Monday",
          "Saturday",
          "Sunday",
          "Thursday",
          "Tuesday",
          "Wednesday"
         ],
         "y": [
          3579.6451612903224,
          3426.2580645161293,
          3042.3225806451615,
          2905.967741935484,
          3747.4193548387098,
          3442.935483870968,
          3514.451612903226
         ]
        }
       ],
       "layout": {
        "template": {
         "data": {
          "bar": [
           {
            "error_x": {
             "color": "#f2f5fa"
            },
            "error_y": {
             "color": "#f2f5fa"
            },
            "marker": {
             "line": {
              "color": "rgb(17,17,17)",
              "width": 0.5
             }
            },
            "type": "bar"
           }
          ],
          "barpolar": [
           {
            "marker": {
             "line": {
              "color": "rgb(17,17,17)",
              "width": 0.5
             }
            },
            "type": "barpolar"
           }
          ],
          "carpet": [
           {
            "aaxis": {
             "endlinecolor": "#A2B1C6",
             "gridcolor": "#506784",
             "linecolor": "#506784",
             "minorgridcolor": "#506784",
             "startlinecolor": "#A2B1C6"
            },
            "baxis": {
             "endlinecolor": "#A2B1C6",
             "gridcolor": "#506784",
             "linecolor": "#506784",
             "minorgridcolor": "#506784",
             "startlinecolor": "#A2B1C6"
            },
            "type": "carpet"
           }
          ],
          "choropleth": [
           {
            "colorbar": {
             "outlinewidth": 0,
             "ticks": ""
            },
            "type": "choropleth"
           }
          ],
          "contour": [
           {
            "colorbar": {
             "outlinewidth": 0,
             "ticks": ""
            },
            "colorscale": [
             [
              0,
              "#0d0887"
             ],
             [
              0.1111111111111111,
              "#46039f"
             ],
             [
              0.2222222222222222,
              "#7201a8"
             ],
             [
              0.3333333333333333,
              "#9c179e"
             ],
             [
              0.4444444444444444,
              "#bd3786"
             ],
             [
              0.5555555555555556,
              "#d8576b"
             ],
             [
              0.6666666666666666,
              "#ed7953"
             ],
             [
              0.7777777777777778,
              "#fb9f3a"
             ],
             [
              0.8888888888888888,
              "#fdca26"
             ],
             [
              1,
              "#f0f921"
             ]
            ],
            "type": "contour"
           }
          ],
          "contourcarpet": [
           {
            "colorbar": {
             "outlinewidth": 0,
             "ticks": ""
            },
            "type": "contourcarpet"
           }
          ],
          "heatmap": [
           {
            "colorbar": {
             "outlinewidth": 0,
             "ticks": ""
            },
            "colorscale": [
             [
              0,
              "#0d0887"
             ],
             [
              0.1111111111111111,
              "#46039f"
             ],
             [
              0.2222222222222222,
              "#7201a8"
             ],
             [
              0.3333333333333333,
              "#9c179e"
             ],
             [
              0.4444444444444444,
              "#bd3786"
             ],
             [
              0.5555555555555556,
              "#d8576b"
             ],
             [
              0.6666666666666666,
              "#ed7953"
             ],
             [
              0.7777777777777778,
              "#fb9f3a"
             ],
             [
              0.8888888888888888,
              "#fdca26"
             ],
             [
              1,
              "#f0f921"
             ]
            ],
            "type": "heatmap"
           }
          ],
          "heatmapgl": [
           {
            "colorbar": {
             "outlinewidth": 0,
             "ticks": ""
            },
            "colorscale": [
             [
              0,
              "#0d0887"
             ],
             [
              0.1111111111111111,
              "#46039f"
             ],
             [
              0.2222222222222222,
              "#7201a8"
             ],
             [
              0.3333333333333333,
              "#9c179e"
             ],
             [
              0.4444444444444444,
              "#bd3786"
             ],
             [
              0.5555555555555556,
              "#d8576b"
             ],
             [
              0.6666666666666666,
              "#ed7953"
             ],
             [
              0.7777777777777778,
              "#fb9f3a"
             ],
             [
              0.8888888888888888,
              "#fdca26"
             ],
             [
              1,
              "#f0f921"
             ]
            ],
            "type": "heatmapgl"
           }
          ],
          "histogram": [
           {
            "marker": {
             "colorbar": {
              "outlinewidth": 0,
              "ticks": ""
             }
            },
            "type": "histogram"
           }
          ],
          "histogram2d": [
           {
            "colorbar": {
             "outlinewidth": 0,
             "ticks": ""
            },
            "colorscale": [
             [
              0,
              "#0d0887"
             ],
             [
              0.1111111111111111,
              "#46039f"
             ],
             [
              0.2222222222222222,
              "#7201a8"
             ],
             [
              0.3333333333333333,
              "#9c179e"
             ],
             [
              0.4444444444444444,
              "#bd3786"
             ],
             [
              0.5555555555555556,
              "#d8576b"
             ],
             [
              0.6666666666666666,
              "#ed7953"
             ],
             [
              0.7777777777777778,
              "#fb9f3a"
             ],
             [
              0.8888888888888888,
              "#fdca26"
             ],
             [
              1,
              "#f0f921"
             ]
            ],
            "type": "histogram2d"
           }
          ],
          "histogram2dcontour": [
           {
            "colorbar": {
             "outlinewidth": 0,
             "ticks": ""
            },
            "colorscale": [
             [
              0,
              "#0d0887"
             ],
             [
              0.1111111111111111,
              "#46039f"
             ],
             [
              0.2222222222222222,
              "#7201a8"
             ],
             [
              0.3333333333333333,
              "#9c179e"
             ],
             [
              0.4444444444444444,
              "#bd3786"
             ],
             [
              0.5555555555555556,
              "#d8576b"
             ],
             [
              0.6666666666666666,
              "#ed7953"
             ],
             [
              0.7777777777777778,
              "#fb9f3a"
             ],
             [
              0.8888888888888888,
              "#fdca26"
             ],
             [
              1,
              "#f0f921"
             ]
            ],
            "type": "histogram2dcontour"
           }
          ],
          "mesh3d": [
           {
            "colorbar": {
             "outlinewidth": 0,
             "ticks": ""
            },
            "type": "mesh3d"
           }
          ],
          "parcoords": [
           {
            "line": {
             "colorbar": {
              "outlinewidth": 0,
              "ticks": ""
             }
            },
            "type": "parcoords"
           }
          ],
          "pie": [
           {
            "automargin": true,
            "type": "pie"
           }
          ],
          "scatter": [
           {
            "marker": {
             "line": {
              "color": "#283442"
             }
            },
            "type": "scatter"
           }
          ],
          "scatter3d": [
           {
            "line": {
             "colorbar": {
              "outlinewidth": 0,
              "ticks": ""
             }
            },
            "marker": {
             "colorbar": {
              "outlinewidth": 0,
              "ticks": ""
             }
            },
            "type": "scatter3d"
           }
          ],
          "scattercarpet": [
           {
            "marker": {
             "colorbar": {
              "outlinewidth": 0,
              "ticks": ""
             }
            },
            "type": "scattercarpet"
           }
          ],
          "scattergeo": [
           {
            "marker": {
             "colorbar": {
              "outlinewidth": 0,
              "ticks": ""
             }
            },
            "type": "scattergeo"
           }
          ],
          "scattergl": [
           {
            "marker": {
             "line": {
              "color": "#283442"
             }
            },
            "type": "scattergl"
           }
          ],
          "scattermapbox": [
           {
            "marker": {
             "colorbar": {
              "outlinewidth": 0,
              "ticks": ""
             }
            },
            "type": "scattermapbox"
           }
          ],
          "scatterpolar": [
           {
            "marker": {
             "colorbar": {
              "outlinewidth": 0,
              "ticks": ""
             }
            },
            "type": "scatterpolar"
           }
          ],
          "scatterpolargl": [
           {
            "marker": {
             "colorbar": {
              "outlinewidth": 0,
              "ticks": ""
             }
            },
            "type": "scatterpolargl"
           }
          ],
          "scatterternary": [
           {
            "marker": {
             "colorbar": {
              "outlinewidth": 0,
              "ticks": ""
             }
            },
            "type": "scatterternary"
           }
          ],
          "surface": [
           {
            "colorbar": {
             "outlinewidth": 0,
             "ticks": ""
            },
            "colorscale": [
             [
              0,
              "#0d0887"
             ],
             [
              0.1111111111111111,
              "#46039f"
             ],
             [
              0.2222222222222222,
              "#7201a8"
             ],
             [
              0.3333333333333333,
              "#9c179e"
             ],
             [
              0.4444444444444444,
              "#bd3786"
             ],
             [
              0.5555555555555556,
              "#d8576b"
             ],
             [
              0.6666666666666666,
              "#ed7953"
             ],
             [
              0.7777777777777778,
              "#fb9f3a"
             ],
             [
              0.8888888888888888,
              "#fdca26"
             ],
             [
              1,
              "#f0f921"
             ]
            ],
            "type": "surface"
           }
          ],
          "table": [
           {
            "cells": {
             "fill": {
              "color": "#506784"
             },
             "line": {
              "color": "rgb(17,17,17)"
             }
            },
            "header": {
             "fill": {
              "color": "#2a3f5f"
             },
             "line": {
              "color": "rgb(17,17,17)"
             }
            },
            "type": "table"
           }
          ]
         },
         "layout": {
          "annotationdefaults": {
           "arrowcolor": "#f2f5fa",
           "arrowhead": 0,
           "arrowwidth": 1
          },
          "coloraxis": {
           "colorbar": {
            "outlinewidth": 0,
            "ticks": ""
           }
          },
          "colorscale": {
           "diverging": [
            [
             0,
             "#8e0152"
            ],
            [
             0.1,
             "#c51b7d"
            ],
            [
             0.2,
             "#de77ae"
            ],
            [
             0.3,
             "#f1b6da"
            ],
            [
             0.4,
             "#fde0ef"
            ],
            [
             0.5,
             "#f7f7f7"
            ],
            [
             0.6,
             "#e6f5d0"
            ],
            [
             0.7,
             "#b8e186"
            ],
            [
             0.8,
             "#7fbc41"
            ],
            [
             0.9,
             "#4d9221"
            ],
            [
             1,
             "#276419"
            ]
           ],
           "sequential": [
            [
             0,
             "#0d0887"
            ],
            [
             0.1111111111111111,
             "#46039f"
            ],
            [
             0.2222222222222222,
             "#7201a8"
            ],
            [
             0.3333333333333333,
             "#9c179e"
            ],
            [
             0.4444444444444444,
             "#bd3786"
            ],
            [
             0.5555555555555556,
             "#d8576b"
            ],
            [
             0.6666666666666666,
             "#ed7953"
            ],
            [
             0.7777777777777778,
             "#fb9f3a"
            ],
            [
             0.8888888888888888,
             "#fdca26"
            ],
            [
             1,
             "#f0f921"
            ]
           ],
           "sequentialminus": [
            [
             0,
             "#0d0887"
            ],
            [
             0.1111111111111111,
             "#46039f"
            ],
            [
             0.2222222222222222,
             "#7201a8"
            ],
            [
             0.3333333333333333,
             "#9c179e"
            ],
            [
             0.4444444444444444,
             "#bd3786"
            ],
            [
             0.5555555555555556,
             "#d8576b"
            ],
            [
             0.6666666666666666,
             "#ed7953"
            ],
            [
             0.7777777777777778,
             "#fb9f3a"
            ],
            [
             0.8888888888888888,
             "#fdca26"
            ],
            [
             1,
             "#f0f921"
            ]
           ]
          },
          "colorway": [
           "#636efa",
           "#EF553B",
           "#00cc96",
           "#ab63fa",
           "#FFA15A",
           "#19d3f3",
           "#FF6692",
           "#B6E880",
           "#FF97FF",
           "#FECB52"
          ],
          "font": {
           "color": "#f2f5fa"
          },
          "geo": {
           "bgcolor": "rgb(17,17,17)",
           "lakecolor": "rgb(17,17,17)",
           "landcolor": "rgb(17,17,17)",
           "showlakes": true,
           "showland": true,
           "subunitcolor": "#506784"
          },
          "hoverlabel": {
           "align": "left"
          },
          "hovermode": "closest",
          "mapbox": {
           "style": "dark"
          },
          "paper_bgcolor": "rgb(17,17,17)",
          "plot_bgcolor": "rgb(17,17,17)",
          "polar": {
           "angularaxis": {
            "gridcolor": "#506784",
            "linecolor": "#506784",
            "ticks": ""
           },
           "bgcolor": "rgb(17,17,17)",
           "radialaxis": {
            "gridcolor": "#506784",
            "linecolor": "#506784",
            "ticks": ""
           }
          },
          "scene": {
           "xaxis": {
            "backgroundcolor": "rgb(17,17,17)",
            "gridcolor": "#506784",
            "gridwidth": 2,
            "linecolor": "#506784",
            "showbackground": true,
            "ticks": "",
            "zerolinecolor": "#C8D4E3"
           },
           "yaxis": {
            "backgroundcolor": "rgb(17,17,17)",
            "gridcolor": "#506784",
            "gridwidth": 2,
            "linecolor": "#506784",
            "showbackground": true,
            "ticks": "",
            "zerolinecolor": "#C8D4E3"
           },
           "zaxis": {
            "backgroundcolor": "rgb(17,17,17)",
            "gridcolor": "#506784",
            "gridwidth": 2,
            "linecolor": "#506784",
            "showbackground": true,
            "ticks": "",
            "zerolinecolor": "#C8D4E3"
           }
          },
          "shapedefaults": {
           "line": {
            "color": "#f2f5fa"
           }
          },
          "sliderdefaults": {
           "bgcolor": "#C8D4E3",
           "bordercolor": "rgb(17,17,17)",
           "borderwidth": 1,
           "tickwidth": 0
          },
          "ternary": {
           "aaxis": {
            "gridcolor": "#506784",
            "linecolor": "#506784",
            "ticks": ""
           },
           "baxis": {
            "gridcolor": "#506784",
            "linecolor": "#506784",
            "ticks": ""
           },
           "bgcolor": "rgb(17,17,17)",
           "caxis": {
            "gridcolor": "#506784",
            "linecolor": "#506784",
            "ticks": ""
           }
          },
          "title": {
           "x": 0.05
          },
          "updatemenudefaults": {
           "bgcolor": "#506784",
           "borderwidth": 0
          },
          "xaxis": {
           "automargin": true,
           "gridcolor": "#283442",
           "linecolor": "#506784",
           "ticks": "",
           "title": {
            "standoff": 15
           },
           "zerolinecolor": "#283442",
           "zerolinewidth": 2
          },
          "yaxis": {
           "automargin": true,
           "gridcolor": "#283442",
           "linecolor": "#506784",
           "ticks": "",
           "title": {
            "standoff": 15
           },
           "zerolinecolor": "#283442",
           "zerolinewidth": 2
          }
         }
        },
        "title": {
         "text": "Average rentals by day of the week",
         "x": 0.5,
         "xanchor": "center",
         "y": 0.9,
         "yanchor": "middle"
        },
        "xaxis": {
         "categoryarray": [
          "Monday",
          "Tuesday",
          "Wednesday",
          "Thursday",
          "Friday",
          "Saturday",
          "Sunday"
         ],
         "categoryorder": "array",
         "title": {
          "text": "month"
         }
        },
        "yaxis": {
         "title": {
          "text": "no. of rentals"
         }
        }
       }
      },
      "text/html": [
       "<div>\n",
       "        \n",
       "        \n",
       "            <div id=\"f6941daf-bdcd-41c1-a8b5-4feb691a236e\" class=\"plotly-graph-div\" style=\"height:525px; width:100%;\"></div>\n",
       "            <script type=\"text/javascript\">\n",
       "                require([\"plotly\"], function(Plotly) {\n",
       "                    window.PLOTLYENV=window.PLOTLYENV || {};\n",
       "                    \n",
       "                if (document.getElementById(\"f6941daf-bdcd-41c1-a8b5-4feb691a236e\")) {\n",
       "                    Plotly.newPlot(\n",
       "                        'f6941daf-bdcd-41c1-a8b5-4feb691a236e',\n",
       "                        [{\"marker\": {\"autocolorscale\": true, \"color\": [3579.6451612903224, 3426.2580645161293, 3042.3225806451615, 2905.967741935484, 3747.4193548387098, 3442.935483870968, 3514.451612903226]}, \"type\": \"bar\", \"x\": [\"Friday\", \"Monday\", \"Saturday\", \"Sunday\", \"Thursday\", \"Tuesday\", \"Wednesday\"], \"y\": [3579.6451612903224, 3426.2580645161293, 3042.3225806451615, 2905.967741935484, 3747.4193548387098, 3442.935483870968, 3514.451612903226]}],\n",
       "                        {\"template\": {\"data\": {\"bar\": [{\"error_x\": {\"color\": \"#f2f5fa\"}, \"error_y\": {\"color\": \"#f2f5fa\"}, \"marker\": {\"line\": {\"color\": \"rgb(17,17,17)\", \"width\": 0.5}}, \"type\": \"bar\"}], \"barpolar\": [{\"marker\": {\"line\": {\"color\": \"rgb(17,17,17)\", \"width\": 0.5}}, \"type\": \"barpolar\"}], \"carpet\": [{\"aaxis\": {\"endlinecolor\": \"#A2B1C6\", \"gridcolor\": \"#506784\", \"linecolor\": \"#506784\", \"minorgridcolor\": \"#506784\", \"startlinecolor\": \"#A2B1C6\"}, \"baxis\": {\"endlinecolor\": \"#A2B1C6\", \"gridcolor\": \"#506784\", \"linecolor\": \"#506784\", \"minorgridcolor\": \"#506784\", \"startlinecolor\": \"#A2B1C6\"}, \"type\": \"carpet\"}], \"choropleth\": [{\"colorbar\": {\"outlinewidth\": 0, \"ticks\": \"\"}, \"type\": \"choropleth\"}], \"contour\": [{\"colorbar\": {\"outlinewidth\": 0, \"ticks\": \"\"}, \"colorscale\": [[0.0, \"#0d0887\"], [0.1111111111111111, \"#46039f\"], [0.2222222222222222, \"#7201a8\"], [0.3333333333333333, \"#9c179e\"], [0.4444444444444444, \"#bd3786\"], [0.5555555555555556, \"#d8576b\"], [0.6666666666666666, \"#ed7953\"], [0.7777777777777778, \"#fb9f3a\"], [0.8888888888888888, \"#fdca26\"], [1.0, \"#f0f921\"]], \"type\": \"contour\"}], \"contourcarpet\": [{\"colorbar\": {\"outlinewidth\": 0, \"ticks\": \"\"}, \"type\": \"contourcarpet\"}], \"heatmap\": [{\"colorbar\": {\"outlinewidth\": 0, \"ticks\": \"\"}, \"colorscale\": [[0.0, \"#0d0887\"], [0.1111111111111111, \"#46039f\"], [0.2222222222222222, \"#7201a8\"], [0.3333333333333333, \"#9c179e\"], [0.4444444444444444, \"#bd3786\"], [0.5555555555555556, \"#d8576b\"], [0.6666666666666666, \"#ed7953\"], [0.7777777777777778, \"#fb9f3a\"], [0.8888888888888888, \"#fdca26\"], [1.0, \"#f0f921\"]], \"type\": \"heatmap\"}], \"heatmapgl\": [{\"colorbar\": {\"outlinewidth\": 0, \"ticks\": \"\"}, \"colorscale\": [[0.0, \"#0d0887\"], [0.1111111111111111, \"#46039f\"], [0.2222222222222222, \"#7201a8\"], [0.3333333333333333, \"#9c179e\"], [0.4444444444444444, \"#bd3786\"], [0.5555555555555556, \"#d8576b\"], [0.6666666666666666, \"#ed7953\"], [0.7777777777777778, \"#fb9f3a\"], [0.8888888888888888, \"#fdca26\"], [1.0, \"#f0f921\"]], \"type\": \"heatmapgl\"}], \"histogram\": [{\"marker\": {\"colorbar\": {\"outlinewidth\": 0, \"ticks\": \"\"}}, \"type\": \"histogram\"}], \"histogram2d\": [{\"colorbar\": {\"outlinewidth\": 0, \"ticks\": \"\"}, \"colorscale\": [[0.0, \"#0d0887\"], [0.1111111111111111, \"#46039f\"], [0.2222222222222222, \"#7201a8\"], [0.3333333333333333, \"#9c179e\"], [0.4444444444444444, \"#bd3786\"], [0.5555555555555556, \"#d8576b\"], [0.6666666666666666, \"#ed7953\"], [0.7777777777777778, \"#fb9f3a\"], [0.8888888888888888, \"#fdca26\"], [1.0, \"#f0f921\"]], \"type\": \"histogram2d\"}], \"histogram2dcontour\": [{\"colorbar\": {\"outlinewidth\": 0, \"ticks\": \"\"}, \"colorscale\": [[0.0, \"#0d0887\"], [0.1111111111111111, \"#46039f\"], [0.2222222222222222, \"#7201a8\"], [0.3333333333333333, \"#9c179e\"], [0.4444444444444444, \"#bd3786\"], [0.5555555555555556, \"#d8576b\"], [0.6666666666666666, \"#ed7953\"], [0.7777777777777778, \"#fb9f3a\"], [0.8888888888888888, \"#fdca26\"], [1.0, \"#f0f921\"]], \"type\": \"histogram2dcontour\"}], \"mesh3d\": [{\"colorbar\": {\"outlinewidth\": 0, \"ticks\": \"\"}, \"type\": \"mesh3d\"}], \"parcoords\": [{\"line\": {\"colorbar\": {\"outlinewidth\": 0, \"ticks\": \"\"}}, \"type\": \"parcoords\"}], \"pie\": [{\"automargin\": true, \"type\": \"pie\"}], \"scatter\": [{\"marker\": {\"line\": {\"color\": \"#283442\"}}, \"type\": \"scatter\"}], \"scatter3d\": [{\"line\": {\"colorbar\": {\"outlinewidth\": 0, \"ticks\": \"\"}}, \"marker\": {\"colorbar\": {\"outlinewidth\": 0, \"ticks\": \"\"}}, \"type\": \"scatter3d\"}], \"scattercarpet\": [{\"marker\": {\"colorbar\": {\"outlinewidth\": 0, \"ticks\": \"\"}}, \"type\": \"scattercarpet\"}], \"scattergeo\": [{\"marker\": {\"colorbar\": {\"outlinewidth\": 0, \"ticks\": \"\"}}, \"type\": \"scattergeo\"}], \"scattergl\": [{\"marker\": {\"line\": {\"color\": \"#283442\"}}, \"type\": \"scattergl\"}], \"scattermapbox\": [{\"marker\": {\"colorbar\": {\"outlinewidth\": 0, \"ticks\": \"\"}}, \"type\": \"scattermapbox\"}], \"scatterpolar\": [{\"marker\": {\"colorbar\": {\"outlinewidth\": 0, \"ticks\": \"\"}}, \"type\": \"scatterpolar\"}], \"scatterpolargl\": [{\"marker\": {\"colorbar\": {\"outlinewidth\": 0, \"ticks\": \"\"}}, \"type\": \"scatterpolargl\"}], \"scatterternary\": [{\"marker\": {\"colorbar\": {\"outlinewidth\": 0, \"ticks\": \"\"}}, \"type\": \"scatterternary\"}], \"surface\": [{\"colorbar\": {\"outlinewidth\": 0, \"ticks\": \"\"}, \"colorscale\": [[0.0, \"#0d0887\"], [0.1111111111111111, \"#46039f\"], [0.2222222222222222, \"#7201a8\"], [0.3333333333333333, \"#9c179e\"], [0.4444444444444444, \"#bd3786\"], [0.5555555555555556, \"#d8576b\"], [0.6666666666666666, \"#ed7953\"], [0.7777777777777778, \"#fb9f3a\"], [0.8888888888888888, \"#fdca26\"], [1.0, \"#f0f921\"]], \"type\": \"surface\"}], \"table\": [{\"cells\": {\"fill\": {\"color\": \"#506784\"}, \"line\": {\"color\": \"rgb(17,17,17)\"}}, \"header\": {\"fill\": {\"color\": \"#2a3f5f\"}, \"line\": {\"color\": \"rgb(17,17,17)\"}}, \"type\": \"table\"}]}, \"layout\": {\"annotationdefaults\": {\"arrowcolor\": \"#f2f5fa\", \"arrowhead\": 0, \"arrowwidth\": 1}, \"coloraxis\": {\"colorbar\": {\"outlinewidth\": 0, \"ticks\": \"\"}}, \"colorscale\": {\"diverging\": [[0, \"#8e0152\"], [0.1, \"#c51b7d\"], [0.2, \"#de77ae\"], [0.3, \"#f1b6da\"], [0.4, \"#fde0ef\"], [0.5, \"#f7f7f7\"], [0.6, \"#e6f5d0\"], [0.7, \"#b8e186\"], [0.8, \"#7fbc41\"], [0.9, \"#4d9221\"], [1, \"#276419\"]], \"sequential\": [[0.0, \"#0d0887\"], [0.1111111111111111, \"#46039f\"], [0.2222222222222222, \"#7201a8\"], [0.3333333333333333, \"#9c179e\"], [0.4444444444444444, \"#bd3786\"], [0.5555555555555556, \"#d8576b\"], [0.6666666666666666, \"#ed7953\"], [0.7777777777777778, \"#fb9f3a\"], [0.8888888888888888, \"#fdca26\"], [1.0, \"#f0f921\"]], \"sequentialminus\": [[0.0, \"#0d0887\"], [0.1111111111111111, \"#46039f\"], [0.2222222222222222, \"#7201a8\"], [0.3333333333333333, \"#9c179e\"], [0.4444444444444444, \"#bd3786\"], [0.5555555555555556, \"#d8576b\"], [0.6666666666666666, \"#ed7953\"], [0.7777777777777778, \"#fb9f3a\"], [0.8888888888888888, \"#fdca26\"], [1.0, \"#f0f921\"]]}, \"colorway\": [\"#636efa\", \"#EF553B\", \"#00cc96\", \"#ab63fa\", \"#FFA15A\", \"#19d3f3\", \"#FF6692\", \"#B6E880\", \"#FF97FF\", \"#FECB52\"], \"font\": {\"color\": \"#f2f5fa\"}, \"geo\": {\"bgcolor\": \"rgb(17,17,17)\", \"lakecolor\": \"rgb(17,17,17)\", \"landcolor\": \"rgb(17,17,17)\", \"showlakes\": true, \"showland\": true, \"subunitcolor\": \"#506784\"}, \"hoverlabel\": {\"align\": \"left\"}, \"hovermode\": \"closest\", \"mapbox\": {\"style\": \"dark\"}, \"paper_bgcolor\": \"rgb(17,17,17)\", \"plot_bgcolor\": \"rgb(17,17,17)\", \"polar\": {\"angularaxis\": {\"gridcolor\": \"#506784\", \"linecolor\": \"#506784\", \"ticks\": \"\"}, \"bgcolor\": \"rgb(17,17,17)\", \"radialaxis\": {\"gridcolor\": \"#506784\", \"linecolor\": \"#506784\", \"ticks\": \"\"}}, \"scene\": {\"xaxis\": {\"backgroundcolor\": \"rgb(17,17,17)\", \"gridcolor\": \"#506784\", \"gridwidth\": 2, \"linecolor\": \"#506784\", \"showbackground\": true, \"ticks\": \"\", \"zerolinecolor\": \"#C8D4E3\"}, \"yaxis\": {\"backgroundcolor\": \"rgb(17,17,17)\", \"gridcolor\": \"#506784\", \"gridwidth\": 2, \"linecolor\": \"#506784\", \"showbackground\": true, \"ticks\": \"\", \"zerolinecolor\": \"#C8D4E3\"}, \"zaxis\": {\"backgroundcolor\": \"rgb(17,17,17)\", \"gridcolor\": \"#506784\", \"gridwidth\": 2, \"linecolor\": \"#506784\", \"showbackground\": true, \"ticks\": \"\", \"zerolinecolor\": \"#C8D4E3\"}}, \"shapedefaults\": {\"line\": {\"color\": \"#f2f5fa\"}}, \"sliderdefaults\": {\"bgcolor\": \"#C8D4E3\", \"bordercolor\": \"rgb(17,17,17)\", \"borderwidth\": 1, \"tickwidth\": 0}, \"ternary\": {\"aaxis\": {\"gridcolor\": \"#506784\", \"linecolor\": \"#506784\", \"ticks\": \"\"}, \"baxis\": {\"gridcolor\": \"#506784\", \"linecolor\": \"#506784\", \"ticks\": \"\"}, \"bgcolor\": \"rgb(17,17,17)\", \"caxis\": {\"gridcolor\": \"#506784\", \"linecolor\": \"#506784\", \"ticks\": \"\"}}, \"title\": {\"x\": 0.05}, \"updatemenudefaults\": {\"bgcolor\": \"#506784\", \"borderwidth\": 0}, \"xaxis\": {\"automargin\": true, \"gridcolor\": \"#283442\", \"linecolor\": \"#506784\", \"ticks\": \"\", \"title\": {\"standoff\": 15}, \"zerolinecolor\": \"#283442\", \"zerolinewidth\": 2}, \"yaxis\": {\"automargin\": true, \"gridcolor\": \"#283442\", \"linecolor\": \"#506784\", \"ticks\": \"\", \"title\": {\"standoff\": 15}, \"zerolinecolor\": \"#283442\", \"zerolinewidth\": 2}}}, \"title\": {\"text\": \"Average rentals by day of the week\", \"x\": 0.5, \"xanchor\": \"center\", \"y\": 0.9, \"yanchor\": \"middle\"}, \"xaxis\": {\"categoryarray\": [\"Monday\", \"Tuesday\", \"Wednesday\", \"Thursday\", \"Friday\", \"Saturday\", \"Sunday\"], \"categoryorder\": \"array\", \"title\": {\"text\": \"month\"}}, \"yaxis\": {\"title\": {\"text\": \"no. of rentals\"}}},\n",
       "                        {\"responsive\": true}\n",
       "                    ).then(function(){\n",
       "                            \n",
       "var gd = document.getElementById('f6941daf-bdcd-41c1-a8b5-4feb691a236e');\n",
       "var x = new MutationObserver(function (mutations, observer) {{\n",
       "        var display = window.getComputedStyle(gd).display;\n",
       "        if (!display || display === 'none') {{\n",
       "            console.log([gd, 'removed!']);\n",
       "            Plotly.purge(gd);\n",
       "            observer.disconnect();\n",
       "        }}\n",
       "}});\n",
       "\n",
       "// Listen for the removal of the full notebook cells\n",
       "var notebookContainer = gd.closest('#notebook-container');\n",
       "if (notebookContainer) {{\n",
       "    x.observe(notebookContainer, {childList: true});\n",
       "}}\n",
       "\n",
       "// Listen for the clearing of the current output cell\n",
       "var outputEl = gd.closest('.output');\n",
       "if (outputEl) {{\n",
       "    x.observe(outputEl, {childList: true});\n",
       "}}\n",
       "\n",
       "                        })\n",
       "                };\n",
       "                });\n",
       "            </script>\n",
       "        </div>"
      ]
     },
     "metadata": {},
     "output_type": "display_data"
    }
   ],
   "source": [
    "iplot(weekdayAvgPlot)"
   ]
  },
  {
   "cell_type": "markdown",
   "metadata": {},
   "source": [
    "## Total rentals by hour and weekday <a id=\"hourAggPlot\"></a>"
   ]
  },
  {
   "cell_type": "code",
   "execution_count": 7,
   "metadata": {
    "scrolled": true
   },
   "outputs": [
    {
     "data": {
      "application/vnd.plotly.v1+json": {
       "config": {
        "linkText": "Export to plot.ly",
        "plotlyServerURL": "https://plot.ly",
        "showLink": false
       },
       "data": [
        {
         "mode": "lines",
         "name": "Monday",
         "type": "scatter",
         "x": [
          0,
          1,
          2,
          3,
          4,
          5,
          6,
          7,
          8,
          9,
          10,
          11,
          12,
          13,
          14,
          15,
          16,
          17,
          18,
          19,
          20,
          21,
          22,
          23
         ],
         "y": [
          1287,
          613,
          281,
          194,
          300,
          630,
          2093,
          5558,
          5066,
          3437,
          3397,
          4024,
          4786,
          5201,
          6346,
          8550,
          11357,
          10298,
          8936,
          7675,
          6410,
          4552,
          2967,
          2256
         ]
        },
        {
         "mode": "lines",
         "name": "Tuesday",
         "type": "scatter",
         "x": [
          0,
          1,
          2,
          3,
          4,
          5,
          6,
          7,
          8,
          9,
          10,
          11,
          12,
          13,
          14,
          15,
          16,
          17,
          18,
          19,
          20,
          21,
          22,
          23
         ],
         "y": [
          1390,
          649,
          350,
          241,
          325,
          688,
          2404,
          6291,
          5725,
          3960,
          3556,
          4123,
          4872,
          5016,
          5960,
          7634,
          10854,
          9590,
          8289,
          7731,
          6663,
          4802,
          3206,
          2412
         ]
        },
        {
         "mode": "lines",
         "name": "Wednesday",
         "type": "scatter",
         "x": [
          0,
          1,
          2,
          3,
          4,
          5,
          6,
          7,
          8,
          9,
          10,
          11,
          12,
          13,
          14,
          15,
          16,
          17,
          18,
          19,
          20,
          21,
          22,
          23
         ],
         "y": [
          1727,
          795,
          427,
          319,
          320,
          639,
          2241,
          6158,
          5773,
          3826,
          3569,
          4024,
          4621,
          5064,
          5861,
          7949,
          10944,
          9772,
          9015,
          8131,
          6967,
          4752,
          3330,
          2724
         ]
        },
        {
         "mode": "lines",
         "name": "Thursday",
         "type": "scatter",
         "x": [
          0,
          1,
          2,
          3,
          4,
          5,
          6,
          7,
          8,
          9,
          10,
          11,
          12,
          13,
          14,
          15,
          16,
          17,
          18,
          19,
          20,
          21,
          22,
          23
         ],
         "y": [
          1901,
          924,
          631,
          365,
          334,
          719,
          2334,
          6305,
          5746,
          3961,
          3655,
          4213,
          5208,
          5708,
          6420,
          8270,
          11181,
          10242,
          9255,
          8642,
          7404,
          5480,
          3967,
          3305
         ]
        },
        {
         "mode": "lines",
         "name": "Friday",
         "type": "scatter",
         "x": [
          0,
          1,
          2,
          3,
          4,
          5,
          6,
          7,
          8,
          9,
          10,
          11,
          12,
          13,
          14,
          15,
          16,
          17,
          18,
          19,
          20,
          21,
          22,
          23
         ],
         "y": [
          2156,
          1124,
          591,
          419,
          388,
          683,
          2166,
          5821,
          5352,
          3970,
          3781,
          4432,
          5374,
          5698,
          6581,
          8415,
          10220,
          8489,
          7953,
          7749,
          6708,
          5296,
          3955,
          3648
         ]
        },
        {
         "mode": "lines",
         "name": "Saturday",
         "type": "scatter",
         "x": [
          0,
          1,
          2,
          3,
          4,
          5,
          6,
          7,
          8,
          9,
          10,
          11,
          12,
          13,
          14,
          15,
          16,
          17,
          18,
          19,
          20,
          21,
          22,
          23
         ],
         "y": [
          3185,
          2166,
          1456,
          1012,
          764,
          593,
          682,
          1149,
          1825,
          2695,
          3843,
          4880,
          5799,
          6385,
          6663,
          6708,
          6651,
          6619,
          6771,
          6565,
          6091,
          4852,
          3719,
          3239
         ]
        },
        {
         "mode": "lines",
         "name": "Sunday",
         "type": "scatter",
         "x": [
          0,
          1,
          2,
          3,
          4,
          5,
          6,
          7,
          8,
          9,
          10,
          11,
          12,
          13,
          14,
          15,
          16,
          17,
          18,
          19,
          20,
          21,
          22,
          23
         ],
         "y": [
          3061,
          2249,
          1438,
          949,
          691,
          445,
          396,
          612,
          1042,
          1966,
          2945,
          4338,
          5563,
          6497,
          6943,
          7149,
          7309,
          6991,
          7075,
          6862,
          5792,
          4243,
          3103,
          2426
         ]
        }
       ],
       "layout": {
        "template": {
         "data": {
          "bar": [
           {
            "error_x": {
             "color": "#f2f5fa"
            },
            "error_y": {
             "color": "#f2f5fa"
            },
            "marker": {
             "line": {
              "color": "rgb(17,17,17)",
              "width": 0.5
             }
            },
            "type": "bar"
           }
          ],
          "barpolar": [
           {
            "marker": {
             "line": {
              "color": "rgb(17,17,17)",
              "width": 0.5
             }
            },
            "type": "barpolar"
           }
          ],
          "carpet": [
           {
            "aaxis": {
             "endlinecolor": "#A2B1C6",
             "gridcolor": "#506784",
             "linecolor": "#506784",
             "minorgridcolor": "#506784",
             "startlinecolor": "#A2B1C6"
            },
            "baxis": {
             "endlinecolor": "#A2B1C6",
             "gridcolor": "#506784",
             "linecolor": "#506784",
             "minorgridcolor": "#506784",
             "startlinecolor": "#A2B1C6"
            },
            "type": "carpet"
           }
          ],
          "choropleth": [
           {
            "colorbar": {
             "outlinewidth": 0,
             "ticks": ""
            },
            "type": "choropleth"
           }
          ],
          "contour": [
           {
            "colorbar": {
             "outlinewidth": 0,
             "ticks": ""
            },
            "colorscale": [
             [
              0,
              "#0d0887"
             ],
             [
              0.1111111111111111,
              "#46039f"
             ],
             [
              0.2222222222222222,
              "#7201a8"
             ],
             [
              0.3333333333333333,
              "#9c179e"
             ],
             [
              0.4444444444444444,
              "#bd3786"
             ],
             [
              0.5555555555555556,
              "#d8576b"
             ],
             [
              0.6666666666666666,
              "#ed7953"
             ],
             [
              0.7777777777777778,
              "#fb9f3a"
             ],
             [
              0.8888888888888888,
              "#fdca26"
             ],
             [
              1,
              "#f0f921"
             ]
            ],
            "type": "contour"
           }
          ],
          "contourcarpet": [
           {
            "colorbar": {
             "outlinewidth": 0,
             "ticks": ""
            },
            "type": "contourcarpet"
           }
          ],
          "heatmap": [
           {
            "colorbar": {
             "outlinewidth": 0,
             "ticks": ""
            },
            "colorscale": [
             [
              0,
              "#0d0887"
             ],
             [
              0.1111111111111111,
              "#46039f"
             ],
             [
              0.2222222222222222,
              "#7201a8"
             ],
             [
              0.3333333333333333,
              "#9c179e"
             ],
             [
              0.4444444444444444,
              "#bd3786"
             ],
             [
              0.5555555555555556,
              "#d8576b"
             ],
             [
              0.6666666666666666,
              "#ed7953"
             ],
             [
              0.7777777777777778,
              "#fb9f3a"
             ],
             [
              0.8888888888888888,
              "#fdca26"
             ],
             [
              1,
              "#f0f921"
             ]
            ],
            "type": "heatmap"
           }
          ],
          "heatmapgl": [
           {
            "colorbar": {
             "outlinewidth": 0,
             "ticks": ""
            },
            "colorscale": [
             [
              0,
              "#0d0887"
             ],
             [
              0.1111111111111111,
              "#46039f"
             ],
             [
              0.2222222222222222,
              "#7201a8"
             ],
             [
              0.3333333333333333,
              "#9c179e"
             ],
             [
              0.4444444444444444,
              "#bd3786"
             ],
             [
              0.5555555555555556,
              "#d8576b"
             ],
             [
              0.6666666666666666,
              "#ed7953"
             ],
             [
              0.7777777777777778,
              "#fb9f3a"
             ],
             [
              0.8888888888888888,
              "#fdca26"
             ],
             [
              1,
              "#f0f921"
             ]
            ],
            "type": "heatmapgl"
           }
          ],
          "histogram": [
           {
            "marker": {
             "colorbar": {
              "outlinewidth": 0,
              "ticks": ""
             }
            },
            "type": "histogram"
           }
          ],
          "histogram2d": [
           {
            "colorbar": {
             "outlinewidth": 0,
             "ticks": ""
            },
            "colorscale": [
             [
              0,
              "#0d0887"
             ],
             [
              0.1111111111111111,
              "#46039f"
             ],
             [
              0.2222222222222222,
              "#7201a8"
             ],
             [
              0.3333333333333333,
              "#9c179e"
             ],
             [
              0.4444444444444444,
              "#bd3786"
             ],
             [
              0.5555555555555556,
              "#d8576b"
             ],
             [
              0.6666666666666666,
              "#ed7953"
             ],
             [
              0.7777777777777778,
              "#fb9f3a"
             ],
             [
              0.8888888888888888,
              "#fdca26"
             ],
             [
              1,
              "#f0f921"
             ]
            ],
            "type": "histogram2d"
           }
          ],
          "histogram2dcontour": [
           {
            "colorbar": {
             "outlinewidth": 0,
             "ticks": ""
            },
            "colorscale": [
             [
              0,
              "#0d0887"
             ],
             [
              0.1111111111111111,
              "#46039f"
             ],
             [
              0.2222222222222222,
              "#7201a8"
             ],
             [
              0.3333333333333333,
              "#9c179e"
             ],
             [
              0.4444444444444444,
              "#bd3786"
             ],
             [
              0.5555555555555556,
              "#d8576b"
             ],
             [
              0.6666666666666666,
              "#ed7953"
             ],
             [
              0.7777777777777778,
              "#fb9f3a"
             ],
             [
              0.8888888888888888,
              "#fdca26"
             ],
             [
              1,
              "#f0f921"
             ]
            ],
            "type": "histogram2dcontour"
           }
          ],
          "mesh3d": [
           {
            "colorbar": {
             "outlinewidth": 0,
             "ticks": ""
            },
            "type": "mesh3d"
           }
          ],
          "parcoords": [
           {
            "line": {
             "colorbar": {
              "outlinewidth": 0,
              "ticks": ""
             }
            },
            "type": "parcoords"
           }
          ],
          "pie": [
           {
            "automargin": true,
            "type": "pie"
           }
          ],
          "scatter": [
           {
            "marker": {
             "line": {
              "color": "#283442"
             }
            },
            "type": "scatter"
           }
          ],
          "scatter3d": [
           {
            "line": {
             "colorbar": {
              "outlinewidth": 0,
              "ticks": ""
             }
            },
            "marker": {
             "colorbar": {
              "outlinewidth": 0,
              "ticks": ""
             }
            },
            "type": "scatter3d"
           }
          ],
          "scattercarpet": [
           {
            "marker": {
             "colorbar": {
              "outlinewidth": 0,
              "ticks": ""
             }
            },
            "type": "scattercarpet"
           }
          ],
          "scattergeo": [
           {
            "marker": {
             "colorbar": {
              "outlinewidth": 0,
              "ticks": ""
             }
            },
            "type": "scattergeo"
           }
          ],
          "scattergl": [
           {
            "marker": {
             "line": {
              "color": "#283442"
             }
            },
            "type": "scattergl"
           }
          ],
          "scattermapbox": [
           {
            "marker": {
             "colorbar": {
              "outlinewidth": 0,
              "ticks": ""
             }
            },
            "type": "scattermapbox"
           }
          ],
          "scatterpolar": [
           {
            "marker": {
             "colorbar": {
              "outlinewidth": 0,
              "ticks": ""
             }
            },
            "type": "scatterpolar"
           }
          ],
          "scatterpolargl": [
           {
            "marker": {
             "colorbar": {
              "outlinewidth": 0,
              "ticks": ""
             }
            },
            "type": "scatterpolargl"
           }
          ],
          "scatterternary": [
           {
            "marker": {
             "colorbar": {
              "outlinewidth": 0,
              "ticks": ""
             }
            },
            "type": "scatterternary"
           }
          ],
          "surface": [
           {
            "colorbar": {
             "outlinewidth": 0,
             "ticks": ""
            },
            "colorscale": [
             [
              0,
              "#0d0887"
             ],
             [
              0.1111111111111111,
              "#46039f"
             ],
             [
              0.2222222222222222,
              "#7201a8"
             ],
             [
              0.3333333333333333,
              "#9c179e"
             ],
             [
              0.4444444444444444,
              "#bd3786"
             ],
             [
              0.5555555555555556,
              "#d8576b"
             ],
             [
              0.6666666666666666,
              "#ed7953"
             ],
             [
              0.7777777777777778,
              "#fb9f3a"
             ],
             [
              0.8888888888888888,
              "#fdca26"
             ],
             [
              1,
              "#f0f921"
             ]
            ],
            "type": "surface"
           }
          ],
          "table": [
           {
            "cells": {
             "fill": {
              "color": "#506784"
             },
             "line": {
              "color": "rgb(17,17,17)"
             }
            },
            "header": {
             "fill": {
              "color": "#2a3f5f"
             },
             "line": {
              "color": "rgb(17,17,17)"
             }
            },
            "type": "table"
           }
          ]
         },
         "layout": {
          "annotationdefaults": {
           "arrowcolor": "#f2f5fa",
           "arrowhead": 0,
           "arrowwidth": 1
          },
          "coloraxis": {
           "colorbar": {
            "outlinewidth": 0,
            "ticks": ""
           }
          },
          "colorscale": {
           "diverging": [
            [
             0,
             "#8e0152"
            ],
            [
             0.1,
             "#c51b7d"
            ],
            [
             0.2,
             "#de77ae"
            ],
            [
             0.3,
             "#f1b6da"
            ],
            [
             0.4,
             "#fde0ef"
            ],
            [
             0.5,
             "#f7f7f7"
            ],
            [
             0.6,
             "#e6f5d0"
            ],
            [
             0.7,
             "#b8e186"
            ],
            [
             0.8,
             "#7fbc41"
            ],
            [
             0.9,
             "#4d9221"
            ],
            [
             1,
             "#276419"
            ]
           ],
           "sequential": [
            [
             0,
             "#0d0887"
            ],
            [
             0.1111111111111111,
             "#46039f"
            ],
            [
             0.2222222222222222,
             "#7201a8"
            ],
            [
             0.3333333333333333,
             "#9c179e"
            ],
            [
             0.4444444444444444,
             "#bd3786"
            ],
            [
             0.5555555555555556,
             "#d8576b"
            ],
            [
             0.6666666666666666,
             "#ed7953"
            ],
            [
             0.7777777777777778,
             "#fb9f3a"
            ],
            [
             0.8888888888888888,
             "#fdca26"
            ],
            [
             1,
             "#f0f921"
            ]
           ],
           "sequentialminus": [
            [
             0,
             "#0d0887"
            ],
            [
             0.1111111111111111,
             "#46039f"
            ],
            [
             0.2222222222222222,
             "#7201a8"
            ],
            [
             0.3333333333333333,
             "#9c179e"
            ],
            [
             0.4444444444444444,
             "#bd3786"
            ],
            [
             0.5555555555555556,
             "#d8576b"
            ],
            [
             0.6666666666666666,
             "#ed7953"
            ],
            [
             0.7777777777777778,
             "#fb9f3a"
            ],
            [
             0.8888888888888888,
             "#fdca26"
            ],
            [
             1,
             "#f0f921"
            ]
           ]
          },
          "colorway": [
           "#636efa",
           "#EF553B",
           "#00cc96",
           "#ab63fa",
           "#FFA15A",
           "#19d3f3",
           "#FF6692",
           "#B6E880",
           "#FF97FF",
           "#FECB52"
          ],
          "font": {
           "color": "#f2f5fa"
          },
          "geo": {
           "bgcolor": "rgb(17,17,17)",
           "lakecolor": "rgb(17,17,17)",
           "landcolor": "rgb(17,17,17)",
           "showlakes": true,
           "showland": true,
           "subunitcolor": "#506784"
          },
          "hoverlabel": {
           "align": "left"
          },
          "hovermode": "closest",
          "mapbox": {
           "style": "dark"
          },
          "paper_bgcolor": "rgb(17,17,17)",
          "plot_bgcolor": "rgb(17,17,17)",
          "polar": {
           "angularaxis": {
            "gridcolor": "#506784",
            "linecolor": "#506784",
            "ticks": ""
           },
           "bgcolor": "rgb(17,17,17)",
           "radialaxis": {
            "gridcolor": "#506784",
            "linecolor": "#506784",
            "ticks": ""
           }
          },
          "scene": {
           "xaxis": {
            "backgroundcolor": "rgb(17,17,17)",
            "gridcolor": "#506784",
            "gridwidth": 2,
            "linecolor": "#506784",
            "showbackground": true,
            "ticks": "",
            "zerolinecolor": "#C8D4E3"
           },
           "yaxis": {
            "backgroundcolor": "rgb(17,17,17)",
            "gridcolor": "#506784",
            "gridwidth": 2,
            "linecolor": "#506784",
            "showbackground": true,
            "ticks": "",
            "zerolinecolor": "#C8D4E3"
           },
           "zaxis": {
            "backgroundcolor": "rgb(17,17,17)",
            "gridcolor": "#506784",
            "gridwidth": 2,
            "linecolor": "#506784",
            "showbackground": true,
            "ticks": "",
            "zerolinecolor": "#C8D4E3"
           }
          },
          "shapedefaults": {
           "line": {
            "color": "#f2f5fa"
           }
          },
          "sliderdefaults": {
           "bgcolor": "#C8D4E3",
           "bordercolor": "rgb(17,17,17)",
           "borderwidth": 1,
           "tickwidth": 0
          },
          "ternary": {
           "aaxis": {
            "gridcolor": "#506784",
            "linecolor": "#506784",
            "ticks": ""
           },
           "baxis": {
            "gridcolor": "#506784",
            "linecolor": "#506784",
            "ticks": ""
           },
           "bgcolor": "rgb(17,17,17)",
           "caxis": {
            "gridcolor": "#506784",
            "linecolor": "#506784",
            "ticks": ""
           }
          },
          "title": {
           "x": 0.05
          },
          "updatemenudefaults": {
           "bgcolor": "#506784",
           "borderwidth": 0
          },
          "xaxis": {
           "automargin": true,
           "gridcolor": "#283442",
           "linecolor": "#506784",
           "ticks": "",
           "title": {
            "standoff": 15
           },
           "zerolinecolor": "#283442",
           "zerolinewidth": 2
          },
          "yaxis": {
           "automargin": true,
           "gridcolor": "#283442",
           "linecolor": "#506784",
           "ticks": "",
           "title": {
            "standoff": 15
           },
           "zerolinecolor": "#283442",
           "zerolinewidth": 2
          }
         }
        },
        "title": {
         "text": "Total rentals by hour and weekday",
         "x": 0.5,
         "xanchor": "center",
         "y": 0.9,
         "yanchor": "middle"
        },
        "xaxis": {
         "tickmode": "array",
         "ticktext": [
          "00:00",
          "01:00",
          "02:00",
          "03:00",
          "04:00",
          "05:00",
          "06:00",
          "07:00",
          "08:00",
          "09:00",
          "10:00",
          "11:00",
          "12:00",
          "13:00",
          "14:00",
          "15:00",
          "16:00",
          "17:00",
          "18:00",
          "19:00",
          "20:00",
          "21:00",
          "22:00",
          "23:00"
         ],
         "tickvals": [
          0,
          1,
          2,
          3,
          4,
          5,
          6,
          7,
          8,
          9,
          10,
          11,
          12,
          13,
          14,
          15,
          16,
          17,
          18,
          19,
          20,
          21,
          22,
          23
         ],
         "title": {
          "text": "hour of day"
         }
        },
        "yaxis": {
         "title": {
          "text": "no. of rentals"
         }
        }
       }
      },
      "text/html": [
       "<div>\n",
       "        \n",
       "        \n",
       "            <div id=\"c4742c51-11ea-4736-8637-37f8b6dc20d7\" class=\"plotly-graph-div\" style=\"height:525px; width:100%;\"></div>\n",
       "            <script type=\"text/javascript\">\n",
       "                require([\"plotly\"], function(Plotly) {\n",
       "                    window.PLOTLYENV=window.PLOTLYENV || {};\n",
       "                    \n",
       "                if (document.getElementById(\"c4742c51-11ea-4736-8637-37f8b6dc20d7\")) {\n",
       "                    Plotly.newPlot(\n",
       "                        'c4742c51-11ea-4736-8637-37f8b6dc20d7',\n",
       "                        [{\"mode\": \"lines\", \"name\": \"Monday\", \"type\": \"scatter\", \"x\": [0, 1, 2, 3, 4, 5, 6, 7, 8, 9, 10, 11, 12, 13, 14, 15, 16, 17, 18, 19, 20, 21, 22, 23], \"y\": [1287, 613, 281, 194, 300, 630, 2093, 5558, 5066, 3437, 3397, 4024, 4786, 5201, 6346, 8550, 11357, 10298, 8936, 7675, 6410, 4552, 2967, 2256]}, {\"mode\": \"lines\", \"name\": \"Tuesday\", \"type\": \"scatter\", \"x\": [0, 1, 2, 3, 4, 5, 6, 7, 8, 9, 10, 11, 12, 13, 14, 15, 16, 17, 18, 19, 20, 21, 22, 23], \"y\": [1390, 649, 350, 241, 325, 688, 2404, 6291, 5725, 3960, 3556, 4123, 4872, 5016, 5960, 7634, 10854, 9590, 8289, 7731, 6663, 4802, 3206, 2412]}, {\"mode\": \"lines\", \"name\": \"Wednesday\", \"type\": \"scatter\", \"x\": [0, 1, 2, 3, 4, 5, 6, 7, 8, 9, 10, 11, 12, 13, 14, 15, 16, 17, 18, 19, 20, 21, 22, 23], \"y\": [1727, 795, 427, 319, 320, 639, 2241, 6158, 5773, 3826, 3569, 4024, 4621, 5064, 5861, 7949, 10944, 9772, 9015, 8131, 6967, 4752, 3330, 2724]}, {\"mode\": \"lines\", \"name\": \"Thursday\", \"type\": \"scatter\", \"x\": [0, 1, 2, 3, 4, 5, 6, 7, 8, 9, 10, 11, 12, 13, 14, 15, 16, 17, 18, 19, 20, 21, 22, 23], \"y\": [1901, 924, 631, 365, 334, 719, 2334, 6305, 5746, 3961, 3655, 4213, 5208, 5708, 6420, 8270, 11181, 10242, 9255, 8642, 7404, 5480, 3967, 3305]}, {\"mode\": \"lines\", \"name\": \"Friday\", \"type\": \"scatter\", \"x\": [0, 1, 2, 3, 4, 5, 6, 7, 8, 9, 10, 11, 12, 13, 14, 15, 16, 17, 18, 19, 20, 21, 22, 23], \"y\": [2156, 1124, 591, 419, 388, 683, 2166, 5821, 5352, 3970, 3781, 4432, 5374, 5698, 6581, 8415, 10220, 8489, 7953, 7749, 6708, 5296, 3955, 3648]}, {\"mode\": \"lines\", \"name\": \"Saturday\", \"type\": \"scatter\", \"x\": [0, 1, 2, 3, 4, 5, 6, 7, 8, 9, 10, 11, 12, 13, 14, 15, 16, 17, 18, 19, 20, 21, 22, 23], \"y\": [3185, 2166, 1456, 1012, 764, 593, 682, 1149, 1825, 2695, 3843, 4880, 5799, 6385, 6663, 6708, 6651, 6619, 6771, 6565, 6091, 4852, 3719, 3239]}, {\"mode\": \"lines\", \"name\": \"Sunday\", \"type\": \"scatter\", \"x\": [0, 1, 2, 3, 4, 5, 6, 7, 8, 9, 10, 11, 12, 13, 14, 15, 16, 17, 18, 19, 20, 21, 22, 23], \"y\": [3061, 2249, 1438, 949, 691, 445, 396, 612, 1042, 1966, 2945, 4338, 5563, 6497, 6943, 7149, 7309, 6991, 7075, 6862, 5792, 4243, 3103, 2426]}],\n",
       "                        {\"template\": {\"data\": {\"bar\": [{\"error_x\": {\"color\": \"#f2f5fa\"}, \"error_y\": {\"color\": \"#f2f5fa\"}, \"marker\": {\"line\": {\"color\": \"rgb(17,17,17)\", \"width\": 0.5}}, \"type\": \"bar\"}], \"barpolar\": [{\"marker\": {\"line\": {\"color\": \"rgb(17,17,17)\", \"width\": 0.5}}, \"type\": \"barpolar\"}], \"carpet\": [{\"aaxis\": {\"endlinecolor\": \"#A2B1C6\", \"gridcolor\": \"#506784\", \"linecolor\": \"#506784\", \"minorgridcolor\": \"#506784\", \"startlinecolor\": \"#A2B1C6\"}, \"baxis\": {\"endlinecolor\": \"#A2B1C6\", \"gridcolor\": \"#506784\", \"linecolor\": \"#506784\", \"minorgridcolor\": \"#506784\", \"startlinecolor\": \"#A2B1C6\"}, \"type\": \"carpet\"}], \"choropleth\": [{\"colorbar\": {\"outlinewidth\": 0, \"ticks\": \"\"}, \"type\": \"choropleth\"}], \"contour\": [{\"colorbar\": {\"outlinewidth\": 0, \"ticks\": \"\"}, \"colorscale\": [[0.0, \"#0d0887\"], [0.1111111111111111, \"#46039f\"], [0.2222222222222222, \"#7201a8\"], [0.3333333333333333, \"#9c179e\"], [0.4444444444444444, \"#bd3786\"], [0.5555555555555556, \"#d8576b\"], [0.6666666666666666, \"#ed7953\"], [0.7777777777777778, \"#fb9f3a\"], [0.8888888888888888, \"#fdca26\"], [1.0, \"#f0f921\"]], \"type\": \"contour\"}], \"contourcarpet\": [{\"colorbar\": {\"outlinewidth\": 0, \"ticks\": \"\"}, \"type\": \"contourcarpet\"}], \"heatmap\": [{\"colorbar\": {\"outlinewidth\": 0, \"ticks\": \"\"}, \"colorscale\": [[0.0, \"#0d0887\"], [0.1111111111111111, \"#46039f\"], [0.2222222222222222, \"#7201a8\"], [0.3333333333333333, \"#9c179e\"], [0.4444444444444444, \"#bd3786\"], [0.5555555555555556, \"#d8576b\"], [0.6666666666666666, \"#ed7953\"], [0.7777777777777778, \"#fb9f3a\"], [0.8888888888888888, \"#fdca26\"], [1.0, \"#f0f921\"]], \"type\": \"heatmap\"}], \"heatmapgl\": [{\"colorbar\": {\"outlinewidth\": 0, \"ticks\": \"\"}, \"colorscale\": [[0.0, \"#0d0887\"], [0.1111111111111111, \"#46039f\"], [0.2222222222222222, \"#7201a8\"], [0.3333333333333333, \"#9c179e\"], [0.4444444444444444, \"#bd3786\"], [0.5555555555555556, \"#d8576b\"], [0.6666666666666666, \"#ed7953\"], [0.7777777777777778, \"#fb9f3a\"], [0.8888888888888888, \"#fdca26\"], [1.0, \"#f0f921\"]], \"type\": \"heatmapgl\"}], \"histogram\": [{\"marker\": {\"colorbar\": {\"outlinewidth\": 0, \"ticks\": \"\"}}, \"type\": \"histogram\"}], \"histogram2d\": [{\"colorbar\": {\"outlinewidth\": 0, \"ticks\": \"\"}, \"colorscale\": [[0.0, \"#0d0887\"], [0.1111111111111111, \"#46039f\"], [0.2222222222222222, \"#7201a8\"], [0.3333333333333333, \"#9c179e\"], [0.4444444444444444, \"#bd3786\"], [0.5555555555555556, \"#d8576b\"], [0.6666666666666666, \"#ed7953\"], [0.7777777777777778, \"#fb9f3a\"], [0.8888888888888888, \"#fdca26\"], [1.0, \"#f0f921\"]], \"type\": \"histogram2d\"}], \"histogram2dcontour\": [{\"colorbar\": {\"outlinewidth\": 0, \"ticks\": \"\"}, \"colorscale\": [[0.0, \"#0d0887\"], [0.1111111111111111, \"#46039f\"], [0.2222222222222222, \"#7201a8\"], [0.3333333333333333, \"#9c179e\"], [0.4444444444444444, \"#bd3786\"], [0.5555555555555556, \"#d8576b\"], [0.6666666666666666, \"#ed7953\"], [0.7777777777777778, \"#fb9f3a\"], [0.8888888888888888, \"#fdca26\"], [1.0, \"#f0f921\"]], \"type\": \"histogram2dcontour\"}], \"mesh3d\": [{\"colorbar\": {\"outlinewidth\": 0, \"ticks\": \"\"}, \"type\": \"mesh3d\"}], \"parcoords\": [{\"line\": {\"colorbar\": {\"outlinewidth\": 0, \"ticks\": \"\"}}, \"type\": \"parcoords\"}], \"pie\": [{\"automargin\": true, \"type\": \"pie\"}], \"scatter\": [{\"marker\": {\"line\": {\"color\": \"#283442\"}}, \"type\": \"scatter\"}], \"scatter3d\": [{\"line\": {\"colorbar\": {\"outlinewidth\": 0, \"ticks\": \"\"}}, \"marker\": {\"colorbar\": {\"outlinewidth\": 0, \"ticks\": \"\"}}, \"type\": \"scatter3d\"}], \"scattercarpet\": [{\"marker\": {\"colorbar\": {\"outlinewidth\": 0, \"ticks\": \"\"}}, \"type\": \"scattercarpet\"}], \"scattergeo\": [{\"marker\": {\"colorbar\": {\"outlinewidth\": 0, \"ticks\": \"\"}}, \"type\": \"scattergeo\"}], \"scattergl\": [{\"marker\": {\"line\": {\"color\": \"#283442\"}}, \"type\": \"scattergl\"}], \"scattermapbox\": [{\"marker\": {\"colorbar\": {\"outlinewidth\": 0, \"ticks\": \"\"}}, \"type\": \"scattermapbox\"}], \"scatterpolar\": [{\"marker\": {\"colorbar\": {\"outlinewidth\": 0, \"ticks\": \"\"}}, \"type\": \"scatterpolar\"}], \"scatterpolargl\": [{\"marker\": {\"colorbar\": {\"outlinewidth\": 0, \"ticks\": \"\"}}, \"type\": \"scatterpolargl\"}], \"scatterternary\": [{\"marker\": {\"colorbar\": {\"outlinewidth\": 0, \"ticks\": \"\"}}, \"type\": \"scatterternary\"}], \"surface\": [{\"colorbar\": {\"outlinewidth\": 0, \"ticks\": \"\"}, \"colorscale\": [[0.0, \"#0d0887\"], [0.1111111111111111, \"#46039f\"], [0.2222222222222222, \"#7201a8\"], [0.3333333333333333, \"#9c179e\"], [0.4444444444444444, \"#bd3786\"], [0.5555555555555556, \"#d8576b\"], [0.6666666666666666, \"#ed7953\"], [0.7777777777777778, \"#fb9f3a\"], [0.8888888888888888, \"#fdca26\"], [1.0, \"#f0f921\"]], \"type\": \"surface\"}], \"table\": [{\"cells\": {\"fill\": {\"color\": \"#506784\"}, \"line\": {\"color\": \"rgb(17,17,17)\"}}, \"header\": {\"fill\": {\"color\": \"#2a3f5f\"}, \"line\": {\"color\": \"rgb(17,17,17)\"}}, \"type\": \"table\"}]}, \"layout\": {\"annotationdefaults\": {\"arrowcolor\": \"#f2f5fa\", \"arrowhead\": 0, \"arrowwidth\": 1}, \"coloraxis\": {\"colorbar\": {\"outlinewidth\": 0, \"ticks\": \"\"}}, \"colorscale\": {\"diverging\": [[0, \"#8e0152\"], [0.1, \"#c51b7d\"], [0.2, \"#de77ae\"], [0.3, \"#f1b6da\"], [0.4, \"#fde0ef\"], [0.5, \"#f7f7f7\"], [0.6, \"#e6f5d0\"], [0.7, \"#b8e186\"], [0.8, \"#7fbc41\"], [0.9, \"#4d9221\"], [1, \"#276419\"]], \"sequential\": [[0.0, \"#0d0887\"], [0.1111111111111111, \"#46039f\"], [0.2222222222222222, \"#7201a8\"], [0.3333333333333333, \"#9c179e\"], [0.4444444444444444, \"#bd3786\"], [0.5555555555555556, \"#d8576b\"], [0.6666666666666666, \"#ed7953\"], [0.7777777777777778, \"#fb9f3a\"], [0.8888888888888888, \"#fdca26\"], [1.0, \"#f0f921\"]], \"sequentialminus\": [[0.0, \"#0d0887\"], [0.1111111111111111, \"#46039f\"], [0.2222222222222222, \"#7201a8\"], [0.3333333333333333, \"#9c179e\"], [0.4444444444444444, \"#bd3786\"], [0.5555555555555556, \"#d8576b\"], [0.6666666666666666, \"#ed7953\"], [0.7777777777777778, \"#fb9f3a\"], [0.8888888888888888, \"#fdca26\"], [1.0, \"#f0f921\"]]}, \"colorway\": [\"#636efa\", \"#EF553B\", \"#00cc96\", \"#ab63fa\", \"#FFA15A\", \"#19d3f3\", \"#FF6692\", \"#B6E880\", \"#FF97FF\", \"#FECB52\"], \"font\": {\"color\": \"#f2f5fa\"}, \"geo\": {\"bgcolor\": \"rgb(17,17,17)\", \"lakecolor\": \"rgb(17,17,17)\", \"landcolor\": \"rgb(17,17,17)\", \"showlakes\": true, \"showland\": true, \"subunitcolor\": \"#506784\"}, \"hoverlabel\": {\"align\": \"left\"}, \"hovermode\": \"closest\", \"mapbox\": {\"style\": \"dark\"}, \"paper_bgcolor\": \"rgb(17,17,17)\", \"plot_bgcolor\": \"rgb(17,17,17)\", \"polar\": {\"angularaxis\": {\"gridcolor\": \"#506784\", \"linecolor\": \"#506784\", \"ticks\": \"\"}, \"bgcolor\": \"rgb(17,17,17)\", \"radialaxis\": {\"gridcolor\": \"#506784\", \"linecolor\": \"#506784\", \"ticks\": \"\"}}, \"scene\": {\"xaxis\": {\"backgroundcolor\": \"rgb(17,17,17)\", \"gridcolor\": \"#506784\", \"gridwidth\": 2, \"linecolor\": \"#506784\", \"showbackground\": true, \"ticks\": \"\", \"zerolinecolor\": \"#C8D4E3\"}, \"yaxis\": {\"backgroundcolor\": \"rgb(17,17,17)\", \"gridcolor\": \"#506784\", \"gridwidth\": 2, \"linecolor\": \"#506784\", \"showbackground\": true, \"ticks\": \"\", \"zerolinecolor\": \"#C8D4E3\"}, \"zaxis\": {\"backgroundcolor\": \"rgb(17,17,17)\", \"gridcolor\": \"#506784\", \"gridwidth\": 2, \"linecolor\": \"#506784\", \"showbackground\": true, \"ticks\": \"\", \"zerolinecolor\": \"#C8D4E3\"}}, \"shapedefaults\": {\"line\": {\"color\": \"#f2f5fa\"}}, \"sliderdefaults\": {\"bgcolor\": \"#C8D4E3\", \"bordercolor\": \"rgb(17,17,17)\", \"borderwidth\": 1, \"tickwidth\": 0}, \"ternary\": {\"aaxis\": {\"gridcolor\": \"#506784\", \"linecolor\": \"#506784\", \"ticks\": \"\"}, \"baxis\": {\"gridcolor\": \"#506784\", \"linecolor\": \"#506784\", \"ticks\": \"\"}, \"bgcolor\": \"rgb(17,17,17)\", \"caxis\": {\"gridcolor\": \"#506784\", \"linecolor\": \"#506784\", \"ticks\": \"\"}}, \"title\": {\"x\": 0.05}, \"updatemenudefaults\": {\"bgcolor\": \"#506784\", \"borderwidth\": 0}, \"xaxis\": {\"automargin\": true, \"gridcolor\": \"#283442\", \"linecolor\": \"#506784\", \"ticks\": \"\", \"title\": {\"standoff\": 15}, \"zerolinecolor\": \"#283442\", \"zerolinewidth\": 2}, \"yaxis\": {\"automargin\": true, \"gridcolor\": \"#283442\", \"linecolor\": \"#506784\", \"ticks\": \"\", \"title\": {\"standoff\": 15}, \"zerolinecolor\": \"#283442\", \"zerolinewidth\": 2}}}, \"title\": {\"text\": \"Total rentals by hour and weekday\", \"x\": 0.5, \"xanchor\": \"center\", \"y\": 0.9, \"yanchor\": \"middle\"}, \"xaxis\": {\"tickmode\": \"array\", \"ticktext\": [\"00:00\", \"01:00\", \"02:00\", \"03:00\", \"04:00\", \"05:00\", \"06:00\", \"07:00\", \"08:00\", \"09:00\", \"10:00\", \"11:00\", \"12:00\", \"13:00\", \"14:00\", \"15:00\", \"16:00\", \"17:00\", \"18:00\", \"19:00\", \"20:00\", \"21:00\", \"22:00\", \"23:00\"], \"tickvals\": [0, 1, 2, 3, 4, 5, 6, 7, 8, 9, 10, 11, 12, 13, 14, 15, 16, 17, 18, 19, 20, 21, 22, 23], \"title\": {\"text\": \"hour of day\"}}, \"yaxis\": {\"title\": {\"text\": \"no. of rentals\"}}},\n",
       "                        {\"responsive\": true}\n",
       "                    ).then(function(){\n",
       "                            \n",
       "var gd = document.getElementById('c4742c51-11ea-4736-8637-37f8b6dc20d7');\n",
       "var x = new MutationObserver(function (mutations, observer) {{\n",
       "        var display = window.getComputedStyle(gd).display;\n",
       "        if (!display || display === 'none') {{\n",
       "            console.log([gd, 'removed!']);\n",
       "            Plotly.purge(gd);\n",
       "            observer.disconnect();\n",
       "        }}\n",
       "}});\n",
       "\n",
       "// Listen for the removal of the full notebook cells\n",
       "var notebookContainer = gd.closest('#notebook-container');\n",
       "if (notebookContainer) {{\n",
       "    x.observe(notebookContainer, {childList: true});\n",
       "}}\n",
       "\n",
       "// Listen for the clearing of the current output cell\n",
       "var outputEl = gd.closest('.output');\n",
       "if (outputEl) {{\n",
       "    x.observe(outputEl, {childList: true});\n",
       "}}\n",
       "\n",
       "                        })\n",
       "                };\n",
       "                });\n",
       "            </script>\n",
       "        </div>"
      ]
     },
     "metadata": {},
     "output_type": "display_data"
    }
   ],
   "source": [
    "iplot(hourAggPlot)"
   ]
  },
  {
   "cell_type": "markdown",
   "metadata": {},
   "source": [
    "## Average rentals by hour and weekday <a id=\"hourAvgPlot\"></a>"
   ]
  },
  {
   "cell_type": "code",
   "execution_count": 8,
   "metadata": {},
   "outputs": [
    {
     "data": {
      "application/vnd.plotly.v1+json": {
       "config": {
        "linkText": "Export to plot.ly",
        "plotlyServerURL": "https://plot.ly",
        "showLink": false
       },
       "data": [
        {
         "mode": "lines",
         "name": "Monday",
         "type": "scatter",
         "x": [
          0,
          1,
          2,
          3,
          4,
          5,
          6,
          7,
          8,
          9,
          10,
          11,
          12,
          13,
          14,
          15,
          16,
          17,
          18,
          19,
          20,
          21,
          22,
          23
         ],
         "y": [
          41.516129032258064,
          19.774193548387096,
          9.064516129032258,
          6.258064516129032,
          9.67741935483871,
          20.322580645161292,
          67.51612903225806,
          179.29032258064515,
          163.41935483870967,
          110.87096774193549,
          109.58064516129032,
          129.80645161290323,
          154.38709677419354,
          167.7741935483871,
          204.70967741935485,
          275.80645161290323,
          366.35483870967744,
          332.19354838709677,
          288.258064516129,
          247.58064516129033,
          206.7741935483871,
          146.83870967741936,
          95.70967741935483,
          72.7741935483871
         ]
        },
        {
         "mode": "lines",
         "name": "Tuesday",
         "type": "scatter",
         "x": [
          0,
          1,
          2,
          3,
          4,
          5,
          6,
          7,
          8,
          9,
          10,
          11,
          12,
          13,
          14,
          15,
          16,
          17,
          18,
          19,
          20,
          21,
          22,
          23
         ],
         "y": [
          46.333333333333336,
          21.633333333333333,
          12.068965517241379,
          8.033333333333333,
          10.833333333333334,
          22.933333333333334,
          80.13333333333334,
          209.7,
          190.83333333333334,
          132,
          118.53333333333333,
          133,
          157.16129032258064,
          161.80645161290323,
          192.25806451612902,
          246.25806451612902,
          350.1290322580645,
          309.35483870967744,
          267.38709677419354,
          249.38709677419354,
          214.93548387096774,
          154.90322580645162,
          103.41935483870968,
          77.80645161290323
         ]
        },
        {
         "mode": "lines",
         "name": "Wednesday",
         "type": "scatter",
         "x": [
          0,
          1,
          2,
          3,
          4,
          5,
          6,
          7,
          8,
          9,
          10,
          11,
          12,
          13,
          14,
          15,
          16,
          17,
          18,
          19,
          20,
          21,
          22,
          23
         ],
         "y": [
          55.70967741935484,
          25.64516129032258,
          13.774193548387096,
          10.633333333333333,
          10.32258064516129,
          21.3,
          72.29032258064517,
          198.6451612903226,
          186.2258064516129,
          123.41935483870968,
          115.12903225806451,
          129.80645161290323,
          149.06451612903226,
          163.3548387096774,
          189.06451612903226,
          256.4193548387097,
          353.03225806451616,
          315.2258064516129,
          290.80645161290323,
          262.2903225806452,
          224.74193548387098,
          153.29032258064515,
          107.41935483870968,
          87.87096774193549
         ]
        },
        {
         "mode": "lines",
         "name": "Thursday",
         "type": "scatter",
         "x": [
          0,
          1,
          2,
          3,
          4,
          5,
          6,
          7,
          8,
          9,
          10,
          11,
          12,
          13,
          14,
          15,
          16,
          17,
          18,
          19,
          20,
          21,
          22,
          23
         ],
         "y": [
          61.32258064516129,
          29.806451612903224,
          20.35483870967742,
          12.166666666666666,
          10.774193548387096,
          23.193548387096776,
          75.29032258064517,
          203.38709677419354,
          185.3548387096774,
          127.7741935483871,
          117.90322580645162,
          135.90322580645162,
          168,
          184.1290322580645,
          207.09677419354838,
          266.7741935483871,
          360.6774193548387,
          330.38709677419354,
          298.5483870967742,
          278.7741935483871,
          238.83870967741936,
          176.7741935483871,
          127.96774193548387,
          106.61290322580645
         ]
        },
        {
         "mode": "lines",
         "name": "Friday",
         "type": "scatter",
         "x": [
          0,
          1,
          2,
          3,
          4,
          5,
          6,
          7,
          8,
          9,
          10,
          11,
          12,
          13,
          14,
          15,
          16,
          17,
          18,
          19,
          20,
          21,
          22,
          23
         ],
         "y": [
          69.54838709677419,
          36.25806451612903,
          19.06451612903226,
          13.516129032258064,
          12.516129032258064,
          22.032258064516128,
          69.87096774193549,
          187.7741935483871,
          172.6451612903226,
          128.06451612903226,
          121.96774193548387,
          142.96774193548387,
          173.3548387096774,
          183.80645161290323,
          212.29032258064515,
          271.4516129032258,
          329.6774193548387,
          273.83870967741933,
          256.5483870967742,
          249.96774193548387,
          216.38709677419354,
          170.83870967741936,
          127.58064516129032,
          117.6774193548387
         ]
        },
        {
         "mode": "lines",
         "name": "Saturday",
         "type": "scatter",
         "x": [
          0,
          1,
          2,
          3,
          4,
          5,
          6,
          7,
          8,
          9,
          10,
          11,
          12,
          13,
          14,
          15,
          16,
          17,
          18,
          19,
          20,
          21,
          22,
          23
         ],
         "y": [
          102.74193548387096,
          69.87096774193549,
          46.96774193548387,
          32.645161290322584,
          24.64516129032258,
          19.129032258064516,
          22,
          37.064516129032256,
          58.87096774193548,
          86.93548387096774,
          123.96774193548387,
          157.41935483870967,
          187.06451612903226,
          205.96774193548387,
          214.93548387096774,
          216.38709677419354,
          214.5483870967742,
          213.51612903225808,
          218.41935483870967,
          211.7741935483871,
          196.48387096774192,
          156.51612903225808,
          119.96774193548387,
          104.48387096774194
         ]
        },
        {
         "mode": "lines",
         "name": "Sunday",
         "type": "scatter",
         "x": [
          0,
          1,
          2,
          3,
          4,
          5,
          6,
          7,
          8,
          9,
          10,
          11,
          12,
          13,
          14,
          15,
          16,
          17,
          18,
          19,
          20,
          21,
          22,
          23
         ],
         "y": [
          98.74193548387096,
          72.54838709677419,
          46.38709677419355,
          30.612903225806452,
          22.29032258064516,
          14.35483870967742,
          12.774193548387096,
          19.741935483870968,
          33.61290322580645,
          63.41935483870968,
          95,
          139.93548387096774,
          179.4516129032258,
          209.58064516129033,
          223.96774193548387,
          230.61290322580646,
          235.7741935483871,
          225.51612903225808,
          228.2258064516129,
          221.3548387096774,
          186.83870967741936,
          136.8709677419355,
          100.09677419354838,
          78.25806451612904
         ]
        }
       ],
       "layout": {
        "template": {
         "data": {
          "bar": [
           {
            "error_x": {
             "color": "#f2f5fa"
            },
            "error_y": {
             "color": "#f2f5fa"
            },
            "marker": {
             "line": {
              "color": "rgb(17,17,17)",
              "width": 0.5
             }
            },
            "type": "bar"
           }
          ],
          "barpolar": [
           {
            "marker": {
             "line": {
              "color": "rgb(17,17,17)",
              "width": 0.5
             }
            },
            "type": "barpolar"
           }
          ],
          "carpet": [
           {
            "aaxis": {
             "endlinecolor": "#A2B1C6",
             "gridcolor": "#506784",
             "linecolor": "#506784",
             "minorgridcolor": "#506784",
             "startlinecolor": "#A2B1C6"
            },
            "baxis": {
             "endlinecolor": "#A2B1C6",
             "gridcolor": "#506784",
             "linecolor": "#506784",
             "minorgridcolor": "#506784",
             "startlinecolor": "#A2B1C6"
            },
            "type": "carpet"
           }
          ],
          "choropleth": [
           {
            "colorbar": {
             "outlinewidth": 0,
             "ticks": ""
            },
            "type": "choropleth"
           }
          ],
          "contour": [
           {
            "colorbar": {
             "outlinewidth": 0,
             "ticks": ""
            },
            "colorscale": [
             [
              0,
              "#0d0887"
             ],
             [
              0.1111111111111111,
              "#46039f"
             ],
             [
              0.2222222222222222,
              "#7201a8"
             ],
             [
              0.3333333333333333,
              "#9c179e"
             ],
             [
              0.4444444444444444,
              "#bd3786"
             ],
             [
              0.5555555555555556,
              "#d8576b"
             ],
             [
              0.6666666666666666,
              "#ed7953"
             ],
             [
              0.7777777777777778,
              "#fb9f3a"
             ],
             [
              0.8888888888888888,
              "#fdca26"
             ],
             [
              1,
              "#f0f921"
             ]
            ],
            "type": "contour"
           }
          ],
          "contourcarpet": [
           {
            "colorbar": {
             "outlinewidth": 0,
             "ticks": ""
            },
            "type": "contourcarpet"
           }
          ],
          "heatmap": [
           {
            "colorbar": {
             "outlinewidth": 0,
             "ticks": ""
            },
            "colorscale": [
             [
              0,
              "#0d0887"
             ],
             [
              0.1111111111111111,
              "#46039f"
             ],
             [
              0.2222222222222222,
              "#7201a8"
             ],
             [
              0.3333333333333333,
              "#9c179e"
             ],
             [
              0.4444444444444444,
              "#bd3786"
             ],
             [
              0.5555555555555556,
              "#d8576b"
             ],
             [
              0.6666666666666666,
              "#ed7953"
             ],
             [
              0.7777777777777778,
              "#fb9f3a"
             ],
             [
              0.8888888888888888,
              "#fdca26"
             ],
             [
              1,
              "#f0f921"
             ]
            ],
            "type": "heatmap"
           }
          ],
          "heatmapgl": [
           {
            "colorbar": {
             "outlinewidth": 0,
             "ticks": ""
            },
            "colorscale": [
             [
              0,
              "#0d0887"
             ],
             [
              0.1111111111111111,
              "#46039f"
             ],
             [
              0.2222222222222222,
              "#7201a8"
             ],
             [
              0.3333333333333333,
              "#9c179e"
             ],
             [
              0.4444444444444444,
              "#bd3786"
             ],
             [
              0.5555555555555556,
              "#d8576b"
             ],
             [
              0.6666666666666666,
              "#ed7953"
             ],
             [
              0.7777777777777778,
              "#fb9f3a"
             ],
             [
              0.8888888888888888,
              "#fdca26"
             ],
             [
              1,
              "#f0f921"
             ]
            ],
            "type": "heatmapgl"
           }
          ],
          "histogram": [
           {
            "marker": {
             "colorbar": {
              "outlinewidth": 0,
              "ticks": ""
             }
            },
            "type": "histogram"
           }
          ],
          "histogram2d": [
           {
            "colorbar": {
             "outlinewidth": 0,
             "ticks": ""
            },
            "colorscale": [
             [
              0,
              "#0d0887"
             ],
             [
              0.1111111111111111,
              "#46039f"
             ],
             [
              0.2222222222222222,
              "#7201a8"
             ],
             [
              0.3333333333333333,
              "#9c179e"
             ],
             [
              0.4444444444444444,
              "#bd3786"
             ],
             [
              0.5555555555555556,
              "#d8576b"
             ],
             [
              0.6666666666666666,
              "#ed7953"
             ],
             [
              0.7777777777777778,
              "#fb9f3a"
             ],
             [
              0.8888888888888888,
              "#fdca26"
             ],
             [
              1,
              "#f0f921"
             ]
            ],
            "type": "histogram2d"
           }
          ],
          "histogram2dcontour": [
           {
            "colorbar": {
             "outlinewidth": 0,
             "ticks": ""
            },
            "colorscale": [
             [
              0,
              "#0d0887"
             ],
             [
              0.1111111111111111,
              "#46039f"
             ],
             [
              0.2222222222222222,
              "#7201a8"
             ],
             [
              0.3333333333333333,
              "#9c179e"
             ],
             [
              0.4444444444444444,
              "#bd3786"
             ],
             [
              0.5555555555555556,
              "#d8576b"
             ],
             [
              0.6666666666666666,
              "#ed7953"
             ],
             [
              0.7777777777777778,
              "#fb9f3a"
             ],
             [
              0.8888888888888888,
              "#fdca26"
             ],
             [
              1,
              "#f0f921"
             ]
            ],
            "type": "histogram2dcontour"
           }
          ],
          "mesh3d": [
           {
            "colorbar": {
             "outlinewidth": 0,
             "ticks": ""
            },
            "type": "mesh3d"
           }
          ],
          "parcoords": [
           {
            "line": {
             "colorbar": {
              "outlinewidth": 0,
              "ticks": ""
             }
            },
            "type": "parcoords"
           }
          ],
          "pie": [
           {
            "automargin": true,
            "type": "pie"
           }
          ],
          "scatter": [
           {
            "marker": {
             "line": {
              "color": "#283442"
             }
            },
            "type": "scatter"
           }
          ],
          "scatter3d": [
           {
            "line": {
             "colorbar": {
              "outlinewidth": 0,
              "ticks": ""
             }
            },
            "marker": {
             "colorbar": {
              "outlinewidth": 0,
              "ticks": ""
             }
            },
            "type": "scatter3d"
           }
          ],
          "scattercarpet": [
           {
            "marker": {
             "colorbar": {
              "outlinewidth": 0,
              "ticks": ""
             }
            },
            "type": "scattercarpet"
           }
          ],
          "scattergeo": [
           {
            "marker": {
             "colorbar": {
              "outlinewidth": 0,
              "ticks": ""
             }
            },
            "type": "scattergeo"
           }
          ],
          "scattergl": [
           {
            "marker": {
             "line": {
              "color": "#283442"
             }
            },
            "type": "scattergl"
           }
          ],
          "scattermapbox": [
           {
            "marker": {
             "colorbar": {
              "outlinewidth": 0,
              "ticks": ""
             }
            },
            "type": "scattermapbox"
           }
          ],
          "scatterpolar": [
           {
            "marker": {
             "colorbar": {
              "outlinewidth": 0,
              "ticks": ""
             }
            },
            "type": "scatterpolar"
           }
          ],
          "scatterpolargl": [
           {
            "marker": {
             "colorbar": {
              "outlinewidth": 0,
              "ticks": ""
             }
            },
            "type": "scatterpolargl"
           }
          ],
          "scatterternary": [
           {
            "marker": {
             "colorbar": {
              "outlinewidth": 0,
              "ticks": ""
             }
            },
            "type": "scatterternary"
           }
          ],
          "surface": [
           {
            "colorbar": {
             "outlinewidth": 0,
             "ticks": ""
            },
            "colorscale": [
             [
              0,
              "#0d0887"
             ],
             [
              0.1111111111111111,
              "#46039f"
             ],
             [
              0.2222222222222222,
              "#7201a8"
             ],
             [
              0.3333333333333333,
              "#9c179e"
             ],
             [
              0.4444444444444444,
              "#bd3786"
             ],
             [
              0.5555555555555556,
              "#d8576b"
             ],
             [
              0.6666666666666666,
              "#ed7953"
             ],
             [
              0.7777777777777778,
              "#fb9f3a"
             ],
             [
              0.8888888888888888,
              "#fdca26"
             ],
             [
              1,
              "#f0f921"
             ]
            ],
            "type": "surface"
           }
          ],
          "table": [
           {
            "cells": {
             "fill": {
              "color": "#506784"
             },
             "line": {
              "color": "rgb(17,17,17)"
             }
            },
            "header": {
             "fill": {
              "color": "#2a3f5f"
             },
             "line": {
              "color": "rgb(17,17,17)"
             }
            },
            "type": "table"
           }
          ]
         },
         "layout": {
          "annotationdefaults": {
           "arrowcolor": "#f2f5fa",
           "arrowhead": 0,
           "arrowwidth": 1
          },
          "coloraxis": {
           "colorbar": {
            "outlinewidth": 0,
            "ticks": ""
           }
          },
          "colorscale": {
           "diverging": [
            [
             0,
             "#8e0152"
            ],
            [
             0.1,
             "#c51b7d"
            ],
            [
             0.2,
             "#de77ae"
            ],
            [
             0.3,
             "#f1b6da"
            ],
            [
             0.4,
             "#fde0ef"
            ],
            [
             0.5,
             "#f7f7f7"
            ],
            [
             0.6,
             "#e6f5d0"
            ],
            [
             0.7,
             "#b8e186"
            ],
            [
             0.8,
             "#7fbc41"
            ],
            [
             0.9,
             "#4d9221"
            ],
            [
             1,
             "#276419"
            ]
           ],
           "sequential": [
            [
             0,
             "#0d0887"
            ],
            [
             0.1111111111111111,
             "#46039f"
            ],
            [
             0.2222222222222222,
             "#7201a8"
            ],
            [
             0.3333333333333333,
             "#9c179e"
            ],
            [
             0.4444444444444444,
             "#bd3786"
            ],
            [
             0.5555555555555556,
             "#d8576b"
            ],
            [
             0.6666666666666666,
             "#ed7953"
            ],
            [
             0.7777777777777778,
             "#fb9f3a"
            ],
            [
             0.8888888888888888,
             "#fdca26"
            ],
            [
             1,
             "#f0f921"
            ]
           ],
           "sequentialminus": [
            [
             0,
             "#0d0887"
            ],
            [
             0.1111111111111111,
             "#46039f"
            ],
            [
             0.2222222222222222,
             "#7201a8"
            ],
            [
             0.3333333333333333,
             "#9c179e"
            ],
            [
             0.4444444444444444,
             "#bd3786"
            ],
            [
             0.5555555555555556,
             "#d8576b"
            ],
            [
             0.6666666666666666,
             "#ed7953"
            ],
            [
             0.7777777777777778,
             "#fb9f3a"
            ],
            [
             0.8888888888888888,
             "#fdca26"
            ],
            [
             1,
             "#f0f921"
            ]
           ]
          },
          "colorway": [
           "#636efa",
           "#EF553B",
           "#00cc96",
           "#ab63fa",
           "#FFA15A",
           "#19d3f3",
           "#FF6692",
           "#B6E880",
           "#FF97FF",
           "#FECB52"
          ],
          "font": {
           "color": "#f2f5fa"
          },
          "geo": {
           "bgcolor": "rgb(17,17,17)",
           "lakecolor": "rgb(17,17,17)",
           "landcolor": "rgb(17,17,17)",
           "showlakes": true,
           "showland": true,
           "subunitcolor": "#506784"
          },
          "hoverlabel": {
           "align": "left"
          },
          "hovermode": "closest",
          "mapbox": {
           "style": "dark"
          },
          "paper_bgcolor": "rgb(17,17,17)",
          "plot_bgcolor": "rgb(17,17,17)",
          "polar": {
           "angularaxis": {
            "gridcolor": "#506784",
            "linecolor": "#506784",
            "ticks": ""
           },
           "bgcolor": "rgb(17,17,17)",
           "radialaxis": {
            "gridcolor": "#506784",
            "linecolor": "#506784",
            "ticks": ""
           }
          },
          "scene": {
           "xaxis": {
            "backgroundcolor": "rgb(17,17,17)",
            "gridcolor": "#506784",
            "gridwidth": 2,
            "linecolor": "#506784",
            "showbackground": true,
            "ticks": "",
            "zerolinecolor": "#C8D4E3"
           },
           "yaxis": {
            "backgroundcolor": "rgb(17,17,17)",
            "gridcolor": "#506784",
            "gridwidth": 2,
            "linecolor": "#506784",
            "showbackground": true,
            "ticks": "",
            "zerolinecolor": "#C8D4E3"
           },
           "zaxis": {
            "backgroundcolor": "rgb(17,17,17)",
            "gridcolor": "#506784",
            "gridwidth": 2,
            "linecolor": "#506784",
            "showbackground": true,
            "ticks": "",
            "zerolinecolor": "#C8D4E3"
           }
          },
          "shapedefaults": {
           "line": {
            "color": "#f2f5fa"
           }
          },
          "sliderdefaults": {
           "bgcolor": "#C8D4E3",
           "bordercolor": "rgb(17,17,17)",
           "borderwidth": 1,
           "tickwidth": 0
          },
          "ternary": {
           "aaxis": {
            "gridcolor": "#506784",
            "linecolor": "#506784",
            "ticks": ""
           },
           "baxis": {
            "gridcolor": "#506784",
            "linecolor": "#506784",
            "ticks": ""
           },
           "bgcolor": "rgb(17,17,17)",
           "caxis": {
            "gridcolor": "#506784",
            "linecolor": "#506784",
            "ticks": ""
           }
          },
          "title": {
           "x": 0.05
          },
          "updatemenudefaults": {
           "bgcolor": "#506784",
           "borderwidth": 0
          },
          "xaxis": {
           "automargin": true,
           "gridcolor": "#283442",
           "linecolor": "#506784",
           "ticks": "",
           "title": {
            "standoff": 15
           },
           "zerolinecolor": "#283442",
           "zerolinewidth": 2
          },
          "yaxis": {
           "automargin": true,
           "gridcolor": "#283442",
           "linecolor": "#506784",
           "ticks": "",
           "title": {
            "standoff": 15
           },
           "zerolinecolor": "#283442",
           "zerolinewidth": 2
          }
         }
        },
        "title": {
         "text": "Average rentals by hour and weekday",
         "x": 0.5,
         "xanchor": "center",
         "y": 0.9,
         "yanchor": "middle"
        },
        "xaxis": {
         "tickmode": "array",
         "ticktext": [
          "00:00",
          "01:00",
          "02:00",
          "03:00",
          "04:00",
          "05:00",
          "06:00",
          "07:00",
          "08:00",
          "09:00",
          "10:00",
          "11:00",
          "12:00",
          "13:00",
          "14:00",
          "15:00",
          "16:00",
          "17:00",
          "18:00",
          "19:00",
          "20:00",
          "21:00",
          "22:00",
          "23:00"
         ],
         "tickvals": [
          0,
          1,
          2,
          3,
          4,
          5,
          6,
          7,
          8,
          9,
          10,
          11,
          12,
          13,
          14,
          15,
          16,
          17,
          18,
          19,
          20,
          21,
          22,
          23
         ],
         "title": {
          "text": "hour of day"
         }
        },
        "yaxis": {
         "title": {
          "text": "no. of rentals"
         }
        }
       }
      },
      "text/html": [
       "<div>\n",
       "        \n",
       "        \n",
       "            <div id=\"f691632b-495c-40de-a40b-34568c8a513d\" class=\"plotly-graph-div\" style=\"height:525px; width:100%;\"></div>\n",
       "            <script type=\"text/javascript\">\n",
       "                require([\"plotly\"], function(Plotly) {\n",
       "                    window.PLOTLYENV=window.PLOTLYENV || {};\n",
       "                    \n",
       "                if (document.getElementById(\"f691632b-495c-40de-a40b-34568c8a513d\")) {\n",
       "                    Plotly.newPlot(\n",
       "                        'f691632b-495c-40de-a40b-34568c8a513d',\n",
       "                        [{\"mode\": \"lines\", \"name\": \"Monday\", \"type\": \"scatter\", \"x\": [0, 1, 2, 3, 4, 5, 6, 7, 8, 9, 10, 11, 12, 13, 14, 15, 16, 17, 18, 19, 20, 21, 22, 23], \"y\": [41.516129032258064, 19.774193548387096, 9.064516129032258, 6.258064516129032, 9.67741935483871, 20.322580645161292, 67.51612903225806, 179.29032258064515, 163.41935483870967, 110.87096774193549, 109.58064516129032, 129.80645161290323, 154.38709677419354, 167.7741935483871, 204.70967741935485, 275.80645161290323, 366.35483870967744, 332.19354838709677, 288.258064516129, 247.58064516129033, 206.7741935483871, 146.83870967741936, 95.70967741935483, 72.7741935483871]}, {\"mode\": \"lines\", \"name\": \"Tuesday\", \"type\": \"scatter\", \"x\": [0, 1, 2, 3, 4, 5, 6, 7, 8, 9, 10, 11, 12, 13, 14, 15, 16, 17, 18, 19, 20, 21, 22, 23], \"y\": [46.333333333333336, 21.633333333333333, 12.068965517241379, 8.033333333333333, 10.833333333333334, 22.933333333333334, 80.13333333333334, 209.7, 190.83333333333334, 132.0, 118.53333333333333, 133.0, 157.16129032258064, 161.80645161290323, 192.25806451612902, 246.25806451612902, 350.1290322580645, 309.35483870967744, 267.38709677419354, 249.38709677419354, 214.93548387096774, 154.90322580645162, 103.41935483870968, 77.80645161290323]}, {\"mode\": \"lines\", \"name\": \"Wednesday\", \"type\": \"scatter\", \"x\": [0, 1, 2, 3, 4, 5, 6, 7, 8, 9, 10, 11, 12, 13, 14, 15, 16, 17, 18, 19, 20, 21, 22, 23], \"y\": [55.70967741935484, 25.64516129032258, 13.774193548387096, 10.633333333333333, 10.32258064516129, 21.3, 72.29032258064517, 198.6451612903226, 186.2258064516129, 123.41935483870968, 115.12903225806451, 129.80645161290323, 149.06451612903226, 163.3548387096774, 189.06451612903226, 256.4193548387097, 353.03225806451616, 315.2258064516129, 290.80645161290323, 262.2903225806452, 224.74193548387098, 153.29032258064515, 107.41935483870968, 87.87096774193549]}, {\"mode\": \"lines\", \"name\": \"Thursday\", \"type\": \"scatter\", \"x\": [0, 1, 2, 3, 4, 5, 6, 7, 8, 9, 10, 11, 12, 13, 14, 15, 16, 17, 18, 19, 20, 21, 22, 23], \"y\": [61.32258064516129, 29.806451612903224, 20.35483870967742, 12.166666666666666, 10.774193548387096, 23.193548387096776, 75.29032258064517, 203.38709677419354, 185.3548387096774, 127.7741935483871, 117.90322580645162, 135.90322580645162, 168.0, 184.1290322580645, 207.09677419354838, 266.7741935483871, 360.6774193548387, 330.38709677419354, 298.5483870967742, 278.7741935483871, 238.83870967741936, 176.7741935483871, 127.96774193548387, 106.61290322580645]}, {\"mode\": \"lines\", \"name\": \"Friday\", \"type\": \"scatter\", \"x\": [0, 1, 2, 3, 4, 5, 6, 7, 8, 9, 10, 11, 12, 13, 14, 15, 16, 17, 18, 19, 20, 21, 22, 23], \"y\": [69.54838709677419, 36.25806451612903, 19.06451612903226, 13.516129032258064, 12.516129032258064, 22.032258064516128, 69.87096774193549, 187.7741935483871, 172.6451612903226, 128.06451612903226, 121.96774193548387, 142.96774193548387, 173.3548387096774, 183.80645161290323, 212.29032258064515, 271.4516129032258, 329.6774193548387, 273.83870967741933, 256.5483870967742, 249.96774193548387, 216.38709677419354, 170.83870967741936, 127.58064516129032, 117.6774193548387]}, {\"mode\": \"lines\", \"name\": \"Saturday\", \"type\": \"scatter\", \"x\": [0, 1, 2, 3, 4, 5, 6, 7, 8, 9, 10, 11, 12, 13, 14, 15, 16, 17, 18, 19, 20, 21, 22, 23], \"y\": [102.74193548387096, 69.87096774193549, 46.96774193548387, 32.645161290322584, 24.64516129032258, 19.129032258064516, 22.0, 37.064516129032256, 58.87096774193548, 86.93548387096774, 123.96774193548387, 157.41935483870967, 187.06451612903226, 205.96774193548387, 214.93548387096774, 216.38709677419354, 214.5483870967742, 213.51612903225808, 218.41935483870967, 211.7741935483871, 196.48387096774192, 156.51612903225808, 119.96774193548387, 104.48387096774194]}, {\"mode\": \"lines\", \"name\": \"Sunday\", \"type\": \"scatter\", \"x\": [0, 1, 2, 3, 4, 5, 6, 7, 8, 9, 10, 11, 12, 13, 14, 15, 16, 17, 18, 19, 20, 21, 22, 23], \"y\": [98.74193548387096, 72.54838709677419, 46.38709677419355, 30.612903225806452, 22.29032258064516, 14.35483870967742, 12.774193548387096, 19.741935483870968, 33.61290322580645, 63.41935483870968, 95.0, 139.93548387096774, 179.4516129032258, 209.58064516129033, 223.96774193548387, 230.61290322580646, 235.7741935483871, 225.51612903225808, 228.2258064516129, 221.3548387096774, 186.83870967741936, 136.8709677419355, 100.09677419354838, 78.25806451612904]}],\n",
       "                        {\"template\": {\"data\": {\"bar\": [{\"error_x\": {\"color\": \"#f2f5fa\"}, \"error_y\": {\"color\": \"#f2f5fa\"}, \"marker\": {\"line\": {\"color\": \"rgb(17,17,17)\", \"width\": 0.5}}, \"type\": \"bar\"}], \"barpolar\": [{\"marker\": {\"line\": {\"color\": \"rgb(17,17,17)\", \"width\": 0.5}}, \"type\": \"barpolar\"}], \"carpet\": [{\"aaxis\": {\"endlinecolor\": \"#A2B1C6\", \"gridcolor\": \"#506784\", \"linecolor\": \"#506784\", \"minorgridcolor\": \"#506784\", \"startlinecolor\": \"#A2B1C6\"}, \"baxis\": {\"endlinecolor\": \"#A2B1C6\", \"gridcolor\": \"#506784\", \"linecolor\": \"#506784\", \"minorgridcolor\": \"#506784\", \"startlinecolor\": \"#A2B1C6\"}, \"type\": \"carpet\"}], \"choropleth\": [{\"colorbar\": {\"outlinewidth\": 0, \"ticks\": \"\"}, \"type\": \"choropleth\"}], \"contour\": [{\"colorbar\": {\"outlinewidth\": 0, \"ticks\": \"\"}, \"colorscale\": [[0.0, \"#0d0887\"], [0.1111111111111111, \"#46039f\"], [0.2222222222222222, \"#7201a8\"], [0.3333333333333333, \"#9c179e\"], [0.4444444444444444, \"#bd3786\"], [0.5555555555555556, \"#d8576b\"], [0.6666666666666666, \"#ed7953\"], [0.7777777777777778, \"#fb9f3a\"], [0.8888888888888888, \"#fdca26\"], [1.0, \"#f0f921\"]], \"type\": \"contour\"}], \"contourcarpet\": [{\"colorbar\": {\"outlinewidth\": 0, \"ticks\": \"\"}, \"type\": \"contourcarpet\"}], \"heatmap\": [{\"colorbar\": {\"outlinewidth\": 0, \"ticks\": \"\"}, \"colorscale\": [[0.0, \"#0d0887\"], [0.1111111111111111, \"#46039f\"], [0.2222222222222222, \"#7201a8\"], [0.3333333333333333, \"#9c179e\"], [0.4444444444444444, \"#bd3786\"], [0.5555555555555556, \"#d8576b\"], [0.6666666666666666, \"#ed7953\"], [0.7777777777777778, \"#fb9f3a\"], [0.8888888888888888, \"#fdca26\"], [1.0, \"#f0f921\"]], \"type\": \"heatmap\"}], \"heatmapgl\": [{\"colorbar\": {\"outlinewidth\": 0, \"ticks\": \"\"}, \"colorscale\": [[0.0, \"#0d0887\"], [0.1111111111111111, \"#46039f\"], [0.2222222222222222, \"#7201a8\"], [0.3333333333333333, \"#9c179e\"], [0.4444444444444444, \"#bd3786\"], [0.5555555555555556, \"#d8576b\"], [0.6666666666666666, \"#ed7953\"], [0.7777777777777778, \"#fb9f3a\"], [0.8888888888888888, \"#fdca26\"], [1.0, \"#f0f921\"]], \"type\": \"heatmapgl\"}], \"histogram\": [{\"marker\": {\"colorbar\": {\"outlinewidth\": 0, \"ticks\": \"\"}}, \"type\": \"histogram\"}], \"histogram2d\": [{\"colorbar\": {\"outlinewidth\": 0, \"ticks\": \"\"}, \"colorscale\": [[0.0, \"#0d0887\"], [0.1111111111111111, \"#46039f\"], [0.2222222222222222, \"#7201a8\"], [0.3333333333333333, \"#9c179e\"], [0.4444444444444444, \"#bd3786\"], [0.5555555555555556, \"#d8576b\"], [0.6666666666666666, \"#ed7953\"], [0.7777777777777778, \"#fb9f3a\"], [0.8888888888888888, \"#fdca26\"], [1.0, \"#f0f921\"]], \"type\": \"histogram2d\"}], \"histogram2dcontour\": [{\"colorbar\": {\"outlinewidth\": 0, \"ticks\": \"\"}, \"colorscale\": [[0.0, \"#0d0887\"], [0.1111111111111111, \"#46039f\"], [0.2222222222222222, \"#7201a8\"], [0.3333333333333333, \"#9c179e\"], [0.4444444444444444, \"#bd3786\"], [0.5555555555555556, \"#d8576b\"], [0.6666666666666666, \"#ed7953\"], [0.7777777777777778, \"#fb9f3a\"], [0.8888888888888888, \"#fdca26\"], [1.0, \"#f0f921\"]], \"type\": \"histogram2dcontour\"}], \"mesh3d\": [{\"colorbar\": {\"outlinewidth\": 0, \"ticks\": \"\"}, \"type\": \"mesh3d\"}], \"parcoords\": [{\"line\": {\"colorbar\": {\"outlinewidth\": 0, \"ticks\": \"\"}}, \"type\": \"parcoords\"}], \"pie\": [{\"automargin\": true, \"type\": \"pie\"}], \"scatter\": [{\"marker\": {\"line\": {\"color\": \"#283442\"}}, \"type\": \"scatter\"}], \"scatter3d\": [{\"line\": {\"colorbar\": {\"outlinewidth\": 0, \"ticks\": \"\"}}, \"marker\": {\"colorbar\": {\"outlinewidth\": 0, \"ticks\": \"\"}}, \"type\": \"scatter3d\"}], \"scattercarpet\": [{\"marker\": {\"colorbar\": {\"outlinewidth\": 0, \"ticks\": \"\"}}, \"type\": \"scattercarpet\"}], \"scattergeo\": [{\"marker\": {\"colorbar\": {\"outlinewidth\": 0, \"ticks\": \"\"}}, \"type\": \"scattergeo\"}], \"scattergl\": [{\"marker\": {\"line\": {\"color\": \"#283442\"}}, \"type\": \"scattergl\"}], \"scattermapbox\": [{\"marker\": {\"colorbar\": {\"outlinewidth\": 0, \"ticks\": \"\"}}, \"type\": \"scattermapbox\"}], \"scatterpolar\": [{\"marker\": {\"colorbar\": {\"outlinewidth\": 0, \"ticks\": \"\"}}, \"type\": \"scatterpolar\"}], \"scatterpolargl\": [{\"marker\": {\"colorbar\": {\"outlinewidth\": 0, \"ticks\": \"\"}}, \"type\": \"scatterpolargl\"}], \"scatterternary\": [{\"marker\": {\"colorbar\": {\"outlinewidth\": 0, \"ticks\": \"\"}}, \"type\": \"scatterternary\"}], \"surface\": [{\"colorbar\": {\"outlinewidth\": 0, \"ticks\": \"\"}, \"colorscale\": [[0.0, \"#0d0887\"], [0.1111111111111111, \"#46039f\"], [0.2222222222222222, \"#7201a8\"], [0.3333333333333333, \"#9c179e\"], [0.4444444444444444, \"#bd3786\"], [0.5555555555555556, \"#d8576b\"], [0.6666666666666666, \"#ed7953\"], [0.7777777777777778, \"#fb9f3a\"], [0.8888888888888888, \"#fdca26\"], [1.0, \"#f0f921\"]], \"type\": \"surface\"}], \"table\": [{\"cells\": {\"fill\": {\"color\": \"#506784\"}, \"line\": {\"color\": \"rgb(17,17,17)\"}}, \"header\": {\"fill\": {\"color\": \"#2a3f5f\"}, \"line\": {\"color\": \"rgb(17,17,17)\"}}, \"type\": \"table\"}]}, \"layout\": {\"annotationdefaults\": {\"arrowcolor\": \"#f2f5fa\", \"arrowhead\": 0, \"arrowwidth\": 1}, \"coloraxis\": {\"colorbar\": {\"outlinewidth\": 0, \"ticks\": \"\"}}, \"colorscale\": {\"diverging\": [[0, \"#8e0152\"], [0.1, \"#c51b7d\"], [0.2, \"#de77ae\"], [0.3, \"#f1b6da\"], [0.4, \"#fde0ef\"], [0.5, \"#f7f7f7\"], [0.6, \"#e6f5d0\"], [0.7, \"#b8e186\"], [0.8, \"#7fbc41\"], [0.9, \"#4d9221\"], [1, \"#276419\"]], \"sequential\": [[0.0, \"#0d0887\"], [0.1111111111111111, \"#46039f\"], [0.2222222222222222, \"#7201a8\"], [0.3333333333333333, \"#9c179e\"], [0.4444444444444444, \"#bd3786\"], [0.5555555555555556, \"#d8576b\"], [0.6666666666666666, \"#ed7953\"], [0.7777777777777778, \"#fb9f3a\"], [0.8888888888888888, \"#fdca26\"], [1.0, \"#f0f921\"]], \"sequentialminus\": [[0.0, \"#0d0887\"], [0.1111111111111111, \"#46039f\"], [0.2222222222222222, \"#7201a8\"], [0.3333333333333333, \"#9c179e\"], [0.4444444444444444, \"#bd3786\"], [0.5555555555555556, \"#d8576b\"], [0.6666666666666666, \"#ed7953\"], [0.7777777777777778, \"#fb9f3a\"], [0.8888888888888888, \"#fdca26\"], [1.0, \"#f0f921\"]]}, \"colorway\": [\"#636efa\", \"#EF553B\", \"#00cc96\", \"#ab63fa\", \"#FFA15A\", \"#19d3f3\", \"#FF6692\", \"#B6E880\", \"#FF97FF\", \"#FECB52\"], \"font\": {\"color\": \"#f2f5fa\"}, \"geo\": {\"bgcolor\": \"rgb(17,17,17)\", \"lakecolor\": \"rgb(17,17,17)\", \"landcolor\": \"rgb(17,17,17)\", \"showlakes\": true, \"showland\": true, \"subunitcolor\": \"#506784\"}, \"hoverlabel\": {\"align\": \"left\"}, \"hovermode\": \"closest\", \"mapbox\": {\"style\": \"dark\"}, \"paper_bgcolor\": \"rgb(17,17,17)\", \"plot_bgcolor\": \"rgb(17,17,17)\", \"polar\": {\"angularaxis\": {\"gridcolor\": \"#506784\", \"linecolor\": \"#506784\", \"ticks\": \"\"}, \"bgcolor\": \"rgb(17,17,17)\", \"radialaxis\": {\"gridcolor\": \"#506784\", \"linecolor\": \"#506784\", \"ticks\": \"\"}}, \"scene\": {\"xaxis\": {\"backgroundcolor\": \"rgb(17,17,17)\", \"gridcolor\": \"#506784\", \"gridwidth\": 2, \"linecolor\": \"#506784\", \"showbackground\": true, \"ticks\": \"\", \"zerolinecolor\": \"#C8D4E3\"}, \"yaxis\": {\"backgroundcolor\": \"rgb(17,17,17)\", \"gridcolor\": \"#506784\", \"gridwidth\": 2, \"linecolor\": \"#506784\", \"showbackground\": true, \"ticks\": \"\", \"zerolinecolor\": \"#C8D4E3\"}, \"zaxis\": {\"backgroundcolor\": \"rgb(17,17,17)\", \"gridcolor\": \"#506784\", \"gridwidth\": 2, \"linecolor\": \"#506784\", \"showbackground\": true, \"ticks\": \"\", \"zerolinecolor\": \"#C8D4E3\"}}, \"shapedefaults\": {\"line\": {\"color\": \"#f2f5fa\"}}, \"sliderdefaults\": {\"bgcolor\": \"#C8D4E3\", \"bordercolor\": \"rgb(17,17,17)\", \"borderwidth\": 1, \"tickwidth\": 0}, \"ternary\": {\"aaxis\": {\"gridcolor\": \"#506784\", \"linecolor\": \"#506784\", \"ticks\": \"\"}, \"baxis\": {\"gridcolor\": \"#506784\", \"linecolor\": \"#506784\", \"ticks\": \"\"}, \"bgcolor\": \"rgb(17,17,17)\", \"caxis\": {\"gridcolor\": \"#506784\", \"linecolor\": \"#506784\", \"ticks\": \"\"}}, \"title\": {\"x\": 0.05}, \"updatemenudefaults\": {\"bgcolor\": \"#506784\", \"borderwidth\": 0}, \"xaxis\": {\"automargin\": true, \"gridcolor\": \"#283442\", \"linecolor\": \"#506784\", \"ticks\": \"\", \"title\": {\"standoff\": 15}, \"zerolinecolor\": \"#283442\", \"zerolinewidth\": 2}, \"yaxis\": {\"automargin\": true, \"gridcolor\": \"#283442\", \"linecolor\": \"#506784\", \"ticks\": \"\", \"title\": {\"standoff\": 15}, \"zerolinecolor\": \"#283442\", \"zerolinewidth\": 2}}}, \"title\": {\"text\": \"Average rentals by hour and weekday\", \"x\": 0.5, \"xanchor\": \"center\", \"y\": 0.9, \"yanchor\": \"middle\"}, \"xaxis\": {\"tickmode\": \"array\", \"ticktext\": [\"00:00\", \"01:00\", \"02:00\", \"03:00\", \"04:00\", \"05:00\", \"06:00\", \"07:00\", \"08:00\", \"09:00\", \"10:00\", \"11:00\", \"12:00\", \"13:00\", \"14:00\", \"15:00\", \"16:00\", \"17:00\", \"18:00\", \"19:00\", \"20:00\", \"21:00\", \"22:00\", \"23:00\"], \"tickvals\": [0, 1, 2, 3, 4, 5, 6, 7, 8, 9, 10, 11, 12, 13, 14, 15, 16, 17, 18, 19, 20, 21, 22, 23], \"title\": {\"text\": \"hour of day\"}}, \"yaxis\": {\"title\": {\"text\": \"no. of rentals\"}}},\n",
       "                        {\"responsive\": true}\n",
       "                    ).then(function(){\n",
       "                            \n",
       "var gd = document.getElementById('f691632b-495c-40de-a40b-34568c8a513d');\n",
       "var x = new MutationObserver(function (mutations, observer) {{\n",
       "        var display = window.getComputedStyle(gd).display;\n",
       "        if (!display || display === 'none') {{\n",
       "            console.log([gd, 'removed!']);\n",
       "            Plotly.purge(gd);\n",
       "            observer.disconnect();\n",
       "        }}\n",
       "}});\n",
       "\n",
       "// Listen for the removal of the full notebook cells\n",
       "var notebookContainer = gd.closest('#notebook-container');\n",
       "if (notebookContainer) {{\n",
       "    x.observe(notebookContainer, {childList: true});\n",
       "}}\n",
       "\n",
       "// Listen for the clearing of the current output cell\n",
       "var outputEl = gd.closest('.output');\n",
       "if (outputEl) {{\n",
       "    x.observe(outputEl, {childList: true});\n",
       "}}\n",
       "\n",
       "                        })\n",
       "                };\n",
       "                });\n",
       "            </script>\n",
       "        </div>"
      ]
     },
     "metadata": {},
     "output_type": "display_data"
    }
   ],
   "source": [
    "iplot(hourAvgPlot) "
   ]
  },
  {
   "cell_type": "markdown",
   "metadata": {},
   "source": [
    "## Average rentals by hour and kind of day (working day or weekend/holiday)  <a id=\"hourAvgWDPlot\"></a>"
   ]
  },
  {
   "cell_type": "code",
   "execution_count": 9,
   "metadata": {
    "scrolled": true
   },
   "outputs": [
    {
     "data": {
      "application/vnd.plotly.v1+json": {
       "config": {
        "linkText": "Export to plot.ly",
        "plotlyServerURL": "https://plot.ly",
        "showLink": false
       },
       "data": [
        {
         "mode": "lines",
         "name": "WorkingDay",
         "type": "scatter",
         "x": [
          0,
          1,
          2,
          3,
          4,
          5,
          6,
          7,
          8,
          9,
          10,
          11,
          12,
          13,
          14,
          15,
          16,
          17,
          18,
          19,
          20,
          21,
          22,
          23
         ],
         "y": [
          54.18543046357616,
          26.019867549668874,
          14.313333333333333,
          9.61744966442953,
          10.596026490066226,
          21.98,
          74.01324503311258,
          199.0662251655629,
          182.42384105960264,
          125.82119205298014,
          117,
          134.44736842105263,
          160.35526315789474,
          171.6578947368421,
          201.2434210526316,
          264.3157894736842,
          353.4013157894737,
          312.63157894736844,
          279.9078947368421,
          257.1381578947368,
          220.44078947368422,
          160.625,
          112.35526315789474,
          92.25
         ]
        },
        {
         "mode": "lines",
         "name": "DayOff",
         "type": "scatter",
         "x": [
          0,
          1,
          2,
          3,
          4,
          5,
          6,
          7,
          8,
          9,
          10,
          11,
          12,
          13,
          14,
          15,
          16,
          17,
          18,
          19,
          20,
          21,
          22,
          23
         ],
         "y": [
          100.38461538461539,
          70.63076923076923,
          46.56923076923077,
          31.784615384615385,
          23.415384615384614,
          16.923076923076923,
          17.53846153846154,
          28.23076923076923,
          45.89230769230769,
          74.0923076923077,
          108.9076923076923,
          147.66153846153847,
          182.2923076923077,
          207.33846153846153,
          218.23076923076923,
          223.06153846153848,
          227.6769230769231,
          222.7846153846154,
          226.8923076923077,
          219.53846153846155,
          192.73846153846154,
          147.1076923076923,
          110.29230769230769,
          92.12307692307692
         ]
        }
       ],
       "layout": {
        "template": {
         "data": {
          "bar": [
           {
            "error_x": {
             "color": "#f2f5fa"
            },
            "error_y": {
             "color": "#f2f5fa"
            },
            "marker": {
             "line": {
              "color": "rgb(17,17,17)",
              "width": 0.5
             }
            },
            "type": "bar"
           }
          ],
          "barpolar": [
           {
            "marker": {
             "line": {
              "color": "rgb(17,17,17)",
              "width": 0.5
             }
            },
            "type": "barpolar"
           }
          ],
          "carpet": [
           {
            "aaxis": {
             "endlinecolor": "#A2B1C6",
             "gridcolor": "#506784",
             "linecolor": "#506784",
             "minorgridcolor": "#506784",
             "startlinecolor": "#A2B1C6"
            },
            "baxis": {
             "endlinecolor": "#A2B1C6",
             "gridcolor": "#506784",
             "linecolor": "#506784",
             "minorgridcolor": "#506784",
             "startlinecolor": "#A2B1C6"
            },
            "type": "carpet"
           }
          ],
          "choropleth": [
           {
            "colorbar": {
             "outlinewidth": 0,
             "ticks": ""
            },
            "type": "choropleth"
           }
          ],
          "contour": [
           {
            "colorbar": {
             "outlinewidth": 0,
             "ticks": ""
            },
            "colorscale": [
             [
              0,
              "#0d0887"
             ],
             [
              0.1111111111111111,
              "#46039f"
             ],
             [
              0.2222222222222222,
              "#7201a8"
             ],
             [
              0.3333333333333333,
              "#9c179e"
             ],
             [
              0.4444444444444444,
              "#bd3786"
             ],
             [
              0.5555555555555556,
              "#d8576b"
             ],
             [
              0.6666666666666666,
              "#ed7953"
             ],
             [
              0.7777777777777778,
              "#fb9f3a"
             ],
             [
              0.8888888888888888,
              "#fdca26"
             ],
             [
              1,
              "#f0f921"
             ]
            ],
            "type": "contour"
           }
          ],
          "contourcarpet": [
           {
            "colorbar": {
             "outlinewidth": 0,
             "ticks": ""
            },
            "type": "contourcarpet"
           }
          ],
          "heatmap": [
           {
            "colorbar": {
             "outlinewidth": 0,
             "ticks": ""
            },
            "colorscale": [
             [
              0,
              "#0d0887"
             ],
             [
              0.1111111111111111,
              "#46039f"
             ],
             [
              0.2222222222222222,
              "#7201a8"
             ],
             [
              0.3333333333333333,
              "#9c179e"
             ],
             [
              0.4444444444444444,
              "#bd3786"
             ],
             [
              0.5555555555555556,
              "#d8576b"
             ],
             [
              0.6666666666666666,
              "#ed7953"
             ],
             [
              0.7777777777777778,
              "#fb9f3a"
             ],
             [
              0.8888888888888888,
              "#fdca26"
             ],
             [
              1,
              "#f0f921"
             ]
            ],
            "type": "heatmap"
           }
          ],
          "heatmapgl": [
           {
            "colorbar": {
             "outlinewidth": 0,
             "ticks": ""
            },
            "colorscale": [
             [
              0,
              "#0d0887"
             ],
             [
              0.1111111111111111,
              "#46039f"
             ],
             [
              0.2222222222222222,
              "#7201a8"
             ],
             [
              0.3333333333333333,
              "#9c179e"
             ],
             [
              0.4444444444444444,
              "#bd3786"
             ],
             [
              0.5555555555555556,
              "#d8576b"
             ],
             [
              0.6666666666666666,
              "#ed7953"
             ],
             [
              0.7777777777777778,
              "#fb9f3a"
             ],
             [
              0.8888888888888888,
              "#fdca26"
             ],
             [
              1,
              "#f0f921"
             ]
            ],
            "type": "heatmapgl"
           }
          ],
          "histogram": [
           {
            "marker": {
             "colorbar": {
              "outlinewidth": 0,
              "ticks": ""
             }
            },
            "type": "histogram"
           }
          ],
          "histogram2d": [
           {
            "colorbar": {
             "outlinewidth": 0,
             "ticks": ""
            },
            "colorscale": [
             [
              0,
              "#0d0887"
             ],
             [
              0.1111111111111111,
              "#46039f"
             ],
             [
              0.2222222222222222,
              "#7201a8"
             ],
             [
              0.3333333333333333,
              "#9c179e"
             ],
             [
              0.4444444444444444,
              "#bd3786"
             ],
             [
              0.5555555555555556,
              "#d8576b"
             ],
             [
              0.6666666666666666,
              "#ed7953"
             ],
             [
              0.7777777777777778,
              "#fb9f3a"
             ],
             [
              0.8888888888888888,
              "#fdca26"
             ],
             [
              1,
              "#f0f921"
             ]
            ],
            "type": "histogram2d"
           }
          ],
          "histogram2dcontour": [
           {
            "colorbar": {
             "outlinewidth": 0,
             "ticks": ""
            },
            "colorscale": [
             [
              0,
              "#0d0887"
             ],
             [
              0.1111111111111111,
              "#46039f"
             ],
             [
              0.2222222222222222,
              "#7201a8"
             ],
             [
              0.3333333333333333,
              "#9c179e"
             ],
             [
              0.4444444444444444,
              "#bd3786"
             ],
             [
              0.5555555555555556,
              "#d8576b"
             ],
             [
              0.6666666666666666,
              "#ed7953"
             ],
             [
              0.7777777777777778,
              "#fb9f3a"
             ],
             [
              0.8888888888888888,
              "#fdca26"
             ],
             [
              1,
              "#f0f921"
             ]
            ],
            "type": "histogram2dcontour"
           }
          ],
          "mesh3d": [
           {
            "colorbar": {
             "outlinewidth": 0,
             "ticks": ""
            },
            "type": "mesh3d"
           }
          ],
          "parcoords": [
           {
            "line": {
             "colorbar": {
              "outlinewidth": 0,
              "ticks": ""
             }
            },
            "type": "parcoords"
           }
          ],
          "pie": [
           {
            "automargin": true,
            "type": "pie"
           }
          ],
          "scatter": [
           {
            "marker": {
             "line": {
              "color": "#283442"
             }
            },
            "type": "scatter"
           }
          ],
          "scatter3d": [
           {
            "line": {
             "colorbar": {
              "outlinewidth": 0,
              "ticks": ""
             }
            },
            "marker": {
             "colorbar": {
              "outlinewidth": 0,
              "ticks": ""
             }
            },
            "type": "scatter3d"
           }
          ],
          "scattercarpet": [
           {
            "marker": {
             "colorbar": {
              "outlinewidth": 0,
              "ticks": ""
             }
            },
            "type": "scattercarpet"
           }
          ],
          "scattergeo": [
           {
            "marker": {
             "colorbar": {
              "outlinewidth": 0,
              "ticks": ""
             }
            },
            "type": "scattergeo"
           }
          ],
          "scattergl": [
           {
            "marker": {
             "line": {
              "color": "#283442"
             }
            },
            "type": "scattergl"
           }
          ],
          "scattermapbox": [
           {
            "marker": {
             "colorbar": {
              "outlinewidth": 0,
              "ticks": ""
             }
            },
            "type": "scattermapbox"
           }
          ],
          "scatterpolar": [
           {
            "marker": {
             "colorbar": {
              "outlinewidth": 0,
              "ticks": ""
             }
            },
            "type": "scatterpolar"
           }
          ],
          "scatterpolargl": [
           {
            "marker": {
             "colorbar": {
              "outlinewidth": 0,
              "ticks": ""
             }
            },
            "type": "scatterpolargl"
           }
          ],
          "scatterternary": [
           {
            "marker": {
             "colorbar": {
              "outlinewidth": 0,
              "ticks": ""
             }
            },
            "type": "scatterternary"
           }
          ],
          "surface": [
           {
            "colorbar": {
             "outlinewidth": 0,
             "ticks": ""
            },
            "colorscale": [
             [
              0,
              "#0d0887"
             ],
             [
              0.1111111111111111,
              "#46039f"
             ],
             [
              0.2222222222222222,
              "#7201a8"
             ],
             [
              0.3333333333333333,
              "#9c179e"
             ],
             [
              0.4444444444444444,
              "#bd3786"
             ],
             [
              0.5555555555555556,
              "#d8576b"
             ],
             [
              0.6666666666666666,
              "#ed7953"
             ],
             [
              0.7777777777777778,
              "#fb9f3a"
             ],
             [
              0.8888888888888888,
              "#fdca26"
             ],
             [
              1,
              "#f0f921"
             ]
            ],
            "type": "surface"
           }
          ],
          "table": [
           {
            "cells": {
             "fill": {
              "color": "#506784"
             },
             "line": {
              "color": "rgb(17,17,17)"
             }
            },
            "header": {
             "fill": {
              "color": "#2a3f5f"
             },
             "line": {
              "color": "rgb(17,17,17)"
             }
            },
            "type": "table"
           }
          ]
         },
         "layout": {
          "annotationdefaults": {
           "arrowcolor": "#f2f5fa",
           "arrowhead": 0,
           "arrowwidth": 1
          },
          "coloraxis": {
           "colorbar": {
            "outlinewidth": 0,
            "ticks": ""
           }
          },
          "colorscale": {
           "diverging": [
            [
             0,
             "#8e0152"
            ],
            [
             0.1,
             "#c51b7d"
            ],
            [
             0.2,
             "#de77ae"
            ],
            [
             0.3,
             "#f1b6da"
            ],
            [
             0.4,
             "#fde0ef"
            ],
            [
             0.5,
             "#f7f7f7"
            ],
            [
             0.6,
             "#e6f5d0"
            ],
            [
             0.7,
             "#b8e186"
            ],
            [
             0.8,
             "#7fbc41"
            ],
            [
             0.9,
             "#4d9221"
            ],
            [
             1,
             "#276419"
            ]
           ],
           "sequential": [
            [
             0,
             "#0d0887"
            ],
            [
             0.1111111111111111,
             "#46039f"
            ],
            [
             0.2222222222222222,
             "#7201a8"
            ],
            [
             0.3333333333333333,
             "#9c179e"
            ],
            [
             0.4444444444444444,
             "#bd3786"
            ],
            [
             0.5555555555555556,
             "#d8576b"
            ],
            [
             0.6666666666666666,
             "#ed7953"
            ],
            [
             0.7777777777777778,
             "#fb9f3a"
            ],
            [
             0.8888888888888888,
             "#fdca26"
            ],
            [
             1,
             "#f0f921"
            ]
           ],
           "sequentialminus": [
            [
             0,
             "#0d0887"
            ],
            [
             0.1111111111111111,
             "#46039f"
            ],
            [
             0.2222222222222222,
             "#7201a8"
            ],
            [
             0.3333333333333333,
             "#9c179e"
            ],
            [
             0.4444444444444444,
             "#bd3786"
            ],
            [
             0.5555555555555556,
             "#d8576b"
            ],
            [
             0.6666666666666666,
             "#ed7953"
            ],
            [
             0.7777777777777778,
             "#fb9f3a"
            ],
            [
             0.8888888888888888,
             "#fdca26"
            ],
            [
             1,
             "#f0f921"
            ]
           ]
          },
          "colorway": [
           "#636efa",
           "#EF553B",
           "#00cc96",
           "#ab63fa",
           "#FFA15A",
           "#19d3f3",
           "#FF6692",
           "#B6E880",
           "#FF97FF",
           "#FECB52"
          ],
          "font": {
           "color": "#f2f5fa"
          },
          "geo": {
           "bgcolor": "rgb(17,17,17)",
           "lakecolor": "rgb(17,17,17)",
           "landcolor": "rgb(17,17,17)",
           "showlakes": true,
           "showland": true,
           "subunitcolor": "#506784"
          },
          "hoverlabel": {
           "align": "left"
          },
          "hovermode": "closest",
          "mapbox": {
           "style": "dark"
          },
          "paper_bgcolor": "rgb(17,17,17)",
          "plot_bgcolor": "rgb(17,17,17)",
          "polar": {
           "angularaxis": {
            "gridcolor": "#506784",
            "linecolor": "#506784",
            "ticks": ""
           },
           "bgcolor": "rgb(17,17,17)",
           "radialaxis": {
            "gridcolor": "#506784",
            "linecolor": "#506784",
            "ticks": ""
           }
          },
          "scene": {
           "xaxis": {
            "backgroundcolor": "rgb(17,17,17)",
            "gridcolor": "#506784",
            "gridwidth": 2,
            "linecolor": "#506784",
            "showbackground": true,
            "ticks": "",
            "zerolinecolor": "#C8D4E3"
           },
           "yaxis": {
            "backgroundcolor": "rgb(17,17,17)",
            "gridcolor": "#506784",
            "gridwidth": 2,
            "linecolor": "#506784",
            "showbackground": true,
            "ticks": "",
            "zerolinecolor": "#C8D4E3"
           },
           "zaxis": {
            "backgroundcolor": "rgb(17,17,17)",
            "gridcolor": "#506784",
            "gridwidth": 2,
            "linecolor": "#506784",
            "showbackground": true,
            "ticks": "",
            "zerolinecolor": "#C8D4E3"
           }
          },
          "shapedefaults": {
           "line": {
            "color": "#f2f5fa"
           }
          },
          "sliderdefaults": {
           "bgcolor": "#C8D4E3",
           "bordercolor": "rgb(17,17,17)",
           "borderwidth": 1,
           "tickwidth": 0
          },
          "ternary": {
           "aaxis": {
            "gridcolor": "#506784",
            "linecolor": "#506784",
            "ticks": ""
           },
           "baxis": {
            "gridcolor": "#506784",
            "linecolor": "#506784",
            "ticks": ""
           },
           "bgcolor": "rgb(17,17,17)",
           "caxis": {
            "gridcolor": "#506784",
            "linecolor": "#506784",
            "ticks": ""
           }
          },
          "title": {
           "x": 0.05
          },
          "updatemenudefaults": {
           "bgcolor": "#506784",
           "borderwidth": 0
          },
          "xaxis": {
           "automargin": true,
           "gridcolor": "#283442",
           "linecolor": "#506784",
           "ticks": "",
           "title": {
            "standoff": 15
           },
           "zerolinecolor": "#283442",
           "zerolinewidth": 2
          },
          "yaxis": {
           "automargin": true,
           "gridcolor": "#283442",
           "linecolor": "#506784",
           "ticks": "",
           "title": {
            "standoff": 15
           },
           "zerolinecolor": "#283442",
           "zerolinewidth": 2
          }
         }
        },
        "title": {
         "text": "Average rentals by hour and kind of day (working day or weekend/holiday)",
         "x": 0.5,
         "xanchor": "center",
         "y": 0.9,
         "yanchor": "middle"
        },
        "xaxis": {
         "tickmode": "array",
         "ticktext": [
          "00:00",
          "01:00",
          "02:00",
          "03:00",
          "04:00",
          "05:00",
          "06:00",
          "07:00",
          "08:00",
          "09:00",
          "10:00",
          "11:00",
          "12:00",
          "13:00",
          "14:00",
          "15:00",
          "16:00",
          "17:00",
          "18:00",
          "19:00",
          "20:00",
          "21:00",
          "22:00",
          "23:00"
         ],
         "tickvals": [
          0,
          1,
          2,
          3,
          4,
          5,
          6,
          7,
          8,
          9,
          10,
          11,
          12,
          13,
          14,
          15,
          16,
          17,
          18,
          19,
          20,
          21,
          22,
          23
         ],
         "title": {
          "text": "hour of day"
         }
        },
        "yaxis": {
         "title": {
          "text": "no. of rentals"
         }
        }
       }
      },
      "text/html": [
       "<div>\n",
       "        \n",
       "        \n",
       "            <div id=\"8c6b879d-1c8e-4f20-b48c-d4cf4e984865\" class=\"plotly-graph-div\" style=\"height:525px; width:100%;\"></div>\n",
       "            <script type=\"text/javascript\">\n",
       "                require([\"plotly\"], function(Plotly) {\n",
       "                    window.PLOTLYENV=window.PLOTLYENV || {};\n",
       "                    \n",
       "                if (document.getElementById(\"8c6b879d-1c8e-4f20-b48c-d4cf4e984865\")) {\n",
       "                    Plotly.newPlot(\n",
       "                        '8c6b879d-1c8e-4f20-b48c-d4cf4e984865',\n",
       "                        [{\"mode\": \"lines\", \"name\": \"WorkingDay\", \"type\": \"scatter\", \"x\": [0, 1, 2, 3, 4, 5, 6, 7, 8, 9, 10, 11, 12, 13, 14, 15, 16, 17, 18, 19, 20, 21, 22, 23], \"y\": [54.18543046357616, 26.019867549668874, 14.313333333333333, 9.61744966442953, 10.596026490066226, 21.98, 74.01324503311258, 199.0662251655629, 182.42384105960264, 125.82119205298014, 117.0, 134.44736842105263, 160.35526315789474, 171.6578947368421, 201.2434210526316, 264.3157894736842, 353.4013157894737, 312.63157894736844, 279.9078947368421, 257.1381578947368, 220.44078947368422, 160.625, 112.35526315789474, 92.25]}, {\"mode\": \"lines\", \"name\": \"DayOff\", \"type\": \"scatter\", \"x\": [0, 1, 2, 3, 4, 5, 6, 7, 8, 9, 10, 11, 12, 13, 14, 15, 16, 17, 18, 19, 20, 21, 22, 23], \"y\": [100.38461538461539, 70.63076923076923, 46.56923076923077, 31.784615384615385, 23.415384615384614, 16.923076923076923, 17.53846153846154, 28.23076923076923, 45.89230769230769, 74.0923076923077, 108.9076923076923, 147.66153846153847, 182.2923076923077, 207.33846153846153, 218.23076923076923, 223.06153846153848, 227.6769230769231, 222.7846153846154, 226.8923076923077, 219.53846153846155, 192.73846153846154, 147.1076923076923, 110.29230769230769, 92.12307692307692]}],\n",
       "                        {\"template\": {\"data\": {\"bar\": [{\"error_x\": {\"color\": \"#f2f5fa\"}, \"error_y\": {\"color\": \"#f2f5fa\"}, \"marker\": {\"line\": {\"color\": \"rgb(17,17,17)\", \"width\": 0.5}}, \"type\": \"bar\"}], \"barpolar\": [{\"marker\": {\"line\": {\"color\": \"rgb(17,17,17)\", \"width\": 0.5}}, \"type\": \"barpolar\"}], \"carpet\": [{\"aaxis\": {\"endlinecolor\": \"#A2B1C6\", \"gridcolor\": \"#506784\", \"linecolor\": \"#506784\", \"minorgridcolor\": \"#506784\", \"startlinecolor\": \"#A2B1C6\"}, \"baxis\": {\"endlinecolor\": \"#A2B1C6\", \"gridcolor\": \"#506784\", \"linecolor\": \"#506784\", \"minorgridcolor\": \"#506784\", \"startlinecolor\": \"#A2B1C6\"}, \"type\": \"carpet\"}], \"choropleth\": [{\"colorbar\": {\"outlinewidth\": 0, \"ticks\": \"\"}, \"type\": \"choropleth\"}], \"contour\": [{\"colorbar\": {\"outlinewidth\": 0, \"ticks\": \"\"}, \"colorscale\": [[0.0, \"#0d0887\"], [0.1111111111111111, \"#46039f\"], [0.2222222222222222, \"#7201a8\"], [0.3333333333333333, \"#9c179e\"], [0.4444444444444444, \"#bd3786\"], [0.5555555555555556, \"#d8576b\"], [0.6666666666666666, \"#ed7953\"], [0.7777777777777778, \"#fb9f3a\"], [0.8888888888888888, \"#fdca26\"], [1.0, \"#f0f921\"]], \"type\": \"contour\"}], \"contourcarpet\": [{\"colorbar\": {\"outlinewidth\": 0, \"ticks\": \"\"}, \"type\": \"contourcarpet\"}], \"heatmap\": [{\"colorbar\": {\"outlinewidth\": 0, \"ticks\": \"\"}, \"colorscale\": [[0.0, \"#0d0887\"], [0.1111111111111111, \"#46039f\"], [0.2222222222222222, \"#7201a8\"], [0.3333333333333333, \"#9c179e\"], [0.4444444444444444, \"#bd3786\"], [0.5555555555555556, \"#d8576b\"], [0.6666666666666666, \"#ed7953\"], [0.7777777777777778, \"#fb9f3a\"], [0.8888888888888888, \"#fdca26\"], [1.0, \"#f0f921\"]], \"type\": \"heatmap\"}], \"heatmapgl\": [{\"colorbar\": {\"outlinewidth\": 0, \"ticks\": \"\"}, \"colorscale\": [[0.0, \"#0d0887\"], [0.1111111111111111, \"#46039f\"], [0.2222222222222222, \"#7201a8\"], [0.3333333333333333, \"#9c179e\"], [0.4444444444444444, \"#bd3786\"], [0.5555555555555556, \"#d8576b\"], [0.6666666666666666, \"#ed7953\"], [0.7777777777777778, \"#fb9f3a\"], [0.8888888888888888, \"#fdca26\"], [1.0, \"#f0f921\"]], \"type\": \"heatmapgl\"}], \"histogram\": [{\"marker\": {\"colorbar\": {\"outlinewidth\": 0, \"ticks\": \"\"}}, \"type\": \"histogram\"}], \"histogram2d\": [{\"colorbar\": {\"outlinewidth\": 0, \"ticks\": \"\"}, \"colorscale\": [[0.0, \"#0d0887\"], [0.1111111111111111, \"#46039f\"], [0.2222222222222222, \"#7201a8\"], [0.3333333333333333, \"#9c179e\"], [0.4444444444444444, \"#bd3786\"], [0.5555555555555556, \"#d8576b\"], [0.6666666666666666, \"#ed7953\"], [0.7777777777777778, \"#fb9f3a\"], [0.8888888888888888, \"#fdca26\"], [1.0, \"#f0f921\"]], \"type\": \"histogram2d\"}], \"histogram2dcontour\": [{\"colorbar\": {\"outlinewidth\": 0, \"ticks\": \"\"}, \"colorscale\": [[0.0, \"#0d0887\"], [0.1111111111111111, \"#46039f\"], [0.2222222222222222, \"#7201a8\"], [0.3333333333333333, \"#9c179e\"], [0.4444444444444444, \"#bd3786\"], [0.5555555555555556, \"#d8576b\"], [0.6666666666666666, \"#ed7953\"], [0.7777777777777778, \"#fb9f3a\"], [0.8888888888888888, \"#fdca26\"], [1.0, \"#f0f921\"]], \"type\": \"histogram2dcontour\"}], \"mesh3d\": [{\"colorbar\": {\"outlinewidth\": 0, \"ticks\": \"\"}, \"type\": \"mesh3d\"}], \"parcoords\": [{\"line\": {\"colorbar\": {\"outlinewidth\": 0, \"ticks\": \"\"}}, \"type\": \"parcoords\"}], \"pie\": [{\"automargin\": true, \"type\": \"pie\"}], \"scatter\": [{\"marker\": {\"line\": {\"color\": \"#283442\"}}, \"type\": \"scatter\"}], \"scatter3d\": [{\"line\": {\"colorbar\": {\"outlinewidth\": 0, \"ticks\": \"\"}}, \"marker\": {\"colorbar\": {\"outlinewidth\": 0, \"ticks\": \"\"}}, \"type\": \"scatter3d\"}], \"scattercarpet\": [{\"marker\": {\"colorbar\": {\"outlinewidth\": 0, \"ticks\": \"\"}}, \"type\": \"scattercarpet\"}], \"scattergeo\": [{\"marker\": {\"colorbar\": {\"outlinewidth\": 0, \"ticks\": \"\"}}, \"type\": \"scattergeo\"}], \"scattergl\": [{\"marker\": {\"line\": {\"color\": \"#283442\"}}, \"type\": \"scattergl\"}], \"scattermapbox\": [{\"marker\": {\"colorbar\": {\"outlinewidth\": 0, \"ticks\": \"\"}}, \"type\": \"scattermapbox\"}], \"scatterpolar\": [{\"marker\": {\"colorbar\": {\"outlinewidth\": 0, \"ticks\": \"\"}}, \"type\": \"scatterpolar\"}], \"scatterpolargl\": [{\"marker\": {\"colorbar\": {\"outlinewidth\": 0, \"ticks\": \"\"}}, \"type\": \"scatterpolargl\"}], \"scatterternary\": [{\"marker\": {\"colorbar\": {\"outlinewidth\": 0, \"ticks\": \"\"}}, \"type\": \"scatterternary\"}], \"surface\": [{\"colorbar\": {\"outlinewidth\": 0, \"ticks\": \"\"}, \"colorscale\": [[0.0, \"#0d0887\"], [0.1111111111111111, \"#46039f\"], [0.2222222222222222, \"#7201a8\"], [0.3333333333333333, \"#9c179e\"], [0.4444444444444444, \"#bd3786\"], [0.5555555555555556, \"#d8576b\"], [0.6666666666666666, \"#ed7953\"], [0.7777777777777778, \"#fb9f3a\"], [0.8888888888888888, \"#fdca26\"], [1.0, \"#f0f921\"]], \"type\": \"surface\"}], \"table\": [{\"cells\": {\"fill\": {\"color\": \"#506784\"}, \"line\": {\"color\": \"rgb(17,17,17)\"}}, \"header\": {\"fill\": {\"color\": \"#2a3f5f\"}, \"line\": {\"color\": \"rgb(17,17,17)\"}}, \"type\": \"table\"}]}, \"layout\": {\"annotationdefaults\": {\"arrowcolor\": \"#f2f5fa\", \"arrowhead\": 0, \"arrowwidth\": 1}, \"coloraxis\": {\"colorbar\": {\"outlinewidth\": 0, \"ticks\": \"\"}}, \"colorscale\": {\"diverging\": [[0, \"#8e0152\"], [0.1, \"#c51b7d\"], [0.2, \"#de77ae\"], [0.3, \"#f1b6da\"], [0.4, \"#fde0ef\"], [0.5, \"#f7f7f7\"], [0.6, \"#e6f5d0\"], [0.7, \"#b8e186\"], [0.8, \"#7fbc41\"], [0.9, \"#4d9221\"], [1, \"#276419\"]], \"sequential\": [[0.0, \"#0d0887\"], [0.1111111111111111, \"#46039f\"], [0.2222222222222222, \"#7201a8\"], [0.3333333333333333, \"#9c179e\"], [0.4444444444444444, \"#bd3786\"], [0.5555555555555556, \"#d8576b\"], [0.6666666666666666, \"#ed7953\"], [0.7777777777777778, \"#fb9f3a\"], [0.8888888888888888, \"#fdca26\"], [1.0, \"#f0f921\"]], \"sequentialminus\": [[0.0, \"#0d0887\"], [0.1111111111111111, \"#46039f\"], [0.2222222222222222, \"#7201a8\"], [0.3333333333333333, \"#9c179e\"], [0.4444444444444444, \"#bd3786\"], [0.5555555555555556, \"#d8576b\"], [0.6666666666666666, \"#ed7953\"], [0.7777777777777778, \"#fb9f3a\"], [0.8888888888888888, \"#fdca26\"], [1.0, \"#f0f921\"]]}, \"colorway\": [\"#636efa\", \"#EF553B\", \"#00cc96\", \"#ab63fa\", \"#FFA15A\", \"#19d3f3\", \"#FF6692\", \"#B6E880\", \"#FF97FF\", \"#FECB52\"], \"font\": {\"color\": \"#f2f5fa\"}, \"geo\": {\"bgcolor\": \"rgb(17,17,17)\", \"lakecolor\": \"rgb(17,17,17)\", \"landcolor\": \"rgb(17,17,17)\", \"showlakes\": true, \"showland\": true, \"subunitcolor\": \"#506784\"}, \"hoverlabel\": {\"align\": \"left\"}, \"hovermode\": \"closest\", \"mapbox\": {\"style\": \"dark\"}, \"paper_bgcolor\": \"rgb(17,17,17)\", \"plot_bgcolor\": \"rgb(17,17,17)\", \"polar\": {\"angularaxis\": {\"gridcolor\": \"#506784\", \"linecolor\": \"#506784\", \"ticks\": \"\"}, \"bgcolor\": \"rgb(17,17,17)\", \"radialaxis\": {\"gridcolor\": \"#506784\", \"linecolor\": \"#506784\", \"ticks\": \"\"}}, \"scene\": {\"xaxis\": {\"backgroundcolor\": \"rgb(17,17,17)\", \"gridcolor\": \"#506784\", \"gridwidth\": 2, \"linecolor\": \"#506784\", \"showbackground\": true, \"ticks\": \"\", \"zerolinecolor\": \"#C8D4E3\"}, \"yaxis\": {\"backgroundcolor\": \"rgb(17,17,17)\", \"gridcolor\": \"#506784\", \"gridwidth\": 2, \"linecolor\": \"#506784\", \"showbackground\": true, \"ticks\": \"\", \"zerolinecolor\": \"#C8D4E3\"}, \"zaxis\": {\"backgroundcolor\": \"rgb(17,17,17)\", \"gridcolor\": \"#506784\", \"gridwidth\": 2, \"linecolor\": \"#506784\", \"showbackground\": true, \"ticks\": \"\", \"zerolinecolor\": \"#C8D4E3\"}}, \"shapedefaults\": {\"line\": {\"color\": \"#f2f5fa\"}}, \"sliderdefaults\": {\"bgcolor\": \"#C8D4E3\", \"bordercolor\": \"rgb(17,17,17)\", \"borderwidth\": 1, \"tickwidth\": 0}, \"ternary\": {\"aaxis\": {\"gridcolor\": \"#506784\", \"linecolor\": \"#506784\", \"ticks\": \"\"}, \"baxis\": {\"gridcolor\": \"#506784\", \"linecolor\": \"#506784\", \"ticks\": \"\"}, \"bgcolor\": \"rgb(17,17,17)\", \"caxis\": {\"gridcolor\": \"#506784\", \"linecolor\": \"#506784\", \"ticks\": \"\"}}, \"title\": {\"x\": 0.05}, \"updatemenudefaults\": {\"bgcolor\": \"#506784\", \"borderwidth\": 0}, \"xaxis\": {\"automargin\": true, \"gridcolor\": \"#283442\", \"linecolor\": \"#506784\", \"ticks\": \"\", \"title\": {\"standoff\": 15}, \"zerolinecolor\": \"#283442\", \"zerolinewidth\": 2}, \"yaxis\": {\"automargin\": true, \"gridcolor\": \"#283442\", \"linecolor\": \"#506784\", \"ticks\": \"\", \"title\": {\"standoff\": 15}, \"zerolinecolor\": \"#283442\", \"zerolinewidth\": 2}}}, \"title\": {\"text\": \"Average rentals by hour and kind of day (working day or weekend/holiday)\", \"x\": 0.5, \"xanchor\": \"center\", \"y\": 0.9, \"yanchor\": \"middle\"}, \"xaxis\": {\"tickmode\": \"array\", \"ticktext\": [\"00:00\", \"01:00\", \"02:00\", \"03:00\", \"04:00\", \"05:00\", \"06:00\", \"07:00\", \"08:00\", \"09:00\", \"10:00\", \"11:00\", \"12:00\", \"13:00\", \"14:00\", \"15:00\", \"16:00\", \"17:00\", \"18:00\", \"19:00\", \"20:00\", \"21:00\", \"22:00\", \"23:00\"], \"tickvals\": [0, 1, 2, 3, 4, 5, 6, 7, 8, 9, 10, 11, 12, 13, 14, 15, 16, 17, 18, 19, 20, 21, 22, 23], \"title\": {\"text\": \"hour of day\"}}, \"yaxis\": {\"title\": {\"text\": \"no. of rentals\"}}},\n",
       "                        {\"responsive\": true}\n",
       "                    ).then(function(){\n",
       "                            \n",
       "var gd = document.getElementById('8c6b879d-1c8e-4f20-b48c-d4cf4e984865');\n",
       "var x = new MutationObserver(function (mutations, observer) {{\n",
       "        var display = window.getComputedStyle(gd).display;\n",
       "        if (!display || display === 'none') {{\n",
       "            console.log([gd, 'removed!']);\n",
       "            Plotly.purge(gd);\n",
       "            observer.disconnect();\n",
       "        }}\n",
       "}});\n",
       "\n",
       "// Listen for the removal of the full notebook cells\n",
       "var notebookContainer = gd.closest('#notebook-container');\n",
       "if (notebookContainer) {{\n",
       "    x.observe(notebookContainer, {childList: true});\n",
       "}}\n",
       "\n",
       "// Listen for the clearing of the current output cell\n",
       "var outputEl = gd.closest('.output');\n",
       "if (outputEl) {{\n",
       "    x.observe(outputEl, {childList: true});\n",
       "}}\n",
       "\n",
       "                        })\n",
       "                };\n",
       "                });\n",
       "            </script>\n",
       "        </div>"
      ]
     },
     "metadata": {},
     "output_type": "display_data"
    }
   ],
   "source": [
    "iplot(hourAvgWDPlot)"
   ]
  },
  {
   "cell_type": "markdown",
   "metadata": {},
   "source": [
    "## Average rentals by hour and month <a id=\"hourAvgMonthPlot\"></a>"
   ]
  },
  {
   "cell_type": "code",
   "execution_count": 10,
   "metadata": {},
   "outputs": [
    {
     "data": {
      "application/vnd.plotly.v1+json": {
       "config": {
        "linkText": "Export to plot.ly",
        "plotlyServerURL": "https://plot.ly",
        "showLink": false
       },
       "data": [
        {
         "mode": "lines",
         "name": "April",
         "type": "scatter",
         "x": [
          0,
          1,
          2,
          3,
          4,
          5,
          6,
          7,
          8,
          9,
          10,
          11,
          12,
          13,
          14,
          15,
          16,
          17,
          18,
          19,
          20,
          21,
          22,
          23
         ],
         "y": [
          23.5,
          8.5,
          4.5,
          2,
          3,
          4,
          28,
          82,
          102,
          87,
          97.5,
          72,
          108.66666666666667,
          118,
          148,
          158.33333333333334,
          200.66666666666666,
          190.33333333333334,
          173.33333333333334,
          156,
          116.33333333333333,
          70,
          46.666666666666664,
          36.666666666666664
         ]
        },
        {
         "mode": "lines",
         "name": "May",
         "type": "scatter",
         "x": [
          0,
          1,
          2,
          3,
          4,
          5,
          6,
          7,
          8,
          9,
          10,
          11,
          12,
          13,
          14,
          15,
          16,
          17,
          18,
          19,
          20,
          21,
          22,
          23
         ],
         "y": [
          80.58064516129032,
          42.16129032258065,
          26.193548387096776,
          18.93103448275862,
          15.709677419354838,
          18.548387096774192,
          65.35483870967742,
          177.58064516129033,
          171.48387096774192,
          146.8709677419355,
          180.32258064516128,
          208.51612903225808,
          256.5483870967742,
          278.2258064516129,
          317.9032258064516,
          370.38709677419354,
          433.51612903225805,
          391.2903225806452,
          383.7741935483871,
          370.741935483871,
          306.3225806451613,
          205.16129032258064,
          141.51612903225808,
          110.35483870967742
         ]
        },
        {
         "mode": "lines",
         "name": "June",
         "type": "scatter",
         "x": [
          0,
          1,
          2,
          3,
          4,
          5,
          6,
          7,
          8,
          9,
          10,
          11,
          12,
          13,
          14,
          15,
          16,
          17,
          18,
          19,
          20,
          21,
          22,
          23
         ],
         "y": [
          94.23333333333333,
          53.3,
          29.366666666666667,
          21.166666666666668,
          17.333333333333332,
          22.866666666666667,
          72.96666666666667,
          180.03333333333333,
          171.46666666666667,
          144.56666666666666,
          172.1,
          210,
          253.66666666666666,
          272.3666666666667,
          289.93333333333334,
          326.3666666666667,
          412.3666666666667,
          366.8,
          349.46666666666664,
          334.53333333333336,
          308.96666666666664,
          239.06666666666666,
          162.86666666666667,
          129.53333333333333
         ]
        },
        {
         "mode": "lines",
         "name": "July",
         "type": "scatter",
         "x": [
          0,
          1,
          2,
          3,
          4,
          5,
          6,
          7,
          8,
          9,
          10,
          11,
          12,
          13,
          14,
          15,
          16,
          17,
          18,
          19,
          20,
          21,
          22,
          23
         ],
         "y": [
          87.45161290322581,
          44.87096774193548,
          29.129032258064516,
          17.70967741935484,
          14.290322580645162,
          24.677419354838708,
          79.09677419354838,
          176.3548387096774,
          168.2258064516129,
          119.7741935483871,
          111.45161290322581,
          136.5483870967742,
          158.03225806451613,
          165.4516129032258,
          189.48387096774192,
          259.80645161290323,
          359.48387096774195,
          341,
          309.1290322580645,
          293.6774193548387,
          266.19354838709677,
          214.5483870967742,
          148.1290322580645,
          122.87096774193549
         ]
        },
        {
         "mode": "lines",
         "name": "August",
         "type": "scatter",
         "x": [
          0,
          1,
          2,
          3,
          4,
          5,
          6,
          7,
          8,
          9,
          10,
          11,
          12,
          13,
          14,
          15,
          16,
          17,
          18,
          19,
          20,
          21,
          22,
          23
         ],
         "y": [
          85.35483870967742,
          51.58064516129032,
          27.258064516129032,
          20.677419354838708,
          17.580645161290324,
          31,
          75.87096774193549,
          184.70967741935485,
          161.58064516129033,
          116.3225806451613,
          111.2258064516129,
          138.38709677419354,
          162.83870967741936,
          182.19354838709677,
          209.1290322580645,
          271.741935483871,
          349.48387096774195,
          328.741935483871,
          311.38709677419354,
          314.6774193548387,
          285.741935483871,
          216.3548387096774,
          156.48387096774192,
          123.48387096774194
         ]
        },
        {
         "mode": "lines",
         "name": "September",
         "type": "scatter",
         "x": [
          0,
          1,
          2,
          3,
          4,
          5,
          6,
          7,
          8,
          9,
          10,
          11,
          12,
          13,
          14,
          15,
          16,
          17,
          18,
          19,
          20,
          21,
          22,
          23
         ],
         "y": [
          57.333333333333336,
          34.233333333333334,
          23.166666666666668,
          13.633333333333333,
          15.8,
          20.733333333333334,
          56.86666666666667,
          143.4,
          152.63333333333333,
          108.83333333333333,
          100.43333333333334,
          129.53333333333333,
          153,
          175,
          198.06666666666666,
          259.73333333333335,
          319.73333333333335,
          296.06666666666666,
          258.8333333333333,
          222.93333333333334,
          169.6,
          119.93333333333334,
          87.63333333333334,
          75.8
         ]
        },
        {
         "mode": "lines",
         "name": "October",
         "type": "scatter",
         "x": [
          0,
          1,
          2,
          3,
          4,
          5,
          6,
          7,
          8,
          9,
          10,
          11,
          12,
          13,
          14,
          15,
          16,
          17,
          18,
          19,
          20,
          21,
          22,
          23
         ],
         "y": [
          42.67741935483871,
          29.70967741935484,
          20.516129032258064,
          13.64516129032258,
          11.870967741935484,
          14.387096774193548,
          30.64516129032258,
          108.93548387096774,
          100.19354838709677,
          83.19354838709677,
          80.48387096774194,
          95.09677419354838,
          119.87096774193549,
          131.32258064516128,
          154.09677419354838,
          177.38709677419354,
          219.2258064516129,
          182.74193548387098,
          151.83870967741936,
          114.87096774193549,
          91.64516129032258,
          63.903225806451616,
          54.935483870967744,
          52.29032258064516
         ]
        },
        {
         "mode": "lines",
         "name": "November",
         "type": "scatter",
         "x": [
          0,
          1,
          2,
          3,
          4,
          5,
          6,
          7,
          8,
          9,
          10,
          11,
          12,
          13,
          14,
          15,
          16,
          17,
          18,
          19,
          20,
          21,
          22,
          23
         ],
         "y": [
          31.166666666666668,
          21.966666666666665,
          13.551724137931034,
          9.633333333333333,
          9.3,
          11.266666666666667,
          19.5,
          65.06666666666666,
          65.2,
          52.93333333333333,
          46.233333333333334,
          56.56666666666667,
          69.36666666666666,
          77.36666666666666,
          90.03333333333333,
          105.26666666666667,
          124.6,
          99.56666666666666,
          89.5,
          75,
          62.733333333333334,
          43.266666666666666,
          35.3,
          35.36666666666667
         ]
        }
       ],
       "layout": {
        "template": {
         "data": {
          "bar": [
           {
            "error_x": {
             "color": "#f2f5fa"
            },
            "error_y": {
             "color": "#f2f5fa"
            },
            "marker": {
             "line": {
              "color": "rgb(17,17,17)",
              "width": 0.5
             }
            },
            "type": "bar"
           }
          ],
          "barpolar": [
           {
            "marker": {
             "line": {
              "color": "rgb(17,17,17)",
              "width": 0.5
             }
            },
            "type": "barpolar"
           }
          ],
          "carpet": [
           {
            "aaxis": {
             "endlinecolor": "#A2B1C6",
             "gridcolor": "#506784",
             "linecolor": "#506784",
             "minorgridcolor": "#506784",
             "startlinecolor": "#A2B1C6"
            },
            "baxis": {
             "endlinecolor": "#A2B1C6",
             "gridcolor": "#506784",
             "linecolor": "#506784",
             "minorgridcolor": "#506784",
             "startlinecolor": "#A2B1C6"
            },
            "type": "carpet"
           }
          ],
          "choropleth": [
           {
            "colorbar": {
             "outlinewidth": 0,
             "ticks": ""
            },
            "type": "choropleth"
           }
          ],
          "contour": [
           {
            "colorbar": {
             "outlinewidth": 0,
             "ticks": ""
            },
            "colorscale": [
             [
              0,
              "#0d0887"
             ],
             [
              0.1111111111111111,
              "#46039f"
             ],
             [
              0.2222222222222222,
              "#7201a8"
             ],
             [
              0.3333333333333333,
              "#9c179e"
             ],
             [
              0.4444444444444444,
              "#bd3786"
             ],
             [
              0.5555555555555556,
              "#d8576b"
             ],
             [
              0.6666666666666666,
              "#ed7953"
             ],
             [
              0.7777777777777778,
              "#fb9f3a"
             ],
             [
              0.8888888888888888,
              "#fdca26"
             ],
             [
              1,
              "#f0f921"
             ]
            ],
            "type": "contour"
           }
          ],
          "contourcarpet": [
           {
            "colorbar": {
             "outlinewidth": 0,
             "ticks": ""
            },
            "type": "contourcarpet"
           }
          ],
          "heatmap": [
           {
            "colorbar": {
             "outlinewidth": 0,
             "ticks": ""
            },
            "colorscale": [
             [
              0,
              "#0d0887"
             ],
             [
              0.1111111111111111,
              "#46039f"
             ],
             [
              0.2222222222222222,
              "#7201a8"
             ],
             [
              0.3333333333333333,
              "#9c179e"
             ],
             [
              0.4444444444444444,
              "#bd3786"
             ],
             [
              0.5555555555555556,
              "#d8576b"
             ],
             [
              0.6666666666666666,
              "#ed7953"
             ],
             [
              0.7777777777777778,
              "#fb9f3a"
             ],
             [
              0.8888888888888888,
              "#fdca26"
             ],
             [
              1,
              "#f0f921"
             ]
            ],
            "type": "heatmap"
           }
          ],
          "heatmapgl": [
           {
            "colorbar": {
             "outlinewidth": 0,
             "ticks": ""
            },
            "colorscale": [
             [
              0,
              "#0d0887"
             ],
             [
              0.1111111111111111,
              "#46039f"
             ],
             [
              0.2222222222222222,
              "#7201a8"
             ],
             [
              0.3333333333333333,
              "#9c179e"
             ],
             [
              0.4444444444444444,
              "#bd3786"
             ],
             [
              0.5555555555555556,
              "#d8576b"
             ],
             [
              0.6666666666666666,
              "#ed7953"
             ],
             [
              0.7777777777777778,
              "#fb9f3a"
             ],
             [
              0.8888888888888888,
              "#fdca26"
             ],
             [
              1,
              "#f0f921"
             ]
            ],
            "type": "heatmapgl"
           }
          ],
          "histogram": [
           {
            "marker": {
             "colorbar": {
              "outlinewidth": 0,
              "ticks": ""
             }
            },
            "type": "histogram"
           }
          ],
          "histogram2d": [
           {
            "colorbar": {
             "outlinewidth": 0,
             "ticks": ""
            },
            "colorscale": [
             [
              0,
              "#0d0887"
             ],
             [
              0.1111111111111111,
              "#46039f"
             ],
             [
              0.2222222222222222,
              "#7201a8"
             ],
             [
              0.3333333333333333,
              "#9c179e"
             ],
             [
              0.4444444444444444,
              "#bd3786"
             ],
             [
              0.5555555555555556,
              "#d8576b"
             ],
             [
              0.6666666666666666,
              "#ed7953"
             ],
             [
              0.7777777777777778,
              "#fb9f3a"
             ],
             [
              0.8888888888888888,
              "#fdca26"
             ],
             [
              1,
              "#f0f921"
             ]
            ],
            "type": "histogram2d"
           }
          ],
          "histogram2dcontour": [
           {
            "colorbar": {
             "outlinewidth": 0,
             "ticks": ""
            },
            "colorscale": [
             [
              0,
              "#0d0887"
             ],
             [
              0.1111111111111111,
              "#46039f"
             ],
             [
              0.2222222222222222,
              "#7201a8"
             ],
             [
              0.3333333333333333,
              "#9c179e"
             ],
             [
              0.4444444444444444,
              "#bd3786"
             ],
             [
              0.5555555555555556,
              "#d8576b"
             ],
             [
              0.6666666666666666,
              "#ed7953"
             ],
             [
              0.7777777777777778,
              "#fb9f3a"
             ],
             [
              0.8888888888888888,
              "#fdca26"
             ],
             [
              1,
              "#f0f921"
             ]
            ],
            "type": "histogram2dcontour"
           }
          ],
          "mesh3d": [
           {
            "colorbar": {
             "outlinewidth": 0,
             "ticks": ""
            },
            "type": "mesh3d"
           }
          ],
          "parcoords": [
           {
            "line": {
             "colorbar": {
              "outlinewidth": 0,
              "ticks": ""
             }
            },
            "type": "parcoords"
           }
          ],
          "pie": [
           {
            "automargin": true,
            "type": "pie"
           }
          ],
          "scatter": [
           {
            "marker": {
             "line": {
              "color": "#283442"
             }
            },
            "type": "scatter"
           }
          ],
          "scatter3d": [
           {
            "line": {
             "colorbar": {
              "outlinewidth": 0,
              "ticks": ""
             }
            },
            "marker": {
             "colorbar": {
              "outlinewidth": 0,
              "ticks": ""
             }
            },
            "type": "scatter3d"
           }
          ],
          "scattercarpet": [
           {
            "marker": {
             "colorbar": {
              "outlinewidth": 0,
              "ticks": ""
             }
            },
            "type": "scattercarpet"
           }
          ],
          "scattergeo": [
           {
            "marker": {
             "colorbar": {
              "outlinewidth": 0,
              "ticks": ""
             }
            },
            "type": "scattergeo"
           }
          ],
          "scattergl": [
           {
            "marker": {
             "line": {
              "color": "#283442"
             }
            },
            "type": "scattergl"
           }
          ],
          "scattermapbox": [
           {
            "marker": {
             "colorbar": {
              "outlinewidth": 0,
              "ticks": ""
             }
            },
            "type": "scattermapbox"
           }
          ],
          "scatterpolar": [
           {
            "marker": {
             "colorbar": {
              "outlinewidth": 0,
              "ticks": ""
             }
            },
            "type": "scatterpolar"
           }
          ],
          "scatterpolargl": [
           {
            "marker": {
             "colorbar": {
              "outlinewidth": 0,
              "ticks": ""
             }
            },
            "type": "scatterpolargl"
           }
          ],
          "scatterternary": [
           {
            "marker": {
             "colorbar": {
              "outlinewidth": 0,
              "ticks": ""
             }
            },
            "type": "scatterternary"
           }
          ],
          "surface": [
           {
            "colorbar": {
             "outlinewidth": 0,
             "ticks": ""
            },
            "colorscale": [
             [
              0,
              "#0d0887"
             ],
             [
              0.1111111111111111,
              "#46039f"
             ],
             [
              0.2222222222222222,
              "#7201a8"
             ],
             [
              0.3333333333333333,
              "#9c179e"
             ],
             [
              0.4444444444444444,
              "#bd3786"
             ],
             [
              0.5555555555555556,
              "#d8576b"
             ],
             [
              0.6666666666666666,
              "#ed7953"
             ],
             [
              0.7777777777777778,
              "#fb9f3a"
             ],
             [
              0.8888888888888888,
              "#fdca26"
             ],
             [
              1,
              "#f0f921"
             ]
            ],
            "type": "surface"
           }
          ],
          "table": [
           {
            "cells": {
             "fill": {
              "color": "#506784"
             },
             "line": {
              "color": "rgb(17,17,17)"
             }
            },
            "header": {
             "fill": {
              "color": "#2a3f5f"
             },
             "line": {
              "color": "rgb(17,17,17)"
             }
            },
            "type": "table"
           }
          ]
         },
         "layout": {
          "annotationdefaults": {
           "arrowcolor": "#f2f5fa",
           "arrowhead": 0,
           "arrowwidth": 1
          },
          "coloraxis": {
           "colorbar": {
            "outlinewidth": 0,
            "ticks": ""
           }
          },
          "colorscale": {
           "diverging": [
            [
             0,
             "#8e0152"
            ],
            [
             0.1,
             "#c51b7d"
            ],
            [
             0.2,
             "#de77ae"
            ],
            [
             0.3,
             "#f1b6da"
            ],
            [
             0.4,
             "#fde0ef"
            ],
            [
             0.5,
             "#f7f7f7"
            ],
            [
             0.6,
             "#e6f5d0"
            ],
            [
             0.7,
             "#b8e186"
            ],
            [
             0.8,
             "#7fbc41"
            ],
            [
             0.9,
             "#4d9221"
            ],
            [
             1,
             "#276419"
            ]
           ],
           "sequential": [
            [
             0,
             "#0d0887"
            ],
            [
             0.1111111111111111,
             "#46039f"
            ],
            [
             0.2222222222222222,
             "#7201a8"
            ],
            [
             0.3333333333333333,
             "#9c179e"
            ],
            [
             0.4444444444444444,
             "#bd3786"
            ],
            [
             0.5555555555555556,
             "#d8576b"
            ],
            [
             0.6666666666666666,
             "#ed7953"
            ],
            [
             0.7777777777777778,
             "#fb9f3a"
            ],
            [
             0.8888888888888888,
             "#fdca26"
            ],
            [
             1,
             "#f0f921"
            ]
           ],
           "sequentialminus": [
            [
             0,
             "#0d0887"
            ],
            [
             0.1111111111111111,
             "#46039f"
            ],
            [
             0.2222222222222222,
             "#7201a8"
            ],
            [
             0.3333333333333333,
             "#9c179e"
            ],
            [
             0.4444444444444444,
             "#bd3786"
            ],
            [
             0.5555555555555556,
             "#d8576b"
            ],
            [
             0.6666666666666666,
             "#ed7953"
            ],
            [
             0.7777777777777778,
             "#fb9f3a"
            ],
            [
             0.8888888888888888,
             "#fdca26"
            ],
            [
             1,
             "#f0f921"
            ]
           ]
          },
          "colorway": [
           "#636efa",
           "#EF553B",
           "#00cc96",
           "#ab63fa",
           "#FFA15A",
           "#19d3f3",
           "#FF6692",
           "#B6E880",
           "#FF97FF",
           "#FECB52"
          ],
          "font": {
           "color": "#f2f5fa"
          },
          "geo": {
           "bgcolor": "rgb(17,17,17)",
           "lakecolor": "rgb(17,17,17)",
           "landcolor": "rgb(17,17,17)",
           "showlakes": true,
           "showland": true,
           "subunitcolor": "#506784"
          },
          "hoverlabel": {
           "align": "left"
          },
          "hovermode": "closest",
          "mapbox": {
           "style": "dark"
          },
          "paper_bgcolor": "rgb(17,17,17)",
          "plot_bgcolor": "rgb(17,17,17)",
          "polar": {
           "angularaxis": {
            "gridcolor": "#506784",
            "linecolor": "#506784",
            "ticks": ""
           },
           "bgcolor": "rgb(17,17,17)",
           "radialaxis": {
            "gridcolor": "#506784",
            "linecolor": "#506784",
            "ticks": ""
           }
          },
          "scene": {
           "xaxis": {
            "backgroundcolor": "rgb(17,17,17)",
            "gridcolor": "#506784",
            "gridwidth": 2,
            "linecolor": "#506784",
            "showbackground": true,
            "ticks": "",
            "zerolinecolor": "#C8D4E3"
           },
           "yaxis": {
            "backgroundcolor": "rgb(17,17,17)",
            "gridcolor": "#506784",
            "gridwidth": 2,
            "linecolor": "#506784",
            "showbackground": true,
            "ticks": "",
            "zerolinecolor": "#C8D4E3"
           },
           "zaxis": {
            "backgroundcolor": "rgb(17,17,17)",
            "gridcolor": "#506784",
            "gridwidth": 2,
            "linecolor": "#506784",
            "showbackground": true,
            "ticks": "",
            "zerolinecolor": "#C8D4E3"
           }
          },
          "shapedefaults": {
           "line": {
            "color": "#f2f5fa"
           }
          },
          "sliderdefaults": {
           "bgcolor": "#C8D4E3",
           "bordercolor": "rgb(17,17,17)",
           "borderwidth": 1,
           "tickwidth": 0
          },
          "ternary": {
           "aaxis": {
            "gridcolor": "#506784",
            "linecolor": "#506784",
            "ticks": ""
           },
           "baxis": {
            "gridcolor": "#506784",
            "linecolor": "#506784",
            "ticks": ""
           },
           "bgcolor": "rgb(17,17,17)",
           "caxis": {
            "gridcolor": "#506784",
            "linecolor": "#506784",
            "ticks": ""
           }
          },
          "title": {
           "x": 0.05
          },
          "updatemenudefaults": {
           "bgcolor": "#506784",
           "borderwidth": 0
          },
          "xaxis": {
           "automargin": true,
           "gridcolor": "#283442",
           "linecolor": "#506784",
           "ticks": "",
           "title": {
            "standoff": 15
           },
           "zerolinecolor": "#283442",
           "zerolinewidth": 2
          },
          "yaxis": {
           "automargin": true,
           "gridcolor": "#283442",
           "linecolor": "#506784",
           "ticks": "",
           "title": {
            "standoff": 15
           },
           "zerolinecolor": "#283442",
           "zerolinewidth": 2
          }
         }
        },
        "title": {
         "text": "Average rentals by hour and month",
         "x": 0.5,
         "xanchor": "center",
         "y": 0.9,
         "yanchor": "middle"
        },
        "xaxis": {
         "tickmode": "array",
         "ticktext": [
          "00:00",
          "01:00",
          "02:00",
          "03:00",
          "04:00",
          "05:00",
          "06:00",
          "07:00",
          "08:00",
          "09:00",
          "10:00",
          "11:00",
          "12:00",
          "13:00",
          "14:00",
          "15:00",
          "16:00",
          "17:00",
          "18:00",
          "19:00",
          "20:00",
          "21:00",
          "22:00",
          "23:00"
         ],
         "tickvals": [
          0,
          1,
          2,
          3,
          4,
          5,
          6,
          7,
          8,
          9,
          10,
          11,
          12,
          13,
          14,
          15,
          16,
          17,
          18,
          19,
          20,
          21,
          22,
          23
         ],
         "title": {
          "text": "hour of day"
         }
        },
        "yaxis": {
         "title": {
          "text": "no. of rentals"
         }
        }
       }
      },
      "text/html": [
       "<div>\n",
       "        \n",
       "        \n",
       "            <div id=\"39fffe45-8d60-4ad2-be3b-0b90feb8d362\" class=\"plotly-graph-div\" style=\"height:525px; width:100%;\"></div>\n",
       "            <script type=\"text/javascript\">\n",
       "                require([\"plotly\"], function(Plotly) {\n",
       "                    window.PLOTLYENV=window.PLOTLYENV || {};\n",
       "                    \n",
       "                if (document.getElementById(\"39fffe45-8d60-4ad2-be3b-0b90feb8d362\")) {\n",
       "                    Plotly.newPlot(\n",
       "                        '39fffe45-8d60-4ad2-be3b-0b90feb8d362',\n",
       "                        [{\"mode\": \"lines\", \"name\": \"April\", \"type\": \"scatter\", \"x\": [0, 1, 2, 3, 4, 5, 6, 7, 8, 9, 10, 11, 12, 13, 14, 15, 16, 17, 18, 19, 20, 21, 22, 23], \"y\": [23.5, 8.5, 4.5, 2.0, 3.0, 4.0, 28.0, 82.0, 102.0, 87.0, 97.5, 72.0, 108.66666666666667, 118.0, 148.0, 158.33333333333334, 200.66666666666666, 190.33333333333334, 173.33333333333334, 156.0, 116.33333333333333, 70.0, 46.666666666666664, 36.666666666666664]}, {\"mode\": \"lines\", \"name\": \"May\", \"type\": \"scatter\", \"x\": [0, 1, 2, 3, 4, 5, 6, 7, 8, 9, 10, 11, 12, 13, 14, 15, 16, 17, 18, 19, 20, 21, 22, 23], \"y\": [80.58064516129032, 42.16129032258065, 26.193548387096776, 18.93103448275862, 15.709677419354838, 18.548387096774192, 65.35483870967742, 177.58064516129033, 171.48387096774192, 146.8709677419355, 180.32258064516128, 208.51612903225808, 256.5483870967742, 278.2258064516129, 317.9032258064516, 370.38709677419354, 433.51612903225805, 391.2903225806452, 383.7741935483871, 370.741935483871, 306.3225806451613, 205.16129032258064, 141.51612903225808, 110.35483870967742]}, {\"mode\": \"lines\", \"name\": \"June\", \"type\": \"scatter\", \"x\": [0, 1, 2, 3, 4, 5, 6, 7, 8, 9, 10, 11, 12, 13, 14, 15, 16, 17, 18, 19, 20, 21, 22, 23], \"y\": [94.23333333333333, 53.3, 29.366666666666667, 21.166666666666668, 17.333333333333332, 22.866666666666667, 72.96666666666667, 180.03333333333333, 171.46666666666667, 144.56666666666666, 172.1, 210.0, 253.66666666666666, 272.3666666666667, 289.93333333333334, 326.3666666666667, 412.3666666666667, 366.8, 349.46666666666664, 334.53333333333336, 308.96666666666664, 239.06666666666666, 162.86666666666667, 129.53333333333333]}, {\"mode\": \"lines\", \"name\": \"July\", \"type\": \"scatter\", \"x\": [0, 1, 2, 3, 4, 5, 6, 7, 8, 9, 10, 11, 12, 13, 14, 15, 16, 17, 18, 19, 20, 21, 22, 23], \"y\": [87.45161290322581, 44.87096774193548, 29.129032258064516, 17.70967741935484, 14.290322580645162, 24.677419354838708, 79.09677419354838, 176.3548387096774, 168.2258064516129, 119.7741935483871, 111.45161290322581, 136.5483870967742, 158.03225806451613, 165.4516129032258, 189.48387096774192, 259.80645161290323, 359.48387096774195, 341.0, 309.1290322580645, 293.6774193548387, 266.19354838709677, 214.5483870967742, 148.1290322580645, 122.87096774193549]}, {\"mode\": \"lines\", \"name\": \"August\", \"type\": \"scatter\", \"x\": [0, 1, 2, 3, 4, 5, 6, 7, 8, 9, 10, 11, 12, 13, 14, 15, 16, 17, 18, 19, 20, 21, 22, 23], \"y\": [85.35483870967742, 51.58064516129032, 27.258064516129032, 20.677419354838708, 17.580645161290324, 31.0, 75.87096774193549, 184.70967741935485, 161.58064516129033, 116.3225806451613, 111.2258064516129, 138.38709677419354, 162.83870967741936, 182.19354838709677, 209.1290322580645, 271.741935483871, 349.48387096774195, 328.741935483871, 311.38709677419354, 314.6774193548387, 285.741935483871, 216.3548387096774, 156.48387096774192, 123.48387096774194]}, {\"mode\": \"lines\", \"name\": \"September\", \"type\": \"scatter\", \"x\": [0, 1, 2, 3, 4, 5, 6, 7, 8, 9, 10, 11, 12, 13, 14, 15, 16, 17, 18, 19, 20, 21, 22, 23], \"y\": [57.333333333333336, 34.233333333333334, 23.166666666666668, 13.633333333333333, 15.8, 20.733333333333334, 56.86666666666667, 143.4, 152.63333333333333, 108.83333333333333, 100.43333333333334, 129.53333333333333, 153.0, 175.0, 198.06666666666666, 259.73333333333335, 319.73333333333335, 296.06666666666666, 258.8333333333333, 222.93333333333334, 169.6, 119.93333333333334, 87.63333333333334, 75.8]}, {\"mode\": \"lines\", \"name\": \"October\", \"type\": \"scatter\", \"x\": [0, 1, 2, 3, 4, 5, 6, 7, 8, 9, 10, 11, 12, 13, 14, 15, 16, 17, 18, 19, 20, 21, 22, 23], \"y\": [42.67741935483871, 29.70967741935484, 20.516129032258064, 13.64516129032258, 11.870967741935484, 14.387096774193548, 30.64516129032258, 108.93548387096774, 100.19354838709677, 83.19354838709677, 80.48387096774194, 95.09677419354838, 119.87096774193549, 131.32258064516128, 154.09677419354838, 177.38709677419354, 219.2258064516129, 182.74193548387098, 151.83870967741936, 114.87096774193549, 91.64516129032258, 63.903225806451616, 54.935483870967744, 52.29032258064516]}, {\"mode\": \"lines\", \"name\": \"November\", \"type\": \"scatter\", \"x\": [0, 1, 2, 3, 4, 5, 6, 7, 8, 9, 10, 11, 12, 13, 14, 15, 16, 17, 18, 19, 20, 21, 22, 23], \"y\": [31.166666666666668, 21.966666666666665, 13.551724137931034, 9.633333333333333, 9.3, 11.266666666666667, 19.5, 65.06666666666666, 65.2, 52.93333333333333, 46.233333333333334, 56.56666666666667, 69.36666666666666, 77.36666666666666, 90.03333333333333, 105.26666666666667, 124.6, 99.56666666666666, 89.5, 75.0, 62.733333333333334, 43.266666666666666, 35.3, 35.36666666666667]}],\n",
       "                        {\"template\": {\"data\": {\"bar\": [{\"error_x\": {\"color\": \"#f2f5fa\"}, \"error_y\": {\"color\": \"#f2f5fa\"}, \"marker\": {\"line\": {\"color\": \"rgb(17,17,17)\", \"width\": 0.5}}, \"type\": \"bar\"}], \"barpolar\": [{\"marker\": {\"line\": {\"color\": \"rgb(17,17,17)\", \"width\": 0.5}}, \"type\": \"barpolar\"}], \"carpet\": [{\"aaxis\": {\"endlinecolor\": \"#A2B1C6\", \"gridcolor\": \"#506784\", \"linecolor\": \"#506784\", \"minorgridcolor\": \"#506784\", \"startlinecolor\": \"#A2B1C6\"}, \"baxis\": {\"endlinecolor\": \"#A2B1C6\", \"gridcolor\": \"#506784\", \"linecolor\": \"#506784\", \"minorgridcolor\": \"#506784\", \"startlinecolor\": \"#A2B1C6\"}, \"type\": \"carpet\"}], \"choropleth\": [{\"colorbar\": {\"outlinewidth\": 0, \"ticks\": \"\"}, \"type\": \"choropleth\"}], \"contour\": [{\"colorbar\": {\"outlinewidth\": 0, \"ticks\": \"\"}, \"colorscale\": [[0.0, \"#0d0887\"], [0.1111111111111111, \"#46039f\"], [0.2222222222222222, \"#7201a8\"], [0.3333333333333333, \"#9c179e\"], [0.4444444444444444, \"#bd3786\"], [0.5555555555555556, \"#d8576b\"], [0.6666666666666666, \"#ed7953\"], [0.7777777777777778, \"#fb9f3a\"], [0.8888888888888888, \"#fdca26\"], [1.0, \"#f0f921\"]], \"type\": \"contour\"}], \"contourcarpet\": [{\"colorbar\": {\"outlinewidth\": 0, \"ticks\": \"\"}, \"type\": \"contourcarpet\"}], \"heatmap\": [{\"colorbar\": {\"outlinewidth\": 0, \"ticks\": \"\"}, \"colorscale\": [[0.0, \"#0d0887\"], [0.1111111111111111, \"#46039f\"], [0.2222222222222222, \"#7201a8\"], [0.3333333333333333, \"#9c179e\"], [0.4444444444444444, \"#bd3786\"], [0.5555555555555556, \"#d8576b\"], [0.6666666666666666, \"#ed7953\"], [0.7777777777777778, \"#fb9f3a\"], [0.8888888888888888, \"#fdca26\"], [1.0, \"#f0f921\"]], \"type\": \"heatmap\"}], \"heatmapgl\": [{\"colorbar\": {\"outlinewidth\": 0, \"ticks\": \"\"}, \"colorscale\": [[0.0, \"#0d0887\"], [0.1111111111111111, \"#46039f\"], [0.2222222222222222, \"#7201a8\"], [0.3333333333333333, \"#9c179e\"], [0.4444444444444444, \"#bd3786\"], [0.5555555555555556, \"#d8576b\"], [0.6666666666666666, \"#ed7953\"], [0.7777777777777778, \"#fb9f3a\"], [0.8888888888888888, \"#fdca26\"], [1.0, \"#f0f921\"]], \"type\": \"heatmapgl\"}], \"histogram\": [{\"marker\": {\"colorbar\": {\"outlinewidth\": 0, \"ticks\": \"\"}}, \"type\": \"histogram\"}], \"histogram2d\": [{\"colorbar\": {\"outlinewidth\": 0, \"ticks\": \"\"}, \"colorscale\": [[0.0, \"#0d0887\"], [0.1111111111111111, \"#46039f\"], [0.2222222222222222, \"#7201a8\"], [0.3333333333333333, \"#9c179e\"], [0.4444444444444444, \"#bd3786\"], [0.5555555555555556, \"#d8576b\"], [0.6666666666666666, \"#ed7953\"], [0.7777777777777778, \"#fb9f3a\"], [0.8888888888888888, \"#fdca26\"], [1.0, \"#f0f921\"]], \"type\": \"histogram2d\"}], \"histogram2dcontour\": [{\"colorbar\": {\"outlinewidth\": 0, \"ticks\": \"\"}, \"colorscale\": [[0.0, \"#0d0887\"], [0.1111111111111111, \"#46039f\"], [0.2222222222222222, \"#7201a8\"], [0.3333333333333333, \"#9c179e\"], [0.4444444444444444, \"#bd3786\"], [0.5555555555555556, \"#d8576b\"], [0.6666666666666666, \"#ed7953\"], [0.7777777777777778, \"#fb9f3a\"], [0.8888888888888888, \"#fdca26\"], [1.0, \"#f0f921\"]], \"type\": \"histogram2dcontour\"}], \"mesh3d\": [{\"colorbar\": {\"outlinewidth\": 0, \"ticks\": \"\"}, \"type\": \"mesh3d\"}], \"parcoords\": [{\"line\": {\"colorbar\": {\"outlinewidth\": 0, \"ticks\": \"\"}}, \"type\": \"parcoords\"}], \"pie\": [{\"automargin\": true, \"type\": \"pie\"}], \"scatter\": [{\"marker\": {\"line\": {\"color\": \"#283442\"}}, \"type\": \"scatter\"}], \"scatter3d\": [{\"line\": {\"colorbar\": {\"outlinewidth\": 0, \"ticks\": \"\"}}, \"marker\": {\"colorbar\": {\"outlinewidth\": 0, \"ticks\": \"\"}}, \"type\": \"scatter3d\"}], \"scattercarpet\": [{\"marker\": {\"colorbar\": {\"outlinewidth\": 0, \"ticks\": \"\"}}, \"type\": \"scattercarpet\"}], \"scattergeo\": [{\"marker\": {\"colorbar\": {\"outlinewidth\": 0, \"ticks\": \"\"}}, \"type\": \"scattergeo\"}], \"scattergl\": [{\"marker\": {\"line\": {\"color\": \"#283442\"}}, \"type\": \"scattergl\"}], \"scattermapbox\": [{\"marker\": {\"colorbar\": {\"outlinewidth\": 0, \"ticks\": \"\"}}, \"type\": \"scattermapbox\"}], \"scatterpolar\": [{\"marker\": {\"colorbar\": {\"outlinewidth\": 0, \"ticks\": \"\"}}, \"type\": \"scatterpolar\"}], \"scatterpolargl\": [{\"marker\": {\"colorbar\": {\"outlinewidth\": 0, \"ticks\": \"\"}}, \"type\": \"scatterpolargl\"}], \"scatterternary\": [{\"marker\": {\"colorbar\": {\"outlinewidth\": 0, \"ticks\": \"\"}}, \"type\": \"scatterternary\"}], \"surface\": [{\"colorbar\": {\"outlinewidth\": 0, \"ticks\": \"\"}, \"colorscale\": [[0.0, \"#0d0887\"], [0.1111111111111111, \"#46039f\"], [0.2222222222222222, \"#7201a8\"], [0.3333333333333333, \"#9c179e\"], [0.4444444444444444, \"#bd3786\"], [0.5555555555555556, \"#d8576b\"], [0.6666666666666666, \"#ed7953\"], [0.7777777777777778, \"#fb9f3a\"], [0.8888888888888888, \"#fdca26\"], [1.0, \"#f0f921\"]], \"type\": \"surface\"}], \"table\": [{\"cells\": {\"fill\": {\"color\": \"#506784\"}, \"line\": {\"color\": \"rgb(17,17,17)\"}}, \"header\": {\"fill\": {\"color\": \"#2a3f5f\"}, \"line\": {\"color\": \"rgb(17,17,17)\"}}, \"type\": \"table\"}]}, \"layout\": {\"annotationdefaults\": {\"arrowcolor\": \"#f2f5fa\", \"arrowhead\": 0, \"arrowwidth\": 1}, \"coloraxis\": {\"colorbar\": {\"outlinewidth\": 0, \"ticks\": \"\"}}, \"colorscale\": {\"diverging\": [[0, \"#8e0152\"], [0.1, \"#c51b7d\"], [0.2, \"#de77ae\"], [0.3, \"#f1b6da\"], [0.4, \"#fde0ef\"], [0.5, \"#f7f7f7\"], [0.6, \"#e6f5d0\"], [0.7, \"#b8e186\"], [0.8, \"#7fbc41\"], [0.9, \"#4d9221\"], [1, \"#276419\"]], \"sequential\": [[0.0, \"#0d0887\"], [0.1111111111111111, \"#46039f\"], [0.2222222222222222, \"#7201a8\"], [0.3333333333333333, \"#9c179e\"], [0.4444444444444444, \"#bd3786\"], [0.5555555555555556, \"#d8576b\"], [0.6666666666666666, \"#ed7953\"], [0.7777777777777778, \"#fb9f3a\"], [0.8888888888888888, \"#fdca26\"], [1.0, \"#f0f921\"]], \"sequentialminus\": [[0.0, \"#0d0887\"], [0.1111111111111111, \"#46039f\"], [0.2222222222222222, \"#7201a8\"], [0.3333333333333333, \"#9c179e\"], [0.4444444444444444, \"#bd3786\"], [0.5555555555555556, \"#d8576b\"], [0.6666666666666666, \"#ed7953\"], [0.7777777777777778, \"#fb9f3a\"], [0.8888888888888888, \"#fdca26\"], [1.0, \"#f0f921\"]]}, \"colorway\": [\"#636efa\", \"#EF553B\", \"#00cc96\", \"#ab63fa\", \"#FFA15A\", \"#19d3f3\", \"#FF6692\", \"#B6E880\", \"#FF97FF\", \"#FECB52\"], \"font\": {\"color\": \"#f2f5fa\"}, \"geo\": {\"bgcolor\": \"rgb(17,17,17)\", \"lakecolor\": \"rgb(17,17,17)\", \"landcolor\": \"rgb(17,17,17)\", \"showlakes\": true, \"showland\": true, \"subunitcolor\": \"#506784\"}, \"hoverlabel\": {\"align\": \"left\"}, \"hovermode\": \"closest\", \"mapbox\": {\"style\": \"dark\"}, \"paper_bgcolor\": \"rgb(17,17,17)\", \"plot_bgcolor\": \"rgb(17,17,17)\", \"polar\": {\"angularaxis\": {\"gridcolor\": \"#506784\", \"linecolor\": \"#506784\", \"ticks\": \"\"}, \"bgcolor\": \"rgb(17,17,17)\", \"radialaxis\": {\"gridcolor\": \"#506784\", \"linecolor\": \"#506784\", \"ticks\": \"\"}}, \"scene\": {\"xaxis\": {\"backgroundcolor\": \"rgb(17,17,17)\", \"gridcolor\": \"#506784\", \"gridwidth\": 2, \"linecolor\": \"#506784\", \"showbackground\": true, \"ticks\": \"\", \"zerolinecolor\": \"#C8D4E3\"}, \"yaxis\": {\"backgroundcolor\": \"rgb(17,17,17)\", \"gridcolor\": \"#506784\", \"gridwidth\": 2, \"linecolor\": \"#506784\", \"showbackground\": true, \"ticks\": \"\", \"zerolinecolor\": \"#C8D4E3\"}, \"zaxis\": {\"backgroundcolor\": \"rgb(17,17,17)\", \"gridcolor\": \"#506784\", \"gridwidth\": 2, \"linecolor\": \"#506784\", \"showbackground\": true, \"ticks\": \"\", \"zerolinecolor\": \"#C8D4E3\"}}, \"shapedefaults\": {\"line\": {\"color\": \"#f2f5fa\"}}, \"sliderdefaults\": {\"bgcolor\": \"#C8D4E3\", \"bordercolor\": \"rgb(17,17,17)\", \"borderwidth\": 1, \"tickwidth\": 0}, \"ternary\": {\"aaxis\": {\"gridcolor\": \"#506784\", \"linecolor\": \"#506784\", \"ticks\": \"\"}, \"baxis\": {\"gridcolor\": \"#506784\", \"linecolor\": \"#506784\", \"ticks\": \"\"}, \"bgcolor\": \"rgb(17,17,17)\", \"caxis\": {\"gridcolor\": \"#506784\", \"linecolor\": \"#506784\", \"ticks\": \"\"}}, \"title\": {\"x\": 0.05}, \"updatemenudefaults\": {\"bgcolor\": \"#506784\", \"borderwidth\": 0}, \"xaxis\": {\"automargin\": true, \"gridcolor\": \"#283442\", \"linecolor\": \"#506784\", \"ticks\": \"\", \"title\": {\"standoff\": 15}, \"zerolinecolor\": \"#283442\", \"zerolinewidth\": 2}, \"yaxis\": {\"automargin\": true, \"gridcolor\": \"#283442\", \"linecolor\": \"#506784\", \"ticks\": \"\", \"title\": {\"standoff\": 15}, \"zerolinecolor\": \"#283442\", \"zerolinewidth\": 2}}}, \"title\": {\"text\": \"Average rentals by hour and month\", \"x\": 0.5, \"xanchor\": \"center\", \"y\": 0.9, \"yanchor\": \"middle\"}, \"xaxis\": {\"tickmode\": \"array\", \"ticktext\": [\"00:00\", \"01:00\", \"02:00\", \"03:00\", \"04:00\", \"05:00\", \"06:00\", \"07:00\", \"08:00\", \"09:00\", \"10:00\", \"11:00\", \"12:00\", \"13:00\", \"14:00\", \"15:00\", \"16:00\", \"17:00\", \"18:00\", \"19:00\", \"20:00\", \"21:00\", \"22:00\", \"23:00\"], \"tickvals\": [0, 1, 2, 3, 4, 5, 6, 7, 8, 9, 10, 11, 12, 13, 14, 15, 16, 17, 18, 19, 20, 21, 22, 23], \"title\": {\"text\": \"hour of day\"}}, \"yaxis\": {\"title\": {\"text\": \"no. of rentals\"}}},\n",
       "                        {\"responsive\": true}\n",
       "                    ).then(function(){\n",
       "                            \n",
       "var gd = document.getElementById('39fffe45-8d60-4ad2-be3b-0b90feb8d362');\n",
       "var x = new MutationObserver(function (mutations, observer) {{\n",
       "        var display = window.getComputedStyle(gd).display;\n",
       "        if (!display || display === 'none') {{\n",
       "            console.log([gd, 'removed!']);\n",
       "            Plotly.purge(gd);\n",
       "            observer.disconnect();\n",
       "        }}\n",
       "}});\n",
       "\n",
       "// Listen for the removal of the full notebook cells\n",
       "var notebookContainer = gd.closest('#notebook-container');\n",
       "if (notebookContainer) {{\n",
       "    x.observe(notebookContainer, {childList: true});\n",
       "}}\n",
       "\n",
       "// Listen for the clearing of the current output cell\n",
       "var outputEl = gd.closest('.output');\n",
       "if (outputEl) {{\n",
       "    x.observe(outputEl, {childList: true});\n",
       "}}\n",
       "\n",
       "                        })\n",
       "                };\n",
       "                });\n",
       "            </script>\n",
       "        </div>"
      ]
     },
     "metadata": {},
     "output_type": "display_data"
    }
   ],
   "source": [
    "iplot(hourAvgMonthPlot)"
   ]
  },
  {
   "cell_type": "markdown",
   "metadata": {},
   "source": [
    "## Rental time <a id=\"durationAggPlot\"></a>"
   ]
  },
  {
   "cell_type": "code",
   "execution_count": 11,
   "metadata": {},
   "outputs": [
    {
     "data": {
      "application/vnd.plotly.v1+json": {
       "config": {
        "linkText": "Export to plot.ly",
        "plotlyServerURL": "https://plot.ly",
        "showLink": false
       },
       "data": [
        {
         "mode": "lines",
         "type": "scatter",
         "x": [
          "00:00:34",
          "00:00:52",
          "00:00:53",
          "00:00:55",
          "00:00:56",
          "00:00:57",
          "00:01:02",
          "00:01:03",
          "00:01:04",
          "00:01:06",
          "00:01:08",
          "00:01:09",
          "00:01:13",
          "00:01:14",
          "00:01:15",
          "00:01:17",
          "00:01:18",
          "00:01:19",
          "00:01:20",
          "00:01:21",
          "00:01:22",
          "00:01:23",
          "00:01:24",
          "00:01:25",
          "00:01:26",
          "00:01:27",
          "00:01:28",
          "00:01:29",
          "00:01:30",
          "00:01:31",
          "00:01:32",
          "00:01:33",
          "00:01:34",
          "00:01:35",
          "00:01:36",
          "00:01:37",
          "00:01:38",
          "00:01:39",
          "00:01:40",
          "00:01:41",
          "00:01:42",
          "00:01:43",
          "00:01:44",
          "00:01:45",
          "00:01:46",
          "00:01:47",
          "00:01:48",
          "00:01:49",
          "00:01:50",
          "00:01:51",
          "00:01:52",
          "00:01:53",
          "00:01:54",
          "00:01:55",
          "00:01:56",
          "00:01:57",
          "00:01:58",
          "00:01:59",
          "00:02:00",
          "00:02:01",
          "00:02:02",
          "00:02:03",
          "00:02:04",
          "00:02:05",
          "00:02:06",
          "00:02:07",
          "00:02:08",
          "00:02:09",
          "00:02:10",
          "00:02:11",
          "00:02:12",
          "00:02:13",
          "00:02:14",
          "00:02:15",
          "00:02:16",
          "00:02:17",
          "00:02:18",
          "00:02:19",
          "00:02:20",
          "00:02:21",
          "00:02:22",
          "00:02:23",
          "00:02:24",
          "00:02:25",
          "00:02:26",
          "00:02:27",
          "00:02:28",
          "00:02:29",
          "00:02:30",
          "00:02:31",
          "00:02:32",
          "00:02:33",
          "00:02:34",
          "00:02:35",
          "00:02:36",
          "00:02:37",
          "00:02:38",
          "00:02:39",
          "00:02:40",
          "00:02:41",
          "00:02:42",
          "00:02:43",
          "00:02:44",
          "00:02:45",
          "00:02:46",
          "00:02:47",
          "00:02:48",
          "00:02:49",
          "00:02:50",
          "00:02:51",
          "00:02:52",
          "00:02:53",
          "00:02:54",
          "00:02:55",
          "00:02:56",
          "00:02:57",
          "00:02:58",
          "00:02:59",
          "00:03:00",
          "00:03:01",
          "00:03:02",
          "00:03:03",
          "00:03:04",
          "00:03:05",
          "00:03:06",
          "00:03:07",
          "00:03:08",
          "00:03:09",
          "00:03:10",
          "00:03:11",
          "00:03:12",
          "00:03:13",
          "00:03:14",
          "00:03:15",
          "00:03:16",
          "00:03:17",
          "00:03:18",
          "00:03:19",
          "00:03:20",
          "00:03:21",
          "00:03:22",
          "00:03:23",
          "00:03:24",
          "00:03:25",
          "00:03:26",
          "00:03:27",
          "00:03:28",
          "00:03:29",
          "00:03:30",
          "00:03:31",
          "00:03:32",
          "00:03:33",
          "00:03:34",
          "00:03:35",
          "00:03:36",
          "00:03:37",
          "00:03:38",
          "00:03:39",
          "00:03:40",
          "00:03:41",
          "00:03:42",
          "00:03:43",
          "00:03:44",
          "00:03:45",
          "00:03:46",
          "00:03:47",
          "00:03:48",
          "00:03:49",
          "00:03:50",
          "00:03:51",
          "00:03:52",
          "00:03:53",
          "00:03:54",
          "00:03:55",
          "00:03:56",
          "00:03:57",
          "00:03:58",
          "00:03:59",
          "00:04:00",
          "00:04:01",
          "00:04:02",
          "00:04:03",
          "00:04:04",
          "00:04:05",
          "00:04:06",
          "00:04:07",
          "00:04:08",
          "00:04:09",
          "00:04:10",
          "00:04:11",
          "00:04:12",
          "00:04:13",
          "00:04:14",
          "00:04:15",
          "00:04:16",
          "00:04:17",
          "00:04:18",
          "00:04:19",
          "00:04:20",
          "00:04:21",
          "00:04:22",
          "00:04:23",
          "00:04:24",
          "00:04:25",
          "00:04:26",
          "00:04:27",
          "00:04:28",
          "00:04:29",
          "00:04:30",
          "00:04:31",
          "00:04:32",
          "00:04:33",
          "00:04:34",
          "00:04:35",
          "00:04:36",
          "00:04:37",
          "00:04:38",
          "00:04:39",
          "00:04:40",
          "00:04:41",
          "00:04:42",
          "00:04:43",
          "00:04:44",
          "00:04:45",
          "00:04:46",
          "00:04:47",
          "00:04:48",
          "00:04:49",
          "00:04:50",
          "00:04:51",
          "00:04:52",
          "00:04:53",
          "00:04:54",
          "00:04:55",
          "00:04:56",
          "00:04:57",
          "00:04:58",
          "00:04:59",
          "00:05:00",
          "00:05:01",
          "00:05:02",
          "00:05:03",
          "00:05:04",
          "00:05:05",
          "00:05:06",
          "00:05:07",
          "00:05:08",
          "00:05:09",
          "00:05:10",
          "00:05:11",
          "00:05:12",
          "00:05:13",
          "00:05:14",
          "00:05:15",
          "00:05:16",
          "00:05:17",
          "00:05:18",
          "00:05:19",
          "00:05:20",
          "00:05:21",
          "00:05:22",
          "00:05:23",
          "00:05:24",
          "00:05:25",
          "00:05:26",
          "00:05:27",
          "00:05:28",
          "00:05:29",
          "00:05:30",
          "00:05:31",
          "00:05:32",
          "00:05:33",
          "00:05:34",
          "00:05:35",
          "00:05:36",
          "00:05:37",
          "00:05:38",
          "00:05:39",
          "00:05:40",
          "00:05:41",
          "00:05:42",
          "00:05:43",
          "00:05:44",
          "00:05:45",
          "00:05:46",
          "00:05:47",
          "00:05:48",
          "00:05:49",
          "00:05:50",
          "00:05:51",
          "00:05:52",
          "00:05:53",
          "00:05:54",
          "00:05:55",
          "00:05:56",
          "00:05:57",
          "00:05:58",
          "00:05:59",
          "00:06:00",
          "00:06:01",
          "00:06:02",
          "00:06:03",
          "00:06:04",
          "00:06:05",
          "00:06:06",
          "00:06:07",
          "00:06:08",
          "00:06:09",
          "00:06:10",
          "00:06:11",
          "00:06:12",
          "00:06:13",
          "00:06:14",
          "00:06:15",
          "00:06:16",
          "00:06:17",
          "00:06:18",
          "00:06:19",
          "00:06:20",
          "00:06:21",
          "00:06:22",
          "00:06:23",
          "00:06:24",
          "00:06:25",
          "00:06:26",
          "00:06:27",
          "00:06:28",
          "00:06:29",
          "00:06:30",
          "00:06:31",
          "00:06:32",
          "00:06:33",
          "00:06:34",
          "00:06:35",
          "00:06:36",
          "00:06:37",
          "00:06:38",
          "00:06:39",
          "00:06:40",
          "00:06:41",
          "00:06:42",
          "00:06:43",
          "00:06:44",
          "00:06:45",
          "00:06:46",
          "00:06:47",
          "00:06:48",
          "00:06:49",
          "00:06:50",
          "00:06:51",
          "00:06:52",
          "00:06:53",
          "00:06:54",
          "00:06:55",
          "00:06:56",
          "00:06:57",
          "00:06:58",
          "00:06:59",
          "00:07:00",
          "00:07:01",
          "00:07:02",
          "00:07:03",
          "00:07:04",
          "00:07:05",
          "00:07:06",
          "00:07:07",
          "00:07:08",
          "00:07:09",
          "00:07:10",
          "00:07:11",
          "00:07:12",
          "00:07:13",
          "00:07:14",
          "00:07:15",
          "00:07:16",
          "00:07:17",
          "00:07:18",
          "00:07:19",
          "00:07:20",
          "00:07:21",
          "00:07:22",
          "00:07:23",
          "00:07:24",
          "00:07:25",
          "00:07:26",
          "00:07:27",
          "00:07:28",
          "00:07:29",
          "00:07:30",
          "00:07:31",
          "00:07:32",
          "00:07:33",
          "00:07:34",
          "00:07:35",
          "00:07:36",
          "00:07:37",
          "00:07:38",
          "00:07:39",
          "00:07:40",
          "00:07:41",
          "00:07:42",
          "00:07:43",
          "00:07:44",
          "00:07:45",
          "00:07:46",
          "00:07:47",
          "00:07:48",
          "00:07:49",
          "00:07:50",
          "00:07:51",
          "00:07:52",
          "00:07:53",
          "00:07:54",
          "00:07:55",
          "00:07:56",
          "00:07:57",
          "00:07:58",
          "00:07:59",
          "00:08:00",
          "00:08:01",
          "00:08:02",
          "00:08:03",
          "00:08:04",
          "00:08:05",
          "00:08:06",
          "00:08:07",
          "00:08:08",
          "00:08:09",
          "00:08:10",
          "00:08:11",
          "00:08:12",
          "00:08:13",
          "00:08:14",
          "00:08:15",
          "00:08:16",
          "00:08:17",
          "00:08:18",
          "00:08:19",
          "00:08:20",
          "00:08:21",
          "00:08:22",
          "00:08:23",
          "00:08:24",
          "00:08:25",
          "00:08:26",
          "00:08:27",
          "00:08:28",
          "00:08:29",
          "00:08:30",
          "00:08:31",
          "00:08:32",
          "00:08:33",
          "00:08:34",
          "00:08:35",
          "00:08:36",
          "00:08:37",
          "00:08:38",
          "00:08:39",
          "00:08:40",
          "00:08:41",
          "00:08:42",
          "00:08:43",
          "00:08:44",
          "00:08:45",
          "00:08:46",
          "00:08:47",
          "00:08:48",
          "00:08:49",
          "00:08:50",
          "00:08:51",
          "00:08:52",
          "00:08:53",
          "00:08:54",
          "00:08:55",
          "00:08:56",
          "00:08:57",
          "00:08:58",
          "00:08:59",
          "00:09:00",
          "00:09:01",
          "00:09:02",
          "00:09:03",
          "00:09:04",
          "00:09:05",
          "00:09:06",
          "00:09:07",
          "00:09:08",
          "00:09:09",
          "00:09:10",
          "00:09:11",
          "00:09:12",
          "00:09:13",
          "00:09:14",
          "00:09:15",
          "00:09:16",
          "00:09:17",
          "00:09:18",
          "00:09:19",
          "00:09:20",
          "00:09:21",
          "00:09:22",
          "00:09:23",
          "00:09:24",
          "00:09:25",
          "00:09:26",
          "00:09:27",
          "00:09:28",
          "00:09:29",
          "00:09:30",
          "00:09:31",
          "00:09:32",
          "00:09:33",
          "00:09:34",
          "00:09:35",
          "00:09:36",
          "00:09:37",
          "00:09:38",
          "00:09:39",
          "00:09:40",
          "00:09:41",
          "00:09:42",
          "00:09:43",
          "00:09:44",
          "00:09:45",
          "00:09:46",
          "00:09:47",
          "00:09:48",
          "00:09:49",
          "00:09:50",
          "00:09:51",
          "00:09:52",
          "00:09:53",
          "00:09:54",
          "00:09:55",
          "00:09:56",
          "00:09:57",
          "00:09:58",
          "00:09:59",
          "00:10:00",
          "00:10:01",
          "00:10:02",
          "00:10:03",
          "00:10:04",
          "00:10:05",
          "00:10:06",
          "00:10:07",
          "00:10:08",
          "00:10:09",
          "00:10:10",
          "00:10:11",
          "00:10:12",
          "00:10:13",
          "00:10:14",
          "00:10:15",
          "00:10:16",
          "00:10:17",
          "00:10:18",
          "00:10:19",
          "00:10:20",
          "00:10:21",
          "00:10:22",
          "00:10:23",
          "00:10:24",
          "00:10:25",
          "00:10:26",
          "00:10:27",
          "00:10:28",
          "00:10:29",
          "00:10:30",
          "00:10:31",
          "00:10:32",
          "00:10:33",
          "00:10:34",
          "00:10:35",
          "00:10:36",
          "00:10:37",
          "00:10:38",
          "00:10:39",
          "00:10:40",
          "00:10:41",
          "00:10:42",
          "00:10:43",
          "00:10:44",
          "00:10:45",
          "00:10:46",
          "00:10:47",
          "00:10:48",
          "00:10:49",
          "00:10:50",
          "00:10:51",
          "00:10:52",
          "00:10:53",
          "00:10:54",
          "00:10:55",
          "00:10:56",
          "00:10:57",
          "00:10:58",
          "00:10:59",
          "00:11:00",
          "00:11:01",
          "00:11:02",
          "00:11:03",
          "00:11:04",
          "00:11:05",
          "00:11:06",
          "00:11:07",
          "00:11:08",
          "00:11:09",
          "00:11:10",
          "00:11:11",
          "00:11:12",
          "00:11:13",
          "00:11:14",
          "00:11:15",
          "00:11:16",
          "00:11:17",
          "00:11:18",
          "00:11:19",
          "00:11:20",
          "00:11:21",
          "00:11:22",
          "00:11:23",
          "00:11:24",
          "00:11:25",
          "00:11:26",
          "00:11:27",
          "00:11:28",
          "00:11:29",
          "00:11:30",
          "00:11:31",
          "00:11:32",
          "00:11:33",
          "00:11:34",
          "00:11:35",
          "00:11:36",
          "00:11:37",
          "00:11:38",
          "00:11:39",
          "00:11:40",
          "00:11:41",
          "00:11:42",
          "00:11:43",
          "00:11:44",
          "00:11:45",
          "00:11:46",
          "00:11:47",
          "00:11:48",
          "00:11:49",
          "00:11:50",
          "00:11:51",
          "00:11:52",
          "00:11:53",
          "00:11:54",
          "00:11:55",
          "00:11:56",
          "00:11:57",
          "00:11:58",
          "00:11:59",
          "00:12:00",
          "00:12:01",
          "00:12:02",
          "00:12:03",
          "00:12:04",
          "00:12:05",
          "00:12:06",
          "00:12:07",
          "00:12:08",
          "00:12:09",
          "00:12:10",
          "00:12:11",
          "00:12:12",
          "00:12:13",
          "00:12:14",
          "00:12:15",
          "00:12:16",
          "00:12:17",
          "00:12:18",
          "00:12:19",
          "00:12:20",
          "00:12:21",
          "00:12:22",
          "00:12:23",
          "00:12:24",
          "00:12:25",
          "00:12:26",
          "00:12:27",
          "00:12:28",
          "00:12:29",
          "00:12:30",
          "00:12:31",
          "00:12:32",
          "00:12:33",
          "00:12:34",
          "00:12:35",
          "00:12:36",
          "00:12:37",
          "00:12:38",
          "00:12:39",
          "00:12:40",
          "00:12:41",
          "00:12:42",
          "00:12:43",
          "00:12:44",
          "00:12:45",
          "00:12:46",
          "00:12:47",
          "00:12:48",
          "00:12:49",
          "00:12:50",
          "00:12:51",
          "00:12:52",
          "00:12:53",
          "00:12:54",
          "00:12:55",
          "00:12:56",
          "00:12:57",
          "00:12:58",
          "00:12:59",
          "00:13:00",
          "00:13:01",
          "00:13:02",
          "00:13:03",
          "00:13:04",
          "00:13:05",
          "00:13:06",
          "00:13:07",
          "00:13:08",
          "00:13:09",
          "00:13:10",
          "00:13:11",
          "00:13:12",
          "00:13:13",
          "00:13:14",
          "00:13:15",
          "00:13:16",
          "00:13:17",
          "00:13:18",
          "00:13:19",
          "00:13:20",
          "00:13:21",
          "00:13:22",
          "00:13:23",
          "00:13:24",
          "00:13:25",
          "00:13:26",
          "00:13:27",
          "00:13:28",
          "00:13:29",
          "00:13:30",
          "00:13:31",
          "00:13:32",
          "00:13:33",
          "00:13:34",
          "00:13:35",
          "00:13:36",
          "00:13:37",
          "00:13:38",
          "00:13:39",
          "00:13:40",
          "00:13:41",
          "00:13:42",
          "00:13:43",
          "00:13:44",
          "00:13:45",
          "00:13:46",
          "00:13:47",
          "00:13:48",
          "00:13:49",
          "00:13:50",
          "00:13:51",
          "00:13:52",
          "00:13:53",
          "00:13:54",
          "00:13:55",
          "00:13:56",
          "00:13:57",
          "00:13:58",
          "00:13:59",
          "00:14:00",
          "00:14:01",
          "00:14:02",
          "00:14:03",
          "00:14:04",
          "00:14:05",
          "00:14:06",
          "00:14:07",
          "00:14:08",
          "00:14:09",
          "00:14:10",
          "00:14:11",
          "00:14:12",
          "00:14:13",
          "00:14:14",
          "00:14:15",
          "00:14:16",
          "00:14:17",
          "00:14:18",
          "00:14:19",
          "00:14:20",
          "00:14:21",
          "00:14:22",
          "00:14:23",
          "00:14:24",
          "00:14:25",
          "00:14:26",
          "00:14:27",
          "00:14:28",
          "00:14:29",
          "00:14:30",
          "00:14:31",
          "00:14:32",
          "00:14:33",
          "00:14:34",
          "00:14:35",
          "00:14:36",
          "00:14:37",
          "00:14:38",
          "00:14:39",
          "00:14:40",
          "00:14:41",
          "00:14:42",
          "00:14:43",
          "00:14:44",
          "00:14:45",
          "00:14:46",
          "00:14:47",
          "00:14:48",
          "00:14:49",
          "00:14:50",
          "00:14:51",
          "00:14:52",
          "00:14:53",
          "00:14:54",
          "00:14:55",
          "00:14:56",
          "00:14:57",
          "00:14:58",
          "00:14:59",
          "00:15:00",
          "00:15:01",
          "00:15:02",
          "00:15:03",
          "00:15:04",
          "00:15:05",
          "00:15:06",
          "00:15:07",
          "00:15:08",
          "00:15:09",
          "00:15:10",
          "00:15:11",
          "00:15:12",
          "00:15:13",
          "00:15:14",
          "00:15:15",
          "00:15:16",
          "00:15:17",
          "00:15:18",
          "00:15:19",
          "00:15:20",
          "00:15:21",
          "00:15:22",
          "00:15:23",
          "00:15:24",
          "00:15:25",
          "00:15:26",
          "00:15:27",
          "00:15:28",
          "00:15:29",
          "00:15:30",
          "00:15:31",
          "00:15:32",
          "00:15:33",
          "00:15:34",
          "00:15:35",
          "00:15:36",
          "00:15:37",
          "00:15:38",
          "00:15:39",
          "00:15:40",
          "00:15:41",
          "00:15:42",
          "00:15:43",
          "00:15:44",
          "00:15:45",
          "00:15:46",
          "00:15:47",
          "00:15:48",
          "00:15:49",
          "00:15:50",
          "00:15:51",
          "00:15:52",
          "00:15:53",
          "00:15:54",
          "00:15:55",
          "00:15:56",
          "00:15:57",
          "00:15:58",
          "00:15:59",
          "00:16:00",
          "00:16:01",
          "00:16:02",
          "00:16:03",
          "00:16:04",
          "00:16:05",
          "00:16:06",
          "00:16:07",
          "00:16:08",
          "00:16:09",
          "00:16:10",
          "00:16:11",
          "00:16:12",
          "00:16:13",
          "00:16:14",
          "00:16:15",
          "00:16:16",
          "00:16:17",
          "00:16:18",
          "00:16:19",
          "00:16:20",
          "00:16:21",
          "00:16:22",
          "00:16:23",
          "00:16:24",
          "00:16:25",
          "00:16:26",
          "00:16:27",
          "00:16:28",
          "00:16:29",
          "00:16:30",
          "00:16:31",
          "00:16:32",
          "00:16:33",
          "00:16:34",
          "00:16:35",
          "00:16:36",
          "00:16:37",
          "00:16:38",
          "00:16:39",
          "00:16:40",
          "00:16:41",
          "00:16:42",
          "00:16:43",
          "00:16:44",
          "00:16:45",
          "00:16:46",
          "00:16:47",
          "00:16:48",
          "00:16:49",
          "00:16:50",
          "00:16:51",
          "00:16:52",
          "00:16:53",
          "00:16:54",
          "00:16:55",
          "00:16:56",
          "00:16:57",
          "00:16:58",
          "00:16:59",
          "00:17:00",
          "00:17:01",
          "00:17:02",
          "00:17:03",
          "00:17:04",
          "00:17:05",
          "00:17:06",
          "00:17:07",
          "00:17:08",
          "00:17:09",
          "00:17:10",
          "00:17:11",
          "00:17:12",
          "00:17:13",
          "00:17:14",
          "00:17:15",
          "00:17:16",
          "00:17:17",
          "00:17:18",
          "00:17:19",
          "00:17:20",
          "00:17:21",
          "00:17:22",
          "00:17:23",
          "00:17:24",
          "00:17:25",
          "00:17:26",
          "00:17:27",
          "00:17:28",
          "00:17:29",
          "00:17:30",
          "00:17:31",
          "00:17:32",
          "00:17:33",
          "00:17:34",
          "00:17:35",
          "00:17:36",
          "00:17:37",
          "00:17:38",
          "00:17:39",
          "00:17:40",
          "00:17:41",
          "00:17:42",
          "00:17:43",
          "00:17:44",
          "00:17:45",
          "00:17:46",
          "00:17:47",
          "00:17:48",
          "00:17:49",
          "00:17:50",
          "00:17:51",
          "00:17:52",
          "00:17:53",
          "00:17:54",
          "00:17:55",
          "00:17:56",
          "00:17:57",
          "00:17:58",
          "00:17:59",
          "00:18:00",
          "00:18:01",
          "00:18:02",
          "00:18:03",
          "00:18:04",
          "00:18:05",
          "00:18:06",
          "00:18:07",
          "00:18:08",
          "00:18:09",
          "00:18:10",
          "00:18:11",
          "00:18:12",
          "00:18:13",
          "00:18:14",
          "00:18:15",
          "00:18:16",
          "00:18:17",
          "00:18:18",
          "00:18:19",
          "00:18:20",
          "00:18:21",
          "00:18:22",
          "00:18:23",
          "00:18:24",
          "00:18:25",
          "00:18:26",
          "00:18:27",
          "00:18:28",
          "00:18:29",
          "00:18:30",
          "00:18:31",
          "00:18:32",
          "00:18:33",
          "00:18:34",
          "00:18:35",
          "00:18:36",
          "00:18:37",
          "00:18:38",
          "00:18:39",
          "00:18:40",
          "00:18:41",
          "00:18:42",
          "00:18:43",
          "00:18:44",
          "00:18:45",
          "00:18:46",
          "00:18:47",
          "00:18:48",
          "00:18:49",
          "00:18:50",
          "00:18:51",
          "00:18:52",
          "00:18:53",
          "00:18:54",
          "00:18:55",
          "00:18:56",
          "00:18:57",
          "00:18:58",
          "00:18:59",
          "00:19:00",
          "00:19:01",
          "00:19:02",
          "00:19:03",
          "00:19:04",
          "00:19:05",
          "00:19:06",
          "00:19:07",
          "00:19:08",
          "00:19:09",
          "00:19:10",
          "00:19:11",
          "00:19:12",
          "00:19:13",
          "00:19:14",
          "00:19:15",
          "00:19:16",
          "00:19:17",
          "00:19:18",
          "00:19:19",
          "00:19:20",
          "00:19:21",
          "00:19:22",
          "00:19:23",
          "00:19:24",
          "00:19:25",
          "00:19:26",
          "00:19:27",
          "00:19:28",
          "00:19:29",
          "00:19:30",
          "00:19:31",
          "00:19:32",
          "00:19:33",
          "00:19:34",
          "00:19:35",
          "00:19:36",
          "00:19:37",
          "00:19:38",
          "00:19:39",
          "00:19:40",
          "00:19:41",
          "00:19:42",
          "00:19:43",
          "00:19:44",
          "00:19:45",
          "00:19:46",
          "00:19:47",
          "00:19:48",
          "00:19:49",
          "00:19:50",
          "00:19:51",
          "00:19:52",
          "00:19:53",
          "00:19:54",
          "00:19:55",
          "00:19:56",
          "00:19:57",
          "00:19:58",
          "00:19:59",
          "00:20:00",
          "00:20:01",
          "00:20:02",
          "00:20:03",
          "00:20:04",
          "00:20:05",
          "00:20:06",
          "00:20:07",
          "00:20:08",
          "00:20:09",
          "00:20:10",
          "00:20:11",
          "00:20:12",
          "00:20:13",
          "00:20:14",
          "00:20:15",
          "00:20:16",
          "00:20:17",
          "00:20:18",
          "00:20:19",
          "00:20:20",
          "00:20:21",
          "00:20:22",
          "00:20:23",
          "00:20:24",
          "00:20:25",
          "00:20:26",
          "00:20:27",
          "00:20:28",
          "00:20:29",
          "00:20:30",
          "00:20:31",
          "00:20:32",
          "00:20:33",
          "00:20:34",
          "00:20:35",
          "00:20:36",
          "00:20:37",
          "00:20:38",
          "00:20:39",
          "00:20:40",
          "00:20:41",
          "00:20:42",
          "00:20:43",
          "00:20:44",
          "00:20:45",
          "00:20:46",
          "00:20:47",
          "00:20:48",
          "00:20:49",
          "00:20:50",
          "00:20:51",
          "00:20:52",
          "00:20:53",
          "00:20:54",
          "00:20:55",
          "00:20:56",
          "00:20:57",
          "00:20:58",
          "00:20:59",
          "00:21:00",
          "00:21:01",
          "00:21:02",
          "00:21:03",
          "00:21:04",
          "00:21:05",
          "00:21:06",
          "00:21:07",
          "00:21:08",
          "00:21:09",
          "00:21:10",
          "00:21:11",
          "00:21:12",
          "00:21:13",
          "00:21:14",
          "00:21:15",
          "00:21:16",
          "00:21:17",
          "00:21:18",
          "00:21:19",
          "00:21:20",
          "00:21:21",
          "00:21:22",
          "00:21:23",
          "00:21:24",
          "00:21:25",
          "00:21:26",
          "00:21:27",
          "00:21:28",
          "00:21:29",
          "00:21:30",
          "00:21:31",
          "00:21:32",
          "00:21:33",
          "00:21:34",
          "00:21:35",
          "00:21:36",
          "00:21:37",
          "00:21:38",
          "00:21:39",
          "00:21:40",
          "00:21:41",
          "00:21:42",
          "00:21:43",
          "00:21:44",
          "00:21:45",
          "00:21:46",
          "00:21:47",
          "00:21:48",
          "00:21:49",
          "00:21:50",
          "00:21:51",
          "00:21:52",
          "00:21:53",
          "00:21:54",
          "00:21:55",
          "00:21:56",
          "00:21:57",
          "00:21:58",
          "00:21:59",
          "00:22:00",
          "00:22:01",
          "00:22:02",
          "00:22:03",
          "00:22:04",
          "00:22:05",
          "00:22:06",
          "00:22:07",
          "00:22:08",
          "00:22:09",
          "00:22:10",
          "00:22:11",
          "00:22:12",
          "00:22:13",
          "00:22:14",
          "00:22:15",
          "00:22:16",
          "00:22:17",
          "00:22:18",
          "00:22:19",
          "00:22:20",
          "00:22:21",
          "00:22:22",
          "00:22:23",
          "00:22:24",
          "00:22:25",
          "00:22:26",
          "00:22:27",
          "00:22:28",
          "00:22:29",
          "00:22:30",
          "00:22:31",
          "00:22:32",
          "00:22:33",
          "00:22:34",
          "00:22:35",
          "00:22:36",
          "00:22:37",
          "00:22:38",
          "00:22:39",
          "00:22:40",
          "00:22:41",
          "00:22:42",
          "00:22:43",
          "00:22:44",
          "00:22:45",
          "00:22:46",
          "00:22:47",
          "00:22:48",
          "00:22:49",
          "00:22:50",
          "00:22:51",
          "00:22:52",
          "00:22:53",
          "00:22:54",
          "00:22:55",
          "00:22:56",
          "00:22:57",
          "00:22:58",
          "00:22:59",
          "00:23:00",
          "00:23:01",
          "00:23:02",
          "00:23:03",
          "00:23:04",
          "00:23:05",
          "00:23:06",
          "00:23:07",
          "00:23:08",
          "00:23:09",
          "00:23:10",
          "00:23:11",
          "00:23:12",
          "00:23:13",
          "00:23:14",
          "00:23:15",
          "00:23:16",
          "00:23:17",
          "00:23:18",
          "00:23:19",
          "00:23:20",
          "00:23:21",
          "00:23:22",
          "00:23:23",
          "00:23:24",
          "00:23:25",
          "00:23:26",
          "00:23:27",
          "00:23:28",
          "00:23:29",
          "00:23:30",
          "00:23:31",
          "00:23:32",
          "00:23:33",
          "00:23:34",
          "00:23:35",
          "00:23:36",
          "00:23:37",
          "00:23:38",
          "00:23:39",
          "00:23:40",
          "00:23:41",
          "00:23:42",
          "00:23:43",
          "00:23:44",
          "00:23:45",
          "00:23:46",
          "00:23:47",
          "00:23:48",
          "00:23:49",
          "00:23:50",
          "00:23:51",
          "00:23:52",
          "00:23:53",
          "00:23:54",
          "00:23:55",
          "00:23:56",
          "00:23:57",
          "00:23:58",
          "00:23:59",
          "00:24:00",
          "00:24:01",
          "00:24:02",
          "00:24:03",
          "00:24:04",
          "00:24:05",
          "00:24:06",
          "00:24:07",
          "00:24:08",
          "00:24:09",
          "00:24:10",
          "00:24:11",
          "00:24:12",
          "00:24:13",
          "00:24:14",
          "00:24:15",
          "00:24:16",
          "00:24:17",
          "00:24:18",
          "00:24:19",
          "00:24:20",
          "00:24:21",
          "00:24:22",
          "00:24:23",
          "00:24:24",
          "00:24:25",
          "00:24:26",
          "00:24:27",
          "00:24:28",
          "00:24:29",
          "00:24:30",
          "00:24:31",
          "00:24:32",
          "00:24:33",
          "00:24:34",
          "00:24:35",
          "00:24:36",
          "00:24:37",
          "00:24:38",
          "00:24:39",
          "00:24:40",
          "00:24:41",
          "00:24:42",
          "00:24:43",
          "00:24:44",
          "00:24:45",
          "00:24:46",
          "00:24:47",
          "00:24:48",
          "00:24:49",
          "00:24:50",
          "00:24:51",
          "00:24:52",
          "00:24:53",
          "00:24:54",
          "00:24:55",
          "00:24:56",
          "00:24:57",
          "00:24:58",
          "00:24:59",
          "00:25:00",
          "00:25:01",
          "00:25:02",
          "00:25:03",
          "00:25:04",
          "00:25:05",
          "00:25:06",
          "00:25:07",
          "00:25:08",
          "00:25:09",
          "00:25:10",
          "00:25:11",
          "00:25:12",
          "00:25:13",
          "00:25:14",
          "00:25:15",
          "00:25:16",
          "00:25:17",
          "00:25:18",
          "00:25:19",
          "00:25:20",
          "00:25:21",
          "00:25:22",
          "00:25:23",
          "00:25:24",
          "00:25:25",
          "00:25:26",
          "00:25:27",
          "00:25:28",
          "00:25:29",
          "00:25:30",
          "00:25:31",
          "00:25:32",
          "00:25:33",
          "00:25:34",
          "00:25:35",
          "00:25:36",
          "00:25:37",
          "00:25:38",
          "00:25:39",
          "00:25:40",
          "00:25:41",
          "00:25:42",
          "00:25:43",
          "00:25:44",
          "00:25:45",
          "00:25:46",
          "00:25:47",
          "00:25:48",
          "00:25:49",
          "00:25:50",
          "00:25:51",
          "00:25:52",
          "00:25:53",
          "00:25:54",
          "00:25:55",
          "00:25:56",
          "00:25:57",
          "00:25:58",
          "00:25:59",
          "00:26:00",
          "00:26:01",
          "00:26:02",
          "00:26:03",
          "00:26:04",
          "00:26:05",
          "00:26:06",
          "00:26:07",
          "00:26:08",
          "00:26:09",
          "00:26:10",
          "00:26:11",
          "00:26:12",
          "00:26:13",
          "00:26:14",
          "00:26:15",
          "00:26:16",
          "00:26:17",
          "00:26:18",
          "00:26:19",
          "00:26:20",
          "00:26:21",
          "00:26:22",
          "00:26:23",
          "00:26:24",
          "00:26:25",
          "00:26:26",
          "00:26:27",
          "00:26:28",
          "00:26:29",
          "00:26:30",
          "00:26:31",
          "00:26:32",
          "00:26:33",
          "00:26:34",
          "00:26:35",
          "00:26:36",
          "00:26:37",
          "00:26:38",
          "00:26:39",
          "00:26:40",
          "00:26:41",
          "00:26:42",
          "00:26:43",
          "00:26:44",
          "00:26:45",
          "00:26:46",
          "00:26:47",
          "00:26:48",
          "00:26:49",
          "00:26:50",
          "00:26:51",
          "00:26:52",
          "00:26:53",
          "00:26:54",
          "00:26:55",
          "00:26:56",
          "00:26:57",
          "00:26:58",
          "00:26:59",
          "00:27:00",
          "00:27:01",
          "00:27:02",
          "00:27:03",
          "00:27:04",
          "00:27:05",
          "00:27:06",
          "00:27:07",
          "00:27:08",
          "00:27:09",
          "00:27:10",
          "00:27:11",
          "00:27:12",
          "00:27:13",
          "00:27:14",
          "00:27:15",
          "00:27:16",
          "00:27:17",
          "00:27:18",
          "00:27:19",
          "00:27:20",
          "00:27:21",
          "00:27:22",
          "00:27:23",
          "00:27:24",
          "00:27:25",
          "00:27:26",
          "00:27:27",
          "00:27:28",
          "00:27:29",
          "00:27:30",
          "00:27:31",
          "00:27:32",
          "00:27:33",
          "00:27:34",
          "00:27:35",
          "00:27:36",
          "00:27:37",
          "00:27:38",
          "00:27:39",
          "00:27:40",
          "00:27:41",
          "00:27:42",
          "00:27:43",
          "00:27:44",
          "00:27:45",
          "00:27:46",
          "00:27:47",
          "00:27:48",
          "00:27:49",
          "00:27:50",
          "00:27:51",
          "00:27:52",
          "00:27:53",
          "00:27:54",
          "00:27:55",
          "00:27:56",
          "00:27:57",
          "00:27:58",
          "00:27:59",
          "00:28:00",
          "00:28:01",
          "00:28:02",
          "00:28:03",
          "00:28:04",
          "00:28:05",
          "00:28:06",
          "00:28:07",
          "00:28:08",
          "00:28:09",
          "00:28:10",
          "00:28:11",
          "00:28:12",
          "00:28:13",
          "00:28:14",
          "00:28:15",
          "00:28:16",
          "00:28:17",
          "00:28:18",
          "00:28:19",
          "00:28:20",
          "00:28:21",
          "00:28:22",
          "00:28:23",
          "00:28:24",
          "00:28:25",
          "00:28:26",
          "00:28:27",
          "00:28:28",
          "00:28:29",
          "00:28:30",
          "00:28:31",
          "00:28:32",
          "00:28:33",
          "00:28:34",
          "00:28:35",
          "00:28:36",
          "00:28:37",
          "00:28:38",
          "00:28:39",
          "00:28:40",
          "00:28:41",
          "00:28:42",
          "00:28:43",
          "00:28:44",
          "00:28:45",
          "00:28:46",
          "00:28:47",
          "00:28:48",
          "00:28:49",
          "00:28:50",
          "00:28:51",
          "00:28:52",
          "00:28:53",
          "00:28:54",
          "00:28:55",
          "00:28:56",
          "00:28:57",
          "00:28:58",
          "00:28:59",
          "00:29:00",
          "00:29:01",
          "00:29:02",
          "00:29:03",
          "00:29:04",
          "00:29:05",
          "00:29:06",
          "00:29:07",
          "00:29:08",
          "00:29:09",
          "00:29:10",
          "00:29:11",
          "00:29:12",
          "00:29:13",
          "00:29:14",
          "00:29:15",
          "00:29:16",
          "00:29:17",
          "00:29:18",
          "00:29:19",
          "00:29:20",
          "00:29:21",
          "00:29:22",
          "00:29:23",
          "00:29:24",
          "00:29:25",
          "00:29:26",
          "00:29:27",
          "00:29:28",
          "00:29:29",
          "00:29:30",
          "00:29:31",
          "00:29:32",
          "00:29:33",
          "00:29:34",
          "00:29:35",
          "00:29:36",
          "00:29:37",
          "00:29:38",
          "00:29:39",
          "00:29:40",
          "00:29:41",
          "00:29:42",
          "00:29:43",
          "00:29:44",
          "00:29:45",
          "00:29:46",
          "00:29:47",
          "00:29:48",
          "00:29:49",
          "00:29:50",
          "00:29:51",
          "00:29:52",
          "00:29:53",
          "00:29:54",
          "00:29:55",
          "00:29:56",
          "00:29:57",
          "00:29:58",
          "00:29:59",
          "00:30:00",
          "00:30:01",
          "00:30:02",
          "00:30:03",
          "00:30:04",
          "00:30:05",
          "00:30:06",
          "00:30:07",
          "00:30:08",
          "00:30:09",
          "00:30:10",
          "00:30:11",
          "00:30:12",
          "00:30:13",
          "00:30:14",
          "00:30:15",
          "00:30:16",
          "00:30:17",
          "00:30:18",
          "00:30:19",
          "00:30:20",
          "00:30:21",
          "00:30:22",
          "00:30:23",
          "00:30:24",
          "00:30:25",
          "00:30:26",
          "00:30:27",
          "00:30:28",
          "00:30:29",
          "00:30:30",
          "00:30:31",
          "00:30:32",
          "00:30:33",
          "00:30:34",
          "00:30:35",
          "00:30:36",
          "00:30:37",
          "00:30:38",
          "00:30:39",
          "00:30:40",
          "00:30:41",
          "00:30:42",
          "00:30:43",
          "00:30:44",
          "00:30:45",
          "00:30:46",
          "00:30:47",
          "00:30:48",
          "00:30:49",
          "00:30:50",
          "00:30:51",
          "00:30:52",
          "00:30:53",
          "00:30:54",
          "00:30:55",
          "00:30:56",
          "00:30:57",
          "00:30:58",
          "00:30:59",
          "00:31:00",
          "00:31:01",
          "00:31:02",
          "00:31:03",
          "00:31:04",
          "00:31:05",
          "00:31:06",
          "00:31:07",
          "00:31:08",
          "00:31:09",
          "00:31:10",
          "00:31:11",
          "00:31:12",
          "00:31:13",
          "00:31:14",
          "00:31:15",
          "00:31:16",
          "00:31:17",
          "00:31:18",
          "00:31:19",
          "00:31:20",
          "00:31:21",
          "00:31:22",
          "00:31:23",
          "00:31:24",
          "00:31:25",
          "00:31:26",
          "00:31:27",
          "00:31:28",
          "00:31:29",
          "00:31:30",
          "00:31:31",
          "00:31:32",
          "00:31:33",
          "00:31:34",
          "00:31:35",
          "00:31:36",
          "00:31:37",
          "00:31:38",
          "00:31:39",
          "00:31:40",
          "00:31:41",
          "00:31:42",
          "00:31:43",
          "00:31:44",
          "00:31:45",
          "00:31:46",
          "00:31:47",
          "00:31:48",
          "00:31:49",
          "00:31:50",
          "00:31:51",
          "00:31:52",
          "00:31:53",
          "00:31:54",
          "00:31:55",
          "00:31:56",
          "00:31:57",
          "00:31:58",
          "00:31:59",
          "00:32:00",
          "00:32:01",
          "00:32:02",
          "00:32:03",
          "00:32:04",
          "00:32:05",
          "00:32:06",
          "00:32:07",
          "00:32:08",
          "00:32:09",
          "00:32:10",
          "00:32:11",
          "00:32:12",
          "00:32:13",
          "00:32:14",
          "00:32:15",
          "00:32:16",
          "00:32:17",
          "00:32:18",
          "00:32:19",
          "00:32:20",
          "00:32:21",
          "00:32:22",
          "00:32:23",
          "00:32:24",
          "00:32:25",
          "00:32:26",
          "00:32:27",
          "00:32:28",
          "00:32:29",
          "00:32:30",
          "00:32:31",
          "00:32:32",
          "00:32:33",
          "00:32:34",
          "00:32:35",
          "00:32:36",
          "00:32:37",
          "00:32:38",
          "00:32:39",
          "00:32:40",
          "00:32:41",
          "00:32:42",
          "00:32:43",
          "00:32:44",
          "00:32:45",
          "00:32:46",
          "00:32:47",
          "00:32:48",
          "00:32:49",
          "00:32:50",
          "00:32:51",
          "00:32:52",
          "00:32:53",
          "00:32:54",
          "00:32:55",
          "00:32:56",
          "00:32:57",
          "00:32:58",
          "00:32:59",
          "00:33:00",
          "00:33:01",
          "00:33:02",
          "00:33:03",
          "00:33:04",
          "00:33:05",
          "00:33:06",
          "00:33:07",
          "00:33:08",
          "00:33:09",
          "00:33:10",
          "00:33:11",
          "00:33:12",
          "00:33:13",
          "00:33:14",
          "00:33:15",
          "00:33:16",
          "00:33:17",
          "00:33:18",
          "00:33:19",
          "00:33:20",
          "00:33:21",
          "00:33:22",
          "00:33:23",
          "00:33:24",
          "00:33:25",
          "00:33:26",
          "00:33:27",
          "00:33:28",
          "00:33:29",
          "00:33:30",
          "00:33:31",
          "00:33:32",
          "00:33:33",
          "00:33:34",
          "00:33:35",
          "00:33:36",
          "00:33:37",
          "00:33:38",
          "00:33:39",
          "00:33:40",
          "00:33:41",
          "00:33:42",
          "00:33:43",
          "00:33:44",
          "00:33:45",
          "00:33:46",
          "00:33:47",
          "00:33:48",
          "00:33:49",
          "00:33:50",
          "00:33:51",
          "00:33:52",
          "00:33:53",
          "00:33:54",
          "00:33:55",
          "00:33:56",
          "00:33:57",
          "00:33:58",
          "00:33:59",
          "00:34:00",
          "00:34:01",
          "00:34:02",
          "00:34:03",
          "00:34:04",
          "00:34:05",
          "00:34:06",
          "00:34:07",
          "00:34:08",
          "00:34:09",
          "00:34:10",
          "00:34:11",
          "00:34:12",
          "00:34:13",
          "00:34:14",
          "00:34:15",
          "00:34:16",
          "00:34:17",
          "00:34:18",
          "00:34:19",
          "00:34:20",
          "00:34:21",
          "00:34:22",
          "00:34:23",
          "00:34:24",
          "00:34:25",
          "00:34:26",
          "00:34:27",
          "00:34:28",
          "00:34:29",
          "00:34:30",
          "00:34:31",
          "00:34:32",
          "00:34:33",
          "00:34:34",
          "00:34:35",
          "00:34:36",
          "00:34:37",
          "00:34:38",
          "00:34:39",
          "00:34:40",
          "00:34:41",
          "00:34:42",
          "00:34:43",
          "00:34:44",
          "00:34:45",
          "00:34:46",
          "00:34:47",
          "00:34:48",
          "00:34:49",
          "00:34:50",
          "00:34:51",
          "00:34:52",
          "00:34:53",
          "00:34:54",
          "00:34:55",
          "00:34:56",
          "00:34:57",
          "00:34:58",
          "00:34:59",
          "00:35:00",
          "00:35:01",
          "00:35:02",
          "00:35:03",
          "00:35:04",
          "00:35:05",
          "00:35:06",
          "00:35:07",
          "00:35:08",
          "00:35:09",
          "00:35:10",
          "00:35:11",
          "00:35:12",
          "00:35:13",
          "00:35:14",
          "00:35:15",
          "00:35:16",
          "00:35:17",
          "00:35:18",
          "00:35:19",
          "00:35:20",
          "00:35:21",
          "00:35:22",
          "00:35:23",
          "00:35:24",
          "00:35:25",
          "00:35:26",
          "00:35:27",
          "00:35:28",
          "00:35:29",
          "00:35:30",
          "00:35:31",
          "00:35:32",
          "00:35:33",
          "00:35:34",
          "00:35:35",
          "00:35:36",
          "00:35:37",
          "00:35:38",
          "00:35:39",
          "00:35:40",
          "00:35:41",
          "00:35:42",
          "00:35:43",
          "00:35:44",
          "00:35:45",
          "00:35:46",
          "00:35:47",
          "00:35:48",
          "00:35:49",
          "00:35:50",
          "00:35:51",
          "00:35:52",
          "00:35:53",
          "00:35:54",
          "00:35:55",
          "00:35:56",
          "00:35:57",
          "00:35:58",
          "00:35:59",
          "00:36:00",
          "00:36:01",
          "00:36:02",
          "00:36:03",
          "00:36:04",
          "00:36:05",
          "00:36:06",
          "00:36:07",
          "00:36:08",
          "00:36:09",
          "00:36:10",
          "00:36:11",
          "00:36:12",
          "00:36:13",
          "00:36:14",
          "00:36:15",
          "00:36:16",
          "00:36:17",
          "00:36:18",
          "00:36:19",
          "00:36:20",
          "00:36:21",
          "00:36:22",
          "00:36:23",
          "00:36:24",
          "00:36:25",
          "00:36:26",
          "00:36:27",
          "00:36:28",
          "00:36:29",
          "00:36:30",
          "00:36:31",
          "00:36:32",
          "00:36:33",
          "00:36:34",
          "00:36:35",
          "00:36:36",
          "00:36:37",
          "00:36:38",
          "00:36:39",
          "00:36:40",
          "00:36:41",
          "00:36:42",
          "00:36:43",
          "00:36:44",
          "00:36:45",
          "00:36:46",
          "00:36:47",
          "00:36:48",
          "00:36:49",
          "00:36:50",
          "00:36:51",
          "00:36:52",
          "00:36:53",
          "00:36:54",
          "00:36:55",
          "00:36:56",
          "00:36:57",
          "00:36:58",
          "00:36:59",
          "00:37:00",
          "00:37:01",
          "00:37:02",
          "00:37:03",
          "00:37:04",
          "00:37:05",
          "00:37:06",
          "00:37:07",
          "00:37:08",
          "00:37:09",
          "00:37:10",
          "00:37:11",
          "00:37:12",
          "00:37:13",
          "00:37:14",
          "00:37:15",
          "00:37:16",
          "00:37:17",
          "00:37:18",
          "00:37:19",
          "00:37:20",
          "00:37:21",
          "00:37:22",
          "00:37:23",
          "00:37:24",
          "00:37:25",
          "00:37:26",
          "00:37:27",
          "00:37:28",
          "00:37:29",
          "00:37:30",
          "00:37:31",
          "00:37:32",
          "00:37:33",
          "00:37:34",
          "00:37:35",
          "00:37:36",
          "00:37:37",
          "00:37:38",
          "00:37:39",
          "00:37:40",
          "00:37:41",
          "00:37:42",
          "00:37:43",
          "00:37:44",
          "00:37:45",
          "00:37:46",
          "00:37:47",
          "00:37:48",
          "00:37:49",
          "00:37:50",
          "00:37:51",
          "00:37:52",
          "00:37:53",
          "00:37:54",
          "00:37:55",
          "00:37:56",
          "00:37:57",
          "00:37:58",
          "00:37:59",
          "00:38:00",
          "00:38:01",
          "00:38:02",
          "00:38:03",
          "00:38:04",
          "00:38:05",
          "00:38:06",
          "00:38:07",
          "00:38:08",
          "00:38:09",
          "00:38:10",
          "00:38:11",
          "00:38:12",
          "00:38:13",
          "00:38:14",
          "00:38:15",
          "00:38:16",
          "00:38:17",
          "00:38:18",
          "00:38:19",
          "00:38:20",
          "00:38:21",
          "00:38:22",
          "00:38:23",
          "00:38:24",
          "00:38:25",
          "00:38:26",
          "00:38:27",
          "00:38:28",
          "00:38:29",
          "00:38:30",
          "00:38:31",
          "00:38:32",
          "00:38:33",
          "00:38:34",
          "00:38:35",
          "00:38:36",
          "00:38:37",
          "00:38:38",
          "00:38:39",
          "00:38:40",
          "00:38:41",
          "00:38:42",
          "00:38:43",
          "00:38:44",
          "00:38:45",
          "00:38:46",
          "00:38:47",
          "00:38:48",
          "00:38:49",
          "00:38:50",
          "00:38:51",
          "00:38:52",
          "00:38:53",
          "00:38:54",
          "00:38:55",
          "00:38:56",
          "00:38:57",
          "00:38:58",
          "00:38:59",
          "00:39:00",
          "00:39:01",
          "00:39:02",
          "00:39:03",
          "00:39:04",
          "00:39:05",
          "00:39:06",
          "00:39:07",
          "00:39:08",
          "00:39:09",
          "00:39:10",
          "00:39:11",
          "00:39:12",
          "00:39:13",
          "00:39:14",
          "00:39:15",
          "00:39:16",
          "00:39:17",
          "00:39:18",
          "00:39:19",
          "00:39:20",
          "00:39:21",
          "00:39:22",
          "00:39:23",
          "00:39:24",
          "00:39:25",
          "00:39:26",
          "00:39:27",
          "00:39:28",
          "00:39:29",
          "00:39:30",
          "00:39:31",
          "00:39:32",
          "00:39:33",
          "00:39:34",
          "00:39:35",
          "00:39:36",
          "00:39:37",
          "00:39:38",
          "00:39:39",
          "00:39:40",
          "00:39:41",
          "00:39:42",
          "00:39:43",
          "00:39:44",
          "00:39:45",
          "00:39:46",
          "00:39:47",
          "00:39:48",
          "00:39:49",
          "00:39:50",
          "00:39:51",
          "00:39:52",
          "00:39:53",
          "00:39:54",
          "00:39:55",
          "00:39:56",
          "00:39:57",
          "00:39:58",
          "00:39:59",
          "00:40:00",
          "00:40:01",
          "00:40:02",
          "00:40:03",
          "00:40:04",
          "00:40:05",
          "00:40:06",
          "00:40:07",
          "00:40:08",
          "00:40:09",
          "00:40:10",
          "00:40:11",
          "00:40:12",
          "00:40:13",
          "00:40:14",
          "00:40:15",
          "00:40:16",
          "00:40:17",
          "00:40:18",
          "00:40:19",
          "00:40:20",
          "00:40:21",
          "00:40:22",
          "00:40:23",
          "00:40:24",
          "00:40:25",
          "00:40:26",
          "00:40:27",
          "00:40:28",
          "00:40:29",
          "00:40:30",
          "00:40:31",
          "00:40:32",
          "00:40:33",
          "00:40:34",
          "00:40:35",
          "00:40:36",
          "00:40:37",
          "00:40:38",
          "00:40:39",
          "00:40:40",
          "00:40:41",
          "00:40:42",
          "00:40:43",
          "00:40:44",
          "00:40:45",
          "00:40:46",
          "00:40:47",
          "00:40:48",
          "00:40:49",
          "00:40:50",
          "00:40:51",
          "00:40:52",
          "00:40:53",
          "00:40:54",
          "00:40:55",
          "00:40:56",
          "00:40:57",
          "00:40:58",
          "00:40:59",
          "00:41:00",
          "00:41:01",
          "00:41:02",
          "00:41:03",
          "00:41:04",
          "00:41:05",
          "00:41:06",
          "00:41:07",
          "00:41:08",
          "00:41:09",
          "00:41:10",
          "00:41:11",
          "00:41:12",
          "00:41:13",
          "00:41:14",
          "00:41:15",
          "00:41:16",
          "00:41:17",
          "00:41:18",
          "00:41:19",
          "00:41:20",
          "00:41:21",
          "00:41:22",
          "00:41:23",
          "00:41:24",
          "00:41:25",
          "00:41:26",
          "00:41:27",
          "00:41:28",
          "00:41:29",
          "00:41:30",
          "00:41:31",
          "00:41:32",
          "00:41:33",
          "00:41:34",
          "00:41:35",
          "00:41:36",
          "00:41:37",
          "00:41:38",
          "00:41:39",
          "00:41:40",
          "00:41:41",
          "00:41:42",
          "00:41:43",
          "00:41:44",
          "00:41:45",
          "00:41:46",
          "00:41:47",
          "00:41:48",
          "00:41:49",
          "00:41:50",
          "00:41:51",
          "00:41:52",
          "00:41:53",
          "00:41:54",
          "00:41:55",
          "00:41:56",
          "00:41:57",
          "00:41:58",
          "00:41:59",
          "00:42:00",
          "00:42:01",
          "00:42:02",
          "00:42:03",
          "00:42:04",
          "00:42:05",
          "00:42:06",
          "00:42:07",
          "00:42:08",
          "00:42:09",
          "00:42:10",
          "00:42:11",
          "00:42:12",
          "00:42:13",
          "00:42:14",
          "00:42:15",
          "00:42:16",
          "00:42:17",
          "00:42:18",
          "00:42:19",
          "00:42:20",
          "00:42:21",
          "00:42:22",
          "00:42:23",
          "00:42:24",
          "00:42:25",
          "00:42:26",
          "00:42:27",
          "00:42:28",
          "00:42:29",
          "00:42:30",
          "00:42:31",
          "00:42:32",
          "00:42:33",
          "00:42:34",
          "00:42:35",
          "00:42:36",
          "00:42:37",
          "00:42:38",
          "00:42:39",
          "00:42:40",
          "00:42:41",
          "00:42:42",
          "00:42:43",
          "00:42:44",
          "00:42:45",
          "00:42:46",
          "00:42:47",
          "00:42:48",
          "00:42:49",
          "00:42:50",
          "00:42:51",
          "00:42:52",
          "00:42:53",
          "00:42:54",
          "00:42:55",
          "00:42:56",
          "00:42:57",
          "00:42:58",
          "00:42:59",
          "00:43:00",
          "00:43:01",
          "00:43:02",
          "00:43:03",
          "00:43:04",
          "00:43:05",
          "00:43:06",
          "00:43:07",
          "00:43:08",
          "00:43:09",
          "00:43:10",
          "00:43:11",
          "00:43:12",
          "00:43:13",
          "00:43:14",
          "00:43:15",
          "00:43:16",
          "00:43:17",
          "00:43:18",
          "00:43:19",
          "00:43:20",
          "00:43:21",
          "00:43:22",
          "00:43:23",
          "00:43:24",
          "00:43:25",
          "00:43:26",
          "00:43:27",
          "00:43:28",
          "00:43:29",
          "00:43:30",
          "00:43:31",
          "00:43:32",
          "00:43:33",
          "00:43:34",
          "00:43:35",
          "00:43:36",
          "00:43:37",
          "00:43:38",
          "00:43:39",
          "00:43:40",
          "00:43:41",
          "00:43:42",
          "00:43:43",
          "00:43:44",
          "00:43:45",
          "00:43:46",
          "00:43:47",
          "00:43:48",
          "00:43:49",
          "00:43:50",
          "00:43:51",
          "00:43:52",
          "00:43:53",
          "00:43:54",
          "00:43:55",
          "00:43:56",
          "00:43:57",
          "00:43:58",
          "00:43:59",
          "00:44:00",
          "00:44:01",
          "00:44:02",
          "00:44:03",
          "00:44:04",
          "00:44:05",
          "00:44:06",
          "00:44:07",
          "00:44:08",
          "00:44:09",
          "00:44:10",
          "00:44:11",
          "00:44:12",
          "00:44:13",
          "00:44:14",
          "00:44:15",
          "00:44:16",
          "00:44:17",
          "00:44:18",
          "00:44:19",
          "00:44:20",
          "00:44:21",
          "00:44:22",
          "00:44:23",
          "00:44:24",
          "00:44:25",
          "00:44:26",
          "00:44:27",
          "00:44:28",
          "00:44:29",
          "00:44:30",
          "00:44:31",
          "00:44:32",
          "00:44:33",
          "00:44:34",
          "00:44:35",
          "00:44:36",
          "00:44:37",
          "00:44:38",
          "00:44:39",
          "00:44:40",
          "00:44:41",
          "00:44:42",
          "00:44:43",
          "00:44:44",
          "00:44:45",
          "00:44:46",
          "00:44:47",
          "00:44:48",
          "00:44:49",
          "00:44:50",
          "00:44:51",
          "00:44:52",
          "00:44:53",
          "00:44:54",
          "00:44:55",
          "00:44:56",
          "00:44:57",
          "00:44:58",
          "00:44:59",
          "00:45:00",
          "00:45:01",
          "00:45:02",
          "00:45:03",
          "00:45:04",
          "00:45:05",
          "00:45:06",
          "00:45:07",
          "00:45:08",
          "00:45:09",
          "00:45:10",
          "00:45:11",
          "00:45:12",
          "00:45:13",
          "00:45:14",
          "00:45:15",
          "00:45:16",
          "00:45:17",
          "00:45:18",
          "00:45:19",
          "00:45:20",
          "00:45:21",
          "00:45:22",
          "00:45:23",
          "00:45:24",
          "00:45:25",
          "00:45:26",
          "00:45:27",
          "00:45:28",
          "00:45:29",
          "00:45:30",
          "00:45:31",
          "00:45:32",
          "00:45:33",
          "00:45:34",
          "00:45:35",
          "00:45:36",
          "00:45:37",
          "00:45:38",
          "00:45:39",
          "00:45:40",
          "00:45:41",
          "00:45:42",
          "00:45:43",
          "00:45:44",
          "00:45:45",
          "00:45:46",
          "00:45:47",
          "00:45:48",
          "00:45:49",
          "00:45:50",
          "00:45:51",
          "00:45:52",
          "00:45:53",
          "00:45:54",
          "00:45:55",
          "00:45:56",
          "00:45:57",
          "00:45:58",
          "00:45:59",
          "00:46:00",
          "00:46:01",
          "00:46:02",
          "00:46:03",
          "00:46:04",
          "00:46:05",
          "00:46:06",
          "00:46:07",
          "00:46:08",
          "00:46:09",
          "00:46:10",
          "00:46:11",
          "00:46:12",
          "00:46:13",
          "00:46:14",
          "00:46:15",
          "00:46:16",
          "00:46:17",
          "00:46:18",
          "00:46:19",
          "00:46:20",
          "00:46:21",
          "00:46:22",
          "00:46:23",
          "00:46:24",
          "00:46:25",
          "00:46:26",
          "00:46:27",
          "00:46:28",
          "00:46:29",
          "00:46:30",
          "00:46:31",
          "00:46:32",
          "00:46:33",
          "00:46:34",
          "00:46:35",
          "00:46:36",
          "00:46:37",
          "00:46:38",
          "00:46:39",
          "00:46:40",
          "00:46:41",
          "00:46:42",
          "00:46:43",
          "00:46:44",
          "00:46:45",
          "00:46:46",
          "00:46:47",
          "00:46:48",
          "00:46:49",
          "00:46:50",
          "00:46:51",
          "00:46:52",
          "00:46:53",
          "00:46:54",
          "00:46:55",
          "00:46:56",
          "00:46:57",
          "00:46:58",
          "00:46:59",
          "00:47:00",
          "00:47:01",
          "00:47:02",
          "00:47:03",
          "00:47:04",
          "00:47:05",
          "00:47:06",
          "00:47:07",
          "00:47:08",
          "00:47:09",
          "00:47:10",
          "00:47:11",
          "00:47:12",
          "00:47:13",
          "00:47:14",
          "00:47:15",
          "00:47:16",
          "00:47:17",
          "00:47:18",
          "00:47:19",
          "00:47:20",
          "00:47:21",
          "00:47:22",
          "00:47:23",
          "00:47:24",
          "00:47:25",
          "00:47:26",
          "00:47:27",
          "00:47:28",
          "00:47:29",
          "00:47:30",
          "00:47:31",
          "00:47:32",
          "00:47:33",
          "00:47:34",
          "00:47:35",
          "00:47:36",
          "00:47:37",
          "00:47:38",
          "00:47:39",
          "00:47:40",
          "00:47:41",
          "00:47:42",
          "00:47:43",
          "00:47:44",
          "00:47:45",
          "00:47:46",
          "00:47:47",
          "00:47:48",
          "00:47:49",
          "00:47:50",
          "00:47:51",
          "00:47:52",
          "00:47:53",
          "00:47:54",
          "00:47:55",
          "00:47:56",
          "00:47:57",
          "00:47:58",
          "00:47:59",
          "00:48:00",
          "00:48:01",
          "00:48:02",
          "00:48:03",
          "00:48:04",
          "00:48:05",
          "00:48:06",
          "00:48:07",
          "00:48:08",
          "00:48:09",
          "00:48:10",
          "00:48:11",
          "00:48:12",
          "00:48:13",
          "00:48:14",
          "00:48:15",
          "00:48:16",
          "00:48:17",
          "00:48:18",
          "00:48:19",
          "00:48:20",
          "00:48:21",
          "00:48:22",
          "00:48:23",
          "00:48:24",
          "00:48:25",
          "00:48:26",
          "00:48:27",
          "00:48:28",
          "00:48:29",
          "00:48:30",
          "00:48:31",
          "00:48:32",
          "00:48:33",
          "00:48:34",
          "00:48:35",
          "00:48:36",
          "00:48:37",
          "00:48:38",
          "00:48:39",
          "00:48:40",
          "00:48:41",
          "00:48:42",
          "00:48:43",
          "00:48:44",
          "00:48:45",
          "00:48:46",
          "00:48:47",
          "00:48:48",
          "00:48:49",
          "00:48:50",
          "00:48:51",
          "00:48:52",
          "00:48:53",
          "00:48:54",
          "00:48:55",
          "00:48:56",
          "00:48:57",
          "00:48:58",
          "00:48:59",
          "00:49:00",
          "00:49:01",
          "00:49:02",
          "00:49:03",
          "00:49:04",
          "00:49:05",
          "00:49:06",
          "00:49:07",
          "00:49:08",
          "00:49:09",
          "00:49:10",
          "00:49:11",
          "00:49:12",
          "00:49:13",
          "00:49:14",
          "00:49:15",
          "00:49:16",
          "00:49:17",
          "00:49:18",
          "00:49:19",
          "00:49:20",
          "00:49:21",
          "00:49:22",
          "00:49:23",
          "00:49:24",
          "00:49:25",
          "00:49:26",
          "00:49:27",
          "00:49:28",
          "00:49:29",
          "00:49:30",
          "00:49:31",
          "00:49:32",
          "00:49:33",
          "00:49:34",
          "00:49:35",
          "00:49:36",
          "00:49:37",
          "00:49:38",
          "00:49:39",
          "00:49:40",
          "00:49:41",
          "00:49:42",
          "00:49:43",
          "00:49:44",
          "00:49:45",
          "00:49:46",
          "00:49:47",
          "00:49:48",
          "00:49:49",
          "00:49:50",
          "00:49:51",
          "00:49:52",
          "00:49:53",
          "00:49:54",
          "00:49:55",
          "00:49:56",
          "00:49:57",
          "00:49:58",
          "00:49:59",
          "00:50:00",
          "00:50:01",
          "00:50:02",
          "00:50:03",
          "00:50:04",
          "00:50:05",
          "00:50:06",
          "00:50:07",
          "00:50:08",
          "00:50:09",
          "00:50:10",
          "00:50:11",
          "00:50:12",
          "00:50:13",
          "00:50:14",
          "00:50:15",
          "00:50:16",
          "00:50:17",
          "00:50:18",
          "00:50:19",
          "00:50:20",
          "00:50:21",
          "00:50:22",
          "00:50:23",
          "00:50:24",
          "00:50:25",
          "00:50:26",
          "00:50:27",
          "00:50:28",
          "00:50:29",
          "00:50:30",
          "00:50:31",
          "00:50:32",
          "00:50:33",
          "00:50:34",
          "00:50:35",
          "00:50:36",
          "00:50:37",
          "00:50:38",
          "00:50:39",
          "00:50:40",
          "00:50:41",
          "00:50:42",
          "00:50:43",
          "00:50:44",
          "00:50:45",
          "00:50:46",
          "00:50:47",
          "00:50:48",
          "00:50:49",
          "00:50:50",
          "00:50:51",
          "00:50:52",
          "00:50:53",
          "00:50:54",
          "00:50:55",
          "00:50:56",
          "00:50:57",
          "00:50:58",
          "00:50:59",
          "00:51:00",
          "00:51:01",
          "00:51:02",
          "00:51:03",
          "00:51:04",
          "00:51:05",
          "00:51:06",
          "00:51:07",
          "00:51:08",
          "00:51:09",
          "00:51:10",
          "00:51:11",
          "00:51:12",
          "00:51:13",
          "00:51:14",
          "00:51:15",
          "00:51:16",
          "00:51:17",
          "00:51:18",
          "00:51:19",
          "00:51:20",
          "00:51:21",
          "00:51:22",
          "00:51:23",
          "00:51:24",
          "00:51:25",
          "00:51:26",
          "00:51:27",
          "00:51:28",
          "00:51:29",
          "00:51:30",
          "00:51:31",
          "00:51:32",
          "00:51:33",
          "00:51:34",
          "00:51:35",
          "00:51:36",
          "00:51:37",
          "00:51:38",
          "00:51:39",
          "00:51:40",
          "00:51:41",
          "00:51:42",
          "00:51:43",
          "00:51:44",
          "00:51:45",
          "00:51:46",
          "00:51:47",
          "00:51:48",
          "00:51:49",
          "00:51:50",
          "00:51:51",
          "00:51:52",
          "00:51:53",
          "00:51:54",
          "00:51:55",
          "00:51:56",
          "00:51:57",
          "00:51:58",
          "00:51:59",
          "00:52:00",
          "00:52:01",
          "00:52:02",
          "00:52:03",
          "00:52:04",
          "00:52:05",
          "00:52:06",
          "00:52:07",
          "00:52:08",
          "00:52:09",
          "00:52:10",
          "00:52:11",
          "00:52:12",
          "00:52:13",
          "00:52:14",
          "00:52:15",
          "00:52:16",
          "00:52:17",
          "00:52:18",
          "00:52:19",
          "00:52:20",
          "00:52:21",
          "00:52:22",
          "00:52:23",
          "00:52:24",
          "00:52:25",
          "00:52:26",
          "00:52:27",
          "00:52:28",
          "00:52:29",
          "00:52:30",
          "00:52:31",
          "00:52:32",
          "00:52:33",
          "00:52:34",
          "00:52:35",
          "00:52:36",
          "00:52:37",
          "00:52:38",
          "00:52:39",
          "00:52:40",
          "00:52:41",
          "00:52:42",
          "00:52:43",
          "00:52:44",
          "00:52:45",
          "00:52:46",
          "00:52:47",
          "00:52:48",
          "00:52:49",
          "00:52:50",
          "00:52:51",
          "00:52:52",
          "00:52:53",
          "00:52:54",
          "00:52:55",
          "00:52:56",
          "00:52:57",
          "00:52:58",
          "00:52:59",
          "00:53:00",
          "00:53:01",
          "00:53:02",
          "00:53:03",
          "00:53:04",
          "00:53:05",
          "00:53:06",
          "00:53:07",
          "00:53:08",
          "00:53:09",
          "00:53:10",
          "00:53:11",
          "00:53:12",
          "00:53:13",
          "00:53:14",
          "00:53:15",
          "00:53:16",
          "00:53:17",
          "00:53:18",
          "00:53:19",
          "00:53:20",
          "00:53:21",
          "00:53:22",
          "00:53:23",
          "00:53:24",
          "00:53:25",
          "00:53:26",
          "00:53:27",
          "00:53:28",
          "00:53:29",
          "00:53:30",
          "00:53:31",
          "00:53:32",
          "00:53:33",
          "00:53:34",
          "00:53:35",
          "00:53:36",
          "00:53:37",
          "00:53:38",
          "00:53:39",
          "00:53:40",
          "00:53:41",
          "00:53:42",
          "00:53:43",
          "00:53:44",
          "00:53:45",
          "00:53:46",
          "00:53:47",
          "00:53:48",
          "00:53:49",
          "00:53:50",
          "00:53:51",
          "00:53:52",
          "00:53:53",
          "00:53:54",
          "00:53:55",
          "00:53:56",
          "00:53:57",
          "00:53:58",
          "00:53:59",
          "00:54:00",
          "00:54:01",
          "00:54:02",
          "00:54:03",
          "00:54:04",
          "00:54:05",
          "00:54:06",
          "00:54:07",
          "00:54:08",
          "00:54:09",
          "00:54:10",
          "00:54:11",
          "00:54:12",
          "00:54:13",
          "00:54:14",
          "00:54:15",
          "00:54:16",
          "00:54:17",
          "00:54:18",
          "00:54:19",
          "00:54:20",
          "00:54:21",
          "00:54:22",
          "00:54:23",
          "00:54:24",
          "00:54:25",
          "00:54:26",
          "00:54:27",
          "00:54:28",
          "00:54:29",
          "00:54:30",
          "00:54:31",
          "00:54:32",
          "00:54:33",
          "00:54:34",
          "00:54:35",
          "00:54:36",
          "00:54:37",
          "00:54:38",
          "00:54:39",
          "00:54:40",
          "00:54:41",
          "00:54:42",
          "00:54:43",
          "00:54:44",
          "00:54:45",
          "00:54:46",
          "00:54:47",
          "00:54:48",
          "00:54:49",
          "00:54:50",
          "00:54:51",
          "00:54:52",
          "00:54:53",
          "00:54:54",
          "00:54:55",
          "00:54:56",
          "00:54:57",
          "00:54:58",
          "00:54:59",
          "00:55:00",
          "00:55:01",
          "00:55:02",
          "00:55:03",
          "00:55:04",
          "00:55:05",
          "00:55:06",
          "00:55:07",
          "00:55:08",
          "00:55:09",
          "00:55:10",
          "00:55:11",
          "00:55:12",
          "00:55:13",
          "00:55:14",
          "00:55:15",
          "00:55:16",
          "00:55:17",
          "00:55:18",
          "00:55:19",
          "00:55:20",
          "00:55:21",
          "00:55:22",
          "00:55:23",
          "00:55:24",
          "00:55:25",
          "00:55:26",
          "00:55:27",
          "00:55:28",
          "00:55:29",
          "00:55:30",
          "00:55:31",
          "00:55:32",
          "00:55:33",
          "00:55:34",
          "00:55:35",
          "00:55:36",
          "00:55:37",
          "00:55:38",
          "00:55:39",
          "00:55:40",
          "00:55:41",
          "00:55:42",
          "00:55:43",
          "00:55:44",
          "00:55:45",
          "00:55:46",
          "00:55:47",
          "00:55:48",
          "00:55:49",
          "00:55:50",
          "00:55:51",
          "00:55:52",
          "00:55:53",
          "00:55:54",
          "00:55:55",
          "00:55:56",
          "00:55:57",
          "00:55:58",
          "00:55:59",
          "00:56:00",
          "00:56:01",
          "00:56:02",
          "00:56:03",
          "00:56:04",
          "00:56:05",
          "00:56:06",
          "00:56:07",
          "00:56:08",
          "00:56:09",
          "00:56:10",
          "00:56:11",
          "00:56:12",
          "00:56:13",
          "00:56:14",
          "00:56:15",
          "00:56:16",
          "00:56:17",
          "00:56:18",
          "00:56:19",
          "00:56:20",
          "00:56:21",
          "00:56:22",
          "00:56:23",
          "00:56:24",
          "00:56:25",
          "00:56:26",
          "00:56:27",
          "00:56:28",
          "00:56:29",
          "00:56:30",
          "00:56:31",
          "00:56:32",
          "00:56:33",
          "00:56:34",
          "00:56:35",
          "00:56:36",
          "00:56:37",
          "00:56:38",
          "00:56:39",
          "00:56:40",
          "00:56:41",
          "00:56:42",
          "00:56:43",
          "00:56:44",
          "00:56:45",
          "00:56:46",
          "00:56:47",
          "00:56:48",
          "00:56:49",
          "00:56:50",
          "00:56:51",
          "00:56:52",
          "00:56:53",
          "00:56:54",
          "00:56:55",
          "00:56:56",
          "00:56:57",
          "00:56:58",
          "00:56:59",
          "00:57:00",
          "00:57:01",
          "00:57:02",
          "00:57:03",
          "00:57:04",
          "00:57:05",
          "00:57:06",
          "00:57:07",
          "00:57:08",
          "00:57:09",
          "00:57:10",
          "00:57:11",
          "00:57:12",
          "00:57:13",
          "00:57:14",
          "00:57:15",
          "00:57:16",
          "00:57:17",
          "00:57:18",
          "00:57:19",
          "00:57:20",
          "00:57:21",
          "00:57:22",
          "00:57:23",
          "00:57:24",
          "00:57:25",
          "00:57:26",
          "00:57:27",
          "00:57:28",
          "00:57:29",
          "00:57:30",
          "00:57:31",
          "00:57:32",
          "00:57:33",
          "00:57:34",
          "00:57:35",
          "00:57:36",
          "00:57:37",
          "00:57:38",
          "00:57:39",
          "00:57:40",
          "00:57:41",
          "00:57:42",
          "00:57:43",
          "00:57:44",
          "00:57:45",
          "00:57:46",
          "00:57:47",
          "00:57:48",
          "00:57:49",
          "00:57:50",
          "00:57:51",
          "00:57:52",
          "00:57:53",
          "00:57:54",
          "00:57:55",
          "00:57:56",
          "00:57:57",
          "00:57:58",
          "00:57:59",
          "00:58:00",
          "00:58:01",
          "00:58:02",
          "00:58:03",
          "00:58:04",
          "00:58:05",
          "00:58:06",
          "00:58:07",
          "00:58:08",
          "00:58:09",
          "00:58:10",
          "00:58:11",
          "00:58:12",
          "00:58:13",
          "00:58:14",
          "00:58:15",
          "00:58:16",
          "00:58:17",
          "00:58:18",
          "00:58:19",
          "00:58:20",
          "00:58:21",
          "00:58:22",
          "00:58:23",
          "00:58:24",
          "00:58:25",
          "00:58:26",
          "00:58:27",
          "00:58:28",
          "00:58:29",
          "00:58:30",
          "00:58:31",
          "00:58:32",
          "00:58:33",
          "00:58:34",
          "00:58:35",
          "00:58:36",
          "00:58:37",
          "00:58:38",
          "00:58:39",
          "00:58:40",
          "00:58:41",
          "00:58:42",
          "00:58:43",
          "00:58:44",
          "00:58:45",
          "00:58:46",
          "00:58:47",
          "00:58:48",
          "00:58:49",
          "00:58:50",
          "00:58:51",
          "00:58:52",
          "00:58:53",
          "00:58:54",
          "00:58:55",
          "00:58:56",
          "00:58:57",
          "00:58:58",
          "00:58:59",
          "00:59:00",
          "00:59:01",
          "00:59:02",
          "00:59:03",
          "00:59:04",
          "00:59:05",
          "00:59:06",
          "00:59:07",
          "00:59:08",
          "00:59:09",
          "00:59:10",
          "00:59:11",
          "00:59:12",
          "00:59:13",
          "00:59:14",
          "00:59:15",
          "00:59:16",
          "00:59:17",
          "00:59:18",
          "00:59:19",
          "00:59:20",
          "00:59:21",
          "00:59:22",
          "00:59:23",
          "00:59:24",
          "00:59:25",
          "00:59:26",
          "00:59:27",
          "00:59:28",
          "00:59:29",
          "00:59:30",
          "00:59:31",
          "00:59:32",
          "00:59:33",
          "00:59:34",
          "00:59:35",
          "00:59:36",
          "00:59:37",
          "00:59:38",
          "00:59:39",
          "00:59:40",
          "00:59:41",
          "00:59:42",
          "00:59:43",
          "00:59:44",
          "00:59:45",
          "00:59:46",
          "00:59:47",
          "00:59:48",
          "00:59:49",
          "00:59:50",
          "00:59:51",
          "00:59:52",
          "00:59:53",
          "00:59:54",
          "00:59:55",
          "00:59:56",
          "00:59:57",
          "00:59:58",
          "00:59:59",
          "01:00:00"
         ],
         "y": [
          1,
          1,
          1,
          1,
          1,
          1,
          4,
          1,
          2,
          1,
          4,
          1,
          2,
          2,
          2,
          3,
          1,
          1,
          2,
          3,
          5,
          4,
          4,
          7,
          6,
          3,
          2,
          4,
          7,
          9,
          8,
          4,
          5,
          6,
          11,
          12,
          13,
          14,
          10,
          13,
          17,
          14,
          14,
          28,
          22,
          19,
          26,
          30,
          30,
          24,
          19,
          26,
          32,
          32,
          35,
          31,
          43,
          50,
          36,
          45,
          44,
          35,
          40,
          49,
          36,
          45,
          50,
          61,
          68,
          51,
          67,
          63,
          88,
          66,
          70,
          75,
          80,
          72,
          92,
          67,
          104,
          81,
          68,
          95,
          111,
          124,
          110,
          114,
          99,
          116,
          106,
          110,
          103,
          110,
          106,
          108,
          133,
          126,
          133,
          144,
          133,
          127,
          135,
          137,
          122,
          138,
          143,
          152,
          140,
          150,
          132,
          126,
          143,
          160,
          151,
          149,
          165,
          161,
          152,
          176,
          172,
          159,
          169,
          180,
          176,
          181,
          170,
          177,
          179,
          173,
          167,
          162,
          186,
          196,
          206,
          180,
          199,
          192,
          193,
          198,
          215,
          164,
          199,
          179,
          166,
          196,
          212,
          216,
          224,
          208,
          223,
          214,
          227,
          226,
          197,
          235,
          269,
          206,
          257,
          242,
          238,
          249,
          271,
          254,
          247,
          238,
          259,
          262,
          264,
          257,
          264,
          246,
          236,
          272,
          262,
          254,
          273,
          282,
          257,
          298,
          276,
          297,
          297,
          268,
          292,
          294,
          322,
          284,
          277,
          278,
          299,
          282,
          319,
          319,
          286,
          351,
          320,
          314,
          305,
          286,
          312,
          352,
          302,
          333,
          346,
          370,
          335,
          347,
          329,
          324,
          341,
          405,
          381,
          342,
          368,
          363,
          381,
          357,
          393,
          367,
          347,
          401,
          388,
          426,
          375,
          430,
          405,
          408,
          406,
          392,
          374,
          393,
          377,
          374,
          417,
          430,
          455,
          443,
          510,
          548,
          531,
          588,
          562,
          534,
          498,
          500,
          555,
          578,
          536,
          569,
          567,
          539,
          588,
          531,
          555,
          562,
          590,
          589,
          564,
          573,
          536,
          563,
          562,
          592,
          582,
          591,
          569,
          606,
          567,
          570,
          588,
          589,
          587,
          599,
          565,
          586,
          605,
          635,
          632,
          626,
          602,
          618,
          595,
          587,
          612,
          636,
          633,
          584,
          552,
          621,
          620,
          632,
          569,
          598,
          637,
          580,
          607,
          654,
          635,
          648,
          630,
          623,
          632,
          648,
          597,
          682,
          657,
          654,
          656,
          662,
          673,
          670,
          655,
          653,
          688,
          648,
          658,
          645,
          688,
          701,
          706,
          731,
          707,
          712,
          673,
          685,
          671,
          691,
          714,
          700,
          698,
          705,
          663,
          664,
          683,
          682,
          724,
          690,
          682,
          743,
          729,
          696,
          745,
          694,
          708,
          688,
          695,
          721,
          667,
          738,
          717,
          649,
          713,
          690,
          766,
          752,
          731,
          748,
          693,
          896,
          903,
          885,
          890,
          825,
          853,
          852,
          843,
          785,
          850,
          899,
          859,
          884,
          847,
          861,
          863,
          850,
          902,
          858,
          832,
          837,
          881,
          848,
          873,
          809,
          916,
          841,
          867,
          887,
          918,
          904,
          902,
          874,
          907,
          877,
          898,
          900,
          920,
          876,
          902,
          825,
          876,
          877,
          919,
          909,
          822,
          896,
          847,
          891,
          897,
          868,
          846,
          803,
          894,
          902,
          869,
          913,
          955,
          848,
          890,
          903,
          877,
          875,
          869,
          852,
          876,
          861,
          858,
          837,
          923,
          894,
          901,
          886,
          852,
          909,
          958,
          891,
          904,
          872,
          909,
          916,
          920,
          908,
          862,
          846,
          876,
          889,
          839,
          891,
          941,
          964,
          886,
          857,
          940,
          904,
          919,
          893,
          885,
          880,
          911,
          868,
          833,
          874,
          913,
          888,
          905,
          915,
          880,
          888,
          907,
          885,
          924,
          867,
          915,
          885,
          903,
          918,
          911,
          915,
          909,
          894,
          898,
          904,
          872,
          832,
          939,
          862,
          897,
          835,
          899,
          818,
          844,
          883,
          836,
          850,
          859,
          882,
          892,
          891,
          848,
          873,
          885,
          837,
          835,
          864,
          866,
          863,
          901,
          829,
          805,
          865,
          855,
          864,
          817,
          869,
          855,
          882,
          871,
          893,
          890,
          900,
          908,
          865,
          868,
          923,
          873,
          873,
          845,
          866,
          905,
          879,
          841,
          853,
          855,
          831,
          769,
          865,
          909,
          941,
          1023,
          1021,
          1027,
          1073,
          1132,
          938,
          959,
          881,
          836,
          837,
          940,
          832,
          817,
          905,
          853,
          870,
          814,
          856,
          823,
          845,
          838,
          829,
          881,
          874,
          866,
          820,
          860,
          878,
          834,
          851,
          948,
          864,
          864,
          897,
          830,
          855,
          837,
          865,
          858,
          862,
          863,
          838,
          859,
          876,
          828,
          842,
          856,
          894,
          821,
          837,
          866,
          809,
          831,
          846,
          860,
          839,
          797,
          849,
          779,
          849,
          857,
          841,
          903,
          845,
          862,
          829,
          834,
          847,
          858,
          794,
          865,
          835,
          808,
          835,
          901,
          849,
          836,
          825,
          897,
          828,
          814,
          841,
          801,
          805,
          821,
          833,
          837,
          786,
          829,
          878,
          771,
          842,
          782,
          846,
          868,
          819,
          856,
          804,
          798,
          812,
          803,
          836,
          831,
          822,
          814,
          820,
          823,
          784,
          849,
          790,
          794,
          740,
          819,
          819,
          801,
          841,
          816,
          786,
          809,
          791,
          781,
          755,
          831,
          754,
          773,
          699,
          752,
          794,
          762,
          813,
          765,
          725,
          786,
          736,
          757,
          780,
          749,
          755,
          754,
          792,
          761,
          812,
          766,
          784,
          741,
          745,
          751,
          746,
          721,
          788,
          751,
          712,
          741,
          723,
          716,
          768,
          737,
          727,
          766,
          727,
          711,
          711,
          712,
          735,
          751,
          738,
          711,
          692,
          805,
          734,
          725,
          688,
          687,
          723,
          758,
          689,
          733,
          750,
          744,
          765,
          724,
          709,
          676,
          698,
          743,
          748,
          695,
          707,
          685,
          745,
          673,
          648,
          680,
          668,
          663,
          677,
          692,
          739,
          698,
          674,
          714,
          721,
          682,
          672,
          662,
          691,
          681,
          678,
          671,
          698,
          677,
          667,
          681,
          698,
          637,
          680,
          682,
          673,
          621,
          648,
          677,
          657,
          644,
          665,
          660,
          622,
          650,
          661,
          624,
          673,
          695,
          688,
          678,
          598,
          675,
          698,
          667,
          665,
          663,
          660,
          584,
          630,
          643,
          619,
          624,
          616,
          583,
          658,
          618,
          622,
          622,
          615,
          612,
          636,
          628,
          641,
          606,
          628,
          608,
          643,
          628,
          655,
          603,
          576,
          600,
          616,
          648,
          606,
          595,
          575,
          644,
          559,
          607,
          582,
          624,
          640,
          583,
          644,
          593,
          609,
          626,
          572,
          584,
          563,
          628,
          614,
          611,
          581,
          562,
          547,
          564,
          578,
          565,
          594,
          566,
          540,
          630,
          598,
          596,
          586,
          599,
          597,
          563,
          557,
          522,
          577,
          607,
          543,
          506,
          592,
          544,
          548,
          543,
          553,
          557,
          540,
          544,
          601,
          564,
          558,
          550,
          551,
          548,
          572,
          498,
          545,
          522,
          532,
          497,
          552,
          499,
          579,
          557,
          515,
          539,
          548,
          549,
          505,
          522,
          526,
          517,
          516,
          530,
          537,
          544,
          541,
          490,
          488,
          513,
          511,
          506,
          487,
          484,
          515,
          495,
          460,
          486,
          517,
          527,
          526,
          557,
          473,
          495,
          487,
          485,
          451,
          526,
          463,
          455,
          488,
          508,
          451,
          482,
          458,
          457,
          465,
          485,
          446,
          456,
          469,
          429,
          496,
          490,
          500,
          482,
          462,
          445,
          463,
          469,
          455,
          454,
          438,
          425,
          459,
          431,
          438,
          446,
          441,
          459,
          439,
          450,
          419,
          420,
          427,
          473,
          474,
          428,
          444,
          435,
          451,
          445,
          409,
          407,
          459,
          441,
          400,
          425,
          439,
          381,
          407,
          431,
          417,
          423,
          374,
          388,
          400,
          384,
          365,
          412,
          412,
          410,
          396,
          420,
          405,
          429,
          412,
          379,
          380,
          455,
          390,
          361,
          404,
          418,
          360,
          388,
          373,
          358,
          373,
          371,
          368,
          349,
          395,
          385,
          364,
          392,
          351,
          382,
          340,
          350,
          393,
          381,
          381,
          354,
          359,
          356,
          333,
          346,
          333,
          369,
          360,
          322,
          355,
          345,
          364,
          347,
          357,
          358,
          361,
          314,
          316,
          350,
          300,
          314,
          349,
          299,
          338,
          316,
          340,
          339,
          334,
          339,
          343,
          328,
          323,
          292,
          329,
          330,
          317,
          318,
          310,
          324,
          322,
          318,
          283,
          279,
          300,
          296,
          282,
          277,
          319,
          314,
          320,
          268,
          319,
          281,
          313,
          300,
          292,
          305,
          280,
          289,
          288,
          290,
          265,
          291,
          284,
          272,
          289,
          262,
          270,
          270,
          296,
          238,
          284,
          306,
          273,
          280,
          270,
          280,
          295,
          292,
          263,
          248,
          262,
          260,
          270,
          278,
          268,
          291,
          251,
          226,
          251,
          258,
          241,
          276,
          249,
          241,
          264,
          272,
          245,
          227,
          238,
          234,
          240,
          262,
          237,
          237,
          238,
          242,
          235,
          229,
          232,
          232,
          215,
          232,
          235,
          257,
          226,
          240,
          193,
          229,
          209,
          208,
          210,
          222,
          214,
          244,
          218,
          224,
          201,
          231,
          209,
          205,
          179,
          208,
          186,
          217,
          229,
          225,
          211,
          200,
          219,
          179,
          174,
          206,
          195,
          174,
          180,
          175,
          202,
          172,
          176,
          180,
          186,
          192,
          176,
          186,
          194,
          180,
          174,
          168,
          166,
          158,
          150,
          179,
          190,
          168,
          170,
          178,
          178,
          202,
          164,
          183,
          179,
          171,
          172,
          143,
          150,
          170,
          147,
          154,
          159,
          142,
          166,
          145,
          151,
          160,
          146,
          134,
          161,
          144,
          152,
          154,
          153,
          158,
          143,
          143,
          157,
          161,
          141,
          129,
          134,
          132,
          155,
          164,
          144,
          157,
          144,
          129,
          130,
          141,
          144,
          139,
          144,
          138,
          140,
          151,
          142,
          143,
          151,
          135,
          141,
          141,
          121,
          125,
          120,
          142,
          144,
          114,
          148,
          127,
          116,
          124,
          132,
          116,
          128,
          114,
          122,
          147,
          136,
          147,
          126,
          123,
          109,
          117,
          120,
          142,
          119,
          121,
          116,
          114,
          127,
          104,
          108,
          129,
          126,
          121,
          111,
          110,
          105,
          127,
          117,
          106,
          131,
          121,
          105,
          114,
          109,
          133,
          120,
          114,
          110,
          141,
          126,
          117,
          105,
          99,
          108,
          119,
          104,
          119,
          124,
          108,
          113,
          125,
          102,
          76,
          100,
          128,
          112,
          108,
          112,
          94,
          119,
          106,
          109,
          106,
          99,
          103,
          105,
          112,
          87,
          119,
          108,
          107,
          104,
          112,
          112,
          95,
          108,
          104,
          122,
          101,
          91,
          102,
          88,
          97,
          109,
          96,
          105,
          104,
          106,
          109,
          98,
          99,
          99,
          109,
          96,
          110,
          91,
          97,
          77,
          77,
          83,
          100,
          92,
          88,
          102,
          108,
          114,
          101,
          93,
          90,
          89,
          105,
          101,
          103,
          103,
          76,
          105,
          109,
          81,
          99,
          90,
          79,
          89,
          94,
          82,
          88,
          100,
          95,
          84,
          81,
          103,
          97,
          84,
          98,
          87,
          89,
          78,
          87,
          89,
          88,
          72,
          75,
          69,
          87,
          89,
          74,
          93,
          78,
          81,
          99,
          78,
          91,
          79,
          76,
          92,
          73,
          96,
          82,
          87,
          73,
          74,
          83,
          77,
          87,
          70,
          79,
          79,
          78,
          81,
          77,
          87,
          73,
          86,
          93,
          83,
          74,
          82,
          84,
          79,
          77,
          85,
          68,
          67,
          80,
          105,
          76,
          78,
          97,
          69,
          80,
          73,
          83,
          82,
          58,
          72,
          64,
          66,
          78,
          76,
          76,
          67,
          76,
          75,
          59,
          74,
          67,
          73,
          74,
          64,
          72,
          67,
          75,
          76,
          68,
          75,
          65,
          66,
          60,
          84,
          70,
          78,
          71,
          80,
          71,
          63,
          79,
          67,
          73,
          74,
          64,
          73,
          73,
          71,
          80,
          67,
          66,
          68,
          76,
          59,
          79,
          61,
          62,
          76,
          65,
          82,
          72,
          70,
          69,
          54,
          75,
          62,
          74,
          75,
          57,
          63,
          55,
          77,
          74,
          59,
          74,
          70,
          71,
          57,
          62,
          60,
          63,
          80,
          62,
          73,
          58,
          69,
          81,
          59,
          65,
          73,
          60,
          59,
          74,
          64,
          58,
          54,
          62,
          61,
          62,
          67,
          69,
          59,
          54,
          65,
          73,
          61,
          60,
          71,
          46,
          59,
          69,
          57,
          64,
          59,
          66,
          70,
          85,
          51,
          60,
          62,
          55,
          58,
          67,
          69,
          66,
          57,
          52,
          50,
          43,
          63,
          63,
          48,
          47,
          45,
          48,
          57,
          62,
          63,
          42,
          44,
          64,
          58,
          57,
          50,
          65,
          65,
          57,
          47,
          58,
          61,
          69,
          62,
          66,
          59,
          52,
          71,
          58,
          45,
          43,
          53,
          57,
          52,
          65,
          56,
          41,
          52,
          51,
          50,
          50,
          63,
          59,
          51,
          66,
          52,
          56,
          45,
          47,
          75,
          51,
          42,
          57,
          39,
          57,
          54,
          48,
          59,
          57,
          68,
          57,
          45,
          72,
          49,
          52,
          66,
          57,
          52,
          61,
          56,
          68,
          42,
          49,
          61,
          57,
          48,
          59,
          57,
          45,
          50,
          51,
          48,
          48,
          46,
          44,
          44,
          55,
          51,
          54,
          47,
          57,
          60,
          66,
          60,
          39,
          60,
          49,
          49,
          50,
          51,
          46,
          60,
          52,
          42,
          41,
          47,
          43,
          55,
          44,
          52,
          45,
          39,
          40,
          56,
          43,
          48,
          48,
          52,
          42,
          47,
          47,
          49,
          49,
          61,
          36,
          50,
          48,
          51,
          43,
          52,
          55,
          37,
          50,
          54,
          44,
          76,
          61,
          63,
          57,
          57,
          42,
          47,
          37,
          47,
          49,
          50,
          50,
          50,
          61,
          43,
          48,
          43,
          47,
          57,
          45,
          49,
          46,
          46,
          42,
          52,
          41,
          45,
          47,
          55,
          53,
          48,
          48,
          48,
          41,
          54,
          47,
          49,
          34,
          49,
          36,
          43,
          27,
          59,
          47,
          47,
          32,
          52,
          39,
          40,
          52,
          45,
          42,
          34,
          46,
          35,
          42,
          40,
          41,
          51,
          41,
          40,
          53,
          31,
          45,
          34,
          43,
          40,
          39,
          44,
          46,
          31,
          42,
          48,
          45,
          51,
          38,
          46,
          39,
          37,
          39,
          36,
          42,
          52,
          37,
          48,
          39,
          38,
          34,
          41,
          38,
          43,
          40,
          58,
          34,
          37,
          35,
          36,
          34,
          42,
          40,
          51,
          41,
          31,
          39,
          39,
          42,
          37,
          31,
          46,
          39,
          30,
          37,
          43,
          49,
          39,
          43,
          47,
          27,
          41,
          36,
          38,
          35,
          28,
          35,
          46,
          43,
          30,
          36,
          35,
          39,
          36,
          35,
          36,
          44,
          33,
          38,
          44,
          47,
          44,
          47,
          44,
          30,
          30,
          31,
          39,
          44,
          44,
          39,
          34,
          37,
          38,
          44,
          37,
          40,
          35,
          37,
          30,
          40,
          41,
          31,
          42,
          33,
          40,
          35,
          38,
          44,
          35,
          35,
          26,
          32,
          27,
          38,
          34,
          36,
          51,
          36,
          33,
          37,
          42,
          33,
          32,
          39,
          31,
          36,
          36,
          26,
          34,
          34,
          27,
          42,
          38,
          29,
          41,
          44,
          38,
          35,
          35,
          41,
          42,
          26,
          29,
          25,
          33,
          38,
          33,
          29,
          47,
          40,
          35,
          27,
          37,
          29,
          28,
          36,
          32,
          29,
          45,
          42,
          27,
          36,
          37,
          28,
          43,
          30,
          44,
          39,
          38,
          35,
          31,
          37,
          30,
          35,
          38,
          22,
          21,
          36,
          32,
          35,
          31,
          41,
          31,
          50,
          45,
          38,
          26,
          24,
          29,
          41,
          30,
          32,
          29,
          33,
          26,
          26,
          42,
          51,
          41,
          45,
          39,
          42,
          38,
          26,
          36,
          24,
          27,
          26,
          28,
          34,
          40,
          26,
          34,
          19,
          33,
          34,
          35,
          20,
          38,
          36,
          37,
          28,
          42,
          35,
          29,
          35,
          26,
          39,
          32,
          29,
          23,
          25,
          25,
          30,
          40,
          34,
          34,
          32,
          29,
          31,
          36,
          35,
          38,
          30,
          31,
          31,
          27,
          29,
          31,
          32,
          42,
          34,
          32,
          37,
          27,
          30,
          30,
          28,
          38,
          35,
          28,
          31,
          40,
          32,
          34,
          29,
          39,
          25,
          31,
          31,
          32,
          26,
          34,
          35,
          36,
          35,
          34,
          26,
          27,
          32,
          28,
          30,
          25,
          30,
          27,
          27,
          35,
          21,
          23,
          29,
          27,
          31,
          28,
          21,
          39,
          34,
          35,
          30,
          30,
          27,
          32,
          28,
          27,
          23,
          27,
          32,
          35,
          27,
          15,
          37,
          23,
          30,
          39,
          34,
          26,
          29,
          20,
          25,
          26,
          43,
          23,
          34,
          24,
          21,
          16,
          40,
          25,
          29,
          31,
          36,
          22,
          23,
          27,
          37,
          36,
          22,
          27,
          38,
          31,
          29,
          37,
          28,
          24,
          42,
          25,
          26,
          25,
          31,
          20,
          30,
          23,
          31,
          26,
          28,
          24,
          29,
          30,
          36,
          16,
          22,
          32,
          21,
          25,
          31,
          33,
          18,
          39,
          33,
          31,
          21,
          21,
          27,
          27,
          32,
          26,
          23,
          22,
          25,
          28,
          23,
          29,
          33,
          28,
          19,
          22,
          30,
          21,
          19,
          32,
          30,
          32,
          31,
          32,
          21,
          28,
          26,
          23,
          37,
          32,
          23,
          25,
          30,
          30,
          25,
          21,
          22,
          23,
          22,
          20,
          31,
          19,
          31,
          17,
          25,
          33,
          31,
          24,
          16,
          32,
          27,
          19,
          21,
          29,
          24,
          23,
          27,
          26,
          29,
          45,
          22,
          24,
          22,
          19,
          30,
          29,
          27,
          29,
          21,
          20,
          29,
          22,
          35,
          31,
          30,
          28,
          29,
          31,
          28,
          36,
          30,
          30,
          22,
          23,
          22,
          43,
          24,
          24,
          26,
          26,
          18,
          31,
          25,
          37,
          30,
          22,
          23,
          23,
          27,
          20,
          22,
          27,
          26,
          20,
          25,
          29,
          33,
          23,
          30,
          18,
          22,
          30,
          19,
          26,
          16,
          26,
          19,
          22,
          27,
          23,
          29,
          23,
          27,
          21,
          25,
          28,
          19,
          20,
          35,
          23,
          27,
          22,
          21,
          32,
          25,
          18,
          26,
          28,
          25,
          23,
          28,
          25,
          27,
          30,
          15,
          27,
          26,
          20,
          23,
          28,
          27,
          23,
          27,
          22,
          19,
          23,
          19,
          24,
          25,
          25,
          34,
          19,
          26,
          24,
          30,
          18,
          27,
          21,
          23,
          23,
          18,
          22,
          12,
          18,
          16,
          13,
          20,
          18,
          17,
          23,
          22,
          30,
          28,
          28,
          21,
          23,
          23,
          25,
          23,
          28,
          25,
          25,
          21,
          12,
          15,
          21,
          27,
          20,
          19,
          19,
          23,
          28,
          20,
          14,
          15,
          19,
          32,
          25,
          22,
          21,
          18,
          24,
          14,
          22,
          25,
          23,
          22,
          26,
          22,
          27,
          32,
          24,
          16,
          21,
          27,
          25,
          26,
          18,
          22,
          24,
          23,
          17,
          25,
          25,
          11,
          21,
          21,
          32,
          23,
          25,
          23,
          18,
          21,
          17,
          22,
          23,
          23,
          21,
          23,
          23,
          13,
          21,
          26,
          26,
          18,
          19,
          20,
          17,
          19,
          24,
          15,
          23,
          24,
          25,
          27,
          19,
          26,
          24,
          20,
          18,
          18,
          20,
          16,
          30,
          28,
          23,
          20,
          26,
          21,
          23,
          38,
          19,
          19,
          25,
          18,
          21,
          21,
          20,
          31,
          22,
          22,
          17,
          29,
          26,
          25,
          19,
          20,
          29,
          18,
          26,
          22,
          16,
          22,
          26,
          24,
          16,
          20,
          22,
          20,
          22,
          22,
          16,
          19,
          21,
          22,
          20,
          16,
          18,
          29,
          20,
          28,
          15,
          22,
          12,
          32,
          20,
          16,
          24,
          21,
          20,
          20,
          13,
          16,
          21,
          30,
          28,
          22,
          22,
          19,
          23,
          19,
          25,
          22,
          16,
          17,
          26,
          26,
          21,
          36,
          14,
          16,
          12,
          21,
          17,
          19,
          20,
          18,
          20,
          26,
          24,
          22,
          20,
          26,
          11,
          19,
          27,
          19,
          21,
          23,
          21,
          27,
          19,
          24,
          24,
          20,
          20,
          22,
          19,
          21,
          19,
          18,
          14,
          20,
          18,
          21,
          15,
          22,
          15,
          17,
          31,
          23,
          19,
          13,
          22,
          26,
          27,
          24,
          17,
          15,
          18,
          27,
          25,
          25,
          27,
          19,
          22,
          14,
          13,
          16,
          23,
          20,
          17,
          19,
          24,
          30,
          13,
          15,
          23,
          25,
          19,
          32,
          21,
          21,
          12,
          20,
          20,
          20,
          21,
          27,
          23,
          11,
          25,
          17,
          22,
          26,
          16,
          32,
          21,
          22,
          16,
          16,
          17,
          19,
          13,
          23,
          22,
          22,
          23,
          22,
          21,
          16,
          22,
          19,
          21,
          10,
          13,
          28,
          20,
          20,
          23,
          13,
          16,
          23,
          27,
          12,
          15,
          18,
          12,
          17,
          16,
          24,
          25,
          23,
          24,
          20,
          21,
          20,
          25,
          20,
          20,
          14,
          16,
          15,
          18,
          19,
          22,
          19,
          20,
          11,
          21,
          21,
          16,
          20,
          21,
          10,
          25,
          23,
          23,
          19,
          17,
          28,
          15,
          17,
          20,
          22,
          18,
          21,
          26,
          33,
          16,
          23,
          22,
          23,
          16,
          19,
          20,
          21,
          19,
          18,
          17,
          13,
          13,
          30,
          13,
          17,
          19,
          18,
          21,
          16,
          16,
          20,
          11,
          20,
          18,
          13,
          27,
          19,
          18,
          30,
          17,
          30,
          14,
          9,
          24,
          22,
          17,
          14,
          11,
          24,
          19,
          18,
          24,
          18,
          24,
          20,
          20,
          13,
          18,
          18,
          14,
          24,
          15,
          11,
          18,
          16,
          17,
          11,
          17,
          19,
          14,
          13,
          18,
          27,
          19,
          20,
          18,
          22,
          23,
          17,
          20,
          19,
          12,
          19,
          17,
          15,
          23,
          20,
          22,
          16,
          22,
          18,
          28,
          21,
          24,
          23,
          11,
          24,
          16,
          18,
          19,
          19,
          22,
          23,
          19,
          19,
          22,
          18,
          22,
          21,
          21,
          19,
          18,
          21,
          24,
          30,
          16,
          17,
          23,
          16,
          13,
          24,
          17,
          13,
          16,
          12,
          17,
          28,
          15,
          20,
          16,
          24,
          22,
          24,
          16,
          21,
          20,
          24,
          20,
          12,
          26,
          14,
          16,
          20,
          27,
          18,
          13,
          19,
          17,
          23,
          22,
          13,
          21,
          18,
          24,
          18,
          16,
          13,
          20,
          23,
          17,
          18,
          20,
          23,
          16,
          24,
          18,
          24,
          14,
          19,
          17,
          21,
          15,
          18,
          25,
          16,
          22,
          17,
          14,
          27,
          13,
          21,
          24,
          14,
          16,
          18,
          18,
          13,
          17,
          22,
          9,
          18,
          18,
          17,
          24,
          16,
          23,
          19,
          19,
          17,
          17,
          19,
          29,
          22,
          24,
          17,
          17,
          16,
          13,
          12,
          12,
          21,
          17,
          16,
          16,
          19,
          17,
          22,
          16,
          15,
          21,
          10,
          15,
          16,
          23,
          15,
          12,
          20,
          25,
          20,
          17,
          24,
          23,
          20,
          16,
          12,
          24,
          23,
          21,
          22,
          21,
          17,
          18,
          9,
          17,
          13,
          21,
          22,
          16,
          17,
          14,
          12,
          13,
          16,
          20,
          19,
          21,
          29,
          18,
          12,
          11,
          20,
          23,
          18,
          15,
          17,
          23,
          20,
          18,
          12,
          19,
          19,
          21,
          12,
          15,
          17,
          16,
          24,
          20,
          12,
          21,
          22,
          17,
          15,
          17,
          15,
          12,
          24,
          19,
          27,
          23,
          11,
          19,
          18,
          19,
          18,
          10,
          25,
          10,
          20,
          18,
          23,
          15,
          18,
          23,
          19,
          25,
          24,
          18,
          18,
          14,
          15,
          15,
          17,
          11,
          11,
          17,
          25,
          16,
          18,
          17,
          26,
          15,
          24,
          22,
          27,
          19,
          21,
          16,
          21,
          13,
          20,
          18,
          22,
          25,
          21,
          15,
          18,
          17,
          23,
          21,
          8,
          5,
          16,
          14,
          15,
          30,
          22,
          15,
          16,
          12,
          15,
          22,
          16,
          16,
          16,
          15,
          23,
          22,
          17,
          13,
          15,
          15,
          16,
          22,
          16,
          25,
          15,
          21,
          33,
          20,
          23,
          19,
          15,
          13,
          22,
          19,
          16,
          18,
          15,
          15,
          19,
          22,
          13,
          14,
          10,
          11,
          19,
          17,
          18,
          18,
          19,
          15,
          24,
          16,
          12,
          17,
          18,
          20,
          19,
          17,
          16,
          23,
          15,
          18,
          13,
          12,
          18,
          16,
          16,
          12,
          16,
          18,
          18,
          19,
          15,
          14,
          23,
          15,
          16,
          10,
          16,
          15,
          11,
          13,
          15,
          16,
          21,
          18,
          13,
          22,
          14,
          28,
          20,
          18,
          17,
          15,
          23,
          14,
          20,
          13,
          23,
          14,
          18,
          14,
          12,
          11,
          13,
          14,
          17,
          18,
          21,
          18,
          14,
          11,
          16,
          15,
          13,
          26,
          17,
          15,
          11,
          13,
          24,
          16,
          14,
          16,
          21,
          15,
          18,
          18,
          17,
          22,
          14,
          20,
          21,
          14,
          17,
          22,
          18,
          23,
          11,
          15,
          16,
          15,
          12,
          22,
          16,
          14,
          11,
          16,
          17,
          11,
          19,
          15,
          20,
          14,
          12,
          22,
          15,
          22,
          14,
          22,
          16,
          7,
          21,
          15,
          15,
          15,
          23,
          16,
          16,
          8,
          28,
          16,
          18,
          18,
          17,
          19,
          9,
          8,
          19,
          17,
          19,
          19,
          13,
          14,
          17,
          19,
          17,
          17,
          18,
          17,
          23,
          10,
          16,
          23,
          20,
          17,
          24,
          19,
          18,
          15,
          16,
          21,
          12,
          17,
          19,
          12,
          14,
          21,
          19,
          18,
          17,
          19,
          14,
          15,
          17,
          22,
          18,
          14,
          13,
          24,
          18,
          20,
          17,
          15,
          22,
          16,
          13,
          16,
          18,
          20,
          15,
          13,
          21,
          17,
          22,
          18,
          27,
          21,
          13,
          18,
          19,
          15,
          17,
          12,
          23,
          26,
          17,
          14,
          15,
          19,
          22,
          17,
          11,
          15,
          13,
          19,
          21,
          9,
          21,
          18,
          15,
          20,
          17,
          20,
          21,
          15,
          12,
          14,
          16,
          18,
          25,
          14,
          21,
          15,
          24,
          12,
          15,
          20,
          18,
          12,
          11,
          20,
          19,
          18,
          13,
          17,
          16,
          17,
          10,
          19,
          15,
          13,
          28,
          16,
          16,
          13,
          10,
          19,
          13,
          7,
          18,
          15,
          19,
          12,
          15,
          11,
          15,
          18,
          10,
          17,
          11,
          16,
          16,
          23,
          18,
          22,
          20,
          16,
          15,
          17,
          16,
          14,
          16,
          19,
          14,
          20,
          13,
          10,
          27,
          24,
          15,
          22,
          7,
          14,
          20,
          10,
          13,
          19,
          10,
          17,
          21,
          9,
          17,
          15,
          10,
          18,
          15,
          15,
          26,
          21,
          14,
          12,
          24,
          13,
          17,
          18,
          12,
          21,
          20,
          24,
          9,
          7,
          10,
          19,
          19,
          14,
          13,
          16,
          24,
          15,
          9,
          7,
          12,
          16,
          12,
          8,
          13,
          14,
          21,
          13,
          24,
          18,
          15,
          23,
          18,
          13,
          19,
          8,
          16,
          13,
          14,
          20,
          5,
          12,
          9,
          15,
          17,
          14,
          14,
          14,
          15,
          15,
          13,
          8,
          18,
          19,
          6,
          14,
          17,
          10,
          16,
          16,
          15,
          15,
          19,
          14,
          4,
          18,
          10,
          17,
          10,
          9,
          15,
          12,
          14,
          16,
          12,
          17,
          7,
          13,
          11,
          11,
          11,
          10,
          9,
          26,
          13,
          10,
          8,
          13,
          17,
          12,
          11,
          17,
          15,
          6,
          16,
          11,
          22,
          15,
          8,
          17,
          18,
          14,
          19,
          15,
          16,
          16,
          7,
          12,
          22,
          17,
          15,
          12,
          14,
          7,
          12,
          16,
          12,
          7,
          10,
          14,
          15,
          15,
          16,
          11,
          8,
          16,
          9,
          12,
          13,
          18,
          11,
          7,
          10,
          11,
          11,
          17,
          16,
          18,
          14,
          13,
          9,
          13,
          11,
          13,
          10,
          12,
          16,
          10,
          16,
          10,
          14,
          11,
          2,
          14,
          11,
          12,
          16,
          10,
          16,
          13,
          12,
          12,
          19,
          10,
          8,
          12,
          12,
          9,
          11,
          8,
          18,
          11,
          11,
          9,
          13,
          14,
          10,
          18,
          14,
          13,
          14,
          11,
          11,
          16,
          13,
          15,
          10,
          12,
          12,
          12,
          14,
          9,
          11,
          18,
          7,
          12,
          4,
          11,
          9,
          13,
          13,
          11,
          13,
          8,
          11,
          17,
          10,
          13,
          14,
          19,
          12,
          9,
          11,
          10,
          10,
          13,
          19,
          9,
          16,
          10,
          11,
          8,
          7,
          15,
          16,
          14,
          18,
          6,
          13,
          11,
          10,
          15,
          10,
          14,
          8,
          16,
          7,
          12,
          9
         ]
        }
       ],
       "layout": {
        "template": {
         "data": {
          "bar": [
           {
            "error_x": {
             "color": "#f2f5fa"
            },
            "error_y": {
             "color": "#f2f5fa"
            },
            "marker": {
             "line": {
              "color": "rgb(17,17,17)",
              "width": 0.5
             }
            },
            "type": "bar"
           }
          ],
          "barpolar": [
           {
            "marker": {
             "line": {
              "color": "rgb(17,17,17)",
              "width": 0.5
             }
            },
            "type": "barpolar"
           }
          ],
          "carpet": [
           {
            "aaxis": {
             "endlinecolor": "#A2B1C6",
             "gridcolor": "#506784",
             "linecolor": "#506784",
             "minorgridcolor": "#506784",
             "startlinecolor": "#A2B1C6"
            },
            "baxis": {
             "endlinecolor": "#A2B1C6",
             "gridcolor": "#506784",
             "linecolor": "#506784",
             "minorgridcolor": "#506784",
             "startlinecolor": "#A2B1C6"
            },
            "type": "carpet"
           }
          ],
          "choropleth": [
           {
            "colorbar": {
             "outlinewidth": 0,
             "ticks": ""
            },
            "type": "choropleth"
           }
          ],
          "contour": [
           {
            "colorbar": {
             "outlinewidth": 0,
             "ticks": ""
            },
            "colorscale": [
             [
              0,
              "#0d0887"
             ],
             [
              0.1111111111111111,
              "#46039f"
             ],
             [
              0.2222222222222222,
              "#7201a8"
             ],
             [
              0.3333333333333333,
              "#9c179e"
             ],
             [
              0.4444444444444444,
              "#bd3786"
             ],
             [
              0.5555555555555556,
              "#d8576b"
             ],
             [
              0.6666666666666666,
              "#ed7953"
             ],
             [
              0.7777777777777778,
              "#fb9f3a"
             ],
             [
              0.8888888888888888,
              "#fdca26"
             ],
             [
              1,
              "#f0f921"
             ]
            ],
            "type": "contour"
           }
          ],
          "contourcarpet": [
           {
            "colorbar": {
             "outlinewidth": 0,
             "ticks": ""
            },
            "type": "contourcarpet"
           }
          ],
          "heatmap": [
           {
            "colorbar": {
             "outlinewidth": 0,
             "ticks": ""
            },
            "colorscale": [
             [
              0,
              "#0d0887"
             ],
             [
              0.1111111111111111,
              "#46039f"
             ],
             [
              0.2222222222222222,
              "#7201a8"
             ],
             [
              0.3333333333333333,
              "#9c179e"
             ],
             [
              0.4444444444444444,
              "#bd3786"
             ],
             [
              0.5555555555555556,
              "#d8576b"
             ],
             [
              0.6666666666666666,
              "#ed7953"
             ],
             [
              0.7777777777777778,
              "#fb9f3a"
             ],
             [
              0.8888888888888888,
              "#fdca26"
             ],
             [
              1,
              "#f0f921"
             ]
            ],
            "type": "heatmap"
           }
          ],
          "heatmapgl": [
           {
            "colorbar": {
             "outlinewidth": 0,
             "ticks": ""
            },
            "colorscale": [
             [
              0,
              "#0d0887"
             ],
             [
              0.1111111111111111,
              "#46039f"
             ],
             [
              0.2222222222222222,
              "#7201a8"
             ],
             [
              0.3333333333333333,
              "#9c179e"
             ],
             [
              0.4444444444444444,
              "#bd3786"
             ],
             [
              0.5555555555555556,
              "#d8576b"
             ],
             [
              0.6666666666666666,
              "#ed7953"
             ],
             [
              0.7777777777777778,
              "#fb9f3a"
             ],
             [
              0.8888888888888888,
              "#fdca26"
             ],
             [
              1,
              "#f0f921"
             ]
            ],
            "type": "heatmapgl"
           }
          ],
          "histogram": [
           {
            "marker": {
             "colorbar": {
              "outlinewidth": 0,
              "ticks": ""
             }
            },
            "type": "histogram"
           }
          ],
          "histogram2d": [
           {
            "colorbar": {
             "outlinewidth": 0,
             "ticks": ""
            },
            "colorscale": [
             [
              0,
              "#0d0887"
             ],
             [
              0.1111111111111111,
              "#46039f"
             ],
             [
              0.2222222222222222,
              "#7201a8"
             ],
             [
              0.3333333333333333,
              "#9c179e"
             ],
             [
              0.4444444444444444,
              "#bd3786"
             ],
             [
              0.5555555555555556,
              "#d8576b"
             ],
             [
              0.6666666666666666,
              "#ed7953"
             ],
             [
              0.7777777777777778,
              "#fb9f3a"
             ],
             [
              0.8888888888888888,
              "#fdca26"
             ],
             [
              1,
              "#f0f921"
             ]
            ],
            "type": "histogram2d"
           }
          ],
          "histogram2dcontour": [
           {
            "colorbar": {
             "outlinewidth": 0,
             "ticks": ""
            },
            "colorscale": [
             [
              0,
              "#0d0887"
             ],
             [
              0.1111111111111111,
              "#46039f"
             ],
             [
              0.2222222222222222,
              "#7201a8"
             ],
             [
              0.3333333333333333,
              "#9c179e"
             ],
             [
              0.4444444444444444,
              "#bd3786"
             ],
             [
              0.5555555555555556,
              "#d8576b"
             ],
             [
              0.6666666666666666,
              "#ed7953"
             ],
             [
              0.7777777777777778,
              "#fb9f3a"
             ],
             [
              0.8888888888888888,
              "#fdca26"
             ],
             [
              1,
              "#f0f921"
             ]
            ],
            "type": "histogram2dcontour"
           }
          ],
          "mesh3d": [
           {
            "colorbar": {
             "outlinewidth": 0,
             "ticks": ""
            },
            "type": "mesh3d"
           }
          ],
          "parcoords": [
           {
            "line": {
             "colorbar": {
              "outlinewidth": 0,
              "ticks": ""
             }
            },
            "type": "parcoords"
           }
          ],
          "pie": [
           {
            "automargin": true,
            "type": "pie"
           }
          ],
          "scatter": [
           {
            "marker": {
             "line": {
              "color": "#283442"
             }
            },
            "type": "scatter"
           }
          ],
          "scatter3d": [
           {
            "line": {
             "colorbar": {
              "outlinewidth": 0,
              "ticks": ""
             }
            },
            "marker": {
             "colorbar": {
              "outlinewidth": 0,
              "ticks": ""
             }
            },
            "type": "scatter3d"
           }
          ],
          "scattercarpet": [
           {
            "marker": {
             "colorbar": {
              "outlinewidth": 0,
              "ticks": ""
             }
            },
            "type": "scattercarpet"
           }
          ],
          "scattergeo": [
           {
            "marker": {
             "colorbar": {
              "outlinewidth": 0,
              "ticks": ""
             }
            },
            "type": "scattergeo"
           }
          ],
          "scattergl": [
           {
            "marker": {
             "line": {
              "color": "#283442"
             }
            },
            "type": "scattergl"
           }
          ],
          "scattermapbox": [
           {
            "marker": {
             "colorbar": {
              "outlinewidth": 0,
              "ticks": ""
             }
            },
            "type": "scattermapbox"
           }
          ],
          "scatterpolar": [
           {
            "marker": {
             "colorbar": {
              "outlinewidth": 0,
              "ticks": ""
             }
            },
            "type": "scatterpolar"
           }
          ],
          "scatterpolargl": [
           {
            "marker": {
             "colorbar": {
              "outlinewidth": 0,
              "ticks": ""
             }
            },
            "type": "scatterpolargl"
           }
          ],
          "scatterternary": [
           {
            "marker": {
             "colorbar": {
              "outlinewidth": 0,
              "ticks": ""
             }
            },
            "type": "scatterternary"
           }
          ],
          "surface": [
           {
            "colorbar": {
             "outlinewidth": 0,
             "ticks": ""
            },
            "colorscale": [
             [
              0,
              "#0d0887"
             ],
             [
              0.1111111111111111,
              "#46039f"
             ],
             [
              0.2222222222222222,
              "#7201a8"
             ],
             [
              0.3333333333333333,
              "#9c179e"
             ],
             [
              0.4444444444444444,
              "#bd3786"
             ],
             [
              0.5555555555555556,
              "#d8576b"
             ],
             [
              0.6666666666666666,
              "#ed7953"
             ],
             [
              0.7777777777777778,
              "#fb9f3a"
             ],
             [
              0.8888888888888888,
              "#fdca26"
             ],
             [
              1,
              "#f0f921"
             ]
            ],
            "type": "surface"
           }
          ],
          "table": [
           {
            "cells": {
             "fill": {
              "color": "#506784"
             },
             "line": {
              "color": "rgb(17,17,17)"
             }
            },
            "header": {
             "fill": {
              "color": "#2a3f5f"
             },
             "line": {
              "color": "rgb(17,17,17)"
             }
            },
            "type": "table"
           }
          ]
         },
         "layout": {
          "annotationdefaults": {
           "arrowcolor": "#f2f5fa",
           "arrowhead": 0,
           "arrowwidth": 1
          },
          "coloraxis": {
           "colorbar": {
            "outlinewidth": 0,
            "ticks": ""
           }
          },
          "colorscale": {
           "diverging": [
            [
             0,
             "#8e0152"
            ],
            [
             0.1,
             "#c51b7d"
            ],
            [
             0.2,
             "#de77ae"
            ],
            [
             0.3,
             "#f1b6da"
            ],
            [
             0.4,
             "#fde0ef"
            ],
            [
             0.5,
             "#f7f7f7"
            ],
            [
             0.6,
             "#e6f5d0"
            ],
            [
             0.7,
             "#b8e186"
            ],
            [
             0.8,
             "#7fbc41"
            ],
            [
             0.9,
             "#4d9221"
            ],
            [
             1,
             "#276419"
            ]
           ],
           "sequential": [
            [
             0,
             "#0d0887"
            ],
            [
             0.1111111111111111,
             "#46039f"
            ],
            [
             0.2222222222222222,
             "#7201a8"
            ],
            [
             0.3333333333333333,
             "#9c179e"
            ],
            [
             0.4444444444444444,
             "#bd3786"
            ],
            [
             0.5555555555555556,
             "#d8576b"
            ],
            [
             0.6666666666666666,
             "#ed7953"
            ],
            [
             0.7777777777777778,
             "#fb9f3a"
            ],
            [
             0.8888888888888888,
             "#fdca26"
            ],
            [
             1,
             "#f0f921"
            ]
           ],
           "sequentialminus": [
            [
             0,
             "#0d0887"
            ],
            [
             0.1111111111111111,
             "#46039f"
            ],
            [
             0.2222222222222222,
             "#7201a8"
            ],
            [
             0.3333333333333333,
             "#9c179e"
            ],
            [
             0.4444444444444444,
             "#bd3786"
            ],
            [
             0.5555555555555556,
             "#d8576b"
            ],
            [
             0.6666666666666666,
             "#ed7953"
            ],
            [
             0.7777777777777778,
             "#fb9f3a"
            ],
            [
             0.8888888888888888,
             "#fdca26"
            ],
            [
             1,
             "#f0f921"
            ]
           ]
          },
          "colorway": [
           "#636efa",
           "#EF553B",
           "#00cc96",
           "#ab63fa",
           "#FFA15A",
           "#19d3f3",
           "#FF6692",
           "#B6E880",
           "#FF97FF",
           "#FECB52"
          ],
          "font": {
           "color": "#f2f5fa"
          },
          "geo": {
           "bgcolor": "rgb(17,17,17)",
           "lakecolor": "rgb(17,17,17)",
           "landcolor": "rgb(17,17,17)",
           "showlakes": true,
           "showland": true,
           "subunitcolor": "#506784"
          },
          "hoverlabel": {
           "align": "left"
          },
          "hovermode": "closest",
          "mapbox": {
           "style": "dark"
          },
          "paper_bgcolor": "rgb(17,17,17)",
          "plot_bgcolor": "rgb(17,17,17)",
          "polar": {
           "angularaxis": {
            "gridcolor": "#506784",
            "linecolor": "#506784",
            "ticks": ""
           },
           "bgcolor": "rgb(17,17,17)",
           "radialaxis": {
            "gridcolor": "#506784",
            "linecolor": "#506784",
            "ticks": ""
           }
          },
          "scene": {
           "xaxis": {
            "backgroundcolor": "rgb(17,17,17)",
            "gridcolor": "#506784",
            "gridwidth": 2,
            "linecolor": "#506784",
            "showbackground": true,
            "ticks": "",
            "zerolinecolor": "#C8D4E3"
           },
           "yaxis": {
            "backgroundcolor": "rgb(17,17,17)",
            "gridcolor": "#506784",
            "gridwidth": 2,
            "linecolor": "#506784",
            "showbackground": true,
            "ticks": "",
            "zerolinecolor": "#C8D4E3"
           },
           "zaxis": {
            "backgroundcolor": "rgb(17,17,17)",
            "gridcolor": "#506784",
            "gridwidth": 2,
            "linecolor": "#506784",
            "showbackground": true,
            "ticks": "",
            "zerolinecolor": "#C8D4E3"
           }
          },
          "shapedefaults": {
           "line": {
            "color": "#f2f5fa"
           }
          },
          "sliderdefaults": {
           "bgcolor": "#C8D4E3",
           "bordercolor": "rgb(17,17,17)",
           "borderwidth": 1,
           "tickwidth": 0
          },
          "ternary": {
           "aaxis": {
            "gridcolor": "#506784",
            "linecolor": "#506784",
            "ticks": ""
           },
           "baxis": {
            "gridcolor": "#506784",
            "linecolor": "#506784",
            "ticks": ""
           },
           "bgcolor": "rgb(17,17,17)",
           "caxis": {
            "gridcolor": "#506784",
            "linecolor": "#506784",
            "ticks": ""
           }
          },
          "title": {
           "x": 0.05
          },
          "updatemenudefaults": {
           "bgcolor": "#506784",
           "borderwidth": 0
          },
          "xaxis": {
           "automargin": true,
           "gridcolor": "#283442",
           "linecolor": "#506784",
           "ticks": "",
           "title": {
            "standoff": 15
           },
           "zerolinecolor": "#283442",
           "zerolinewidth": 2
          },
          "yaxis": {
           "automargin": true,
           "gridcolor": "#283442",
           "linecolor": "#506784",
           "ticks": "",
           "title": {
            "standoff": 15
           },
           "zerolinecolor": "#283442",
           "zerolinewidth": 2
          }
         }
        },
        "title": {
         "text": "Rental time",
         "x": 0.5,
         "xanchor": "center",
         "y": 0.9,
         "yanchor": "middle"
        },
        "xaxis": {
         "tickmode": "array",
         "ticktext": [
          "00:00:00",
          "00:05:00",
          "00:10:00",
          "00:15:00",
          "00:20:00",
          "00:25:00",
          "00:30:00",
          "00:35:00",
          "00:40:00",
          "00:45:00",
          "00:50:00",
          "00:55:00",
          "01:00:00",
          "01:05:00",
          "01:10:00",
          "01:15:00",
          "01:20:00",
          "01:25:00",
          "01:30:00"
         ],
         "tickvals": [
          "00:00:00",
          "00:05:00",
          "00:10:00",
          "00:15:00",
          "00:20:00",
          "00:25:00",
          "00:30:00",
          "00:35:00",
          "00:40:00",
          "00:45:00",
          "00:50:00",
          "00:55:00",
          "01:00:00",
          "01:05:00",
          "01:10:00",
          "01:15:00",
          "01:20:00",
          "01:25:00",
          "01:30:00"
         ],
         "title": {
          "text": "time (hh:mm:ss)"
         }
        },
        "yaxis": {
         "title": {
          "text": "no. of rentals"
         }
        }
       }
      },
      "text/html": [
       "<div>\n",
       "        \n",
       "        \n",
       "            <div id=\"27780d89-5c66-4f89-9217-339f0633f7e3\" class=\"plotly-graph-div\" style=\"height:525px; width:100%;\"></div>\n",
       "            <script type=\"text/javascript\">\n",
       "                require([\"plotly\"], function(Plotly) {\n",
       "                    window.PLOTLYENV=window.PLOTLYENV || {};\n",
       "                    \n",
       "                if (document.getElementById(\"27780d89-5c66-4f89-9217-339f0633f7e3\")) {\n",
       "                    Plotly.newPlot(\n",
       "                        '27780d89-5c66-4f89-9217-339f0633f7e3',\n",
       "                        [{\"mode\": \"lines\", \"type\": \"scatter\", \"x\": [\"00:00:34\", \"00:00:52\", \"00:00:53\", \"00:00:55\", \"00:00:56\", \"00:00:57\", \"00:01:02\", \"00:01:03\", \"00:01:04\", \"00:01:06\", \"00:01:08\", \"00:01:09\", \"00:01:13\", \"00:01:14\", \"00:01:15\", \"00:01:17\", \"00:01:18\", \"00:01:19\", \"00:01:20\", \"00:01:21\", \"00:01:22\", \"00:01:23\", \"00:01:24\", \"00:01:25\", \"00:01:26\", \"00:01:27\", \"00:01:28\", \"00:01:29\", \"00:01:30\", \"00:01:31\", \"00:01:32\", \"00:01:33\", \"00:01:34\", \"00:01:35\", \"00:01:36\", \"00:01:37\", \"00:01:38\", \"00:01:39\", \"00:01:40\", \"00:01:41\", \"00:01:42\", \"00:01:43\", \"00:01:44\", \"00:01:45\", \"00:01:46\", \"00:01:47\", \"00:01:48\", \"00:01:49\", \"00:01:50\", \"00:01:51\", \"00:01:52\", \"00:01:53\", \"00:01:54\", \"00:01:55\", \"00:01:56\", \"00:01:57\", \"00:01:58\", \"00:01:59\", \"00:02:00\", \"00:02:01\", \"00:02:02\", \"00:02:03\", \"00:02:04\", \"00:02:05\", \"00:02:06\", \"00:02:07\", \"00:02:08\", \"00:02:09\", \"00:02:10\", \"00:02:11\", \"00:02:12\", \"00:02:13\", \"00:02:14\", \"00:02:15\", \"00:02:16\", \"00:02:17\", \"00:02:18\", \"00:02:19\", \"00:02:20\", \"00:02:21\", \"00:02:22\", \"00:02:23\", \"00:02:24\", \"00:02:25\", \"00:02:26\", \"00:02:27\", \"00:02:28\", \"00:02:29\", \"00:02:30\", \"00:02:31\", \"00:02:32\", \"00:02:33\", \"00:02:34\", \"00:02:35\", \"00:02:36\", \"00:02:37\", \"00:02:38\", \"00:02:39\", \"00:02:40\", \"00:02:41\", \"00:02:42\", \"00:02:43\", \"00:02:44\", \"00:02:45\", \"00:02:46\", \"00:02:47\", \"00:02:48\", \"00:02:49\", \"00:02:50\", \"00:02:51\", \"00:02:52\", \"00:02:53\", \"00:02:54\", \"00:02:55\", \"00:02:56\", \"00:02:57\", \"00:02:58\", \"00:02:59\", \"00:03:00\", \"00:03:01\", \"00:03:02\", \"00:03:03\", \"00:03:04\", \"00:03:05\", \"00:03:06\", \"00:03:07\", \"00:03:08\", \"00:03:09\", \"00:03:10\", \"00:03:11\", \"00:03:12\", \"00:03:13\", \"00:03:14\", \"00:03:15\", \"00:03:16\", \"00:03:17\", \"00:03:18\", \"00:03:19\", \"00:03:20\", \"00:03:21\", \"00:03:22\", \"00:03:23\", \"00:03:24\", \"00:03:25\", \"00:03:26\", \"00:03:27\", \"00:03:28\", \"00:03:29\", \"00:03:30\", \"00:03:31\", \"00:03:32\", \"00:03:33\", \"00:03:34\", \"00:03:35\", \"00:03:36\", \"00:03:37\", \"00:03:38\", \"00:03:39\", \"00:03:40\", \"00:03:41\", \"00:03:42\", \"00:03:43\", \"00:03:44\", \"00:03:45\", \"00:03:46\", \"00:03:47\", \"00:03:48\", \"00:03:49\", \"00:03:50\", \"00:03:51\", \"00:03:52\", \"00:03:53\", \"00:03:54\", \"00:03:55\", \"00:03:56\", \"00:03:57\", \"00:03:58\", \"00:03:59\", \"00:04:00\", \"00:04:01\", \"00:04:02\", \"00:04:03\", \"00:04:04\", \"00:04:05\", \"00:04:06\", \"00:04:07\", \"00:04:08\", \"00:04:09\", \"00:04:10\", \"00:04:11\", \"00:04:12\", \"00:04:13\", \"00:04:14\", \"00:04:15\", \"00:04:16\", \"00:04:17\", \"00:04:18\", \"00:04:19\", \"00:04:20\", \"00:04:21\", \"00:04:22\", \"00:04:23\", \"00:04:24\", \"00:04:25\", \"00:04:26\", \"00:04:27\", \"00:04:28\", \"00:04:29\", \"00:04:30\", \"00:04:31\", \"00:04:32\", \"00:04:33\", \"00:04:34\", \"00:04:35\", \"00:04:36\", \"00:04:37\", \"00:04:38\", \"00:04:39\", \"00:04:40\", \"00:04:41\", \"00:04:42\", \"00:04:43\", \"00:04:44\", \"00:04:45\", \"00:04:46\", \"00:04:47\", \"00:04:48\", \"00:04:49\", \"00:04:50\", \"00:04:51\", \"00:04:52\", \"00:04:53\", \"00:04:54\", \"00:04:55\", \"00:04:56\", \"00:04:57\", \"00:04:58\", \"00:04:59\", \"00:05:00\", \"00:05:01\", \"00:05:02\", \"00:05:03\", \"00:05:04\", \"00:05:05\", \"00:05:06\", \"00:05:07\", \"00:05:08\", \"00:05:09\", \"00:05:10\", \"00:05:11\", \"00:05:12\", \"00:05:13\", \"00:05:14\", \"00:05:15\", \"00:05:16\", \"00:05:17\", \"00:05:18\", \"00:05:19\", \"00:05:20\", \"00:05:21\", \"00:05:22\", \"00:05:23\", \"00:05:24\", \"00:05:25\", \"00:05:26\", \"00:05:27\", \"00:05:28\", \"00:05:29\", \"00:05:30\", \"00:05:31\", \"00:05:32\", \"00:05:33\", \"00:05:34\", \"00:05:35\", \"00:05:36\", \"00:05:37\", \"00:05:38\", \"00:05:39\", \"00:05:40\", \"00:05:41\", \"00:05:42\", \"00:05:43\", \"00:05:44\", \"00:05:45\", \"00:05:46\", \"00:05:47\", \"00:05:48\", \"00:05:49\", \"00:05:50\", \"00:05:51\", \"00:05:52\", \"00:05:53\", \"00:05:54\", \"00:05:55\", \"00:05:56\", \"00:05:57\", \"00:05:58\", \"00:05:59\", \"00:06:00\", \"00:06:01\", \"00:06:02\", \"00:06:03\", \"00:06:04\", \"00:06:05\", \"00:06:06\", \"00:06:07\", \"00:06:08\", \"00:06:09\", \"00:06:10\", \"00:06:11\", \"00:06:12\", \"00:06:13\", \"00:06:14\", \"00:06:15\", \"00:06:16\", \"00:06:17\", \"00:06:18\", \"00:06:19\", \"00:06:20\", \"00:06:21\", \"00:06:22\", \"00:06:23\", \"00:06:24\", \"00:06:25\", \"00:06:26\", \"00:06:27\", \"00:06:28\", \"00:06:29\", \"00:06:30\", \"00:06:31\", \"00:06:32\", \"00:06:33\", \"00:06:34\", \"00:06:35\", \"00:06:36\", \"00:06:37\", \"00:06:38\", \"00:06:39\", \"00:06:40\", \"00:06:41\", \"00:06:42\", \"00:06:43\", \"00:06:44\", \"00:06:45\", \"00:06:46\", \"00:06:47\", \"00:06:48\", \"00:06:49\", \"00:06:50\", \"00:06:51\", \"00:06:52\", \"00:06:53\", \"00:06:54\", \"00:06:55\", \"00:06:56\", \"00:06:57\", \"00:06:58\", \"00:06:59\", \"00:07:00\", \"00:07:01\", \"00:07:02\", \"00:07:03\", \"00:07:04\", \"00:07:05\", \"00:07:06\", \"00:07:07\", \"00:07:08\", \"00:07:09\", \"00:07:10\", \"00:07:11\", \"00:07:12\", \"00:07:13\", \"00:07:14\", \"00:07:15\", \"00:07:16\", \"00:07:17\", \"00:07:18\", \"00:07:19\", \"00:07:20\", \"00:07:21\", \"00:07:22\", \"00:07:23\", \"00:07:24\", \"00:07:25\", \"00:07:26\", \"00:07:27\", \"00:07:28\", \"00:07:29\", \"00:07:30\", \"00:07:31\", \"00:07:32\", \"00:07:33\", \"00:07:34\", \"00:07:35\", \"00:07:36\", \"00:07:37\", \"00:07:38\", \"00:07:39\", \"00:07:40\", \"00:07:41\", \"00:07:42\", \"00:07:43\", \"00:07:44\", \"00:07:45\", \"00:07:46\", \"00:07:47\", \"00:07:48\", \"00:07:49\", \"00:07:50\", \"00:07:51\", \"00:07:52\", \"00:07:53\", \"00:07:54\", \"00:07:55\", \"00:07:56\", \"00:07:57\", \"00:07:58\", \"00:07:59\", \"00:08:00\", \"00:08:01\", \"00:08:02\", \"00:08:03\", \"00:08:04\", \"00:08:05\", \"00:08:06\", \"00:08:07\", \"00:08:08\", \"00:08:09\", \"00:08:10\", \"00:08:11\", \"00:08:12\", \"00:08:13\", \"00:08:14\", \"00:08:15\", \"00:08:16\", \"00:08:17\", \"00:08:18\", \"00:08:19\", \"00:08:20\", \"00:08:21\", \"00:08:22\", \"00:08:23\", \"00:08:24\", \"00:08:25\", \"00:08:26\", \"00:08:27\", \"00:08:28\", \"00:08:29\", \"00:08:30\", \"00:08:31\", \"00:08:32\", \"00:08:33\", \"00:08:34\", \"00:08:35\", \"00:08:36\", \"00:08:37\", \"00:08:38\", \"00:08:39\", \"00:08:40\", \"00:08:41\", \"00:08:42\", \"00:08:43\", \"00:08:44\", \"00:08:45\", \"00:08:46\", \"00:08:47\", \"00:08:48\", \"00:08:49\", \"00:08:50\", \"00:08:51\", \"00:08:52\", \"00:08:53\", \"00:08:54\", \"00:08:55\", \"00:08:56\", \"00:08:57\", \"00:08:58\", \"00:08:59\", \"00:09:00\", \"00:09:01\", \"00:09:02\", \"00:09:03\", \"00:09:04\", \"00:09:05\", \"00:09:06\", \"00:09:07\", \"00:09:08\", \"00:09:09\", \"00:09:10\", \"00:09:11\", \"00:09:12\", \"00:09:13\", \"00:09:14\", \"00:09:15\", \"00:09:16\", \"00:09:17\", \"00:09:18\", \"00:09:19\", \"00:09:20\", \"00:09:21\", \"00:09:22\", \"00:09:23\", \"00:09:24\", \"00:09:25\", \"00:09:26\", \"00:09:27\", \"00:09:28\", \"00:09:29\", \"00:09:30\", \"00:09:31\", \"00:09:32\", \"00:09:33\", \"00:09:34\", \"00:09:35\", \"00:09:36\", \"00:09:37\", \"00:09:38\", \"00:09:39\", \"00:09:40\", \"00:09:41\", \"00:09:42\", \"00:09:43\", \"00:09:44\", \"00:09:45\", \"00:09:46\", \"00:09:47\", \"00:09:48\", \"00:09:49\", \"00:09:50\", \"00:09:51\", \"00:09:52\", \"00:09:53\", \"00:09:54\", \"00:09:55\", \"00:09:56\", \"00:09:57\", \"00:09:58\", \"00:09:59\", \"00:10:00\", \"00:10:01\", \"00:10:02\", \"00:10:03\", \"00:10:04\", \"00:10:05\", \"00:10:06\", \"00:10:07\", \"00:10:08\", \"00:10:09\", \"00:10:10\", \"00:10:11\", \"00:10:12\", \"00:10:13\", \"00:10:14\", \"00:10:15\", \"00:10:16\", \"00:10:17\", \"00:10:18\", \"00:10:19\", \"00:10:20\", \"00:10:21\", \"00:10:22\", \"00:10:23\", \"00:10:24\", \"00:10:25\", \"00:10:26\", \"00:10:27\", \"00:10:28\", \"00:10:29\", \"00:10:30\", \"00:10:31\", \"00:10:32\", \"00:10:33\", \"00:10:34\", \"00:10:35\", \"00:10:36\", \"00:10:37\", \"00:10:38\", \"00:10:39\", \"00:10:40\", \"00:10:41\", \"00:10:42\", \"00:10:43\", \"00:10:44\", \"00:10:45\", \"00:10:46\", \"00:10:47\", \"00:10:48\", \"00:10:49\", \"00:10:50\", \"00:10:51\", \"00:10:52\", \"00:10:53\", \"00:10:54\", \"00:10:55\", \"00:10:56\", \"00:10:57\", \"00:10:58\", \"00:10:59\", \"00:11:00\", \"00:11:01\", \"00:11:02\", \"00:11:03\", \"00:11:04\", \"00:11:05\", \"00:11:06\", \"00:11:07\", \"00:11:08\", \"00:11:09\", \"00:11:10\", \"00:11:11\", \"00:11:12\", \"00:11:13\", \"00:11:14\", \"00:11:15\", \"00:11:16\", \"00:11:17\", \"00:11:18\", \"00:11:19\", \"00:11:20\", \"00:11:21\", \"00:11:22\", \"00:11:23\", \"00:11:24\", \"00:11:25\", \"00:11:26\", \"00:11:27\", \"00:11:28\", \"00:11:29\", \"00:11:30\", \"00:11:31\", \"00:11:32\", \"00:11:33\", \"00:11:34\", \"00:11:35\", \"00:11:36\", \"00:11:37\", \"00:11:38\", \"00:11:39\", \"00:11:40\", \"00:11:41\", \"00:11:42\", \"00:11:43\", \"00:11:44\", \"00:11:45\", \"00:11:46\", \"00:11:47\", \"00:11:48\", \"00:11:49\", \"00:11:50\", \"00:11:51\", \"00:11:52\", \"00:11:53\", \"00:11:54\", \"00:11:55\", \"00:11:56\", \"00:11:57\", \"00:11:58\", \"00:11:59\", \"00:12:00\", \"00:12:01\", \"00:12:02\", \"00:12:03\", \"00:12:04\", \"00:12:05\", \"00:12:06\", \"00:12:07\", \"00:12:08\", \"00:12:09\", \"00:12:10\", \"00:12:11\", \"00:12:12\", \"00:12:13\", \"00:12:14\", \"00:12:15\", \"00:12:16\", \"00:12:17\", \"00:12:18\", \"00:12:19\", \"00:12:20\", \"00:12:21\", \"00:12:22\", \"00:12:23\", \"00:12:24\", \"00:12:25\", \"00:12:26\", \"00:12:27\", \"00:12:28\", \"00:12:29\", \"00:12:30\", \"00:12:31\", \"00:12:32\", \"00:12:33\", \"00:12:34\", \"00:12:35\", \"00:12:36\", \"00:12:37\", \"00:12:38\", \"00:12:39\", \"00:12:40\", \"00:12:41\", \"00:12:42\", \"00:12:43\", \"00:12:44\", \"00:12:45\", \"00:12:46\", \"00:12:47\", \"00:12:48\", \"00:12:49\", \"00:12:50\", \"00:12:51\", \"00:12:52\", \"00:12:53\", \"00:12:54\", \"00:12:55\", \"00:12:56\", \"00:12:57\", \"00:12:58\", \"00:12:59\", \"00:13:00\", \"00:13:01\", \"00:13:02\", \"00:13:03\", \"00:13:04\", \"00:13:05\", \"00:13:06\", \"00:13:07\", \"00:13:08\", \"00:13:09\", \"00:13:10\", \"00:13:11\", \"00:13:12\", \"00:13:13\", \"00:13:14\", \"00:13:15\", \"00:13:16\", \"00:13:17\", \"00:13:18\", \"00:13:19\", \"00:13:20\", \"00:13:21\", \"00:13:22\", \"00:13:23\", \"00:13:24\", \"00:13:25\", \"00:13:26\", \"00:13:27\", \"00:13:28\", \"00:13:29\", \"00:13:30\", \"00:13:31\", \"00:13:32\", \"00:13:33\", \"00:13:34\", \"00:13:35\", \"00:13:36\", \"00:13:37\", \"00:13:38\", \"00:13:39\", \"00:13:40\", \"00:13:41\", \"00:13:42\", \"00:13:43\", \"00:13:44\", \"00:13:45\", \"00:13:46\", \"00:13:47\", \"00:13:48\", \"00:13:49\", \"00:13:50\", \"00:13:51\", \"00:13:52\", \"00:13:53\", \"00:13:54\", \"00:13:55\", \"00:13:56\", \"00:13:57\", \"00:13:58\", \"00:13:59\", \"00:14:00\", \"00:14:01\", \"00:14:02\", \"00:14:03\", \"00:14:04\", \"00:14:05\", \"00:14:06\", \"00:14:07\", \"00:14:08\", \"00:14:09\", \"00:14:10\", \"00:14:11\", \"00:14:12\", \"00:14:13\", \"00:14:14\", \"00:14:15\", \"00:14:16\", \"00:14:17\", \"00:14:18\", \"00:14:19\", \"00:14:20\", \"00:14:21\", \"00:14:22\", \"00:14:23\", \"00:14:24\", \"00:14:25\", \"00:14:26\", \"00:14:27\", \"00:14:28\", \"00:14:29\", \"00:14:30\", \"00:14:31\", \"00:14:32\", \"00:14:33\", \"00:14:34\", \"00:14:35\", \"00:14:36\", \"00:14:37\", \"00:14:38\", \"00:14:39\", \"00:14:40\", \"00:14:41\", \"00:14:42\", \"00:14:43\", \"00:14:44\", \"00:14:45\", \"00:14:46\", \"00:14:47\", \"00:14:48\", \"00:14:49\", \"00:14:50\", \"00:14:51\", \"00:14:52\", \"00:14:53\", \"00:14:54\", \"00:14:55\", \"00:14:56\", \"00:14:57\", \"00:14:58\", \"00:14:59\", \"00:15:00\", \"00:15:01\", \"00:15:02\", \"00:15:03\", \"00:15:04\", \"00:15:05\", \"00:15:06\", \"00:15:07\", \"00:15:08\", \"00:15:09\", \"00:15:10\", \"00:15:11\", \"00:15:12\", \"00:15:13\", \"00:15:14\", \"00:15:15\", \"00:15:16\", \"00:15:17\", \"00:15:18\", \"00:15:19\", \"00:15:20\", \"00:15:21\", \"00:15:22\", \"00:15:23\", \"00:15:24\", \"00:15:25\", \"00:15:26\", \"00:15:27\", \"00:15:28\", \"00:15:29\", \"00:15:30\", \"00:15:31\", \"00:15:32\", \"00:15:33\", \"00:15:34\", \"00:15:35\", \"00:15:36\", \"00:15:37\", \"00:15:38\", \"00:15:39\", \"00:15:40\", \"00:15:41\", \"00:15:42\", \"00:15:43\", \"00:15:44\", \"00:15:45\", \"00:15:46\", \"00:15:47\", \"00:15:48\", \"00:15:49\", \"00:15:50\", \"00:15:51\", \"00:15:52\", \"00:15:53\", \"00:15:54\", \"00:15:55\", \"00:15:56\", \"00:15:57\", \"00:15:58\", \"00:15:59\", \"00:16:00\", \"00:16:01\", \"00:16:02\", \"00:16:03\", \"00:16:04\", \"00:16:05\", \"00:16:06\", \"00:16:07\", \"00:16:08\", \"00:16:09\", \"00:16:10\", \"00:16:11\", \"00:16:12\", \"00:16:13\", \"00:16:14\", \"00:16:15\", \"00:16:16\", \"00:16:17\", \"00:16:18\", \"00:16:19\", \"00:16:20\", \"00:16:21\", \"00:16:22\", \"00:16:23\", \"00:16:24\", \"00:16:25\", \"00:16:26\", \"00:16:27\", \"00:16:28\", \"00:16:29\", \"00:16:30\", \"00:16:31\", \"00:16:32\", \"00:16:33\", \"00:16:34\", \"00:16:35\", \"00:16:36\", \"00:16:37\", \"00:16:38\", \"00:16:39\", \"00:16:40\", \"00:16:41\", \"00:16:42\", \"00:16:43\", \"00:16:44\", \"00:16:45\", \"00:16:46\", \"00:16:47\", \"00:16:48\", \"00:16:49\", \"00:16:50\", \"00:16:51\", \"00:16:52\", \"00:16:53\", \"00:16:54\", \"00:16:55\", \"00:16:56\", \"00:16:57\", \"00:16:58\", \"00:16:59\", \"00:17:00\", \"00:17:01\", \"00:17:02\", \"00:17:03\", \"00:17:04\", \"00:17:05\", \"00:17:06\", \"00:17:07\", \"00:17:08\", \"00:17:09\", \"00:17:10\", \"00:17:11\", \"00:17:12\", \"00:17:13\", \"00:17:14\", \"00:17:15\", \"00:17:16\", \"00:17:17\", \"00:17:18\", \"00:17:19\", \"00:17:20\", \"00:17:21\", \"00:17:22\", \"00:17:23\", \"00:17:24\", \"00:17:25\", \"00:17:26\", \"00:17:27\", \"00:17:28\", \"00:17:29\", \"00:17:30\", \"00:17:31\", \"00:17:32\", \"00:17:33\", \"00:17:34\", \"00:17:35\", \"00:17:36\", \"00:17:37\", \"00:17:38\", \"00:17:39\", \"00:17:40\", \"00:17:41\", \"00:17:42\", \"00:17:43\", \"00:17:44\", \"00:17:45\", \"00:17:46\", \"00:17:47\", \"00:17:48\", \"00:17:49\", \"00:17:50\", \"00:17:51\", \"00:17:52\", \"00:17:53\", \"00:17:54\", \"00:17:55\", \"00:17:56\", \"00:17:57\", \"00:17:58\", \"00:17:59\", \"00:18:00\", \"00:18:01\", \"00:18:02\", \"00:18:03\", \"00:18:04\", \"00:18:05\", \"00:18:06\", \"00:18:07\", \"00:18:08\", \"00:18:09\", \"00:18:10\", \"00:18:11\", \"00:18:12\", \"00:18:13\", \"00:18:14\", \"00:18:15\", \"00:18:16\", \"00:18:17\", \"00:18:18\", \"00:18:19\", \"00:18:20\", \"00:18:21\", \"00:18:22\", \"00:18:23\", \"00:18:24\", \"00:18:25\", \"00:18:26\", \"00:18:27\", \"00:18:28\", \"00:18:29\", \"00:18:30\", \"00:18:31\", \"00:18:32\", \"00:18:33\", \"00:18:34\", \"00:18:35\", \"00:18:36\", \"00:18:37\", \"00:18:38\", \"00:18:39\", \"00:18:40\", \"00:18:41\", \"00:18:42\", \"00:18:43\", \"00:18:44\", \"00:18:45\", \"00:18:46\", \"00:18:47\", \"00:18:48\", \"00:18:49\", \"00:18:50\", \"00:18:51\", \"00:18:52\", \"00:18:53\", \"00:18:54\", \"00:18:55\", \"00:18:56\", \"00:18:57\", \"00:18:58\", \"00:18:59\", \"00:19:00\", \"00:19:01\", \"00:19:02\", \"00:19:03\", \"00:19:04\", \"00:19:05\", \"00:19:06\", \"00:19:07\", \"00:19:08\", \"00:19:09\", \"00:19:10\", \"00:19:11\", \"00:19:12\", \"00:19:13\", \"00:19:14\", \"00:19:15\", \"00:19:16\", \"00:19:17\", \"00:19:18\", \"00:19:19\", \"00:19:20\", \"00:19:21\", \"00:19:22\", \"00:19:23\", \"00:19:24\", \"00:19:25\", \"00:19:26\", \"00:19:27\", \"00:19:28\", \"00:19:29\", \"00:19:30\", \"00:19:31\", \"00:19:32\", \"00:19:33\", \"00:19:34\", \"00:19:35\", \"00:19:36\", \"00:19:37\", \"00:19:38\", \"00:19:39\", \"00:19:40\", \"00:19:41\", \"00:19:42\", \"00:19:43\", \"00:19:44\", \"00:19:45\", \"00:19:46\", \"00:19:47\", \"00:19:48\", \"00:19:49\", \"00:19:50\", \"00:19:51\", \"00:19:52\", \"00:19:53\", \"00:19:54\", \"00:19:55\", \"00:19:56\", \"00:19:57\", \"00:19:58\", \"00:19:59\", \"00:20:00\", \"00:20:01\", \"00:20:02\", \"00:20:03\", \"00:20:04\", \"00:20:05\", \"00:20:06\", \"00:20:07\", \"00:20:08\", \"00:20:09\", \"00:20:10\", \"00:20:11\", \"00:20:12\", \"00:20:13\", \"00:20:14\", \"00:20:15\", \"00:20:16\", \"00:20:17\", \"00:20:18\", \"00:20:19\", \"00:20:20\", \"00:20:21\", \"00:20:22\", \"00:20:23\", \"00:20:24\", \"00:20:25\", \"00:20:26\", \"00:20:27\", \"00:20:28\", \"00:20:29\", \"00:20:30\", \"00:20:31\", \"00:20:32\", \"00:20:33\", \"00:20:34\", \"00:20:35\", \"00:20:36\", \"00:20:37\", \"00:20:38\", \"00:20:39\", \"00:20:40\", \"00:20:41\", \"00:20:42\", \"00:20:43\", \"00:20:44\", \"00:20:45\", \"00:20:46\", \"00:20:47\", \"00:20:48\", \"00:20:49\", \"00:20:50\", \"00:20:51\", \"00:20:52\", \"00:20:53\", \"00:20:54\", \"00:20:55\", \"00:20:56\", \"00:20:57\", \"00:20:58\", \"00:20:59\", \"00:21:00\", \"00:21:01\", \"00:21:02\", \"00:21:03\", \"00:21:04\", \"00:21:05\", \"00:21:06\", \"00:21:07\", \"00:21:08\", \"00:21:09\", \"00:21:10\", \"00:21:11\", \"00:21:12\", \"00:21:13\", \"00:21:14\", \"00:21:15\", \"00:21:16\", \"00:21:17\", \"00:21:18\", \"00:21:19\", \"00:21:20\", \"00:21:21\", \"00:21:22\", \"00:21:23\", \"00:21:24\", \"00:21:25\", \"00:21:26\", \"00:21:27\", \"00:21:28\", \"00:21:29\", \"00:21:30\", \"00:21:31\", \"00:21:32\", \"00:21:33\", \"00:21:34\", \"00:21:35\", \"00:21:36\", \"00:21:37\", \"00:21:38\", \"00:21:39\", \"00:21:40\", \"00:21:41\", \"00:21:42\", \"00:21:43\", \"00:21:44\", \"00:21:45\", \"00:21:46\", \"00:21:47\", \"00:21:48\", \"00:21:49\", \"00:21:50\", \"00:21:51\", \"00:21:52\", \"00:21:53\", \"00:21:54\", \"00:21:55\", \"00:21:56\", \"00:21:57\", \"00:21:58\", \"00:21:59\", \"00:22:00\", \"00:22:01\", \"00:22:02\", \"00:22:03\", \"00:22:04\", \"00:22:05\", \"00:22:06\", \"00:22:07\", \"00:22:08\", \"00:22:09\", \"00:22:10\", \"00:22:11\", \"00:22:12\", \"00:22:13\", \"00:22:14\", \"00:22:15\", \"00:22:16\", \"00:22:17\", \"00:22:18\", \"00:22:19\", \"00:22:20\", \"00:22:21\", \"00:22:22\", \"00:22:23\", \"00:22:24\", \"00:22:25\", \"00:22:26\", \"00:22:27\", \"00:22:28\", \"00:22:29\", \"00:22:30\", \"00:22:31\", \"00:22:32\", \"00:22:33\", \"00:22:34\", \"00:22:35\", \"00:22:36\", \"00:22:37\", \"00:22:38\", \"00:22:39\", \"00:22:40\", \"00:22:41\", \"00:22:42\", \"00:22:43\", \"00:22:44\", \"00:22:45\", \"00:22:46\", \"00:22:47\", \"00:22:48\", \"00:22:49\", \"00:22:50\", \"00:22:51\", \"00:22:52\", \"00:22:53\", \"00:22:54\", \"00:22:55\", \"00:22:56\", \"00:22:57\", \"00:22:58\", \"00:22:59\", \"00:23:00\", \"00:23:01\", \"00:23:02\", \"00:23:03\", \"00:23:04\", \"00:23:05\", \"00:23:06\", \"00:23:07\", \"00:23:08\", \"00:23:09\", \"00:23:10\", \"00:23:11\", \"00:23:12\", \"00:23:13\", \"00:23:14\", \"00:23:15\", \"00:23:16\", \"00:23:17\", \"00:23:18\", \"00:23:19\", \"00:23:20\", \"00:23:21\", \"00:23:22\", \"00:23:23\", \"00:23:24\", \"00:23:25\", \"00:23:26\", \"00:23:27\", \"00:23:28\", \"00:23:29\", \"00:23:30\", \"00:23:31\", \"00:23:32\", \"00:23:33\", \"00:23:34\", \"00:23:35\", \"00:23:36\", \"00:23:37\", \"00:23:38\", \"00:23:39\", \"00:23:40\", \"00:23:41\", \"00:23:42\", \"00:23:43\", \"00:23:44\", \"00:23:45\", \"00:23:46\", \"00:23:47\", \"00:23:48\", \"00:23:49\", \"00:23:50\", \"00:23:51\", \"00:23:52\", \"00:23:53\", \"00:23:54\", \"00:23:55\", \"00:23:56\", \"00:23:57\", \"00:23:58\", \"00:23:59\", \"00:24:00\", \"00:24:01\", \"00:24:02\", \"00:24:03\", \"00:24:04\", \"00:24:05\", \"00:24:06\", \"00:24:07\", \"00:24:08\", \"00:24:09\", \"00:24:10\", \"00:24:11\", \"00:24:12\", \"00:24:13\", \"00:24:14\", \"00:24:15\", \"00:24:16\", \"00:24:17\", \"00:24:18\", \"00:24:19\", \"00:24:20\", \"00:24:21\", \"00:24:22\", \"00:24:23\", \"00:24:24\", \"00:24:25\", \"00:24:26\", \"00:24:27\", \"00:24:28\", \"00:24:29\", \"00:24:30\", \"00:24:31\", \"00:24:32\", \"00:24:33\", \"00:24:34\", \"00:24:35\", \"00:24:36\", \"00:24:37\", \"00:24:38\", \"00:24:39\", \"00:24:40\", \"00:24:41\", \"00:24:42\", \"00:24:43\", \"00:24:44\", \"00:24:45\", \"00:24:46\", \"00:24:47\", \"00:24:48\", \"00:24:49\", \"00:24:50\", \"00:24:51\", \"00:24:52\", \"00:24:53\", \"00:24:54\", \"00:24:55\", \"00:24:56\", \"00:24:57\", \"00:24:58\", \"00:24:59\", \"00:25:00\", \"00:25:01\", \"00:25:02\", \"00:25:03\", \"00:25:04\", \"00:25:05\", \"00:25:06\", \"00:25:07\", \"00:25:08\", \"00:25:09\", \"00:25:10\", \"00:25:11\", \"00:25:12\", \"00:25:13\", \"00:25:14\", \"00:25:15\", \"00:25:16\", \"00:25:17\", \"00:25:18\", \"00:25:19\", \"00:25:20\", \"00:25:21\", \"00:25:22\", \"00:25:23\", \"00:25:24\", \"00:25:25\", \"00:25:26\", \"00:25:27\", \"00:25:28\", \"00:25:29\", \"00:25:30\", \"00:25:31\", \"00:25:32\", \"00:25:33\", \"00:25:34\", \"00:25:35\", \"00:25:36\", \"00:25:37\", \"00:25:38\", \"00:25:39\", \"00:25:40\", \"00:25:41\", \"00:25:42\", \"00:25:43\", \"00:25:44\", \"00:25:45\", \"00:25:46\", \"00:25:47\", \"00:25:48\", \"00:25:49\", \"00:25:50\", \"00:25:51\", \"00:25:52\", \"00:25:53\", \"00:25:54\", \"00:25:55\", \"00:25:56\", \"00:25:57\", \"00:25:58\", \"00:25:59\", \"00:26:00\", \"00:26:01\", \"00:26:02\", \"00:26:03\", \"00:26:04\", \"00:26:05\", \"00:26:06\", \"00:26:07\", \"00:26:08\", \"00:26:09\", \"00:26:10\", \"00:26:11\", \"00:26:12\", \"00:26:13\", \"00:26:14\", \"00:26:15\", \"00:26:16\", \"00:26:17\", \"00:26:18\", \"00:26:19\", \"00:26:20\", \"00:26:21\", \"00:26:22\", \"00:26:23\", \"00:26:24\", \"00:26:25\", \"00:26:26\", \"00:26:27\", \"00:26:28\", \"00:26:29\", \"00:26:30\", \"00:26:31\", \"00:26:32\", \"00:26:33\", \"00:26:34\", \"00:26:35\", \"00:26:36\", \"00:26:37\", \"00:26:38\", \"00:26:39\", \"00:26:40\", \"00:26:41\", \"00:26:42\", \"00:26:43\", \"00:26:44\", \"00:26:45\", \"00:26:46\", \"00:26:47\", \"00:26:48\", \"00:26:49\", \"00:26:50\", \"00:26:51\", \"00:26:52\", \"00:26:53\", \"00:26:54\", \"00:26:55\", \"00:26:56\", \"00:26:57\", \"00:26:58\", \"00:26:59\", \"00:27:00\", \"00:27:01\", \"00:27:02\", \"00:27:03\", \"00:27:04\", \"00:27:05\", \"00:27:06\", \"00:27:07\", \"00:27:08\", \"00:27:09\", \"00:27:10\", \"00:27:11\", \"00:27:12\", \"00:27:13\", \"00:27:14\", \"00:27:15\", \"00:27:16\", \"00:27:17\", \"00:27:18\", \"00:27:19\", \"00:27:20\", \"00:27:21\", \"00:27:22\", \"00:27:23\", \"00:27:24\", \"00:27:25\", \"00:27:26\", \"00:27:27\", \"00:27:28\", \"00:27:29\", \"00:27:30\", \"00:27:31\", \"00:27:32\", \"00:27:33\", \"00:27:34\", \"00:27:35\", \"00:27:36\", \"00:27:37\", \"00:27:38\", \"00:27:39\", \"00:27:40\", \"00:27:41\", \"00:27:42\", \"00:27:43\", \"00:27:44\", \"00:27:45\", \"00:27:46\", \"00:27:47\", \"00:27:48\", \"00:27:49\", \"00:27:50\", \"00:27:51\", \"00:27:52\", \"00:27:53\", \"00:27:54\", \"00:27:55\", \"00:27:56\", \"00:27:57\", \"00:27:58\", \"00:27:59\", \"00:28:00\", \"00:28:01\", \"00:28:02\", \"00:28:03\", \"00:28:04\", \"00:28:05\", \"00:28:06\", \"00:28:07\", \"00:28:08\", \"00:28:09\", \"00:28:10\", \"00:28:11\", \"00:28:12\", \"00:28:13\", \"00:28:14\", \"00:28:15\", \"00:28:16\", \"00:28:17\", \"00:28:18\", \"00:28:19\", \"00:28:20\", \"00:28:21\", \"00:28:22\", \"00:28:23\", \"00:28:24\", \"00:28:25\", \"00:28:26\", \"00:28:27\", \"00:28:28\", \"00:28:29\", \"00:28:30\", \"00:28:31\", \"00:28:32\", \"00:28:33\", \"00:28:34\", \"00:28:35\", \"00:28:36\", \"00:28:37\", \"00:28:38\", \"00:28:39\", \"00:28:40\", \"00:28:41\", \"00:28:42\", \"00:28:43\", \"00:28:44\", \"00:28:45\", \"00:28:46\", \"00:28:47\", \"00:28:48\", \"00:28:49\", \"00:28:50\", \"00:28:51\", \"00:28:52\", \"00:28:53\", \"00:28:54\", \"00:28:55\", \"00:28:56\", \"00:28:57\", \"00:28:58\", \"00:28:59\", \"00:29:00\", \"00:29:01\", \"00:29:02\", \"00:29:03\", \"00:29:04\", \"00:29:05\", \"00:29:06\", \"00:29:07\", \"00:29:08\", \"00:29:09\", \"00:29:10\", \"00:29:11\", \"00:29:12\", \"00:29:13\", \"00:29:14\", \"00:29:15\", \"00:29:16\", \"00:29:17\", \"00:29:18\", \"00:29:19\", \"00:29:20\", \"00:29:21\", \"00:29:22\", \"00:29:23\", \"00:29:24\", \"00:29:25\", \"00:29:26\", \"00:29:27\", \"00:29:28\", \"00:29:29\", \"00:29:30\", \"00:29:31\", \"00:29:32\", \"00:29:33\", \"00:29:34\", \"00:29:35\", \"00:29:36\", \"00:29:37\", \"00:29:38\", \"00:29:39\", \"00:29:40\", \"00:29:41\", \"00:29:42\", \"00:29:43\", \"00:29:44\", \"00:29:45\", \"00:29:46\", \"00:29:47\", \"00:29:48\", \"00:29:49\", \"00:29:50\", \"00:29:51\", \"00:29:52\", \"00:29:53\", \"00:29:54\", \"00:29:55\", \"00:29:56\", \"00:29:57\", \"00:29:58\", \"00:29:59\", \"00:30:00\", \"00:30:01\", \"00:30:02\", \"00:30:03\", \"00:30:04\", \"00:30:05\", \"00:30:06\", \"00:30:07\", \"00:30:08\", \"00:30:09\", \"00:30:10\", \"00:30:11\", \"00:30:12\", \"00:30:13\", \"00:30:14\", \"00:30:15\", \"00:30:16\", \"00:30:17\", \"00:30:18\", \"00:30:19\", \"00:30:20\", \"00:30:21\", \"00:30:22\", \"00:30:23\", \"00:30:24\", \"00:30:25\", \"00:30:26\", \"00:30:27\", \"00:30:28\", \"00:30:29\", \"00:30:30\", \"00:30:31\", \"00:30:32\", \"00:30:33\", \"00:30:34\", \"00:30:35\", \"00:30:36\", \"00:30:37\", \"00:30:38\", \"00:30:39\", \"00:30:40\", \"00:30:41\", \"00:30:42\", \"00:30:43\", \"00:30:44\", \"00:30:45\", \"00:30:46\", \"00:30:47\", \"00:30:48\", \"00:30:49\", \"00:30:50\", \"00:30:51\", \"00:30:52\", \"00:30:53\", \"00:30:54\", \"00:30:55\", \"00:30:56\", \"00:30:57\", \"00:30:58\", \"00:30:59\", \"00:31:00\", \"00:31:01\", \"00:31:02\", \"00:31:03\", \"00:31:04\", \"00:31:05\", \"00:31:06\", \"00:31:07\", \"00:31:08\", \"00:31:09\", \"00:31:10\", \"00:31:11\", \"00:31:12\", \"00:31:13\", \"00:31:14\", \"00:31:15\", \"00:31:16\", \"00:31:17\", \"00:31:18\", \"00:31:19\", \"00:31:20\", \"00:31:21\", \"00:31:22\", \"00:31:23\", \"00:31:24\", \"00:31:25\", \"00:31:26\", \"00:31:27\", \"00:31:28\", \"00:31:29\", \"00:31:30\", \"00:31:31\", \"00:31:32\", \"00:31:33\", \"00:31:34\", \"00:31:35\", \"00:31:36\", \"00:31:37\", \"00:31:38\", \"00:31:39\", \"00:31:40\", \"00:31:41\", \"00:31:42\", \"00:31:43\", \"00:31:44\", \"00:31:45\", \"00:31:46\", \"00:31:47\", \"00:31:48\", \"00:31:49\", \"00:31:50\", \"00:31:51\", \"00:31:52\", \"00:31:53\", \"00:31:54\", \"00:31:55\", \"00:31:56\", \"00:31:57\", \"00:31:58\", \"00:31:59\", \"00:32:00\", \"00:32:01\", \"00:32:02\", \"00:32:03\", \"00:32:04\", \"00:32:05\", \"00:32:06\", \"00:32:07\", \"00:32:08\", \"00:32:09\", \"00:32:10\", \"00:32:11\", \"00:32:12\", \"00:32:13\", \"00:32:14\", \"00:32:15\", \"00:32:16\", \"00:32:17\", \"00:32:18\", \"00:32:19\", \"00:32:20\", \"00:32:21\", \"00:32:22\", \"00:32:23\", \"00:32:24\", \"00:32:25\", \"00:32:26\", \"00:32:27\", \"00:32:28\", \"00:32:29\", \"00:32:30\", \"00:32:31\", \"00:32:32\", \"00:32:33\", \"00:32:34\", \"00:32:35\", \"00:32:36\", \"00:32:37\", \"00:32:38\", \"00:32:39\", \"00:32:40\", \"00:32:41\", \"00:32:42\", \"00:32:43\", \"00:32:44\", \"00:32:45\", \"00:32:46\", \"00:32:47\", \"00:32:48\", \"00:32:49\", \"00:32:50\", \"00:32:51\", \"00:32:52\", \"00:32:53\", \"00:32:54\", \"00:32:55\", \"00:32:56\", \"00:32:57\", \"00:32:58\", \"00:32:59\", \"00:33:00\", \"00:33:01\", \"00:33:02\", \"00:33:03\", \"00:33:04\", \"00:33:05\", \"00:33:06\", \"00:33:07\", \"00:33:08\", \"00:33:09\", \"00:33:10\", \"00:33:11\", \"00:33:12\", \"00:33:13\", \"00:33:14\", \"00:33:15\", \"00:33:16\", \"00:33:17\", \"00:33:18\", \"00:33:19\", \"00:33:20\", \"00:33:21\", \"00:33:22\", \"00:33:23\", \"00:33:24\", \"00:33:25\", \"00:33:26\", \"00:33:27\", \"00:33:28\", \"00:33:29\", \"00:33:30\", \"00:33:31\", \"00:33:32\", \"00:33:33\", \"00:33:34\", \"00:33:35\", \"00:33:36\", \"00:33:37\", \"00:33:38\", \"00:33:39\", \"00:33:40\", \"00:33:41\", \"00:33:42\", \"00:33:43\", \"00:33:44\", \"00:33:45\", \"00:33:46\", \"00:33:47\", \"00:33:48\", \"00:33:49\", \"00:33:50\", \"00:33:51\", \"00:33:52\", \"00:33:53\", \"00:33:54\", \"00:33:55\", \"00:33:56\", \"00:33:57\", \"00:33:58\", \"00:33:59\", \"00:34:00\", \"00:34:01\", \"00:34:02\", \"00:34:03\", \"00:34:04\", \"00:34:05\", \"00:34:06\", \"00:34:07\", \"00:34:08\", \"00:34:09\", \"00:34:10\", \"00:34:11\", \"00:34:12\", \"00:34:13\", \"00:34:14\", \"00:34:15\", \"00:34:16\", \"00:34:17\", \"00:34:18\", \"00:34:19\", \"00:34:20\", \"00:34:21\", \"00:34:22\", \"00:34:23\", \"00:34:24\", \"00:34:25\", \"00:34:26\", \"00:34:27\", \"00:34:28\", \"00:34:29\", \"00:34:30\", \"00:34:31\", \"00:34:32\", \"00:34:33\", \"00:34:34\", \"00:34:35\", \"00:34:36\", \"00:34:37\", \"00:34:38\", \"00:34:39\", \"00:34:40\", \"00:34:41\", \"00:34:42\", \"00:34:43\", \"00:34:44\", \"00:34:45\", \"00:34:46\", \"00:34:47\", \"00:34:48\", \"00:34:49\", \"00:34:50\", \"00:34:51\", \"00:34:52\", \"00:34:53\", \"00:34:54\", \"00:34:55\", \"00:34:56\", \"00:34:57\", \"00:34:58\", \"00:34:59\", \"00:35:00\", \"00:35:01\", \"00:35:02\", \"00:35:03\", \"00:35:04\", \"00:35:05\", \"00:35:06\", \"00:35:07\", \"00:35:08\", \"00:35:09\", \"00:35:10\", \"00:35:11\", \"00:35:12\", \"00:35:13\", \"00:35:14\", \"00:35:15\", \"00:35:16\", \"00:35:17\", \"00:35:18\", \"00:35:19\", \"00:35:20\", \"00:35:21\", \"00:35:22\", \"00:35:23\", \"00:35:24\", \"00:35:25\", \"00:35:26\", \"00:35:27\", \"00:35:28\", \"00:35:29\", \"00:35:30\", \"00:35:31\", \"00:35:32\", \"00:35:33\", \"00:35:34\", \"00:35:35\", \"00:35:36\", \"00:35:37\", \"00:35:38\", \"00:35:39\", \"00:35:40\", \"00:35:41\", \"00:35:42\", \"00:35:43\", \"00:35:44\", \"00:35:45\", \"00:35:46\", \"00:35:47\", \"00:35:48\", \"00:35:49\", \"00:35:50\", \"00:35:51\", \"00:35:52\", \"00:35:53\", \"00:35:54\", \"00:35:55\", \"00:35:56\", \"00:35:57\", \"00:35:58\", \"00:35:59\", \"00:36:00\", \"00:36:01\", \"00:36:02\", \"00:36:03\", \"00:36:04\", \"00:36:05\", \"00:36:06\", \"00:36:07\", \"00:36:08\", \"00:36:09\", \"00:36:10\", \"00:36:11\", \"00:36:12\", \"00:36:13\", \"00:36:14\", \"00:36:15\", \"00:36:16\", \"00:36:17\", \"00:36:18\", \"00:36:19\", \"00:36:20\", \"00:36:21\", \"00:36:22\", \"00:36:23\", \"00:36:24\", \"00:36:25\", \"00:36:26\", \"00:36:27\", \"00:36:28\", \"00:36:29\", \"00:36:30\", \"00:36:31\", \"00:36:32\", \"00:36:33\", \"00:36:34\", \"00:36:35\", \"00:36:36\", \"00:36:37\", \"00:36:38\", \"00:36:39\", \"00:36:40\", \"00:36:41\", \"00:36:42\", \"00:36:43\", \"00:36:44\", \"00:36:45\", \"00:36:46\", \"00:36:47\", \"00:36:48\", \"00:36:49\", \"00:36:50\", \"00:36:51\", \"00:36:52\", \"00:36:53\", \"00:36:54\", \"00:36:55\", \"00:36:56\", \"00:36:57\", \"00:36:58\", \"00:36:59\", \"00:37:00\", \"00:37:01\", \"00:37:02\", \"00:37:03\", \"00:37:04\", \"00:37:05\", \"00:37:06\", \"00:37:07\", \"00:37:08\", \"00:37:09\", \"00:37:10\", \"00:37:11\", \"00:37:12\", \"00:37:13\", \"00:37:14\", \"00:37:15\", \"00:37:16\", \"00:37:17\", \"00:37:18\", \"00:37:19\", \"00:37:20\", \"00:37:21\", \"00:37:22\", \"00:37:23\", \"00:37:24\", \"00:37:25\", \"00:37:26\", \"00:37:27\", \"00:37:28\", \"00:37:29\", \"00:37:30\", \"00:37:31\", \"00:37:32\", \"00:37:33\", \"00:37:34\", \"00:37:35\", \"00:37:36\", \"00:37:37\", \"00:37:38\", \"00:37:39\", \"00:37:40\", \"00:37:41\", \"00:37:42\", \"00:37:43\", \"00:37:44\", \"00:37:45\", \"00:37:46\", \"00:37:47\", \"00:37:48\", \"00:37:49\", \"00:37:50\", \"00:37:51\", \"00:37:52\", \"00:37:53\", \"00:37:54\", \"00:37:55\", \"00:37:56\", \"00:37:57\", \"00:37:58\", \"00:37:59\", \"00:38:00\", \"00:38:01\", \"00:38:02\", \"00:38:03\", \"00:38:04\", \"00:38:05\", \"00:38:06\", \"00:38:07\", \"00:38:08\", \"00:38:09\", \"00:38:10\", \"00:38:11\", \"00:38:12\", \"00:38:13\", \"00:38:14\", \"00:38:15\", \"00:38:16\", \"00:38:17\", \"00:38:18\", \"00:38:19\", \"00:38:20\", \"00:38:21\", \"00:38:22\", \"00:38:23\", \"00:38:24\", \"00:38:25\", \"00:38:26\", \"00:38:27\", \"00:38:28\", \"00:38:29\", \"00:38:30\", \"00:38:31\", \"00:38:32\", \"00:38:33\", \"00:38:34\", \"00:38:35\", \"00:38:36\", \"00:38:37\", \"00:38:38\", \"00:38:39\", \"00:38:40\", \"00:38:41\", \"00:38:42\", \"00:38:43\", \"00:38:44\", \"00:38:45\", \"00:38:46\", \"00:38:47\", \"00:38:48\", \"00:38:49\", \"00:38:50\", \"00:38:51\", \"00:38:52\", \"00:38:53\", \"00:38:54\", \"00:38:55\", \"00:38:56\", \"00:38:57\", \"00:38:58\", \"00:38:59\", \"00:39:00\", \"00:39:01\", \"00:39:02\", \"00:39:03\", \"00:39:04\", \"00:39:05\", \"00:39:06\", \"00:39:07\", \"00:39:08\", \"00:39:09\", \"00:39:10\", \"00:39:11\", \"00:39:12\", \"00:39:13\", \"00:39:14\", \"00:39:15\", \"00:39:16\", \"00:39:17\", \"00:39:18\", \"00:39:19\", \"00:39:20\", \"00:39:21\", \"00:39:22\", \"00:39:23\", \"00:39:24\", \"00:39:25\", \"00:39:26\", \"00:39:27\", \"00:39:28\", \"00:39:29\", \"00:39:30\", \"00:39:31\", \"00:39:32\", \"00:39:33\", \"00:39:34\", \"00:39:35\", \"00:39:36\", \"00:39:37\", \"00:39:38\", \"00:39:39\", \"00:39:40\", \"00:39:41\", \"00:39:42\", \"00:39:43\", \"00:39:44\", \"00:39:45\", \"00:39:46\", \"00:39:47\", \"00:39:48\", \"00:39:49\", \"00:39:50\", \"00:39:51\", \"00:39:52\", \"00:39:53\", \"00:39:54\", \"00:39:55\", \"00:39:56\", \"00:39:57\", \"00:39:58\", \"00:39:59\", \"00:40:00\", \"00:40:01\", \"00:40:02\", \"00:40:03\", \"00:40:04\", \"00:40:05\", \"00:40:06\", \"00:40:07\", \"00:40:08\", \"00:40:09\", \"00:40:10\", \"00:40:11\", \"00:40:12\", \"00:40:13\", \"00:40:14\", \"00:40:15\", \"00:40:16\", \"00:40:17\", \"00:40:18\", \"00:40:19\", \"00:40:20\", \"00:40:21\", \"00:40:22\", \"00:40:23\", \"00:40:24\", \"00:40:25\", \"00:40:26\", \"00:40:27\", \"00:40:28\", \"00:40:29\", \"00:40:30\", \"00:40:31\", \"00:40:32\", \"00:40:33\", \"00:40:34\", \"00:40:35\", \"00:40:36\", \"00:40:37\", \"00:40:38\", \"00:40:39\", \"00:40:40\", \"00:40:41\", \"00:40:42\", \"00:40:43\", \"00:40:44\", \"00:40:45\", \"00:40:46\", \"00:40:47\", \"00:40:48\", \"00:40:49\", \"00:40:50\", \"00:40:51\", \"00:40:52\", \"00:40:53\", \"00:40:54\", \"00:40:55\", \"00:40:56\", \"00:40:57\", \"00:40:58\", \"00:40:59\", \"00:41:00\", \"00:41:01\", \"00:41:02\", \"00:41:03\", \"00:41:04\", \"00:41:05\", \"00:41:06\", \"00:41:07\", \"00:41:08\", \"00:41:09\", \"00:41:10\", \"00:41:11\", \"00:41:12\", \"00:41:13\", \"00:41:14\", \"00:41:15\", \"00:41:16\", \"00:41:17\", \"00:41:18\", \"00:41:19\", \"00:41:20\", \"00:41:21\", \"00:41:22\", \"00:41:23\", \"00:41:24\", \"00:41:25\", \"00:41:26\", \"00:41:27\", \"00:41:28\", \"00:41:29\", \"00:41:30\", \"00:41:31\", \"00:41:32\", \"00:41:33\", \"00:41:34\", \"00:41:35\", \"00:41:36\", \"00:41:37\", \"00:41:38\", \"00:41:39\", \"00:41:40\", \"00:41:41\", \"00:41:42\", \"00:41:43\", \"00:41:44\", \"00:41:45\", \"00:41:46\", \"00:41:47\", \"00:41:48\", \"00:41:49\", \"00:41:50\", \"00:41:51\", \"00:41:52\", \"00:41:53\", \"00:41:54\", \"00:41:55\", \"00:41:56\", \"00:41:57\", \"00:41:58\", \"00:41:59\", \"00:42:00\", \"00:42:01\", \"00:42:02\", \"00:42:03\", \"00:42:04\", \"00:42:05\", \"00:42:06\", \"00:42:07\", \"00:42:08\", \"00:42:09\", \"00:42:10\", \"00:42:11\", \"00:42:12\", \"00:42:13\", \"00:42:14\", \"00:42:15\", \"00:42:16\", \"00:42:17\", \"00:42:18\", \"00:42:19\", \"00:42:20\", \"00:42:21\", \"00:42:22\", \"00:42:23\", \"00:42:24\", \"00:42:25\", \"00:42:26\", \"00:42:27\", \"00:42:28\", \"00:42:29\", \"00:42:30\", \"00:42:31\", \"00:42:32\", \"00:42:33\", \"00:42:34\", \"00:42:35\", \"00:42:36\", \"00:42:37\", \"00:42:38\", \"00:42:39\", \"00:42:40\", \"00:42:41\", \"00:42:42\", \"00:42:43\", \"00:42:44\", \"00:42:45\", \"00:42:46\", \"00:42:47\", \"00:42:48\", \"00:42:49\", \"00:42:50\", \"00:42:51\", \"00:42:52\", \"00:42:53\", \"00:42:54\", \"00:42:55\", \"00:42:56\", \"00:42:57\", \"00:42:58\", \"00:42:59\", \"00:43:00\", \"00:43:01\", \"00:43:02\", \"00:43:03\", \"00:43:04\", \"00:43:05\", \"00:43:06\", \"00:43:07\", \"00:43:08\", \"00:43:09\", \"00:43:10\", \"00:43:11\", \"00:43:12\", \"00:43:13\", \"00:43:14\", \"00:43:15\", \"00:43:16\", \"00:43:17\", \"00:43:18\", \"00:43:19\", \"00:43:20\", \"00:43:21\", \"00:43:22\", \"00:43:23\", \"00:43:24\", \"00:43:25\", \"00:43:26\", \"00:43:27\", \"00:43:28\", \"00:43:29\", \"00:43:30\", \"00:43:31\", \"00:43:32\", \"00:43:33\", \"00:43:34\", \"00:43:35\", \"00:43:36\", \"00:43:37\", \"00:43:38\", \"00:43:39\", \"00:43:40\", \"00:43:41\", \"00:43:42\", \"00:43:43\", \"00:43:44\", \"00:43:45\", \"00:43:46\", \"00:43:47\", \"00:43:48\", \"00:43:49\", \"00:43:50\", \"00:43:51\", \"00:43:52\", \"00:43:53\", \"00:43:54\", \"00:43:55\", \"00:43:56\", \"00:43:57\", \"00:43:58\", \"00:43:59\", \"00:44:00\", \"00:44:01\", \"00:44:02\", \"00:44:03\", \"00:44:04\", \"00:44:05\", \"00:44:06\", \"00:44:07\", \"00:44:08\", \"00:44:09\", \"00:44:10\", \"00:44:11\", \"00:44:12\", \"00:44:13\", \"00:44:14\", \"00:44:15\", \"00:44:16\", \"00:44:17\", \"00:44:18\", \"00:44:19\", \"00:44:20\", \"00:44:21\", \"00:44:22\", \"00:44:23\", \"00:44:24\", \"00:44:25\", \"00:44:26\", \"00:44:27\", \"00:44:28\", \"00:44:29\", \"00:44:30\", \"00:44:31\", \"00:44:32\", \"00:44:33\", \"00:44:34\", \"00:44:35\", \"00:44:36\", \"00:44:37\", \"00:44:38\", \"00:44:39\", \"00:44:40\", \"00:44:41\", \"00:44:42\", \"00:44:43\", \"00:44:44\", \"00:44:45\", \"00:44:46\", \"00:44:47\", \"00:44:48\", \"00:44:49\", \"00:44:50\", \"00:44:51\", \"00:44:52\", \"00:44:53\", \"00:44:54\", \"00:44:55\", \"00:44:56\", \"00:44:57\", \"00:44:58\", \"00:44:59\", \"00:45:00\", \"00:45:01\", \"00:45:02\", \"00:45:03\", \"00:45:04\", \"00:45:05\", \"00:45:06\", \"00:45:07\", \"00:45:08\", \"00:45:09\", \"00:45:10\", \"00:45:11\", \"00:45:12\", \"00:45:13\", \"00:45:14\", \"00:45:15\", \"00:45:16\", \"00:45:17\", \"00:45:18\", \"00:45:19\", \"00:45:20\", \"00:45:21\", \"00:45:22\", \"00:45:23\", \"00:45:24\", \"00:45:25\", \"00:45:26\", \"00:45:27\", \"00:45:28\", \"00:45:29\", \"00:45:30\", \"00:45:31\", \"00:45:32\", \"00:45:33\", \"00:45:34\", \"00:45:35\", \"00:45:36\", \"00:45:37\", \"00:45:38\", \"00:45:39\", \"00:45:40\", \"00:45:41\", \"00:45:42\", \"00:45:43\", \"00:45:44\", \"00:45:45\", \"00:45:46\", \"00:45:47\", \"00:45:48\", \"00:45:49\", \"00:45:50\", \"00:45:51\", \"00:45:52\", \"00:45:53\", \"00:45:54\", \"00:45:55\", \"00:45:56\", \"00:45:57\", \"00:45:58\", \"00:45:59\", \"00:46:00\", \"00:46:01\", \"00:46:02\", \"00:46:03\", \"00:46:04\", \"00:46:05\", \"00:46:06\", \"00:46:07\", \"00:46:08\", \"00:46:09\", \"00:46:10\", \"00:46:11\", \"00:46:12\", \"00:46:13\", \"00:46:14\", \"00:46:15\", \"00:46:16\", \"00:46:17\", \"00:46:18\", \"00:46:19\", \"00:46:20\", \"00:46:21\", \"00:46:22\", \"00:46:23\", \"00:46:24\", \"00:46:25\", \"00:46:26\", \"00:46:27\", \"00:46:28\", \"00:46:29\", \"00:46:30\", \"00:46:31\", \"00:46:32\", \"00:46:33\", \"00:46:34\", \"00:46:35\", \"00:46:36\", \"00:46:37\", \"00:46:38\", \"00:46:39\", \"00:46:40\", \"00:46:41\", \"00:46:42\", \"00:46:43\", \"00:46:44\", \"00:46:45\", \"00:46:46\", \"00:46:47\", \"00:46:48\", \"00:46:49\", \"00:46:50\", \"00:46:51\", \"00:46:52\", \"00:46:53\", \"00:46:54\", \"00:46:55\", \"00:46:56\", \"00:46:57\", \"00:46:58\", \"00:46:59\", \"00:47:00\", \"00:47:01\", \"00:47:02\", \"00:47:03\", \"00:47:04\", \"00:47:05\", \"00:47:06\", \"00:47:07\", \"00:47:08\", \"00:47:09\", \"00:47:10\", \"00:47:11\", \"00:47:12\", \"00:47:13\", \"00:47:14\", \"00:47:15\", \"00:47:16\", \"00:47:17\", \"00:47:18\", \"00:47:19\", \"00:47:20\", \"00:47:21\", \"00:47:22\", \"00:47:23\", \"00:47:24\", \"00:47:25\", \"00:47:26\", \"00:47:27\", \"00:47:28\", \"00:47:29\", \"00:47:30\", \"00:47:31\", \"00:47:32\", \"00:47:33\", \"00:47:34\", \"00:47:35\", \"00:47:36\", \"00:47:37\", \"00:47:38\", \"00:47:39\", \"00:47:40\", \"00:47:41\", \"00:47:42\", \"00:47:43\", \"00:47:44\", \"00:47:45\", \"00:47:46\", \"00:47:47\", \"00:47:48\", \"00:47:49\", \"00:47:50\", \"00:47:51\", \"00:47:52\", \"00:47:53\", \"00:47:54\", \"00:47:55\", \"00:47:56\", \"00:47:57\", \"00:47:58\", \"00:47:59\", \"00:48:00\", \"00:48:01\", \"00:48:02\", \"00:48:03\", \"00:48:04\", \"00:48:05\", \"00:48:06\", \"00:48:07\", \"00:48:08\", \"00:48:09\", \"00:48:10\", \"00:48:11\", \"00:48:12\", \"00:48:13\", \"00:48:14\", \"00:48:15\", \"00:48:16\", \"00:48:17\", \"00:48:18\", \"00:48:19\", \"00:48:20\", \"00:48:21\", \"00:48:22\", \"00:48:23\", \"00:48:24\", \"00:48:25\", \"00:48:26\", \"00:48:27\", \"00:48:28\", \"00:48:29\", \"00:48:30\", \"00:48:31\", \"00:48:32\", \"00:48:33\", \"00:48:34\", \"00:48:35\", \"00:48:36\", \"00:48:37\", \"00:48:38\", \"00:48:39\", \"00:48:40\", \"00:48:41\", \"00:48:42\", \"00:48:43\", \"00:48:44\", \"00:48:45\", \"00:48:46\", \"00:48:47\", \"00:48:48\", \"00:48:49\", \"00:48:50\", \"00:48:51\", \"00:48:52\", \"00:48:53\", \"00:48:54\", \"00:48:55\", \"00:48:56\", \"00:48:57\", \"00:48:58\", \"00:48:59\", \"00:49:00\", \"00:49:01\", \"00:49:02\", \"00:49:03\", \"00:49:04\", \"00:49:05\", \"00:49:06\", \"00:49:07\", \"00:49:08\", \"00:49:09\", \"00:49:10\", \"00:49:11\", \"00:49:12\", \"00:49:13\", \"00:49:14\", \"00:49:15\", \"00:49:16\", \"00:49:17\", \"00:49:18\", \"00:49:19\", \"00:49:20\", \"00:49:21\", \"00:49:22\", \"00:49:23\", \"00:49:24\", \"00:49:25\", \"00:49:26\", \"00:49:27\", \"00:49:28\", \"00:49:29\", \"00:49:30\", \"00:49:31\", \"00:49:32\", \"00:49:33\", \"00:49:34\", \"00:49:35\", \"00:49:36\", \"00:49:37\", \"00:49:38\", \"00:49:39\", \"00:49:40\", \"00:49:41\", \"00:49:42\", \"00:49:43\", \"00:49:44\", \"00:49:45\", \"00:49:46\", \"00:49:47\", \"00:49:48\", \"00:49:49\", \"00:49:50\", \"00:49:51\", \"00:49:52\", \"00:49:53\", \"00:49:54\", \"00:49:55\", \"00:49:56\", \"00:49:57\", \"00:49:58\", \"00:49:59\", \"00:50:00\", \"00:50:01\", \"00:50:02\", \"00:50:03\", \"00:50:04\", \"00:50:05\", \"00:50:06\", \"00:50:07\", \"00:50:08\", \"00:50:09\", \"00:50:10\", \"00:50:11\", \"00:50:12\", \"00:50:13\", \"00:50:14\", \"00:50:15\", \"00:50:16\", \"00:50:17\", \"00:50:18\", \"00:50:19\", \"00:50:20\", \"00:50:21\", \"00:50:22\", \"00:50:23\", \"00:50:24\", \"00:50:25\", \"00:50:26\", \"00:50:27\", \"00:50:28\", \"00:50:29\", \"00:50:30\", \"00:50:31\", \"00:50:32\", \"00:50:33\", \"00:50:34\", \"00:50:35\", \"00:50:36\", \"00:50:37\", \"00:50:38\", \"00:50:39\", \"00:50:40\", \"00:50:41\", \"00:50:42\", \"00:50:43\", \"00:50:44\", \"00:50:45\", \"00:50:46\", \"00:50:47\", \"00:50:48\", \"00:50:49\", \"00:50:50\", \"00:50:51\", \"00:50:52\", \"00:50:53\", \"00:50:54\", \"00:50:55\", \"00:50:56\", \"00:50:57\", \"00:50:58\", \"00:50:59\", \"00:51:00\", \"00:51:01\", \"00:51:02\", \"00:51:03\", \"00:51:04\", \"00:51:05\", \"00:51:06\", \"00:51:07\", \"00:51:08\", \"00:51:09\", \"00:51:10\", \"00:51:11\", \"00:51:12\", \"00:51:13\", \"00:51:14\", \"00:51:15\", \"00:51:16\", \"00:51:17\", \"00:51:18\", \"00:51:19\", \"00:51:20\", \"00:51:21\", \"00:51:22\", \"00:51:23\", \"00:51:24\", \"00:51:25\", \"00:51:26\", \"00:51:27\", \"00:51:28\", \"00:51:29\", \"00:51:30\", \"00:51:31\", \"00:51:32\", \"00:51:33\", \"00:51:34\", \"00:51:35\", \"00:51:36\", \"00:51:37\", \"00:51:38\", \"00:51:39\", \"00:51:40\", \"00:51:41\", \"00:51:42\", \"00:51:43\", \"00:51:44\", \"00:51:45\", \"00:51:46\", \"00:51:47\", \"00:51:48\", \"00:51:49\", \"00:51:50\", \"00:51:51\", \"00:51:52\", \"00:51:53\", \"00:51:54\", \"00:51:55\", \"00:51:56\", \"00:51:57\", \"00:51:58\", \"00:51:59\", \"00:52:00\", \"00:52:01\", \"00:52:02\", \"00:52:03\", \"00:52:04\", \"00:52:05\", \"00:52:06\", \"00:52:07\", \"00:52:08\", \"00:52:09\", \"00:52:10\", \"00:52:11\", \"00:52:12\", \"00:52:13\", \"00:52:14\", \"00:52:15\", \"00:52:16\", \"00:52:17\", \"00:52:18\", \"00:52:19\", \"00:52:20\", \"00:52:21\", \"00:52:22\", \"00:52:23\", \"00:52:24\", \"00:52:25\", \"00:52:26\", \"00:52:27\", \"00:52:28\", \"00:52:29\", \"00:52:30\", \"00:52:31\", \"00:52:32\", \"00:52:33\", \"00:52:34\", \"00:52:35\", \"00:52:36\", \"00:52:37\", \"00:52:38\", \"00:52:39\", \"00:52:40\", \"00:52:41\", \"00:52:42\", \"00:52:43\", \"00:52:44\", \"00:52:45\", \"00:52:46\", \"00:52:47\", \"00:52:48\", \"00:52:49\", \"00:52:50\", \"00:52:51\", \"00:52:52\", \"00:52:53\", \"00:52:54\", \"00:52:55\", \"00:52:56\", \"00:52:57\", \"00:52:58\", \"00:52:59\", \"00:53:00\", \"00:53:01\", \"00:53:02\", \"00:53:03\", \"00:53:04\", \"00:53:05\", \"00:53:06\", \"00:53:07\", \"00:53:08\", \"00:53:09\", \"00:53:10\", \"00:53:11\", \"00:53:12\", \"00:53:13\", \"00:53:14\", \"00:53:15\", \"00:53:16\", \"00:53:17\", \"00:53:18\", \"00:53:19\", \"00:53:20\", \"00:53:21\", \"00:53:22\", \"00:53:23\", \"00:53:24\", \"00:53:25\", \"00:53:26\", \"00:53:27\", \"00:53:28\", \"00:53:29\", \"00:53:30\", \"00:53:31\", \"00:53:32\", \"00:53:33\", \"00:53:34\", \"00:53:35\", \"00:53:36\", \"00:53:37\", \"00:53:38\", \"00:53:39\", \"00:53:40\", \"00:53:41\", \"00:53:42\", \"00:53:43\", \"00:53:44\", \"00:53:45\", \"00:53:46\", \"00:53:47\", \"00:53:48\", \"00:53:49\", \"00:53:50\", \"00:53:51\", \"00:53:52\", \"00:53:53\", \"00:53:54\", \"00:53:55\", \"00:53:56\", \"00:53:57\", \"00:53:58\", \"00:53:59\", \"00:54:00\", \"00:54:01\", \"00:54:02\", \"00:54:03\", \"00:54:04\", \"00:54:05\", \"00:54:06\", \"00:54:07\", \"00:54:08\", \"00:54:09\", \"00:54:10\", \"00:54:11\", \"00:54:12\", \"00:54:13\", \"00:54:14\", \"00:54:15\", \"00:54:16\", \"00:54:17\", \"00:54:18\", \"00:54:19\", \"00:54:20\", \"00:54:21\", \"00:54:22\", \"00:54:23\", \"00:54:24\", \"00:54:25\", \"00:54:26\", \"00:54:27\", \"00:54:28\", \"00:54:29\", \"00:54:30\", \"00:54:31\", \"00:54:32\", \"00:54:33\", \"00:54:34\", \"00:54:35\", \"00:54:36\", \"00:54:37\", \"00:54:38\", \"00:54:39\", \"00:54:40\", \"00:54:41\", \"00:54:42\", \"00:54:43\", \"00:54:44\", \"00:54:45\", \"00:54:46\", \"00:54:47\", \"00:54:48\", \"00:54:49\", \"00:54:50\", \"00:54:51\", \"00:54:52\", \"00:54:53\", \"00:54:54\", \"00:54:55\", \"00:54:56\", \"00:54:57\", \"00:54:58\", \"00:54:59\", \"00:55:00\", \"00:55:01\", \"00:55:02\", \"00:55:03\", \"00:55:04\", \"00:55:05\", \"00:55:06\", \"00:55:07\", \"00:55:08\", \"00:55:09\", \"00:55:10\", \"00:55:11\", \"00:55:12\", \"00:55:13\", \"00:55:14\", \"00:55:15\", \"00:55:16\", \"00:55:17\", \"00:55:18\", \"00:55:19\", \"00:55:20\", \"00:55:21\", \"00:55:22\", \"00:55:23\", \"00:55:24\", \"00:55:25\", \"00:55:26\", \"00:55:27\", \"00:55:28\", \"00:55:29\", \"00:55:30\", \"00:55:31\", \"00:55:32\", \"00:55:33\", \"00:55:34\", \"00:55:35\", \"00:55:36\", \"00:55:37\", \"00:55:38\", \"00:55:39\", \"00:55:40\", \"00:55:41\", \"00:55:42\", \"00:55:43\", \"00:55:44\", \"00:55:45\", \"00:55:46\", \"00:55:47\", \"00:55:48\", \"00:55:49\", \"00:55:50\", \"00:55:51\", \"00:55:52\", \"00:55:53\", \"00:55:54\", \"00:55:55\", \"00:55:56\", \"00:55:57\", \"00:55:58\", \"00:55:59\", \"00:56:00\", \"00:56:01\", \"00:56:02\", \"00:56:03\", \"00:56:04\", \"00:56:05\", \"00:56:06\", \"00:56:07\", \"00:56:08\", \"00:56:09\", \"00:56:10\", \"00:56:11\", \"00:56:12\", \"00:56:13\", \"00:56:14\", \"00:56:15\", \"00:56:16\", \"00:56:17\", \"00:56:18\", \"00:56:19\", \"00:56:20\", \"00:56:21\", \"00:56:22\", \"00:56:23\", \"00:56:24\", \"00:56:25\", \"00:56:26\", \"00:56:27\", \"00:56:28\", \"00:56:29\", \"00:56:30\", \"00:56:31\", \"00:56:32\", \"00:56:33\", \"00:56:34\", \"00:56:35\", \"00:56:36\", \"00:56:37\", \"00:56:38\", \"00:56:39\", \"00:56:40\", \"00:56:41\", \"00:56:42\", \"00:56:43\", \"00:56:44\", \"00:56:45\", \"00:56:46\", \"00:56:47\", \"00:56:48\", \"00:56:49\", \"00:56:50\", \"00:56:51\", \"00:56:52\", \"00:56:53\", \"00:56:54\", \"00:56:55\", \"00:56:56\", \"00:56:57\", \"00:56:58\", \"00:56:59\", \"00:57:00\", \"00:57:01\", \"00:57:02\", \"00:57:03\", \"00:57:04\", \"00:57:05\", \"00:57:06\", \"00:57:07\", \"00:57:08\", \"00:57:09\", \"00:57:10\", \"00:57:11\", \"00:57:12\", \"00:57:13\", \"00:57:14\", \"00:57:15\", \"00:57:16\", \"00:57:17\", \"00:57:18\", \"00:57:19\", \"00:57:20\", \"00:57:21\", \"00:57:22\", \"00:57:23\", \"00:57:24\", \"00:57:25\", \"00:57:26\", \"00:57:27\", \"00:57:28\", \"00:57:29\", \"00:57:30\", \"00:57:31\", \"00:57:32\", \"00:57:33\", \"00:57:34\", \"00:57:35\", \"00:57:36\", \"00:57:37\", \"00:57:38\", \"00:57:39\", \"00:57:40\", \"00:57:41\", \"00:57:42\", \"00:57:43\", \"00:57:44\", \"00:57:45\", \"00:57:46\", \"00:57:47\", \"00:57:48\", \"00:57:49\", \"00:57:50\", \"00:57:51\", \"00:57:52\", \"00:57:53\", \"00:57:54\", \"00:57:55\", \"00:57:56\", \"00:57:57\", \"00:57:58\", \"00:57:59\", \"00:58:00\", \"00:58:01\", \"00:58:02\", \"00:58:03\", \"00:58:04\", \"00:58:05\", \"00:58:06\", \"00:58:07\", \"00:58:08\", \"00:58:09\", \"00:58:10\", \"00:58:11\", \"00:58:12\", \"00:58:13\", \"00:58:14\", \"00:58:15\", \"00:58:16\", \"00:58:17\", \"00:58:18\", \"00:58:19\", \"00:58:20\", \"00:58:21\", \"00:58:22\", \"00:58:23\", \"00:58:24\", \"00:58:25\", \"00:58:26\", \"00:58:27\", \"00:58:28\", \"00:58:29\", \"00:58:30\", \"00:58:31\", \"00:58:32\", \"00:58:33\", \"00:58:34\", \"00:58:35\", \"00:58:36\", \"00:58:37\", \"00:58:38\", \"00:58:39\", \"00:58:40\", \"00:58:41\", \"00:58:42\", \"00:58:43\", \"00:58:44\", \"00:58:45\", \"00:58:46\", \"00:58:47\", \"00:58:48\", \"00:58:49\", \"00:58:50\", \"00:58:51\", \"00:58:52\", \"00:58:53\", \"00:58:54\", \"00:58:55\", \"00:58:56\", \"00:58:57\", \"00:58:58\", \"00:58:59\", \"00:59:00\", \"00:59:01\", \"00:59:02\", \"00:59:03\", \"00:59:04\", \"00:59:05\", \"00:59:06\", \"00:59:07\", \"00:59:08\", \"00:59:09\", \"00:59:10\", \"00:59:11\", \"00:59:12\", \"00:59:13\", \"00:59:14\", \"00:59:15\", \"00:59:16\", \"00:59:17\", \"00:59:18\", \"00:59:19\", \"00:59:20\", \"00:59:21\", \"00:59:22\", \"00:59:23\", \"00:59:24\", \"00:59:25\", \"00:59:26\", \"00:59:27\", \"00:59:28\", \"00:59:29\", \"00:59:30\", \"00:59:31\", \"00:59:32\", \"00:59:33\", \"00:59:34\", \"00:59:35\", \"00:59:36\", \"00:59:37\", \"00:59:38\", \"00:59:39\", \"00:59:40\", \"00:59:41\", \"00:59:42\", \"00:59:43\", \"00:59:44\", \"00:59:45\", \"00:59:46\", \"00:59:47\", \"00:59:48\", \"00:59:49\", \"00:59:50\", \"00:59:51\", \"00:59:52\", \"00:59:53\", \"00:59:54\", \"00:59:55\", \"00:59:56\", \"00:59:57\", \"00:59:58\", \"00:59:59\", \"01:00:00\"], \"y\": [1, 1, 1, 1, 1, 1, 4, 1, 2, 1, 4, 1, 2, 2, 2, 3, 1, 1, 2, 3, 5, 4, 4, 7, 6, 3, 2, 4, 7, 9, 8, 4, 5, 6, 11, 12, 13, 14, 10, 13, 17, 14, 14, 28, 22, 19, 26, 30, 30, 24, 19, 26, 32, 32, 35, 31, 43, 50, 36, 45, 44, 35, 40, 49, 36, 45, 50, 61, 68, 51, 67, 63, 88, 66, 70, 75, 80, 72, 92, 67, 104, 81, 68, 95, 111, 124, 110, 114, 99, 116, 106, 110, 103, 110, 106, 108, 133, 126, 133, 144, 133, 127, 135, 137, 122, 138, 143, 152, 140, 150, 132, 126, 143, 160, 151, 149, 165, 161, 152, 176, 172, 159, 169, 180, 176, 181, 170, 177, 179, 173, 167, 162, 186, 196, 206, 180, 199, 192, 193, 198, 215, 164, 199, 179, 166, 196, 212, 216, 224, 208, 223, 214, 227, 226, 197, 235, 269, 206, 257, 242, 238, 249, 271, 254, 247, 238, 259, 262, 264, 257, 264, 246, 236, 272, 262, 254, 273, 282, 257, 298, 276, 297, 297, 268, 292, 294, 322, 284, 277, 278, 299, 282, 319, 319, 286, 351, 320, 314, 305, 286, 312, 352, 302, 333, 346, 370, 335, 347, 329, 324, 341, 405, 381, 342, 368, 363, 381, 357, 393, 367, 347, 401, 388, 426, 375, 430, 405, 408, 406, 392, 374, 393, 377, 374, 417, 430, 455, 443, 510, 548, 531, 588, 562, 534, 498, 500, 555, 578, 536, 569, 567, 539, 588, 531, 555, 562, 590, 589, 564, 573, 536, 563, 562, 592, 582, 591, 569, 606, 567, 570, 588, 589, 587, 599, 565, 586, 605, 635, 632, 626, 602, 618, 595, 587, 612, 636, 633, 584, 552, 621, 620, 632, 569, 598, 637, 580, 607, 654, 635, 648, 630, 623, 632, 648, 597, 682, 657, 654, 656, 662, 673, 670, 655, 653, 688, 648, 658, 645, 688, 701, 706, 731, 707, 712, 673, 685, 671, 691, 714, 700, 698, 705, 663, 664, 683, 682, 724, 690, 682, 743, 729, 696, 745, 694, 708, 688, 695, 721, 667, 738, 717, 649, 713, 690, 766, 752, 731, 748, 693, 896, 903, 885, 890, 825, 853, 852, 843, 785, 850, 899, 859, 884, 847, 861, 863, 850, 902, 858, 832, 837, 881, 848, 873, 809, 916, 841, 867, 887, 918, 904, 902, 874, 907, 877, 898, 900, 920, 876, 902, 825, 876, 877, 919, 909, 822, 896, 847, 891, 897, 868, 846, 803, 894, 902, 869, 913, 955, 848, 890, 903, 877, 875, 869, 852, 876, 861, 858, 837, 923, 894, 901, 886, 852, 909, 958, 891, 904, 872, 909, 916, 920, 908, 862, 846, 876, 889, 839, 891, 941, 964, 886, 857, 940, 904, 919, 893, 885, 880, 911, 868, 833, 874, 913, 888, 905, 915, 880, 888, 907, 885, 924, 867, 915, 885, 903, 918, 911, 915, 909, 894, 898, 904, 872, 832, 939, 862, 897, 835, 899, 818, 844, 883, 836, 850, 859, 882, 892, 891, 848, 873, 885, 837, 835, 864, 866, 863, 901, 829, 805, 865, 855, 864, 817, 869, 855, 882, 871, 893, 890, 900, 908, 865, 868, 923, 873, 873, 845, 866, 905, 879, 841, 853, 855, 831, 769, 865, 909, 941, 1023, 1021, 1027, 1073, 1132, 938, 959, 881, 836, 837, 940, 832, 817, 905, 853, 870, 814, 856, 823, 845, 838, 829, 881, 874, 866, 820, 860, 878, 834, 851, 948, 864, 864, 897, 830, 855, 837, 865, 858, 862, 863, 838, 859, 876, 828, 842, 856, 894, 821, 837, 866, 809, 831, 846, 860, 839, 797, 849, 779, 849, 857, 841, 903, 845, 862, 829, 834, 847, 858, 794, 865, 835, 808, 835, 901, 849, 836, 825, 897, 828, 814, 841, 801, 805, 821, 833, 837, 786, 829, 878, 771, 842, 782, 846, 868, 819, 856, 804, 798, 812, 803, 836, 831, 822, 814, 820, 823, 784, 849, 790, 794, 740, 819, 819, 801, 841, 816, 786, 809, 791, 781, 755, 831, 754, 773, 699, 752, 794, 762, 813, 765, 725, 786, 736, 757, 780, 749, 755, 754, 792, 761, 812, 766, 784, 741, 745, 751, 746, 721, 788, 751, 712, 741, 723, 716, 768, 737, 727, 766, 727, 711, 711, 712, 735, 751, 738, 711, 692, 805, 734, 725, 688, 687, 723, 758, 689, 733, 750, 744, 765, 724, 709, 676, 698, 743, 748, 695, 707, 685, 745, 673, 648, 680, 668, 663, 677, 692, 739, 698, 674, 714, 721, 682, 672, 662, 691, 681, 678, 671, 698, 677, 667, 681, 698, 637, 680, 682, 673, 621, 648, 677, 657, 644, 665, 660, 622, 650, 661, 624, 673, 695, 688, 678, 598, 675, 698, 667, 665, 663, 660, 584, 630, 643, 619, 624, 616, 583, 658, 618, 622, 622, 615, 612, 636, 628, 641, 606, 628, 608, 643, 628, 655, 603, 576, 600, 616, 648, 606, 595, 575, 644, 559, 607, 582, 624, 640, 583, 644, 593, 609, 626, 572, 584, 563, 628, 614, 611, 581, 562, 547, 564, 578, 565, 594, 566, 540, 630, 598, 596, 586, 599, 597, 563, 557, 522, 577, 607, 543, 506, 592, 544, 548, 543, 553, 557, 540, 544, 601, 564, 558, 550, 551, 548, 572, 498, 545, 522, 532, 497, 552, 499, 579, 557, 515, 539, 548, 549, 505, 522, 526, 517, 516, 530, 537, 544, 541, 490, 488, 513, 511, 506, 487, 484, 515, 495, 460, 486, 517, 527, 526, 557, 473, 495, 487, 485, 451, 526, 463, 455, 488, 508, 451, 482, 458, 457, 465, 485, 446, 456, 469, 429, 496, 490, 500, 482, 462, 445, 463, 469, 455, 454, 438, 425, 459, 431, 438, 446, 441, 459, 439, 450, 419, 420, 427, 473, 474, 428, 444, 435, 451, 445, 409, 407, 459, 441, 400, 425, 439, 381, 407, 431, 417, 423, 374, 388, 400, 384, 365, 412, 412, 410, 396, 420, 405, 429, 412, 379, 380, 455, 390, 361, 404, 418, 360, 388, 373, 358, 373, 371, 368, 349, 395, 385, 364, 392, 351, 382, 340, 350, 393, 381, 381, 354, 359, 356, 333, 346, 333, 369, 360, 322, 355, 345, 364, 347, 357, 358, 361, 314, 316, 350, 300, 314, 349, 299, 338, 316, 340, 339, 334, 339, 343, 328, 323, 292, 329, 330, 317, 318, 310, 324, 322, 318, 283, 279, 300, 296, 282, 277, 319, 314, 320, 268, 319, 281, 313, 300, 292, 305, 280, 289, 288, 290, 265, 291, 284, 272, 289, 262, 270, 270, 296, 238, 284, 306, 273, 280, 270, 280, 295, 292, 263, 248, 262, 260, 270, 278, 268, 291, 251, 226, 251, 258, 241, 276, 249, 241, 264, 272, 245, 227, 238, 234, 240, 262, 237, 237, 238, 242, 235, 229, 232, 232, 215, 232, 235, 257, 226, 240, 193, 229, 209, 208, 210, 222, 214, 244, 218, 224, 201, 231, 209, 205, 179, 208, 186, 217, 229, 225, 211, 200, 219, 179, 174, 206, 195, 174, 180, 175, 202, 172, 176, 180, 186, 192, 176, 186, 194, 180, 174, 168, 166, 158, 150, 179, 190, 168, 170, 178, 178, 202, 164, 183, 179, 171, 172, 143, 150, 170, 147, 154, 159, 142, 166, 145, 151, 160, 146, 134, 161, 144, 152, 154, 153, 158, 143, 143, 157, 161, 141, 129, 134, 132, 155, 164, 144, 157, 144, 129, 130, 141, 144, 139, 144, 138, 140, 151, 142, 143, 151, 135, 141, 141, 121, 125, 120, 142, 144, 114, 148, 127, 116, 124, 132, 116, 128, 114, 122, 147, 136, 147, 126, 123, 109, 117, 120, 142, 119, 121, 116, 114, 127, 104, 108, 129, 126, 121, 111, 110, 105, 127, 117, 106, 131, 121, 105, 114, 109, 133, 120, 114, 110, 141, 126, 117, 105, 99, 108, 119, 104, 119, 124, 108, 113, 125, 102, 76, 100, 128, 112, 108, 112, 94, 119, 106, 109, 106, 99, 103, 105, 112, 87, 119, 108, 107, 104, 112, 112, 95, 108, 104, 122, 101, 91, 102, 88, 97, 109, 96, 105, 104, 106, 109, 98, 99, 99, 109, 96, 110, 91, 97, 77, 77, 83, 100, 92, 88, 102, 108, 114, 101, 93, 90, 89, 105, 101, 103, 103, 76, 105, 109, 81, 99, 90, 79, 89, 94, 82, 88, 100, 95, 84, 81, 103, 97, 84, 98, 87, 89, 78, 87, 89, 88, 72, 75, 69, 87, 89, 74, 93, 78, 81, 99, 78, 91, 79, 76, 92, 73, 96, 82, 87, 73, 74, 83, 77, 87, 70, 79, 79, 78, 81, 77, 87, 73, 86, 93, 83, 74, 82, 84, 79, 77, 85, 68, 67, 80, 105, 76, 78, 97, 69, 80, 73, 83, 82, 58, 72, 64, 66, 78, 76, 76, 67, 76, 75, 59, 74, 67, 73, 74, 64, 72, 67, 75, 76, 68, 75, 65, 66, 60, 84, 70, 78, 71, 80, 71, 63, 79, 67, 73, 74, 64, 73, 73, 71, 80, 67, 66, 68, 76, 59, 79, 61, 62, 76, 65, 82, 72, 70, 69, 54, 75, 62, 74, 75, 57, 63, 55, 77, 74, 59, 74, 70, 71, 57, 62, 60, 63, 80, 62, 73, 58, 69, 81, 59, 65, 73, 60, 59, 74, 64, 58, 54, 62, 61, 62, 67, 69, 59, 54, 65, 73, 61, 60, 71, 46, 59, 69, 57, 64, 59, 66, 70, 85, 51, 60, 62, 55, 58, 67, 69, 66, 57, 52, 50, 43, 63, 63, 48, 47, 45, 48, 57, 62, 63, 42, 44, 64, 58, 57, 50, 65, 65, 57, 47, 58, 61, 69, 62, 66, 59, 52, 71, 58, 45, 43, 53, 57, 52, 65, 56, 41, 52, 51, 50, 50, 63, 59, 51, 66, 52, 56, 45, 47, 75, 51, 42, 57, 39, 57, 54, 48, 59, 57, 68, 57, 45, 72, 49, 52, 66, 57, 52, 61, 56, 68, 42, 49, 61, 57, 48, 59, 57, 45, 50, 51, 48, 48, 46, 44, 44, 55, 51, 54, 47, 57, 60, 66, 60, 39, 60, 49, 49, 50, 51, 46, 60, 52, 42, 41, 47, 43, 55, 44, 52, 45, 39, 40, 56, 43, 48, 48, 52, 42, 47, 47, 49, 49, 61, 36, 50, 48, 51, 43, 52, 55, 37, 50, 54, 44, 76, 61, 63, 57, 57, 42, 47, 37, 47, 49, 50, 50, 50, 61, 43, 48, 43, 47, 57, 45, 49, 46, 46, 42, 52, 41, 45, 47, 55, 53, 48, 48, 48, 41, 54, 47, 49, 34, 49, 36, 43, 27, 59, 47, 47, 32, 52, 39, 40, 52, 45, 42, 34, 46, 35, 42, 40, 41, 51, 41, 40, 53, 31, 45, 34, 43, 40, 39, 44, 46, 31, 42, 48, 45, 51, 38, 46, 39, 37, 39, 36, 42, 52, 37, 48, 39, 38, 34, 41, 38, 43, 40, 58, 34, 37, 35, 36, 34, 42, 40, 51, 41, 31, 39, 39, 42, 37, 31, 46, 39, 30, 37, 43, 49, 39, 43, 47, 27, 41, 36, 38, 35, 28, 35, 46, 43, 30, 36, 35, 39, 36, 35, 36, 44, 33, 38, 44, 47, 44, 47, 44, 30, 30, 31, 39, 44, 44, 39, 34, 37, 38, 44, 37, 40, 35, 37, 30, 40, 41, 31, 42, 33, 40, 35, 38, 44, 35, 35, 26, 32, 27, 38, 34, 36, 51, 36, 33, 37, 42, 33, 32, 39, 31, 36, 36, 26, 34, 34, 27, 42, 38, 29, 41, 44, 38, 35, 35, 41, 42, 26, 29, 25, 33, 38, 33, 29, 47, 40, 35, 27, 37, 29, 28, 36, 32, 29, 45, 42, 27, 36, 37, 28, 43, 30, 44, 39, 38, 35, 31, 37, 30, 35, 38, 22, 21, 36, 32, 35, 31, 41, 31, 50, 45, 38, 26, 24, 29, 41, 30, 32, 29, 33, 26, 26, 42, 51, 41, 45, 39, 42, 38, 26, 36, 24, 27, 26, 28, 34, 40, 26, 34, 19, 33, 34, 35, 20, 38, 36, 37, 28, 42, 35, 29, 35, 26, 39, 32, 29, 23, 25, 25, 30, 40, 34, 34, 32, 29, 31, 36, 35, 38, 30, 31, 31, 27, 29, 31, 32, 42, 34, 32, 37, 27, 30, 30, 28, 38, 35, 28, 31, 40, 32, 34, 29, 39, 25, 31, 31, 32, 26, 34, 35, 36, 35, 34, 26, 27, 32, 28, 30, 25, 30, 27, 27, 35, 21, 23, 29, 27, 31, 28, 21, 39, 34, 35, 30, 30, 27, 32, 28, 27, 23, 27, 32, 35, 27, 15, 37, 23, 30, 39, 34, 26, 29, 20, 25, 26, 43, 23, 34, 24, 21, 16, 40, 25, 29, 31, 36, 22, 23, 27, 37, 36, 22, 27, 38, 31, 29, 37, 28, 24, 42, 25, 26, 25, 31, 20, 30, 23, 31, 26, 28, 24, 29, 30, 36, 16, 22, 32, 21, 25, 31, 33, 18, 39, 33, 31, 21, 21, 27, 27, 32, 26, 23, 22, 25, 28, 23, 29, 33, 28, 19, 22, 30, 21, 19, 32, 30, 32, 31, 32, 21, 28, 26, 23, 37, 32, 23, 25, 30, 30, 25, 21, 22, 23, 22, 20, 31, 19, 31, 17, 25, 33, 31, 24, 16, 32, 27, 19, 21, 29, 24, 23, 27, 26, 29, 45, 22, 24, 22, 19, 30, 29, 27, 29, 21, 20, 29, 22, 35, 31, 30, 28, 29, 31, 28, 36, 30, 30, 22, 23, 22, 43, 24, 24, 26, 26, 18, 31, 25, 37, 30, 22, 23, 23, 27, 20, 22, 27, 26, 20, 25, 29, 33, 23, 30, 18, 22, 30, 19, 26, 16, 26, 19, 22, 27, 23, 29, 23, 27, 21, 25, 28, 19, 20, 35, 23, 27, 22, 21, 32, 25, 18, 26, 28, 25, 23, 28, 25, 27, 30, 15, 27, 26, 20, 23, 28, 27, 23, 27, 22, 19, 23, 19, 24, 25, 25, 34, 19, 26, 24, 30, 18, 27, 21, 23, 23, 18, 22, 12, 18, 16, 13, 20, 18, 17, 23, 22, 30, 28, 28, 21, 23, 23, 25, 23, 28, 25, 25, 21, 12, 15, 21, 27, 20, 19, 19, 23, 28, 20, 14, 15, 19, 32, 25, 22, 21, 18, 24, 14, 22, 25, 23, 22, 26, 22, 27, 32, 24, 16, 21, 27, 25, 26, 18, 22, 24, 23, 17, 25, 25, 11, 21, 21, 32, 23, 25, 23, 18, 21, 17, 22, 23, 23, 21, 23, 23, 13, 21, 26, 26, 18, 19, 20, 17, 19, 24, 15, 23, 24, 25, 27, 19, 26, 24, 20, 18, 18, 20, 16, 30, 28, 23, 20, 26, 21, 23, 38, 19, 19, 25, 18, 21, 21, 20, 31, 22, 22, 17, 29, 26, 25, 19, 20, 29, 18, 26, 22, 16, 22, 26, 24, 16, 20, 22, 20, 22, 22, 16, 19, 21, 22, 20, 16, 18, 29, 20, 28, 15, 22, 12, 32, 20, 16, 24, 21, 20, 20, 13, 16, 21, 30, 28, 22, 22, 19, 23, 19, 25, 22, 16, 17, 26, 26, 21, 36, 14, 16, 12, 21, 17, 19, 20, 18, 20, 26, 24, 22, 20, 26, 11, 19, 27, 19, 21, 23, 21, 27, 19, 24, 24, 20, 20, 22, 19, 21, 19, 18, 14, 20, 18, 21, 15, 22, 15, 17, 31, 23, 19, 13, 22, 26, 27, 24, 17, 15, 18, 27, 25, 25, 27, 19, 22, 14, 13, 16, 23, 20, 17, 19, 24, 30, 13, 15, 23, 25, 19, 32, 21, 21, 12, 20, 20, 20, 21, 27, 23, 11, 25, 17, 22, 26, 16, 32, 21, 22, 16, 16, 17, 19, 13, 23, 22, 22, 23, 22, 21, 16, 22, 19, 21, 10, 13, 28, 20, 20, 23, 13, 16, 23, 27, 12, 15, 18, 12, 17, 16, 24, 25, 23, 24, 20, 21, 20, 25, 20, 20, 14, 16, 15, 18, 19, 22, 19, 20, 11, 21, 21, 16, 20, 21, 10, 25, 23, 23, 19, 17, 28, 15, 17, 20, 22, 18, 21, 26, 33, 16, 23, 22, 23, 16, 19, 20, 21, 19, 18, 17, 13, 13, 30, 13, 17, 19, 18, 21, 16, 16, 20, 11, 20, 18, 13, 27, 19, 18, 30, 17, 30, 14, 9, 24, 22, 17, 14, 11, 24, 19, 18, 24, 18, 24, 20, 20, 13, 18, 18, 14, 24, 15, 11, 18, 16, 17, 11, 17, 19, 14, 13, 18, 27, 19, 20, 18, 22, 23, 17, 20, 19, 12, 19, 17, 15, 23, 20, 22, 16, 22, 18, 28, 21, 24, 23, 11, 24, 16, 18, 19, 19, 22, 23, 19, 19, 22, 18, 22, 21, 21, 19, 18, 21, 24, 30, 16, 17, 23, 16, 13, 24, 17, 13, 16, 12, 17, 28, 15, 20, 16, 24, 22, 24, 16, 21, 20, 24, 20, 12, 26, 14, 16, 20, 27, 18, 13, 19, 17, 23, 22, 13, 21, 18, 24, 18, 16, 13, 20, 23, 17, 18, 20, 23, 16, 24, 18, 24, 14, 19, 17, 21, 15, 18, 25, 16, 22, 17, 14, 27, 13, 21, 24, 14, 16, 18, 18, 13, 17, 22, 9, 18, 18, 17, 24, 16, 23, 19, 19, 17, 17, 19, 29, 22, 24, 17, 17, 16, 13, 12, 12, 21, 17, 16, 16, 19, 17, 22, 16, 15, 21, 10, 15, 16, 23, 15, 12, 20, 25, 20, 17, 24, 23, 20, 16, 12, 24, 23, 21, 22, 21, 17, 18, 9, 17, 13, 21, 22, 16, 17, 14, 12, 13, 16, 20, 19, 21, 29, 18, 12, 11, 20, 23, 18, 15, 17, 23, 20, 18, 12, 19, 19, 21, 12, 15, 17, 16, 24, 20, 12, 21, 22, 17, 15, 17, 15, 12, 24, 19, 27, 23, 11, 19, 18, 19, 18, 10, 25, 10, 20, 18, 23, 15, 18, 23, 19, 25, 24, 18, 18, 14, 15, 15, 17, 11, 11, 17, 25, 16, 18, 17, 26, 15, 24, 22, 27, 19, 21, 16, 21, 13, 20, 18, 22, 25, 21, 15, 18, 17, 23, 21, 8, 5, 16, 14, 15, 30, 22, 15, 16, 12, 15, 22, 16, 16, 16, 15, 23, 22, 17, 13, 15, 15, 16, 22, 16, 25, 15, 21, 33, 20, 23, 19, 15, 13, 22, 19, 16, 18, 15, 15, 19, 22, 13, 14, 10, 11, 19, 17, 18, 18, 19, 15, 24, 16, 12, 17, 18, 20, 19, 17, 16, 23, 15, 18, 13, 12, 18, 16, 16, 12, 16, 18, 18, 19, 15, 14, 23, 15, 16, 10, 16, 15, 11, 13, 15, 16, 21, 18, 13, 22, 14, 28, 20, 18, 17, 15, 23, 14, 20, 13, 23, 14, 18, 14, 12, 11, 13, 14, 17, 18, 21, 18, 14, 11, 16, 15, 13, 26, 17, 15, 11, 13, 24, 16, 14, 16, 21, 15, 18, 18, 17, 22, 14, 20, 21, 14, 17, 22, 18, 23, 11, 15, 16, 15, 12, 22, 16, 14, 11, 16, 17, 11, 19, 15, 20, 14, 12, 22, 15, 22, 14, 22, 16, 7, 21, 15, 15, 15, 23, 16, 16, 8, 28, 16, 18, 18, 17, 19, 9, 8, 19, 17, 19, 19, 13, 14, 17, 19, 17, 17, 18, 17, 23, 10, 16, 23, 20, 17, 24, 19, 18, 15, 16, 21, 12, 17, 19, 12, 14, 21, 19, 18, 17, 19, 14, 15, 17, 22, 18, 14, 13, 24, 18, 20, 17, 15, 22, 16, 13, 16, 18, 20, 15, 13, 21, 17, 22, 18, 27, 21, 13, 18, 19, 15, 17, 12, 23, 26, 17, 14, 15, 19, 22, 17, 11, 15, 13, 19, 21, 9, 21, 18, 15, 20, 17, 20, 21, 15, 12, 14, 16, 18, 25, 14, 21, 15, 24, 12, 15, 20, 18, 12, 11, 20, 19, 18, 13, 17, 16, 17, 10, 19, 15, 13, 28, 16, 16, 13, 10, 19, 13, 7, 18, 15, 19, 12, 15, 11, 15, 18, 10, 17, 11, 16, 16, 23, 18, 22, 20, 16, 15, 17, 16, 14, 16, 19, 14, 20, 13, 10, 27, 24, 15, 22, 7, 14, 20, 10, 13, 19, 10, 17, 21, 9, 17, 15, 10, 18, 15, 15, 26, 21, 14, 12, 24, 13, 17, 18, 12, 21, 20, 24, 9, 7, 10, 19, 19, 14, 13, 16, 24, 15, 9, 7, 12, 16, 12, 8, 13, 14, 21, 13, 24, 18, 15, 23, 18, 13, 19, 8, 16, 13, 14, 20, 5, 12, 9, 15, 17, 14, 14, 14, 15, 15, 13, 8, 18, 19, 6, 14, 17, 10, 16, 16, 15, 15, 19, 14, 4, 18, 10, 17, 10, 9, 15, 12, 14, 16, 12, 17, 7, 13, 11, 11, 11, 10, 9, 26, 13, 10, 8, 13, 17, 12, 11, 17, 15, 6, 16, 11, 22, 15, 8, 17, 18, 14, 19, 15, 16, 16, 7, 12, 22, 17, 15, 12, 14, 7, 12, 16, 12, 7, 10, 14, 15, 15, 16, 11, 8, 16, 9, 12, 13, 18, 11, 7, 10, 11, 11, 17, 16, 18, 14, 13, 9, 13, 11, 13, 10, 12, 16, 10, 16, 10, 14, 11, 2, 14, 11, 12, 16, 10, 16, 13, 12, 12, 19, 10, 8, 12, 12, 9, 11, 8, 18, 11, 11, 9, 13, 14, 10, 18, 14, 13, 14, 11, 11, 16, 13, 15, 10, 12, 12, 12, 14, 9, 11, 18, 7, 12, 4, 11, 9, 13, 13, 11, 13, 8, 11, 17, 10, 13, 14, 19, 12, 9, 11, 10, 10, 13, 19, 9, 16, 10, 11, 8, 7, 15, 16, 14, 18, 6, 13, 11, 10, 15, 10, 14, 8, 16, 7, 12, 9]}],\n",
       "                        {\"template\": {\"data\": {\"bar\": [{\"error_x\": {\"color\": \"#f2f5fa\"}, \"error_y\": {\"color\": \"#f2f5fa\"}, \"marker\": {\"line\": {\"color\": \"rgb(17,17,17)\", \"width\": 0.5}}, \"type\": \"bar\"}], \"barpolar\": [{\"marker\": {\"line\": {\"color\": \"rgb(17,17,17)\", \"width\": 0.5}}, \"type\": \"barpolar\"}], \"carpet\": [{\"aaxis\": {\"endlinecolor\": \"#A2B1C6\", \"gridcolor\": \"#506784\", \"linecolor\": \"#506784\", \"minorgridcolor\": \"#506784\", \"startlinecolor\": \"#A2B1C6\"}, \"baxis\": {\"endlinecolor\": \"#A2B1C6\", \"gridcolor\": \"#506784\", \"linecolor\": \"#506784\", \"minorgridcolor\": \"#506784\", \"startlinecolor\": \"#A2B1C6\"}, \"type\": \"carpet\"}], \"choropleth\": [{\"colorbar\": {\"outlinewidth\": 0, \"ticks\": \"\"}, \"type\": \"choropleth\"}], \"contour\": [{\"colorbar\": {\"outlinewidth\": 0, \"ticks\": \"\"}, \"colorscale\": [[0.0, \"#0d0887\"], [0.1111111111111111, \"#46039f\"], [0.2222222222222222, \"#7201a8\"], [0.3333333333333333, \"#9c179e\"], [0.4444444444444444, \"#bd3786\"], [0.5555555555555556, \"#d8576b\"], [0.6666666666666666, \"#ed7953\"], [0.7777777777777778, \"#fb9f3a\"], [0.8888888888888888, \"#fdca26\"], [1.0, \"#f0f921\"]], \"type\": \"contour\"}], \"contourcarpet\": [{\"colorbar\": {\"outlinewidth\": 0, \"ticks\": \"\"}, \"type\": \"contourcarpet\"}], \"heatmap\": [{\"colorbar\": {\"outlinewidth\": 0, \"ticks\": \"\"}, \"colorscale\": [[0.0, \"#0d0887\"], [0.1111111111111111, \"#46039f\"], [0.2222222222222222, \"#7201a8\"], [0.3333333333333333, \"#9c179e\"], [0.4444444444444444, \"#bd3786\"], [0.5555555555555556, \"#d8576b\"], [0.6666666666666666, \"#ed7953\"], [0.7777777777777778, \"#fb9f3a\"], [0.8888888888888888, \"#fdca26\"], [1.0, \"#f0f921\"]], \"type\": \"heatmap\"}], \"heatmapgl\": [{\"colorbar\": {\"outlinewidth\": 0, \"ticks\": \"\"}, \"colorscale\": [[0.0, \"#0d0887\"], [0.1111111111111111, \"#46039f\"], [0.2222222222222222, \"#7201a8\"], [0.3333333333333333, \"#9c179e\"], [0.4444444444444444, \"#bd3786\"], [0.5555555555555556, \"#d8576b\"], [0.6666666666666666, \"#ed7953\"], [0.7777777777777778, \"#fb9f3a\"], [0.8888888888888888, \"#fdca26\"], [1.0, \"#f0f921\"]], \"type\": \"heatmapgl\"}], \"histogram\": [{\"marker\": {\"colorbar\": {\"outlinewidth\": 0, \"ticks\": \"\"}}, \"type\": \"histogram\"}], \"histogram2d\": [{\"colorbar\": {\"outlinewidth\": 0, \"ticks\": \"\"}, \"colorscale\": [[0.0, \"#0d0887\"], [0.1111111111111111, \"#46039f\"], [0.2222222222222222, \"#7201a8\"], [0.3333333333333333, \"#9c179e\"], [0.4444444444444444, \"#bd3786\"], [0.5555555555555556, \"#d8576b\"], [0.6666666666666666, \"#ed7953\"], [0.7777777777777778, \"#fb9f3a\"], [0.8888888888888888, \"#fdca26\"], [1.0, \"#f0f921\"]], \"type\": \"histogram2d\"}], \"histogram2dcontour\": [{\"colorbar\": {\"outlinewidth\": 0, \"ticks\": \"\"}, \"colorscale\": [[0.0, \"#0d0887\"], [0.1111111111111111, \"#46039f\"], [0.2222222222222222, \"#7201a8\"], [0.3333333333333333, \"#9c179e\"], [0.4444444444444444, \"#bd3786\"], [0.5555555555555556, \"#d8576b\"], [0.6666666666666666, \"#ed7953\"], [0.7777777777777778, \"#fb9f3a\"], [0.8888888888888888, \"#fdca26\"], [1.0, \"#f0f921\"]], \"type\": \"histogram2dcontour\"}], \"mesh3d\": [{\"colorbar\": {\"outlinewidth\": 0, \"ticks\": \"\"}, \"type\": \"mesh3d\"}], \"parcoords\": [{\"line\": {\"colorbar\": {\"outlinewidth\": 0, \"ticks\": \"\"}}, \"type\": \"parcoords\"}], \"pie\": [{\"automargin\": true, \"type\": \"pie\"}], \"scatter\": [{\"marker\": {\"line\": {\"color\": \"#283442\"}}, \"type\": \"scatter\"}], \"scatter3d\": [{\"line\": {\"colorbar\": {\"outlinewidth\": 0, \"ticks\": \"\"}}, \"marker\": {\"colorbar\": {\"outlinewidth\": 0, \"ticks\": \"\"}}, \"type\": \"scatter3d\"}], \"scattercarpet\": [{\"marker\": {\"colorbar\": {\"outlinewidth\": 0, \"ticks\": \"\"}}, \"type\": \"scattercarpet\"}], \"scattergeo\": [{\"marker\": {\"colorbar\": {\"outlinewidth\": 0, \"ticks\": \"\"}}, \"type\": \"scattergeo\"}], \"scattergl\": [{\"marker\": {\"line\": {\"color\": \"#283442\"}}, \"type\": \"scattergl\"}], \"scattermapbox\": [{\"marker\": {\"colorbar\": {\"outlinewidth\": 0, \"ticks\": \"\"}}, \"type\": \"scattermapbox\"}], \"scatterpolar\": [{\"marker\": {\"colorbar\": {\"outlinewidth\": 0, \"ticks\": \"\"}}, \"type\": \"scatterpolar\"}], \"scatterpolargl\": [{\"marker\": {\"colorbar\": {\"outlinewidth\": 0, \"ticks\": \"\"}}, \"type\": \"scatterpolargl\"}], \"scatterternary\": [{\"marker\": {\"colorbar\": {\"outlinewidth\": 0, \"ticks\": \"\"}}, \"type\": \"scatterternary\"}], \"surface\": [{\"colorbar\": {\"outlinewidth\": 0, \"ticks\": \"\"}, \"colorscale\": [[0.0, \"#0d0887\"], [0.1111111111111111, \"#46039f\"], [0.2222222222222222, \"#7201a8\"], [0.3333333333333333, \"#9c179e\"], [0.4444444444444444, \"#bd3786\"], [0.5555555555555556, \"#d8576b\"], [0.6666666666666666, \"#ed7953\"], [0.7777777777777778, \"#fb9f3a\"], [0.8888888888888888, \"#fdca26\"], [1.0, \"#f0f921\"]], \"type\": \"surface\"}], \"table\": [{\"cells\": {\"fill\": {\"color\": \"#506784\"}, \"line\": {\"color\": \"rgb(17,17,17)\"}}, \"header\": {\"fill\": {\"color\": \"#2a3f5f\"}, \"line\": {\"color\": \"rgb(17,17,17)\"}}, \"type\": \"table\"}]}, \"layout\": {\"annotationdefaults\": {\"arrowcolor\": \"#f2f5fa\", \"arrowhead\": 0, \"arrowwidth\": 1}, \"coloraxis\": {\"colorbar\": {\"outlinewidth\": 0, \"ticks\": \"\"}}, \"colorscale\": {\"diverging\": [[0, \"#8e0152\"], [0.1, \"#c51b7d\"], [0.2, \"#de77ae\"], [0.3, \"#f1b6da\"], [0.4, \"#fde0ef\"], [0.5, \"#f7f7f7\"], [0.6, \"#e6f5d0\"], [0.7, \"#b8e186\"], [0.8, \"#7fbc41\"], [0.9, \"#4d9221\"], [1, \"#276419\"]], \"sequential\": [[0.0, \"#0d0887\"], [0.1111111111111111, \"#46039f\"], [0.2222222222222222, \"#7201a8\"], [0.3333333333333333, \"#9c179e\"], [0.4444444444444444, \"#bd3786\"], [0.5555555555555556, \"#d8576b\"], [0.6666666666666666, \"#ed7953\"], [0.7777777777777778, \"#fb9f3a\"], [0.8888888888888888, \"#fdca26\"], [1.0, \"#f0f921\"]], \"sequentialminus\": [[0.0, \"#0d0887\"], [0.1111111111111111, \"#46039f\"], [0.2222222222222222, \"#7201a8\"], [0.3333333333333333, \"#9c179e\"], [0.4444444444444444, \"#bd3786\"], [0.5555555555555556, \"#d8576b\"], [0.6666666666666666, \"#ed7953\"], [0.7777777777777778, \"#fb9f3a\"], [0.8888888888888888, \"#fdca26\"], [1.0, \"#f0f921\"]]}, \"colorway\": [\"#636efa\", \"#EF553B\", \"#00cc96\", \"#ab63fa\", \"#FFA15A\", \"#19d3f3\", \"#FF6692\", \"#B6E880\", \"#FF97FF\", \"#FECB52\"], \"font\": {\"color\": \"#f2f5fa\"}, \"geo\": {\"bgcolor\": \"rgb(17,17,17)\", \"lakecolor\": \"rgb(17,17,17)\", \"landcolor\": \"rgb(17,17,17)\", \"showlakes\": true, \"showland\": true, \"subunitcolor\": \"#506784\"}, \"hoverlabel\": {\"align\": \"left\"}, \"hovermode\": \"closest\", \"mapbox\": {\"style\": \"dark\"}, \"paper_bgcolor\": \"rgb(17,17,17)\", \"plot_bgcolor\": \"rgb(17,17,17)\", \"polar\": {\"angularaxis\": {\"gridcolor\": \"#506784\", \"linecolor\": \"#506784\", \"ticks\": \"\"}, \"bgcolor\": \"rgb(17,17,17)\", \"radialaxis\": {\"gridcolor\": \"#506784\", \"linecolor\": \"#506784\", \"ticks\": \"\"}}, \"scene\": {\"xaxis\": {\"backgroundcolor\": \"rgb(17,17,17)\", \"gridcolor\": \"#506784\", \"gridwidth\": 2, \"linecolor\": \"#506784\", \"showbackground\": true, \"ticks\": \"\", \"zerolinecolor\": \"#C8D4E3\"}, \"yaxis\": {\"backgroundcolor\": \"rgb(17,17,17)\", \"gridcolor\": \"#506784\", \"gridwidth\": 2, \"linecolor\": \"#506784\", \"showbackground\": true, \"ticks\": \"\", \"zerolinecolor\": \"#C8D4E3\"}, \"zaxis\": {\"backgroundcolor\": \"rgb(17,17,17)\", \"gridcolor\": \"#506784\", \"gridwidth\": 2, \"linecolor\": \"#506784\", \"showbackground\": true, \"ticks\": \"\", \"zerolinecolor\": \"#C8D4E3\"}}, \"shapedefaults\": {\"line\": {\"color\": \"#f2f5fa\"}}, \"sliderdefaults\": {\"bgcolor\": \"#C8D4E3\", \"bordercolor\": \"rgb(17,17,17)\", \"borderwidth\": 1, \"tickwidth\": 0}, \"ternary\": {\"aaxis\": {\"gridcolor\": \"#506784\", \"linecolor\": \"#506784\", \"ticks\": \"\"}, \"baxis\": {\"gridcolor\": \"#506784\", \"linecolor\": \"#506784\", \"ticks\": \"\"}, \"bgcolor\": \"rgb(17,17,17)\", \"caxis\": {\"gridcolor\": \"#506784\", \"linecolor\": \"#506784\", \"ticks\": \"\"}}, \"title\": {\"x\": 0.05}, \"updatemenudefaults\": {\"bgcolor\": \"#506784\", \"borderwidth\": 0}, \"xaxis\": {\"automargin\": true, \"gridcolor\": \"#283442\", \"linecolor\": \"#506784\", \"ticks\": \"\", \"title\": {\"standoff\": 15}, \"zerolinecolor\": \"#283442\", \"zerolinewidth\": 2}, \"yaxis\": {\"automargin\": true, \"gridcolor\": \"#283442\", \"linecolor\": \"#506784\", \"ticks\": \"\", \"title\": {\"standoff\": 15}, \"zerolinecolor\": \"#283442\", \"zerolinewidth\": 2}}}, \"title\": {\"text\": \"Rental time\", \"x\": 0.5, \"xanchor\": \"center\", \"y\": 0.9, \"yanchor\": \"middle\"}, \"xaxis\": {\"tickmode\": \"array\", \"ticktext\": [\"00:00:00\", \"00:05:00\", \"00:10:00\", \"00:15:00\", \"00:20:00\", \"00:25:00\", \"00:30:00\", \"00:35:00\", \"00:40:00\", \"00:45:00\", \"00:50:00\", \"00:55:00\", \"01:00:00\", \"01:05:00\", \"01:10:00\", \"01:15:00\", \"01:20:00\", \"01:25:00\", \"01:30:00\"], \"tickvals\": [\"00:00:00\", \"00:05:00\", \"00:10:00\", \"00:15:00\", \"00:20:00\", \"00:25:00\", \"00:30:00\", \"00:35:00\", \"00:40:00\", \"00:45:00\", \"00:50:00\", \"00:55:00\", \"01:00:00\", \"01:05:00\", \"01:10:00\", \"01:15:00\", \"01:20:00\", \"01:25:00\", \"01:30:00\"], \"title\": {\"text\": \"time (hh:mm:ss)\"}}, \"yaxis\": {\"title\": {\"text\": \"no. of rentals\"}}},\n",
       "                        {\"responsive\": true}\n",
       "                    ).then(function(){\n",
       "                            \n",
       "var gd = document.getElementById('27780d89-5c66-4f89-9217-339f0633f7e3');\n",
       "var x = new MutationObserver(function (mutations, observer) {{\n",
       "        var display = window.getComputedStyle(gd).display;\n",
       "        if (!display || display === 'none') {{\n",
       "            console.log([gd, 'removed!']);\n",
       "            Plotly.purge(gd);\n",
       "            observer.disconnect();\n",
       "        }}\n",
       "}});\n",
       "\n",
       "// Listen for the removal of the full notebook cells\n",
       "var notebookContainer = gd.closest('#notebook-container');\n",
       "if (notebookContainer) {{\n",
       "    x.observe(notebookContainer, {childList: true});\n",
       "}}\n",
       "\n",
       "// Listen for the clearing of the current output cell\n",
       "var outputEl = gd.closest('.output');\n",
       "if (outputEl) {{\n",
       "    x.observe(outputEl, {childList: true});\n",
       "}}\n",
       "\n",
       "                        })\n",
       "                };\n",
       "                });\n",
       "            </script>\n",
       "        </div>"
      ]
     },
     "metadata": {},
     "output_type": "display_data"
    }
   ],
   "source": [
    "iplot(durationAggPlot)"
   ]
  }
 ],
 "metadata": {
  "kernelspec": {
   "display_name": "Python 3",
   "language": "python",
   "name": "python3"
  },
  "language_info": {
   "codemirror_mode": {
    "name": "ipython",
    "version": 3
   },
   "file_extension": ".py",
   "mimetype": "text/x-python",
   "name": "python",
   "nbconvert_exporter": "python",
   "pygments_lexer": "ipython3",
   "version": "3.7.4"
  }
 },
 "nbformat": 4,
 "nbformat_minor": 2
}
